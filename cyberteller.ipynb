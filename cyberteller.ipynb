{
 "cells": [
  {
   "cell_type": "markdown",
   "metadata": {},
   "source": [
    "# Building RAG and Agents Applications"
   ]
  },
  {
   "cell_type": "markdown",
   "metadata": {},
   "source": [
    "## Imports API Keys and Libraries"
   ]
  },
  {
   "cell_type": "code",
   "execution_count": 4,
   "metadata": {},
   "outputs": [],
   "source": [
    "import os\n",
    "import getpass\n",
    "\n",
    "os.environ[\"OPENAI_API_KEY\"] = getpass.getpass(\"OpenAI API Key:\")"
   ]
  },
  {
   "cell_type": "code",
   "execution_count": 5,
   "metadata": {},
   "outputs": [],
   "source": [
    "os.environ[\"TAVILY_API_KEY\"] = getpass.getpass(\"TAVILY_API_KEY\")"
   ]
  },
  {
   "cell_type": "code",
   "execution_count": 6,
   "metadata": {},
   "outputs": [],
   "source": [
    "os.environ[\"LANGCHAIN_TRACING_V2\"] = \"true\"\n",
    "os.environ[\"LANGCHAIN_API_KEY\"] = getpass.getpass(\"LangChain API Key:\")"
   ]
  },
  {
   "cell_type": "markdown",
   "metadata": {},
   "source": [
    "## Utilities"
   ]
  },
  {
   "cell_type": "code",
   "execution_count": 7,
   "metadata": {},
   "outputs": [],
   "source": [
    "from aimakerspace.text_utils import TextFileLoader, CharacterTextSplitter, PDFFileLoader\n",
    "from aimakerspace.vectordatabase import VectorDatabase\n",
    "import asyncio"
   ]
  },
  {
   "cell_type": "code",
   "execution_count": 8,
   "metadata": {},
   "outputs": [],
   "source": [
    "import nest_asyncio\n",
    "nest_asyncio.apply()"
   ]
  },
  {
   "cell_type": "markdown",
   "metadata": {},
   "source": [
    "## Simple RAG Pipeline with html files"
   ]
  },
  {
   "cell_type": "markdown",
   "metadata": {},
   "source": [
    "### Retrieval"
   ]
  },
  {
   "cell_type": "code",
   "execution_count": 9,
   "metadata": {},
   "outputs": [
    {
     "name": "stderr",
     "output_type": "stream",
     "text": [
      "  0%|          | 0/15 [00:00<?, ?it/s]libmagic is unavailable but assists in filetype detection. Please consider installing libmagic for better results.\n",
      "  7%|▋         | 1/15 [00:14<03:24, 14.58s/it]libmagic is unavailable but assists in filetype detection. Please consider installing libmagic for better results.\n",
      "libmagic is unavailable but assists in filetype detection. Please consider installing libmagic for better results.\n",
      " 20%|██        | 3/15 [00:14<00:46,  3.84s/it]libmagic is unavailable but assists in filetype detection. Please consider installing libmagic for better results.\n",
      "libmagic is unavailable but assists in filetype detection. Please consider installing libmagic for better results.\n",
      " 33%|███▎      | 5/15 [00:14<00:19,  1.90s/it]libmagic is unavailable but assists in filetype detection. Please consider installing libmagic for better results.\n",
      "libmagic is unavailable but assists in filetype detection. Please consider installing libmagic for better results.\n",
      " 47%|████▋     | 7/15 [00:15<00:09,  1.13s/it]libmagic is unavailable but assists in filetype detection. Please consider installing libmagic for better results.\n",
      "libmagic is unavailable but assists in filetype detection. Please consider installing libmagic for better results.\n",
      " 60%|██████    | 9/15 [00:15<00:04,  1.33it/s]libmagic is unavailable but assists in filetype detection. Please consider installing libmagic for better results.\n",
      "libmagic is unavailable but assists in filetype detection. Please consider installing libmagic for better results.\n",
      " 73%|███████▎  | 11/15 [00:15<00:02,  1.83it/s]libmagic is unavailable but assists in filetype detection. Please consider installing libmagic for better results.\n",
      "libmagic is unavailable but assists in filetype detection. Please consider installing libmagic for better results.\n",
      " 87%|████████▋ | 13/15 [00:15<00:00,  2.62it/s]libmagic is unavailable but assists in filetype detection. Please consider installing libmagic for better results.\n",
      "libmagic is unavailable but assists in filetype detection. Please consider installing libmagic for better results.\n",
      "100%|██████████| 15/15 [00:15<00:00,  1.06s/it]\n"
     ]
    }
   ],
   "source": [
    "#from langchain.document_loaders import PyMuPDFLoader\n",
    "from langchain_community.document_loaders import DirectoryLoader\n",
    "\n",
    "# Load PDF from data folder\n",
    "# pdf_path = \"data/robert-hand-planets-in-transitspdf-pdf-free.pdf\"\n",
    "\n",
    "# Load all HTML files from data folder\n",
    "loader = DirectoryLoader(\"data/\", glob=\"*.html\", show_progress=True)\n",
    "docs = loader.load()"
   ]
  },
  {
   "cell_type": "code",
   "execution_count": 10,
   "metadata": {},
   "outputs": [
    {
     "data": {
      "text/plain": [
       "[Document(metadata={'source': 'data/Synastry Art and Science- Synastry Aspects, Element Compatibility, House Overlays.html'}, page_content='Astrolibrary logo\\n\\nAstroLibrary 🔎\\n\\nDaily Personalized Horoscope ↗\\n\\nSynastry Art and Science- Synastry Aspects, Element Compatibility, House Overlays\\n\\n(This is a synastry lesson. If you prefer, see Synastry Interpretations instead.)\\n\\nWhat is synastry? Synastry is the art and science of comparing two birth charts to ascertain the energy flow between two individuals. Synastry is the astrology of relationships, and it reveals the level of compatibility between two people. Please don\\'t confuse this with fortune-telling. Synastry will not tell you if you are \"fated to be together.\" Any two people can choose to be together. Synastry shows if two unique individuals can be themselves and blend nicely together, or if being themselves causes the irritating grinding of mismatched gears.\\n\\nSpecifically, 3 things are compared:\\n\\nElements – At the very least, the dominant element in each chart must flow smoothly with the other.\\n\\nHouse Overlays – \"How you perceive each other.\" This is literally laying one birth chart over the other one, aligning them by zodiac sign degrees. First we note in which of your 12 Houses your partner\\'s planets fall. Then we note in which of your partner\\'s 12 Houses your planets fall.\\n\\nSynastry Aspects (also called Inter-aspects) – These are aspects formed from planets and angles in one chart to the planets and angles in the second chart. Here is the \"nitty gritty\" of a relationship. The dynamics between you is revealed by synastry aspects.\\n\\nNothing so profoundly affects our lives as contact with others, so this subject should be entered into with compassion and a commitment to thoroughness. If you rush the process of synastry, you will make erroneous judgments about something so serious. It is too easy and common for people to compare just 1 or 2 synastry aspects and assume they have the entire relationship mapped out. This is usually a huge mistake. Do not bother with synastry if you will not take the time to consider all parts. A real relationship is always at stake.\\n\\nThe scientific part of synastry is that all aspects, house cusps, planets, points, and angles are calculated mathematically. In this sense, synastry (and all astrology) is mathematically precise. Allowable orbs for synastry aspects range according to the preference of the astrologer. Keep in mind, we exist in a universal energy field in which an energy influence increases as it comes near us or decreases as it departs. It doesn’t just appear or disappear. So we must be flexible with allowable orbs.\\n\\nThen the art of synastry is to paint a picture of this energy field that is erected between the two birth charts. Please don\\'t attempt to do this without some intermediate astrological knowledge. Especially regarding your own relationships! 99% of the time, you will not be objective regarding your own relationship synastry unless you are experienced in astrology. Take time and learn as much as you can before making judgment calls regarding relationships.\\n\\nRelated\\n\\nSynastry Interpretations\\n\\nLove & Relationship Articles\\n\\nCite This Page\\n\\nMLA style\\n\\nCorinne Lane. \"Synastry Art and Science- Synastry Aspects, Element Compatibility, House Overlays\" Astrolibrary. Astrolibrary, LLC, 24 Aug. 2009. Web. 1 May. 2025. <https://astrolibrary.org/synastry/>\\n\\nAPA style\\n\\nCorinne Lane. (24 Aug. 2009). Synastry Art and Science- Synastry Aspects, Element Compatibility, House Overlays. In Free Astrology Lessons (14). Retrieved from https://astrolibrary.org/synastry/\\n\\nTop ↑\\n\\nFree Astrology Lessons\\n\\nPOPULAR ON OUR SITE\\n\\nFree Astrology Reports\\n\\nAstrology Calculators\\n\\nBirth Chart Interpretations\\n\\nFree Astrology Lessons\\n\\nFree Ebooks\\n\\nCopyright 2009–2025 Astrolibrary, LLC. All rights reserved.\\n\\nKNOW THYSELF'),\n",
       " Document(metadata={'source': 'data/What is a Rising Sign_Ascendant – Astrology Lesson 6.html'}, page_content='Astrolibrary logo\\n\\nAstroLibrary 🔎\\n\\nDaily Personalized Horoscope ↗\\n\\nWhat is a Rising Sign/Ascendant – Astrology Lesson 6\\n\\nRising Sign zodiac wheel banner\\n\\nWhat is a Rising Sign? The Rising sign is interchangeably called the Ascendant. It can be located on a natal chart as the sign on which the 1st House cusp falls. It is the sign that was at the eastern horizon point, from the viewpoint of your birth coordinates, at the moment of your birth. It rises on the path of the sun’s rise, and it changes degrees every few minutes. This is why an accurate birth time and place is so important for an accurate horoscope. A Rising sign can be different for twins born just a couple minutes apart. Further, this Ascendant point is the premises for the calculations of the rest of the house cusps. A few minutes of time difference shifts the entire chart.\\n\\nAstrology rising stars and sun, Classic Astrology Art\\n\\nThe Rising sign is like a direct connection between our Earth and the zodiac path. It is the zodiac sign that was “rising” over the Earth at the moment that we took our first breath, the point of intersection between the wheel of personal Houses and the celestial zodiac wheel. It represents our appearance in the world. The Rising sign is the image we project, the impression we make on others, the way we take action in the world, and the lasting effect we have on the environment. The Rising sign is often described as a public mask that we wear, since it tends to be how people see us, especially strangers who don’t know our deeper selves. But in fact, the Rising sign is not like a mask because wearing a mask denotes some level of falsity or hiding oneself. Your Rising Sign characteristics are not a \"fake cover-up\" as a mask would imply. Those characteristics are a real and true part of who your are, more like a face than a mask. Even though your face is shallow and external, you\\'re stuck with it and cannot take it off! It\\'s a real part of you, not fake. And people usually perceive it in ways that you yourself do not. That\\'s a Rising Sign for you – others see you as the embodiment of those characteristics, even though you might not see yourself like that.\\n\\nYour Sun sign is your true self, but it’s like the frame of a car, which is not so visible underneath the doors, bumpers and shiny paint. The Rising sign is how people perceive us because it is the style that we use to go about meeting the needs of our Sun sign. For example, a Capricorn-Sun person is ambitious, reserved, and needs order. But coupled with a Sagittarius-Rising sign, the person will appear care-free and un-ambitious, while all the time working hard to reach its Capricornian goals.\\n\\nWe tend to behave more like our Rising sign when we are surrounded by strangers, or in new situations, like job interviews. But still, it tends to be our personal style at all times. Personal style does not represent our deepest needs, though (like the Moon). A study of the Rising sign is best used as a tool to understand why people behave the way they do. The Rising sign is also said to describe our physical characteristics – our looks. For example, Libra-Rising is beautiful, Pisces-Rising has a dreamy appearance and small feet, Taurus-Rising is stocky with a thick neck, and so forth. We find this to be somewhat accurate most of the time. You try it and see.\\n\\nThe Rising sign is extremely important in the natal chart. The planet that rules the Rising sign is considered to be the chart ruler (planetary rulerships will be discussed in a later lesson). In practical terms, this means that every planet and sign in your natal chart is filtered through the Rising sign, or filtered through its ruling planet. Here is the most literal reason why we see people of the same Sun sign who behave so differently. They must obviously have different Rising signs.\\n\\nIn addition, people with the same Rising sign can also have different personalities because of the following: since the Rising sign is not as as basically fundamental as our Sun sign, it is greatly subject to the modifying influence of aspects. In other words, you don\\'t have a clear description of your Rising sign until you\\'ve blended in the energies of any planets aspecting the Ascendant. Example: A person with Leo Rising, but with Saturn in conjunction with the Ascendant will not be as bubbly and expressive as a typical \"Leo Rising\" person.\\n\\nSome astrologers believe that the Rising sign is the way the world forces you to behave. At some point in your youth, you were forced or taught to behave like your Rising sign. You can trace the Rising sign to one of your parents or primary care givers. Many times, the Rising sign of child will match the dominant sign of one of the parents.\\n\\nNow that you know what a rising sign is, see the Rising Sign Interpretations.\\n\\nFind out your rising sign with our Rising Sign Calculator\\n\\nCite This Page\\n\\nMLA style\\n\\nCorinne Lane. \"What is a Rising Sign/Ascendant – Astrology Lesson 6\" Astrolibrary. Astrolibrary, LLC, 20 Aug. 2009. Web. 30 Apr. 2025. <https://astrolibrary.org/rising/>\\n\\nAPA style\\n\\nCorinne Lane. (20 Aug. 2009). What is a Rising Sign/Ascendant – Astrology Lesson 6. In Free Astrology Lessons (6). Retrieved from https://astrolibrary.org/rising/\\n\\nTop ↑\\n\\nFree Astrology Lessons\\n\\nPOPULAR ON OUR SITE\\n\\nFree Astrology Reports\\n\\nAstrology Calculators\\n\\nBirth Chart Interpretations\\n\\nFree Astrology Lessons\\n\\nFree Ebooks\\n\\nCopyright 2009–2025 Astrolibrary, LLC. All rights reserved.\\n\\nKNOW THYSELF'),\n",
       " Document(metadata={'source': 'data/How to Read Your Own Birth Chart – Astrology Lesson 10.html'}, page_content='Astrolibrary logo\\n\\nAstroLibrary 🔎\\n\\nDaily Personalized Horoscope ↗\\n\\nHow to Read Your Own Birth Chart – Astrology Lesson 10\\n\\nastrologer observing, reading the sky through a telescope\\n\\n(This is a comprehensive lesson. If you prefer, see instead 4 Easy Birth Chart Reading Techniques For Beginners.)\\n\\n(Get your free birth chart and report here.)\\n\\nThe most important thing to remember while interpreting any birth chart is: synthesis. The entire chart must be taken as a whole. A natal chart abounds with bits and pieces of information about an individual. Each separate bit must be synthesized into one whole picture of the person.\\n\\nThis means that you cannot take one piece of the chart (for example, Mercury in Sagittarius) and decide that it defines the entire person. If you do that, you will, undoubtedly, be in error. Of course, you will be tempted to stop at one or another of the planetary meanings, and think that it is the defining factor of a person. This is a big mistake. For example, say that two individuals both have Mercury in Sagittarius (denoting something of a \"big mouth\"). You may be tempted to assume that both of the individuals are \"outspoken.\" But, say the first person has the Sun in Capricorn, while the second person has the Sun in Sagittarius. While they both have Mercury in Sagittarius, the first person (Sun in Capricorn) will have a much more reserved communication style than the second person (Sun in Sagittarius).\\n\\nThe point, again (and this point will be repeated often), is that the entire chart must be blended together. Yes, by all means, go ahead and see all the separate interpretations of each planet in its sign and house. But then you must weave it all together, and lace it with the Rising Sign, to get an accurate picture.\\n\\nIt’s as if each of us is a mosaic, made up of tiny individual images. In the birth chart, each separate planet in a sign and house is like one tiny individual image, one tiny part of the whole mosaic. Now, two different completed mosaics, if you look close enough, may contain tiny pieces that are exactly the same, yet they are part of two completely different finished mosaics (this point is illustrated by the example of Mercury in Sagittarius above). Although the mosaics contain similar pieces, the final products look nothing alike. So what we’re saying here is the opposite of that age-old adage: \"Don\\'t judge a book by its cover.\" The opposite is \"Don’t judge a book by a single page inside.\" The work of the astrologer, then, is to take all the bits and pieces of insight in the birth chart and synthesize them into a whole. What emerges is an amazingly accurate portrait of an individual.\\n\\nInterpreting Planets in the Signs\\n\\nLook at the birth chart and take note of what sign and house each planet is in. (Check here if you need help remembering what the symbols/glyphs mean.) Here is a handy, printable worksheet that will help you keep track of your birth chart information. Also take note of the Ascendant\\'s sign (Rising Sign), and which house the Ascendant\\'s ruler occupies.\\n\\nNow you can look up the \"Chart Interpretations\" of each of your planets and Rising Sign. The Chart Interpretations on the linked page are only general meanings of what each item represents. As you get a feel for the basic energy of each planet, and of the qualities of each sign, you can add your own insight.\\n\\nThe zodiac sign will show how the planet is manifested. Previously, we likened the signs to \"stained-glass windows\" through which the planet is expressed. See if this analogy helps: envision a sentence, with a \"verb\" and an \"adverb.\" The planet is the \"verb\" while the zodiac sign is the \"adverb.\" For example, the Moon (feel, nurture, respond) in the sign of Capricorn (reservedly, coldly) denotes someone who nurtures in a cold and reserved way, or has trouble expressing emotions. That\\'s not a happy placement for the Moon, but remember: there\\'s more to the story…the rest of the chart. (See what each planet means in Lesson 5: The Planets. See what each zodiac sign means in Lesson 8: Zodiac Signs)\\n\\nIncorporating the Astrological Houses\\n\\nThe other thing to remember is that the planet in the sign will focus on the House. This means that the activity denoted by the planet will take place in the arena of your life designated by the House in which that planet falls. (Remember, each House represents a sphere of life – i.e. work, home, friendships, etc.) The planet is the \"what,\" the sign is \"how\" that \"what\" is done, and the House is \"where\" it takes place. Here is a handy reminder to use when interpreting your natal chart:\\n\\nPlanets = What? Signs = How? Houses = Where?\\n\\nThe following table explains it further.\\n\\nPlanets = “What” = energies; what you like to do Signs = “How” = the way you do it Houses = “Where” = areas of your life\\n\\nAn example of why taking the House into consideration is so important:\\n\\nSay a person has Saturn in Capricorn in the 7th House, which could manifest as a reserved (Capricorn) attitude in love relationships (7th House). Then, say this same individual has Venus in Sagittarius in the 11th House. This person will be friendly and outgoing (Sagittarius) in social situations and groups (11th House), but unemotional and detached (although dependable) in love relationships (Saturn in Capricorn in the 7th). (Astrology is a powerful tool for understanding those seemingly contradicting tendencies that we all have. The birth chart tells it all. With time and patience, you will be able to read all such details from a birth chart)\\n\\nHouse Rulers (Signs on the Cusps)\\n\\nAnother influence on each House (in each department of life) is the ruling planet of the House. The ruling planet of each House in your natal chart is the planet that rules the sign on the cusp. For example, if you have Capricorn on the 7th House cusp, then Saturn is the Ruler of your 7th House, because Saturn rules Capricorn. The result is that Saturn will have an influence in the matters of your 7th House, regardless of which House Saturn is actually residing in. (Here is a table of the Sign Rulerships). The sign on each house cusp shows one\\'s attitude towards the matters of that house, whereas planets in the house show actual circumstances. For example, Capricorn on the 7th House cusp denotes an attitude of reserve or caution towards forming partnerships. On the other hand, Saturn in the 7th house may denote actual problems transpiring in partnerships and in marriage. These are subtle differences that will perfect your interpretations when reading a birth chart.\\n\\nSo a House is influenced by any planets residing in that House, but also by the ruler of the House. Most of the time, the ruler will be in a different House. Many times, the goods of the House will be used for advantage in the House where the planetary ruler actually resides. For example, say you have Capricorn on the 7th House cusp, and Saturn (Capricorn\\'s ruler) in the 2nd House. You may very well choose to marry (7th House) for money (ruler in 2nd House). This last statement brings us to our next point – a word of caution.\\n\\nA Word of Caution\\n\\nThe celestial configuration that took place at your moment of birth is a powerful indicator of your motivations, drives, preferences, and psychological makeup, but it does not seal your fate. It does show the potential you were born with, but what you do with that potential is up to you.\\n\\nSome astrologers mistakenly interpret birth charts by declaring the outcomes of the drives, or the external circumstances. They declare things that must definitively take place. But the correct way to interpret a birth chart is to declare the drives, strengths, weaknesses, preferences, needs, tendencies, and so forth. Astrology reveals our inner psychological makeup. The outcomes are for the individual to manifest for him/herself. For example, above it was mentioned that if you have Capricorn ruling your 7th House, and Saturn in the 2nd House, then you might marry for money. But the proper way to read that example is to declare that you \"have a need for security in your relationships. You have a need for security, but it does not necessarily mean that you will marry for money. You may very well choose to marry a pauper for true love. But be assured that your need for material security in relationships (as shown in your birth chart) will continue as a nagging feeling you won\\'t easily be rid of.\"\\n\\nThe natal chart never lies. The problem is when the natal chart is read incorrectly. Remember, instead of giving predestined predictions, you will be more precise to explain the potential. People choose what to do with their potential. As Henley wrote,\\n\\nI am the master of my fate: I am the captain of my soul.\"\\n\\nThe natal chart is one\\'s map.\\n\\nHere is another example, taken from history. Ancient astrologers, before psychology was popular, interpreted charts in a more fatalistic manner. If you were a Pisces, they would say that you would end up living in poverty (the \"starving artist\" stereotype) because you were such a \"weakling\". Modern astrologers understand the deeper psychological drives and needs that are represented by the planets and signs. Nowadays, we understand that Pisces has a need to transcend the mundane, and while he is very artistic, he is not fated to live in poverty. Pisces simply does not prioritize money or materials. He could be poor, or he could be rich. Either way, the Pisces will prioritize the intangible over the tangible – which is how we interpret it today. The interpretation shifted from a predetermined fate (poverty), to a psychological drive (need for artistic/spiritual transcendence) that may result in any circumstantial fate.\\n\\nRemembering Aspects\\n\\nDon\\'t forget the aspects. If you attempt to make an interpretation without considering the aspects, you will be in error. Interpretations for each planet in sign and house must be modified according to the nature of the aspects. Aspects can soften things and bring ease to otherwise troublesome planetary placements, or they can bring conflict to otherwise pleasant planetary placements. Aspects stimulate the planets.\\n\\nEvery planet has both easy and difficult (or positive and negative) manifestations. For example, the sun\\'s energy can be expressed as a generous pouring forth of self and creativity, or prideful arrogance and an excessive desire to be special. Aspects from other planets tell whether the energies will be expressed easily and positively (if it receives trines & sextiles), or with struggle and conflict (if it receives squares or oppositions). Again, a birth chart interpretation without accounting for aspects is incorrect, or at least incomplete. (See Lesson 9: Aspects in Astrology)\\n\\nMost important aspects to look for:\\n\\nTake immediate notice of conjunctions to any of the four angles (this means conjunctions to the Ascendant, M.C., Descendant, I.C.). When a planet makes a conjunction to one of the angles, the influence of that planet may be the strongest influence in the chart. The person will identify very strongly with the traits of that planet. This is explained in detail in: The Meaning of a Planet in Conjunction To 1 of Your Angles.\\n\\nAlso take notice of conjunctions made by the outer planets (Uranus, Neptune, and Pluto) to the inner planets (Sun, Moon, Mercury, Venus, and Mars). These conjunctions will drastically alter the interpretation for the inner planet by adding its own qualities. A conjunction from Uranus adds rebelliousness and innovation; a conjunction from Neptune adds confusion or sadness and/or inspiration and magic, and a conjunction from Pluto adds power, but can be a bit creepy.\\n\\nFor example, a Leo-Sun person who has Pluto making a conjunction aspect with their Sun will be very Plutonian. This person would be one of the most silent and secretive Leos ever.\\n\\nBalance of Elements and Qualities\\n\\nAnother thing to note is the balance of elements and qualities in the chart. If you feel overwhelmed with all this new information, then you should simply try this step first. This is the easiest interpretation that can be derived from a natal chart, even for inexperienced people. This is how it\\'s done:\\n\\nNote the element of the sign of each planet, and that of the ascendant, and of the midheaven. This printable worksheet will help you. Then simply count how many are fire, air, Earth, and water. Count the Sun\\'s and the Moon\\'s element for 2 each, because they are such a strong influence. It\\'s common to have a combination of elements, say 3 or 4 of each. However, should you find an imbalance, such as 5 or more of an element, or 0 to 1 of an element, this will say something about the overall temperament of the individual. Five or more of one element will make that the \"Predominant Element\" in the individual. It is interesting to note that the Predominant Element may be different from that of the Sun sign. In this case, the person will behave even less like their Sun sign – yet another reason why we cannot define a person simply by their Sun sign. If a chart is completely lacking in an element, or if there is only 1 planet in an element, that will be considered the \"Weakest Element.\" The \"General Interpretations\" on the following page will include interpretations for Predominant and Weakest Elements.\\n\\nThe same method is used to tally up the balance of qualities (Cardinal, Fixed, Mutable) of each planet, ascendant, and midheaven. This gives only subtle information, unless you find a great imbalance, such as a complete lack of one quality, or 6 or more of one quality. This printable worksheet will help you.\\n\\nIf you have your worksheet filled in with all the signs and houses of your planets, continue to Chart Interpretations to help you interpret your own birth chart.\\n\\nCite This Page\\n\\nMLA style\\n\\nCorinne Lane. \"How to Read Your Own Birth Chart – Astrology Lesson 10\" Astrolibrary. Astrolibrary, LLC, 23 Aug. 2009. Web. 30 Apr. 2025. <https://astrolibrary.org/read/>\\n\\nAPA style\\n\\nCorinne Lane. (23 Aug. 2009). How to Read Your Own Birth Chart – Astrology Lesson 10. In Free Astrology Lessons (10). Retrieved from https://astrolibrary.org/read/\\n\\nTop ↑\\n\\nFree Astrology Lessons\\n\\nPOPULAR ON OUR SITE\\n\\nFree Astrology Reports\\n\\nAstrology Calculators\\n\\nBirth Chart Interpretations\\n\\nFree Astrology Lessons\\n\\nFree Ebooks\\n\\nCopyright 2009–2025 Astrolibrary, LLC. All rights reserved.\\n\\nKNOW THYSELF'),\n",
       " Document(metadata={'source': 'data/Relationship Astrology – Introduction _ AstroLibrary.html'}, page_content='Astrolibrary logo\\n\\nAstroLibrary 🔎\\n\\nDaily Personalized Horoscope ↗\\n\\nRelationship Astrology – Introduction\\n\\nWhy is astrology useful in the area of love and relationships? This introduction explains why relationship astrology is reliable for finding genuine happiness in love.\\n\\nFor starters, we each have different preferences and different needs. Mainstream relationship advice, whether it comes from psychologists, books, or other media, is extremely limited in its capacity to be effective simply because they all ignore that one precious fact: each human is unique, with different preferences and different needs.\\n\\nThere is not one universal definition of a good relationship or lover. Ladies, it’s a waste of time to try and fit the mold of the popular media’s definition of a great girlfriend because that definition may not attract the man that satisfies you. Men, it’s a waste of time to follow rigid dating tips that may not appeal to the woman of your dreams.\\n\\nSo how do know what attracts or appeals to the lover of your dreams? More importantly, what attracts or appeals to you? What type of man/woman is the lover of your dreams? What do you need in a lover, in a relationship, in a spouse? You may think you know the answer to these questions. However, popular media may be influencing you to seek qualities that are not your natural preferences.\\n\\nThat ultimately results in failed relationships.\\n\\nOn the other hand, relationship astrology reveals your legitimate preferences. It is surprisingly thorough at detailing all the little things that we love and hate in relationships. Astrology is an extremely effective tool for illuminating each individual’s preferences and needs, including your hidden subconscious desires. Astrology reveals your psychological makeup and your hidden drives.\\n\\nYou can test this out by reading the description of your own Venus sign: Venus in the Signs. (Note that the description of your Venus sign will be an incomplete picture of your love style because a complete description must include aspects and other astrological factors.)\\n\\nThe benefit of astrology is that it reveals your unique and true love styles, love needs, and love preferences.\\n\\nWhy is this important?\\n\\nWhen you awaken your deeply-embedded love style, you awaken the love energy that can attract a naturally compatible lover. Relationships between naturally compatible people invite happiness and genuine satisfaction into our lives.\\n\\nSagittarius Couple Holding Hands on Swing Set\\n\\nRelated\\n\\nSynastry Interpretations\\n\\nLove & Relationship Articles\\n\\nCite This Page\\n\\nMLA style\\n\\nCorinne Lane. \"Relationship Astrology – Introduction\" Astrolibrary. Astrolibrary, LLC, 24 Aug. 2009. Web. 30 Apr. 2025. <https://astrolibrary.org/astrology-love/>\\n\\nAPA style\\n\\nCorinne Lane. (24 Aug. 2009). Relationship Astrology – Introduction. In Free Astrology Lessons (11). Retrieved from https://astrolibrary.org/astrology-love/\\n\\nTop ↑\\n\\nFree Astrology Lessons\\n\\nPOPULAR ON OUR SITE\\n\\nFree Astrology Reports\\n\\nAstrology Calculators\\n\\nBirth Chart Interpretations\\n\\nFree Astrology Lessons\\n\\nFree Ebooks\\n\\nCopyright 2009–2025 Astrolibrary, LLC. All rights reserved.\\n\\nKNOW THYSELF'),\n",
       " Document(metadata={'source': 'data/Zodiac Signs – Astrology Lesson 8 _ AstroLibrary.html'}, page_content='Astrolibrary logo\\n\\nAstroLibrary 🔎\\n\\nDaily Personalized Horoscope ↗\\n\\nZodiac Signs – Astrology Lesson 8\\n\\n(This page is a lesson about zodiac signs. You can instead go to zodiac sign descriptions. Or, for just the dates of the zodiac signs, see below.)\\n\\nWhat are the zodiac signs? The ancient Babylonians created the zodiac wheel by first splitting our sky into four sections designated by the yearly equinoxes and solstices (the turning points of the four yearly seasons).\\n\\nEach of these four sections of sky were split into 3 sections measuring 30 degrees each. This gives us a full 360-degree zodiac circle with 12 equal sections of 30 degrees each. Each 30-degree section is one zodiac sign, for a total of 12 zodiac signs (12, not 13). These 12 zodiac signs are not star constellations. The zodiac signs are 30-degree sections of space that were mathematically calculated in a way that was, and still is, intimately connected to our yearly seasons. (A Short History of Astrology)\\n\\nThe zodiac circle always assigns zero degrees of Aries (Aries, the zodiac sign, not the star constellation) to the Vernal Equinox (the Spring Equinox, or the first day of Spring in the northern hemisphere).\\n\\nThis zodiac wheel, also known as the tropical zodiac or western zodiac, is still accurate because we always align/begin it, as the ancients Greeks did, with the first day of Spring. This not a mistake. The zodiac wheel is intimately aligned with our Earth’s seasons. (This is an important fact to recognize. Some people today fail to recognize this fact, and so they erroneously claim that the zodiac wheel is misaligned. They do not understand that the Earth’s axial precession, or “precession of the equinoxes” does not impair the zodiac wheel.)\\n\\nThe ancient Babylonians used the constellations that appeared in the general area of each zodiac sign as placeholders. They designated 12 constellations to represent the 12 zodiac signs in the sky. The star constellations, with their varying degrees and sizes, are not the actual zodiac signs. These constellations were named after the zodiac signs they represent, not the other way around!\\n\\nZodiac signs wheel with sun in center. Ancient astrology art.\\n\\nThere were no cute animals or mythical creatures associated with them yet. Different energies were observed to correlate with the position of the planets in different sections of the heavens. These 12 signs became 12 different archetypes, each with their own characteristics.\\n\\n(Notice how the 12 archetypes recur in history: 12 Gods of Olympus, 12 sons of Abraham, 12 tribes of Israel, 12 Apostles of Jesus Christ, 12 Successors to the Prophet Muhammad).\\n\\nThe 12 archetypes, or zodiac signs, already had their traits before the ancient Greeks attached the popular symbols to them. The Greeks had the uncanny brilliance of choosing symbols that parallel the sign traits very closely. So now, when we think of the sign of Aries, we think of a ram; when we think of Sagittarius, we think of an archer, and so on. This lesson will not delve into the mythological stories behind the choice of symbols for the signs. We will give a topical, general description of the archetype of each sign.\\n\\nTo clarify, the following descriptions of the zodiac signs refer to the archetype of the sign itself, regardless of which planet is in the sign. We will describe the zodiac sign as if it were a person, with characteristics. In other words, the following descriptions do not specifically or exclusively apply to people with the Sun in that sign. This is because the Sun sign is not the only defining characteristic of a person. While the Sun sign is important, it is by no means the complete story of our personal profile.\\n\\nlight shining through stained glass window\\n\\nOur Moon sign, Rising sign, Mercury sign, Venus sign, and all the rest are just as important in giving us a complete picture of ourselves. We all have the entire zodiac in our charts – all 12 zodiac signs. For this reason, it is important to learn the traits of all the signs. Planets in the signs will be expressed according to the traits of the sign they are in. Thus, the zodiac signs modify the planets. Each zodiac sign is like a stained-glass window through which the planets must pass to manifest in our lives. Each \"window\" is different. And different planets through the same \"window\" will also be different. (For example, the Sun in Aries is not the same as the Moon in Aries).\\n\\nClick on each zodiac sign constellation to learn about it.\\n\\nAries Taurus Gemini Cancer\\n\\nLeo Virgo Libra Scorpio\\n\\nSagittarius Capricorn Aquarius Pisces\\n\\n* Sun Sign Dates\\n\\nNote: Being born on the cusp does not mean you have two sun signs.\\n\\nHere are the approximate dates for Zodiac Sun Signs:\\n\\nAries:\\n\\nMarch 20 – April 22 approximately\\n\\nTaurus:\\n\\nApril 19 – May 22 approximately\\n\\nGemini:\\n\\nMay 20 – June 22 approximately\\n\\nCancer:\\n\\nJune 20 – July 22 approximately\\n\\nLeo:\\n\\nJuly 21 – August 22 approximately\\n\\nVirgo:\\n\\nAugust 21 – September 22 approximately\\n\\nLibra:\\n\\nSeptember 21 – October 22 approximately\\n\\nScorpio:\\n\\nOctober 21 – November 22 approximately\\n\\nSagittarius:\\n\\nNovember 21 – December 22 approximately\\n\\nCapricorn:\\n\\nDecember 20 – January 22 approximately\\n\\nAquarius:\\n\\nJanuary 19 – February 20 approximately\\n\\nPisces:\\n\\nFebruary 17 – March 21 approximately\\n\\nCite This Page\\n\\nMLA style\\n\\nCorinne Lane. \"Zodiac Signs – Astrology Lesson 8\" Astrolibrary. Astrolibrary, LLC, 22 Aug. 2009. Web. 30 Apr. 2025. <https://astrolibrary.org/zodiac/>\\n\\nAPA style\\n\\nCorinne Lane. (22 Aug. 2009). Zodiac Signs – Astrology Lesson 8. In Free Astrology Lessons (8). Retrieved from https://astrolibrary.org/zodiac/\\n\\nTop ↑\\n\\nFree Astrology Lessons\\n\\nPOPULAR ON OUR SITE\\n\\nFree Astrology Reports\\n\\nAstrology Calculators\\n\\nBirth Chart Interpretations\\n\\nFree Astrology Lessons\\n\\nFree Ebooks\\n\\nCopyright 2009–2025 Astrolibrary, LLC. All rights reserved.\\n\\nKNOW THYSELF'),\n",
       " Document(metadata={'source': 'data/Before Determining Compatibility – Individual Capacity to Relate.html'}, page_content='Astrolibrary logo\\n\\nAstroLibrary 🔎\\n\\nDaily Personalized Horoscope ↗\\n\\nBefore Determining Compatibility – Individual Capacity to Relate\\n\\n(This is a compatibility lesson. If you prefer, see zodiac compatibility instead, or the synastry interpretations.)\\n\\nBefore attempting to determine compatibility between 2 people, check each birth chart separately to determine what each individual’s capacity to relate is? How well matched are their needs for intimacy? How well do the individual life goals, styles, and rhythms blend? If their life goals don’t match up well, all the compatibility in the world will not help such star-crossed lovers.\\n\\nAnswer the 4 following questions:\\n\\nHow comfortable is each with their biologic role and how well do these roles match up? How well does each relate to their own and the opposite sex? Those at ease with the opposite sex will be frustrated when trying to form a relationship with someone who is not. Do not assume that others function the same as you do, as that will plant the seeds of friction and annoyance when you find that they do not. Look at the aspects of the Sun, Moon, Venus and Mars in the birth chart. Then check your aspects in the following 3 tables to see what those aspects signify.\\n\\nDo you Play Well with Males?\\n\\nLook at Sun\\'s Aspects\\n\\nif Sun has several good aspects; no squares or oppositions of Sun\\n\\nGenerally at ease & comfortable with males, and comfortable playing society\\'s expected role towards males\\n\\nif Sun is unaspected, or only lightly aspected\\n\\nMales will not play a significant role in one\\'s life\\n\\nif Sun has hard aspects (squares or oppositions)\\n\\nRelating to males (whether father, friend, or lover) is stressful & anxious; has difficulty accepting society\\'s demands in relating to males\\n\\ncompatibility with males, father, son, grandfather\\n\\nrelationship compatibility with females\\n\\nDo you Play Well with Females?\\n\\nLook at Moon\\'s Aspects\\n\\nif Moon makes harmonious aspects – conjunctions, trines and sextiles\\n\\nRelates easily and happily to females\\n\\nif Moon makes no, or minimal, aspects\\n\\nInteraction with females is generally unimportant, routine, or obligatory\\n\\nif Moon makes hard aspects\\n\\nFinds female qualities irritating or demanding (either in themselves or others)\\n\\nCan you be Happy in Love and Sex?\\n\\nif Venus has good aspects; no squares or oppositions\\n\\nHappy capacity to give of self, find beauty & value in others, and act to communicate those feelings\\n\\nif Venus has hard aspects\\n\\nLimited ability to express love; limited ability to develop trust & admiration for another person enough for a love commitment\\n\\nif Mars is well-aspected\\n\\nCommunicates sexual needs openly & gracefully\\n\\nif Mars is badly-aspected\\n\\nstressful or discordant sexual style\\n\\nHow well do the life goals, limitations, and unconscious needs of each match up? Where do they find satisfaction, fulfillment, limitations, frustrations, and illusions? If these are not well matched, no amount of love, sexual attraction, worldly success or effort will prevail against a simple mismatch of what each person defines as a good and satisfactory life. Look at the Houses in the birth chart containing the Moon, Venus, Saturn, and Neptune…\\n\\nWhat is \"The Good Life\" to you?\\n\\nLook at Houses of Moon & Venus\\n\\nThe Houses containing the Moon and Venus show what areas of life provide you with a sense of emotional fulfillment and joy of living (especially the Moon\\'s house). If these houses clash with those of your partner, conflict down the line will be inevitable regardless of how compatible your personalities are. A person\\'s life goals are almost always (I dare say, always) related to one of these houses. These houses signify those things you want to do when you retire, or when you win the lottery. Would you prefer to go sky-diving or snuggle up with a book? Travel the world, or be a cookie-baking grandparent?\\n\\nSome brief examples: A person with Moon in the 5th house may get a sense of well-being from the pursuit of pleasure and thrill-seeking adventures. Moon or Venus in the 4th house prefers to sit at home. Moon or Venus in the 7th house needs to be in a one-to-one relationship, but in the 11th house large community groups are preferred. Moon or Venus in the 12th is comfortable in solitude and may forego partnerships altogether. 10th or 6th house: needs to be productive instead of relaxing and thrill seeking; likely a workaholic. But in the 10th house, public worldly success is a must, while in the 6th enjoyment comes simply from a job well-done, working behind the scenes.\\n\\nExamine the Houses containing the Moon and Venus in both charts to see if the individuals can possibly enjoy life together.\\n\\nSee descriptions of all 12 Houses See interpretations for Moon in the Houses See interpretations for Venus in the Houses\\n\\nWhere are you Frustrated or Limited?\\n\\nLook at House of Saturn\\n\\nThe House containing Saturn is the most frustrating area of life for the individual. There exists ambivalence regarding this house: you want the stuff of this house, yet at the same time, you don\\'t want it. There seems to be built-in limitations in this area of life. What is frustrating for the individual will eventually carry over into any relationship. Couples beware of your partner\\'s house of Saturn! Limitations can be overcome, but not without struggle, as this house is sure to teach. Can you accept your partner’s Saturn? More about Saturn in the Houses.\\n\\nWhere are you Disappointed? Fall for Illusions?\\n\\nLook at House of Neptune\\n\\nThe House containing Neptune is the area of life that is always just out of reach. This is the sphere of life that will seemingly forever elude us in finding completeness. Yet, in this house, we endlessly chase illusions and fulfillments. We have big dreams for this house, but only limited success. Couples beware of your expectations regarding your partner\\'s Neptune house! No doubt, this is the most inspired and inspiring house in the birth chart, the only one where fantasy can become real, but here…what you see is not always what you get. Dreams can come true in your Neptune house (Oprah has Neptune in her House of Career), but more often than not, Neptune leaves us swimming in a deep pool of delusion and fantasy. Can you swim in your partner’s Neptune house? Better yet, have you got room in your boat? More about Neptune in the Houses.\\n\\nWhat’s your Love Language?\\n\\nWhat type of relating energy exists in each chart? Sexual energy? Emotional energy? Companionability? Permanence? These can be seen as relating \"languages.\" Understanding the partner\\'s love language can help avoid feelings of rejection. For example, if one partner naturally pours much emotionally and/or physically into the relationship, but the other is, by nature, much less emotionally or sexually energetic, this can be misinterpreted as disinterest or lack of commitment to the relationship. We really only understand love in our own \"love language.\" If your partner speaks fire and you speak water, you will both feel like you don\\'t love each other. Loving someone in that scenario will require a lot of work. And unfortunately, you will not easily appreciate the effort because it will usually be in a language foreign to your heart.\\n\\nA different way of understanding these energy levels is to see them like radio frequencies. Fire, air, water, and earth are different radio frequencies, or radio stations. If you are a water person, then you are tuned into the water station. You will not pick up love vibes coming from the fire or air station. They may be breaking their head trying to prove love to you, but you will not be receiving it because you are tuned in to the water station.\\n\\nGenerally speaking, water and earth signs are compatible with each other. Air and fire signs are compatible with each other.\\n\\nKnowing a person\\'s love language ahead of time can help one avoid a bad choice of partner, or avoid resentment about the partner\\'s way of relating.\\n\\nLook at the element of your Venus sign. Your Venus element is your love language; read below to see how each element understands “love”.\\n\\n(If you want to be super-specific…Look at the elements of the signs of the following: Moon, Venus, Mars, and Cusps of 5th house, 7th house, & 8th house. These planets and house cusps have to do specifically with how we relate to others. Calculate the strongest element within these planets and house cusps. Give the element of Venus\\'s sign an extra point. If you get a tie between two elements, go with the element of your Venus sign.)\\n\\nWhat\\'s your Love Language?\\n\\nLook at your Venus Element\\n\\nWater signs bring the most emotional energy (read: intimate, soul-level bonding) to partnerships. Water needs an emotional, soul-merging to feel love. Water Venus loves deeply and shows it by caring about your well-being and your feelings. Touching and talking alone will not satisfy this Venus; they need to \"feel\" love from you in order to be satisfied in love.\\n\\nFire signs bring the most physical energy (read: sexual energy). Fire Venus needs to be active together to feel love; fun outings, adventurous vacations, etc. And tons of sex. Fire Venus people can seem self-centered because when in love, they feel it coming from inside them, rather than being based on the other person. The other person may be in front of them saying, \"hello, look at me,\" but Fire Venus ignores because they are too busy being consumed with love. They love passionately.\\n\\nEarth signs bring stability and durability (read: a keeper) to partnerships, but have a more limited emotional range. Earthy Venus people need your physical presence near them, but don\\'t get mushy because they won\\'t have it. Emotional expressions should be limited to what you want for dinner, or which movie you want to see. They handle physical and material needs, not emotional ones. Earthy Venus is faithful. In bed, you will appreciate their mastery of the physical. They are sensual.\\n\\nAir signs bring great companionability and intellectual stimulus to partnership but perhaps the least of all emotional energy and physical responsiveness (read: excellent communication, interesting conversations, but of a detached acquaintance-type). Air Venus needs companionship, someone to talk to, someone to hang out with, someone to watch movies with. (But most of all, someone to talk to.) These are friendly people, and even in love, the relationship may seem more like a friendship. This may sound nice, but if you need deep emotional bonding, you will not find it here. If you need a lot of physical presence (as in Earth Venus) forget about Air Venus. Like the wind, they come and go as they please.\\n\\nCompare the 4 love languages more by reading these articles:\\n\\nFire Sign Love Language\\n\\nWater Sign Love Language\\n\\nAir Sign Love Language\\n\\nEarth Sign Love Language\\n\\nWhere are the individuals in their great life cycles and how well do their life agendas fit together? What is the current focus of life? Trying to settle down with a partner who does not have a relationship on their agenda at the time ends up in the notorious situation of a lingering love affair that never progresses to the next step.\\n\\nSaturn is the \"time-clock\" or \"taskmaster\" of our lives. We tend to reassess, rewrite, and focus on the portion of our lives indicated by the house that Saturn is transiting at any given time. Knowing this ahead of time helps to distinguish between genuine and durable compatibility and just a temporary coincidence of meshing desires. A person is highly unlikely to begin or endure in a real relationship if Saturn is not transiting through a \"relationship house.\" (Uranus, Neptune, and Pluto transits can direct our focus, as well, but Saturn is more solidly felt).\\n\\nLook to the house that Saturn, the great time-clock of our lives, is transiting. We are most open to partnerships when Saturn (or Uranus, Neptune, and Pluto) transits through the following Houses:\\n\\nIs it Your Time for a Relationship?\\n\\nOnly if Saturn is Transiting 1 of the following houses in your birthchart\\n\\n4th: Home & Family\\n\\n5th: Pleasure, Romance, Children\\n\\n7th: Marriage\\n\\n8th: Partner\\'s Finances, Psychological issues, Sex\\n\\n10th: Partnering for the purpose of establishing identity or public recognition\\n\\nIn Summary\\n\\nThe 4 questions above describe the broad boundaries of each individual\\'s capacity to relate. These boundaries create the stage on which any relationship must take place, and limits which cannot be crossed. Then, the smaller frame of personal compatibility must be determined only as it fits within these broad boundaries since these ultimately define the outer ranges of any relationship. Compatibility is discussed on the next page.\\n\\nRelated\\n\\nSynastry Interpretations\\n\\nLove & Relationship Articles\\n\\nCite This Page\\n\\nMLA style\\n\\nCorinne Lane. \"Before Determining Compatibility – Individual Capacity to Relate\" Astrolibrary. Astrolibrary, LLC, 24 Aug. 2009. Web. 1 May. 2025. <https://astrolibrary.org/before-compatibility/>\\n\\nAPA style\\n\\nCorinne Lane. (24 Aug. 2009). Before Determining Compatibility – Individual Capacity to Relate. In Free Astrology Lessons (12). Retrieved from https://astrolibrary.org/before-compatibility/\\n\\nTop ↑\\n\\nFree Astrology Lessons\\n\\nPOPULAR ON OUR SITE\\n\\nFree Astrology Reports\\n\\nAstrology Calculators\\n\\nBirth Chart Interpretations\\n\\nFree Astrology Lessons\\n\\nFree Ebooks\\n\\nCopyright 2009–2025 Astrolibrary, LLC. All rights reserved.\\n\\nKNOW THYSELF'),\n",
       " Document(metadata={'source': 'data/Elements and Energy – Deeper into the 3 parts of Synastry.html'}, page_content='Astrolibrary logo\\n\\nAstroLibrary 🔎\\n\\nDaily Personalized Horoscope ↗\\n\\nElements and Energy – Deeper into the 3 parts of Synastry\\n\\nYin-yang, compatible energy and elements in Relationships\\n\\n(This is a synastry lesson. If you prefer, see Synastry Interpretations instead.)\\n\\nFire and air are compatible with each other, and they are the yang elements. Earth and water are compatible with each other, and they are the yin elements.\\n\\nIn general, we can see eye to eye with people of our compatible elements. It’s best to start with compatible Sun-sign elements (both yin or both yang). This is really the ideal. Some astrologers say there are so-called compensations for incompatible Sun elements that can make for a bearable relationship. But we tend to disagree. Yang (fire & air) and Yin (earth & water) just don’t see eye to eye. This isn’t necessarily bad, but you will spend a great deal of time explaining yourself to each other. If you are dominant yang energy, you will notice that you need to put in extra effort to understand a yin person, and vice versa. Communication will not be smooth in such a relationship.\\n\\nBeing in a long-term relationship with the wrong energy can actually be detrimental to your health. It’s doable, but not always healthy.\\n\\nThe ideal is compatible Sun elements. If the Suns are compatible, everything else can be worked on. And this is not a asking too much — about half of the population is compatible with your Sun element. You can check which Sun signs are compatible with your own on the Zodiac Signs Compatibility page.\\n\\nIn addition, compatible Moon elements, Rising sign elements, and Venus sign elements are desirable. The more the better. Compatibility is all about this elemental energy flowing smoothly. Incompatible elements are like gears of a transmission grinding against each other instead of flowing smoothly. You can actually test this and get a feel for incompatible energies: take a 4-hour car drive with a person who has an incompatible Moon element.\\n\\nThe four elements express and understand love differently. Compare the love styles of the 4 elements be reading these articles:\\n\\nFire Sign Love Language Water Sign Love Language Air Sign Love Language Earth Sign Love Language\\n\\nRelated\\n\\nSynastry Interpretations\\n\\nLove & Relationship Articles\\n\\nCite This Page\\n\\nMLA style\\n\\nCorinne Lane. \"Elements and Energy – Deeper into the 3 parts of Synastry\" Astrolibrary. Astrolibrary, LLC, 24 Aug. 2009. Web. 1 May. 2025. <https://astrolibrary.org/synastry-1/>\\n\\nAPA style\\n\\nCorinne Lane. (24 Aug. 2009). Elements and Energy – Deeper into the 3 parts of Synastry. In Free Astrology Lessons (15). Retrieved from https://astrolibrary.org/synastry-1/\\n\\nTop ↑\\n\\nFree Astrology Lessons\\n\\nPOPULAR ON OUR SITE\\n\\nFree Astrology Reports\\n\\nAstrology Calculators\\n\\nBirth Chart Interpretations\\n\\nFree Astrology Lessons\\n\\nFree Ebooks\\n\\nCopyright 2009–2025 Astrolibrary, LLC. All rights reserved.\\n\\nKNOW THYSELF'),\n",
       " Document(metadata={'source': 'data/Planets in Astrology – Lesson 5 _ AstroLibrary.html'}, page_content='Astrolibrary logo\\n\\nAstroLibrary 🔎\\n\\nDaily Personalized Horoscope ↗\\n\\nPlanets in Astrology – Lesson 5\\n\\nClick on one of these astrology planets to skip down to its description:\\n\\nastrology planet sun glyph symbol\\n\\nSun\\n\\nastrology planet moon glyph symbol\\n\\nMoon\\n\\nastrology planet mercury glyph symbol\\n\\nMercury\\n\\nastrology planet venus glyph symbol\\n\\nVenus\\n\\nplanet mars astrology glyph symbol\\n\\nMars\\n\\njupiter astrology planet glyph symbol\\n\\nJupiter\\n\\nsaturn astrology planet glyph symbol\\n\\nSaturn\\n\\nuranus astrology planet glyph symbol\\n\\nUranus\\n\\nneptune astrology planet glyph symbol\\n\\nNeptune\\n\\npluto astrology planet glyph symbol\\n\\nPluto\\n\\nAstrology is about observing the planets. This is not to say that the planets (or the signs) cause anything to happen. What we observe is synchrony – that things are taking place in sync. One movement is flowing throughout our space, heavens, and Earth. Instead of causing, the planets indicate things, describing what is already taking place. But for the sake of convenience, astrologers use phrases like, “your Venus makes you like this,” or “his Mars made him act like that.” Please note that this is only for convenience in communicating. Astrologers know that the planets don’t force us to do anything, any more than your 5:00pm clock forces you to stop working. But you do stop working when the clock strikes 5:00pm, don’t you? And so you pay careful attention to that clock, because that clock will show you when it’s time to go home from work. But the clock never forced you to leave work, neither did it ever seal your fate. In the end, you decide when to leave work. That is the beauty of synchronicity.\\n\\nAs has been mentioned, the Sun and the Moon are included when we say “the planets.” Astrologers do this for convenience. The ten planets of astrology are: Sun, Moon, Mercury, Venus, Mars, Jupiter, Saturn, Uranus, Neptune, and Pluto[1]. (From our geocentric position, Earth is not included in the list; however Earth\\'s interplay in the scheme of things is denoted by the Ascendant.) However, before the 18th century only the first seven planets were recognized (they were perceivable to the naked eye): Sun, Moon, Mercury, Venus, Mars, Jupiter, and Saturn. Since over 2,000 years ago, the seven classical planets were observed to keep time, orbiting steadily on their paths. Perhaps that is why the number seven was symbolic of deity in ancient cultures. The seven were named after Greek gods because their influence was considered to be as such. Seven was the number of days chosen for a week, with each day borrowing its name from one of the classical planets. (The days making up our calendar month were determined based on one complete cycle through the 12 zodiac signs by the moon, from which the word \"month\" comes from.)\\n\\nThe discoveries of Uranus, Neptune, and Pluto corresponded to revolutionary changes in our world, from the Industrial Revolution and discovery of electricity (Uranus), to the financial collapse and interest in world domination of the 1930’s (Pluto). Pluto’s demotion of status to a “dwarf planet” does not change the fact that it is a celestial body participating in the continuous flow of energy in our world. Thus, Pluto is included here as a planet. (Astrology also observes several other asteroids/planetoids, regardless of planetary status. The body is there, thus, it counts.)\\n\\nEach planet symbolizes a different component of life, a different type of energy. In psychological terms, we can call them “needs” or “drives.” Click on the astrology planets above to learn what each one brings to astrology.\\n\\nNotes\\n\\n1. See Why Pluto is still valid even though it’s not a planet anymore\\n\\nplanets solar system view from moon\\n\\nsun planet golden red orange fire\\n\\nThe Sun\\n\\n“I am”\\n\\nBest quality: Rulership Worst quality: Dictativeness\\n\\nThe sun represents your ego, the inner you, your essence, the unchanging part of you – the calm, steady, deep and lasting force felt within you, enabling you to exert willpower, make decisions and direct all the other parts of you life. The Sun represents your will, and its sign determines the dynamic expression of the will, which is carried out through the activity of the other planets in the horoscope. Remember, the sun sign is just the start of your portrait. Think of your horoscope as a painting of you. The characteristics of your Sun sign are the first broad strokes that the artist first lays down on the canvas. The artist outlines your general shape, the planes and angles of your face, the way in which you hold your body. In the same way, your sun sign delineates your fundamental character, your core. Are you introspective? Do you make friends easily? Are you pompous or plain, generous or greedy? How do you cope with responsibility? Are you high-strung or easygoing? The answers may be found in a study of your Sun\\'s position by sign and house, and any aspects from it.\\n\\nInterpretations for the Sun in each zodiac sign are available here: Sun in the Signs\\n\\nInterpretations for the Sun in each House of the birth chart: Sun in Houses\\n\\nReturn to Top Return to Leo\\n\\nfull moon planet\\n\\nThe Moon\\n\\n“I feel”\\n\\nBest quality: Adaptability Worst quality: Inconstancy\\n\\nThe Moon is as important as the Sun in your natal chart. The Sun sign is a part of you that is apparent to others; it is what others see. The Moon sign is the part of you that you see. The Moon represents your emotional nature and instinctive reactions – emotional responses based on past experiences and unconscious habit patterns that you have developed. It comprises all the little surface peculiarities, moods, and changes that have to do with physical life which are disturbing, fleeting, and changing. It describes the way you behave in instances in which you haven’t had time to think things through, your immediate emotional responses. Have you ever done something that you immediately regretted and thought, “that’s not like me.” It may have been your Moon sign qualities at work. The sign that the Moon is in shows what makes you feel emotionally nurtured, secure, and satisfied. Because emotions run so deep, the Moon sign represents your greatest need. It also shows how you nurture others. Most of the time, your Moon sign will only be apparent to those who live with you, or people that are very close to you. In many ways, your Moon personality is the one you keep hidden. It is your inner core, which feels hate, jealousy, fear, and has fantasies that you often deny even to yourself. On the other hand, it is your Moon personality that spontaneously feels and expresses joy and pleasure. It is the part of you that enjoys the little sensualities of life. The Moon in your horoscope modifies your Sun sign; it brings new forces, different motivations, and spiritual elements to the character of your Sun sign. For example, a Gemini-Sun person with Moon in Taurus will be more dependable than a Gemini-Sun with Moon in Aquarius. Here is another reason why we cannot define a person simply by their Sun sign.\\n\\nThe Moon is also a symbol of fertility and femininity; its sign colors one\\'s relationship with the mother, and with women in general. In a male\\'s chart, it indicates the type of woman he feels most comfortable with. Although the Venus sign indicates a male\\'s romantic/erotic preference in partners, the Moon sign indicates the type of woman he would choose as a lifelong mate (because the Moon \"needs\" are stronger than the Venus \"wants\").\\n\\nThe Moon is constantly waxing and waning, from new Moon to full Moon and back. The house position of the Moon in your natal chart shows the area of life where you tend to be the most emotional, and where you often experience changing conditions. The house of the Moon also gives clues to the type of activity that occurs on the domestic scene.\\n\\nInterpretations for the Moon in each zodiac sign are available here: Moon in the Signs\\n\\nInterpretations for the Moon in each House of the birth chart: Moon in Houses\\n\\nReturn to Top Return to Cancer\\n\\nmercury planet astrology\\n\\nMercury\\n\\n“I think”\\n\\nBest quality: Expression Worst quality: Restlessness\\n\\nMercury is the planet of intelligence and communication. It governs our rational and intellectual faculties, perception and reason, memory, speaking, and writing. Mercury reflects your capacity to collect, sort, and communicate the knowledge you gain through your experiences and your senses. It reflects the way you see, hear, understand, and assimilate information. Mercury is symbolic of that child-like curiosity that drives your urge to know, and the ability to analyze and reason. Mercury also has to do with transportation and short trips, and the nervous system. The positive manifestations of Mercury include clever speech, eloquence, persuasiveness, success with public speaking and a sharp, quick mind. The more negative manifestations include restlessness, a tendency to be critical, sarcastic, argumentative and sly. The quick wit of Mercury can quickly turn into trickery. Lies, deceit, fraud, swindling, and forgery are examples of Mercury’s negative power. The sign of Mercury in your natal chart shows your style and preferences of communicating and learning. A strong Mercury in one\\'s chart, free of any negative aspects, indicates a brilliant mind.\\n\\nInterpretations for Mercury in each zodiac sign are available here: Mercury in the Signs\\n\\nInterpretations for Mercury in each House of the birth chart: Mercury in Houses\\n\\nReturn to Top Return to Gemini Return to Virgo\\n\\nvenus astrology planet real image\\n\\nVenus\\n\\n“I love”\\n\\nBest quality: Affection Worst quality: Pliancy (bending too easily, taking the easy way out)\\n\\nVenus is the planet of love, pleasure, and beauty. It represents your capacity to express affection and to enjoy beauty. This includes your capacity to attract and appreciate the things of the world, whether they are emotional, physical/material, mental, or spiritual things. It defines the type of people you draw to yourself, based on your social values. Things ruled by Venus include: what kind of sex appeal you posses, love affairs, the arts, beauty and beautiful things, adornment, affection, the social graces, harmony, and friendship. Being the planet of pleasure, it points to the kinds of amusements you are drawn to and in what ways you spend your money. The position of Venus in your natal chart can answer such questions as: What kind of lovers do you attract? Are you flirtatious? Do you find happiness in your love affairs, or are you often disappointed? Where do your creative talents lie? The sign of Venus gives important information about how you expresses yourself in personal relationships, especially in love and marriage. It also indicates your attitude toward money, personal possessions, creature comforts, and social and aesthetic values. Your Venus sign also reveals your idea of the \"perfect woman.\" In a male\\'s chart, the Venus sign indicates the type of woman that attracts him. In a woman\\'s chart, the Venus sign indicates the qualities that she uses to attract lovers. The house position of Venus indicates the type of people with whom you establish relationships, both friendships and romances, and where you are most likely to find an artistic outlet.\\n\\nVenus never travels far from the Sun. In your horoscope, it is always either in your Sun sign or in one of the two signs immediately preceding or following your Sun sign. A well-aspected Venus bestows charm, diplomacy, and tact. Some negative manifestations of Venus are self-indulgence, jealousy, envy, lust, and of course, unfaithfulness.\\n\\nInterpretations for Venus in each zodiac sign are available here: Venus in the Signs\\n\\nInterpretations for Venus in each House of the birth chart: Venus in Houses\\n\\nReturn to Top Return to Taurus Return to Libra\\n\\nastrology planet mars real image\\n\\nMars\\n\\n“I act”\\n\\nBest quality: Initiative Worst quality: Harshness\\n\\nMars is the exact opposite of Venus. Whereas Venus represents the female, Mars is all male. Whereas Venus is about harmony, Mars is conflict, aggression, and outright war. Mars is the planet of physical energy. It governs your sex drive, your forcefulness and your aggression. It is associated with your desires and aspirations for emotional, physical, mental and spiritual things that stimulate activity. You have to want something before you reach out and take it; Mars is the heated passion behind action. Mars shows your ability to turn ideas into action. The sign of Mars in your natal chart indicates your vitality, energy level, and style of action. In a female\\'s chart, the Mars sign is one factor suggesting the type of man she attracts. In its highest form, Mars represent your unleashed energy and your human will – initiative. A controlled Mars can give a healthy dose of assertiveness and ambition. At its worst, Mars energy makes one prone to anger, harshness and destructive violence, impulsive behavior, danger, combativeness and every kind of cruelty. It’s up to you to use this force constructively.\\n\\nInterpretations for Mars in each zodiac sign are available here: Mars in the Signs.\\n\\nInterpretations for Mars in each House of the birth chart: Mars in Houses\\n\\nReturn to Top Return to Aries\\n\\njupiter astrology planet\\n\\nJupiter\\n\\n“I grow”\\n\\nBest quality: Benevolence (kindness) Worst quality: Conceit\\n\\nJupiter is the planet of good luck, optimism, success and generosity. Jupiter brings joy to life. Think expansiveness and abundance, as Jupiter is the largest planet in our solar system. Jupiter signifies knowledge, higher leaning, breadth of vision, confidence, charity and good-will, frankness and honesty. Jupiter’s knowledge is on a philosophical level (as opposed to Mercury’s day-to-day cleverness). It is the broad view of the higher mind. Psychologically, Jupiter is the search for meaning or truth. As such, it represents law and justice, philosophy, religion, metaphysics, and education. Jupiter encompasses the urge for self-improvement through participation in the larger whole. It urges you to go forth exploring life. Jupiter\\'s sign indicates what you idealize, what your ethical, religious, and philosophical standards are. The sign also indicates where you express expansiveness, where you do things on a large scale. Jupiter in your chart shows where you are likely to receive financial and material benefits, and in turn, where you express generosity to others. The House of Jupiter is where we tend to be optimistic, and the affairs of that House usually flow easily. Jupiter’s qualities include benevolence (kindness), wisdom, morality, and spirituality. If negatively placed in the chart, Jupiter’s energy can be manifested as self-righteousness, excessiveness, squandering, exaggeration, over-indulgence, superficiality, and bigotry. However, even when negatively positioned, Jupiter is protective and beneficial. Over-indulgence and excess often lead to learning the lesson of restraint. Even with a negatively-aspected Jupiter, a person will tend to \"land on their feet\" when problems arise in the areas signified by Jupiter\\'s House.\\n\\nInterpretations for Jupiter in each zodiac sign are available here: Jupiter in the Signs\\n\\nInterpretations for Jupiter in each House of the birth chart: Jupiter in Houses\\n\\nReturn to Top Return to Sagittarius\\n\\nastrology planet saturn with ring\\n\\nSaturn\\n\\n“I achieve”\\n\\nBest quality: System and Organization Worst quality: Selfishness\\n\\nAstrologers of the past regarded Saturn as \"evil\" and malignant, indicating dire misfortune and misery wherever it was found in a chart. When Venus wishes for love, Saturn denies her. When Jupiter promises good fortune, Saturn delays it. When Mercury brings news, Saturn degrades it, and when Mars goes too hard or too fast, Saturn will crash him. But this is not necessarily bad. Saturn is associated with the principles of limitation, restrictions, boundaries, safety, practicality, reality, seriousness, and structures. Saturn is the laws, boundaries and limits set by society or karma. Modern astrologers acknowledge that the hardships brought on by Saturn\\'s limitations, compel one to continue striving for a final product, that although delayed, will be solid and of real worth.\\n\\nSaturn governs ambition, career, authority, hierarchy, and conforming social structures. It concerns a person\\'s sense of duty, discipline and responsibility, and their physical and emotional endurance during hardships. Saturn is morose and cold, melancholic, and serious. By placement in your chart, it indicates the area of life in which you may feel shame, for a time. This is the area where you have lessons to learn. But this is where your disciplined hard work will lead to genuinely earned, long-lasting success. At its best, Saturn endows organization and order. At its worst, Saturn’s energy is manifested as selfishness. The sign of Saturn also gives clues to the kind of work for which a person is suited and the kind of career he is likely to pursue.\\n\\nInterpretations for Saturn in each zodiac sign are available here: Saturn in the Signs\\n\\nInterpretations for Saturn in each House of the birth chart: Saturn in Houses\\n\\nReturn to Top Return to Capricorn\\n\\nastrology planet uranus on its side with ring\\n\\nUranus\\n\\n“I evolve”\\n\\nBest quality: Originality Worst quality: Rebellion\\n\\nUranus represents the unconscious urge to become aware of your true inner individuality (the Sun). Like a lightning bolt, Uranus symbolizes sudden flashes of insight, moments of revelation, and spurts of creativity. Uranus’s energy is usually described as suddenness, revolution, change, shock, and disruption. Like lightning, Uranus breaks into time and fractures our patterns. New ideas break into ordinary streams of thought, bringing innovative solutions to stubborn problems. It is your intuition awakening you to a world beyond our social structure. Uranus forces sudden changes when the usefulness of the old is gone and something newer, something higher and better is ready to take its place. Uranus encompasses technology and all types of electronic devices. Uranus speeds up the mind, making it to bypass logic and arrive at conclusions by leaping from A to Z, shocking people. Uranus seeks alternatives to the common and accepted forms. True to itself, the planet Uranus stands out from the rest of the planets by orbiting around on its \"side.\" The rest of the planets orbit like a \"spinning top,\" but Uranus insists on rolling on its side like a ball. At best, Uranus encourages originality, versatility and independence. At worst, it encourages eccentricity, perversion and rebellion. Uranus demands freedom.\\n\\nInterpretations for Uranus in each zodiac sign are available here: Uranus in the Signs\\n\\nInterpretations for Uranus in each House of the birth chart: Uranus in Houses\\n\\nReturn to Top Return to Aquarius\\n\\nneptune astrology planet\\n\\nNeptune\\n\\n“I dream”\\n\\nBest quality: Idealism Worst quality: Vagueness\\n\\nNeptune represents the unconscious urge to dissolve the boundaries of your ego-centeredness in order to ‘lose yourself’ in other realms of being. While Uranus breaks into our dimension to allow momentary flashes of insight into other realms of existence, Neptune is those other realms. Neptune dissolves life’s patterns in order to teach new meanings in the quest for universal wisdom. Neptune represents things that aren’t quite as they appear, the illusive, and the unreal. It is the planet of receptivity, imagination, cloudiness, confusion, delusion, illusion, and unreality. Neptune is also associated with movies, acting, and compassion. Neptune can indicate mystical visions of a divine creator, or an experience of the primordial chaos before creation (dangerously, the latter can drive one to madness). Neptune can indicate spiritual healing and service to others, or becoming lost in a foggy world of fantasy and dreams. More often than not, Neptune indicates confusion in the House where it resides in your birth chart. A negatively positioned Neptune in the natal chart can indicate a tendency to escape reality. The house and sign will indicate whether it be through mind-altering drugs and alcohol, day-dreaming, sexual addiction, cult worship, psychosis, potential suicide, or others. At its best, Neptune\\'s energy inspires marvelous art, music, theatre, dance, poetry, and film. Above all, Neptune represents the intangible, and makes it very real.\\n\\nInterpretations for Neptune in each zodiac sign are available here: Neptune in the Signs\\n\\nInterpretations for Neptune in each House of the birth chart: Neptune in Houses\\n\\nReturn to Top Return to Pisces\\n\\nastrology planet pluto\\n\\nPluto\\n\\n“I empower”\\n\\nBest quality: Transformation Worst quality: Inversion (turning things upside down)\\n\\n(See Why Pluto is still valid even though it’s not a planet anymore)\\n\\nPluto represents the unconscious urge to transform repressed ego-desire energies into group-desire energies in order to live out your role in society’s evolution. Pluto represents sexuality (the act itself, as opposed to the energetic desire which is associated with Mars), obsessive desires, transformation, power, and the ingredients of great wealth (investments, banking, loans, debt, mortgages). Pluto has dominion over drastic changes that bring true upheavals. Since Pluto is the slowest-moving planet, an entire generation will share the same Pluto sign, giving it historical importance. Drastic and permanent changes in civilization as a whole can be linked to Pluto\\'s movement through the signs. On a personal level, the House that Pluto occupies in your chart will show how Plutonian energy is manifested in your life. Pluto will transform those things in your life that require regeneration, whether you desire it or not. You may experience dramatic crises or have to endure terrible suffering where Pluto is involved in your chart, but for the purpose of healing. Pluto tears down only to transform and regenerate what has been destroyed. Pluto is associated with recklessness, mental obsession and compulsion, emotional resistance, and overall transcendence. It is also associated with unsolved mysteries, secrets, and taboos.\\n\\nInterpretations for Pluto in each zodiac sign are available here: Pluto in the Signs\\n\\nInterpretations for Pluto in each House of the birth chart: Pluto in Houses\\n\\nReturn to Top Return to Scorpio\\n\\nCite This Page\\n\\nMLA style\\n\\nCorinne Lane. \"Planets in Astrology – Lesson 5\" Astrolibrary. Astrolibrary, LLC, 19 Aug. 2009. Web. 30 Apr. 2025. <https://astrolibrary.org/planets/>\\n\\nAPA style\\n\\nCorinne Lane. (19 Aug. 2009). Planets in Astrology – Lesson 5. In Free Astrology Lessons (5). Retrieved from https://astrolibrary.org/planets/\\n\\nTop ↑\\n\\nFree Astrology Lessons\\n\\nPOPULAR ON OUR SITE\\n\\nFree Astrology Reports\\n\\nAstrology Calculators\\n\\nBirth Chart Interpretations\\n\\nFree Astrology Lessons\\n\\nFree Ebooks\\n\\nCopyright 2009–2025 Astrolibrary, LLC. All rights reserved.\\n\\nKNOW THYSELF'),\n",
       " Document(metadata={'source': 'data/Elements Qualities Polarities – Astrology Lesson 7.html'}, page_content='Astrolibrary logo\\n\\nAstroLibrary 🔎\\n\\nDaily Personalized Horoscope ↗\\n\\nElements Qualities Polarities – Astrology Lesson 7\\n\\nThe twelve zodiac signs are classified in three different ways: elements, qualities, and polarities. These three classifications essentially define the zodiac signs. Just by knowing the element, quality, and polarity, you would be able to describe the fundamental traits of each zodiac sign without actually learning the sign. This is a very important lesson, indeed.\\n\\nThe author considers this the single most important lesson of the zodiac. The elements, qualities, and polarities are the fundamental, underlying nature of each zodiac sign. Learn these!\\n\\nElements | Qualities | Polarities\\n\\nZodiac Elements\\n\\nThe element of a zodiac sign reveals the basic temperament of the sign. The element of your Sun, Moon, or Rising sign are of significant importance, but the overall distribution of elements in your chart is what counts the most. Having more than 4 planets in an element will have an impact on your behavior, even if that element does not correspond to your Sun sign. An abundance (5 or more), or a lack (0-2), of an element has much impact on your temperament. See Balance of Elements.\\n\\nThere are four zodiac elements, with three zodiac signs belonging to each element group. The elements are interchangeably called \"triplicities;\" this is because there are three (triple) signs per element. The four elements are Fire, Earth, Air, and Water.\\n\\nFire Zodiac Element\\n\\nThe fire signs are Aries, Leo, and Sagittarius. Fire signs respond to energy very quickly. They favor action. They\\'re ready to go, take a risk, start a business, go on a trip, etc. They are confident, idealistic, intense, and approach life with zest and enthusiasm. Here is energy to conquer, lead, and travel physically and mentally. Aries must act, Leo must lead grandly, and Sagittarius explores unknown places and ideas.\\n\\nPositive keywords: extroverted, energetic, enthusiastic, inspirational, visionary, high-spirited, simple and direct, physically active, dramatic, courageous, warm.\\n\\nNegative keywords: overly active to the point of burnout, restless, impatient, selfish, insensitive, willful, hasty, lacking in perspective, thoughtless, impulsive, reckless, extravagant, wild.\\n\\nSee the love style of the fire signs.\\n\\nEarth Zodiac Element\\n\\nThe Earth signs are Taurus, Virgo, and Capricorn. Earth signs are more cautious in their approach. They are more practical, realistic, and they need solid footing before going forward. Taurus will dig the heels in and really ponder things. Virgo will analyze. Capricorn will climb, but will do it with care, first needing a vision, a plan, an organized structure before starting the ascent. Earth signs are dependable, thorough and solid.\\n\\nEarth signs seek to engage the physical world and master it through efficient organization. Earth signs seek economic security, respect, and prestige, and they work hard for it.\\n\\nPositive keywords: practical, efficient, organized, realistic, patient, self-disciplined, hard-working, productive, enduring, persistent, dependable, stable, good common sense.\\n\\nNegative keywords: slow, stodgy, lacking in vision, unimaginative, petty, excessively conventional, narrow-minded, stubborn, resistant to change, hoarding, ultra conservative.\\n\\nSee the love style of the earth signs.\\n\\nAir Zodiac Element\\n\\nThe Air signs are Gemini, Libra, and Aquarius. Air signs approach energy mentally; they are thinkers. They are social, always ready for a new relationship or friendship. They love learning, but bore easily. Gemini has great intellectual curiosity, but too many personalities. Libra is partnership driven, but not in an emotional way. Aquarius is popular with friends and is unstoppable when it has a cause to champion. Air signs are into ideas and people. They are communicative; they must share information, interact with others, and influence society.\\n\\nPositive keywords: articulate, objective, mentally clear, detached, capable of forethought, understanding, socially adept and adaptable, cooperative, relational.\\n\\nNegative keywords: unemotional, lacking in sympathy, impractical, disassociated from the body and the physical world, over-adaptive, abstracted, glib and facile, hyperactive.\\n\\nSee the love style of the air signs.\\n\\nWater Zodiac Element\\n\\nWater signs respond to energy almost unconsciously. They are deeply emotional. Cancer is motivated to nurture and be nurtured. Scorpio has intense vision, never swaying, looking straight ahead with laser-like focus. Pisces is the trickiest to describe. Pisces energy is chameleon-like, absorbing its surroundings.\\n\\nPositive keywords: deeply emotional, sympathetic, empathetic, nurturing, calm and peaceful, sensitive, compassionate, imaginative, intuitive, psychically aware.\\n\\nNegative keywords: emotionally insecure and unstable, shy, timid, lacking in confidence, oversensitive, easily influenced and manipulated, withdrawn, uncommunicative, vindictive and vengeful, takes everything personally, moody and depressed.\\n\\nSee the love style of the water signs.\\n\\nZodiac Qualities\\n\\nThe qualities, also called \"modes,\" or “modalities,” indicate how people respond to stimuli, and especially how they act under tension. They indicate how the signs express their element, meaning the mode of behavior they use to express the element needs. There are three qualities: Cardinal, Fixed, and Mutable. They are also called \"quadruplicities\" because there are 4 signs per group. To learn how to calculate the balance of qualities in a birth chart, see Balance of Qualities.\\n\\nInterestingly, there’s one sign from each element in each group of qualities. So, in the Cardinal Signs group, there’s one fire sign, one earth sign, one air sign, and one water sign.\\n\\nCardinal Signs\\n\\nAries, Cancer, Libra, Capricorn\\n\\nCardinal Signs are the most assertive, the most interested in initiating change. Their mode of activity is to start new things. They easily begin things and respond well to new ideas. They are self-starters. Crisis motivates them. They achieve control by remaining one step ahead of everyone else. Aries seeks leadership and control in general, Cancer controls emotions, home, and family; Libra tries to control partnerships; Capricorn controls, uses, and exploits the material environment. For Cardinal signs, things are always happening. This is usually because they are doing the starting. The four Cardinal signs are at the first month of each season.\\n\\nFixed Signs\\n\\nTaurus, Leo, Scorpio, Aquarius\\n\\nFixed Signs are the most stable and self-contained. Their mode of activity is sort of passive, yet determined, unwavering, and even stubborn. Their strength is their consistency and loyalty. They follow things through to the end, managing and sustaining what has been started by the Cardinal signs. They may go to denial in times of change. They are very resistant to change, needing to take time to prep themselves. They tend to be late: Taurus is just slow; Scorpio uses tardiness as a subtle power struggle; Leo enjoys making an entrance; Aquarius wants things on their own terms. Late, but once there, they stay forever. The four Fixed signs are at the middle month of each season.\\n\\nMutable Signs\\n\\nGemini, Virgo, Sagittarius, Pisces\\n\\nMutable Signs are the most unstable and most open to influence by the environment. Their mode of activity is to make the transition from the old to the new, opening the way for the Cardinal Signs to begin a new cycle. They are infinitely flexible and tolerant. They find it naturally easy to let go. Whereas Cardinal signs begin new things, and Fixed signs sustain things, Mutable energy loosens structures and adapts it to new and changing conditions. With this territory comes mental worry. Mutable signs have many things going on in their heads rather than in tangible form. Many react by making lists. Some suffer from negative mental tension, involving fear, paranoia, and panic attacks. In anticipating negative outcomes, they really suffer during the worry process. But their high adaptability always sees them through. Gemini is changeable in its ideas; Virgo is dominated by its environment; Sagittarius has a continually changing view of life\\'s possibilities; Pisces adapts itself superficially to its environment (like a chameleon) and reflects it like a mirror. Sometimes they compromise so much that they sacrifice their own interests. The four Mutable signs are at the final month of each season.\\n\\nBetween elements, qualities, and signs, there is only one combination of each, making each zodiac sign unique. For example, there is only 1 cardinal fire sign, only 1 cardinal earth sign, only 1 cardinal air sign, etc. You can understand the nature of each sign by examining these energetic combinations. See the table below (or open in Print/Download View).\\n\\nFire Earth Air Water Cardinal Aries Capricorn Libra Cancer Fixed Leo Taurus Aquarius Scorpio Mutable Sagittarius Virgo Gemini Pisces\\n\\nZodiac Polarities\\n\\nThe two polarities are sometimes referred to as male/female, positive/negative, or yang/yin. Modern astrologers prefer to call the polarities active/receptive. This type of duality is the earliest form of classification. Six of the zodiac signs are yang energy, which is also known as “masculine” energy. The six yang signs are Aries, Leo, Sagittarius, Gemini, Libra, and Aquarius. These are the Fire and Air signs. These signs are more active and assertive rather than receptive.\\n\\nThe other six signs are yin energy, which is also known as “feminine” energy. The six yin signs are Taurus, Virgo, Capricorn, Cancer, Scorpio, and Pisces. These are the Earth and Water signs. These signs are more receptive and reactive rather than active.\\n\\nIn general, signs of the same polarity can understand each other\\'s personalities, whereas signs from opposing polarities have a difficult time seeing eye to eye. Air feeds Fire and empowers it; Earth needs Water for life. When talking about compatibility, Air and Fire signs (yang) go with each other, while Earth and Water signs (yin) go with each other.\\n\\nHere are keywords to help describe the two opposing yin/yang energies.\\n\\nYang Yin direct outgoing extroverted giving active male (traditionally) positive (traditionally) indirect passive/reactive introverted withdrawn receiving/receptive reactive female (traditionally) negative (traditionally)\\n\\nSummary\\n\\n(Open the following table in Print/Download View.)\\n\\nSign Element Quality Polarity Aries Fire Cardinal Yang (+) Taurus Earth Fixed Yin (-) Gemini Air Mutable Yang(+) Cancer Water Cardinal Yin (-) Leo Fire Fixed Yang (+) Virgo Earth Mutable Yin (-) Libra Air Cardinal Yang (+) Scorpio Water Fixed Yin (-) Sagittarius Fire Mutable Yang (+) Capricorn Earth Cardinal Yin (-) Aquarius Air Fixed Yang (+) Pisces Water Mutable Yin (-)\\n\\nSee a printable Zodiac Wheel, labeled with all the Signs, Elements, Qualities, and Polarities.\\n\\nCite This Page\\n\\nMLA style\\n\\nCorinne Lane. \"Elements Qualities Polarities – Astrology Lesson 7\" Astrolibrary. Astrolibrary, LLC, 21 Aug. 2009. Web. 30 Apr. 2025. <https://astrolibrary.org/elements/>\\n\\nAPA style\\n\\nCorinne Lane. (21 Aug. 2009). Elements Qualities Polarities – Astrology Lesson 7. In Free Astrology Lessons (7). Retrieved from https://astrolibrary.org/elements/\\n\\nTop ↑\\n\\nFree Astrology Lessons\\n\\nPOPULAR ON OUR SITE\\n\\nFree Astrology Reports\\n\\nAstrology Calculators\\n\\nBirth Chart Interpretations\\n\\nFree Astrology Lessons\\n\\nFree Ebooks\\n\\nCopyright 2009–2025 Astrolibrary, LLC. All rights reserved.\\n\\nKNOW THYSELF'),\n",
       " Document(metadata={'source': 'data/Compatibility in Love Relationships _ AstroLibrary.html'}, page_content='Astrolibrary logo\\n\\nAstroLibrary 🔎\\n\\nDaily Personalized Horoscope ↗\\n\\nCompatibility in Love Relationships\\n\\n(This is a compatibility lesson. If you prefer, see Zodiac Compatibility instead.)\\n\\nIn discussing compatibility, we will overlook “initial attraction” (for now). The difference between “initial attraction” and “compatibility” is great, for the first never ensures the second, and the second can manifest without the first, as many of us are forced to find out in the course of our lives. Here we focus on compatibility, and whether it exists between two people who are already past the “initial attraction” stage of a relationship.\\n\\nCompatibility between two people is not so much a thing, as it is the absence of a thing – absence of friction. Now, compatibility is not simply the sort of harmony that takes place when we are on a romantic date. Men and women tend to be on their best behavior on a date, putting their best foot forward and performing all the charming niceties that are expected from a romantic encounter. In a way, it can be said that people on dates are performing an act. There will be an illusion of compatibility on any romantic date, even between incompatible lovers. This is not a true measure of compatibility because the people in those cases are acting a part.\\n\\nCompatibility Relationship, Compatible couple, man and woman in movie theater\\n\\nTrue compatibility can only be determined based on our natural dispositions, our real personalities, our deep-seated mannerisms and habits. It can only be determined on “the morning after,” when the charming date from the night before reveals his/her ordinary habits, peculiar quirks, eccentricities and other daily behaviors. Often, these daily idiosyncrasies are what drives couples apart or attracts genuine admiration.\\n\\nSo, compatibility is the lucky situation in which both partners can be themselves without irritating each other. If you have to alter your behavior or style so as not to annoy your partner, then compatibility is lacking. Also, if you have to grit your teeth to acquiesce to your partner’s expression of his/herself, compatibility is lacking. If simply being yourselves causes friction with each other, compatibility is lacking.\\n\\nThis is really a matter of energy flow. For example, try joining the positive ends of two magnets. They will not stick together regardless of how “attractive” or “charming” they are. Their energies repel each other. Humans are similar to magnets because we are part of a universal field consisting of an ebb and flow of energy. But unlike magnets, we humans are very complex, and we have many more points to consider than just “positive” and “negative.” Everyone has some great qualities, but not everyone is compatible with you.\\n\\nSince compatibility is really a matter of smooth energy flow between two people, not much can be done to “fix” an incompatible union. An incompatible couple is one in which the natural energy of one partner clashes with the natural energy of the other. It is unfair and sad that many divorcing and separating couples hurt each other in great proportions by bashing each other’s personalities, when the real problem may be a simple mismatch of energies (like repelling magnets).\\n\\nIncompatible couples can possibly succeed in a relationship, but it will require a lot of work and planned romantic dates. You may get along during the artificial scenarios (dates), but the incompatible partner will always rub you the wrong way just by being him/herself when you are not on a date. Their natural manner of being will irritate you. This is because your energies don’t blend well. As a result, the union creates tension, stress, and unhappiness.\\n\\nCompatible couples do not need many extras; they can simply enjoy being in each other’s presence. They can be themselves without causing friction in the relationship. This is because their energies flow together nicely. As a result, such a union creates happiness.\\n\\nOf course, no two people are perfectly compatible in every way (not that we are aware of). Compatibility, as we know it, exists in levels. Higher levels of compatibility result in happier relationships.\\n\\nAstrology, as the unique language of energy, is the most powerful tool available for determining compatibility, before risking years in a relationship. But even if you’ve been married for years, astrology can actually pinpoint the deep root of problem areas in your relationship. Astrology helps people learn how to deal with each other because it reveals the inner workings of their psyches. Even if you are stuck with an incompatible partner, astrology will get you to say, “Now I know why he/she is like that.”\\n\\nNumerous astrological techniques can (and should) be used to determine compatibility levels between two lovers. Some of these astrological techniques are simple and fun, such as comparing Venus, Mars, and Moon signs. Other techniques are far more complicated. All methods of determining compatibility fall under the magnificent and special branch of astrology: synastry.\\n\\nThe comparison of two birth charts in astrology is called synastry. The art of synastry is perhaps the most beloved branch of astrology. Synastry is discussed on the following page.\\n\\nRelated\\n\\nSynastry Interpretations\\n\\nLove & Relationship Articles\\n\\nCite This Page\\n\\nMLA style\\n\\nCorinne Lane. \"Compatibility in Love Relationships\" Astrolibrary. Astrolibrary, LLC, 24 Aug. 2009. Web. 1 May. 2025. <https://astrolibrary.org/compatibility/>\\n\\nAPA style\\n\\nCorinne Lane. (24 Aug. 2009). Compatibility in Love Relationships. In Free Astrology Lessons (13). Retrieved from https://astrolibrary.org/compatibility/\\n\\nTop ↑\\n\\nFree Astrology Lessons\\n\\nPOPULAR ON OUR SITE\\n\\nFree Astrology Reports\\n\\nAstrology Calculators\\n\\nBirth Chart Interpretations\\n\\nFree Astrology Lessons\\n\\nFree Ebooks\\n\\nCopyright 2009–2025 Astrolibrary, LLC. All rights reserved.\\n\\nKNOW THYSELF'),\n",
       " Document(metadata={'source': 'data/12 Astrological Houses – Astrology Lesson 4.html'}, page_content='Astrolibrary logo\\n\\nAstroLibrary 🔎\\n\\nDaily Personalized Horoscope ↗\\n\\n12 Astrological Houses – Astrology Lesson 4\\n\\n1st | 2nd | 3rd | 4th | 5th | 6th | 7th | 8th | 9th | 10th | 11th | 12th\\n\\nThe 12 Houses of astrology are arranged on a circle-shaped chart, or wheel.\\n\\nDo not confuse the wheel of Houses with the zodiac wheel. They are 2 different wheels.\\n\\nThe zodiac wheel is based on the sun’s apparent yearly rotation about our Earth, along the ecliptic.\\n\\nThe wheel of Houses is based on our Earth’s 24-hour rotation about its own axis.\\n\\nThe 2 wheels join together at points derived by calculations involving your exact birth time and astronomical birth coordinates.\\n\\nThen, the planets are described in 2 ways: as being in a zodiac sign, and also as being in a House.\\n\\nFor example, two people may both have a Libra Sun sign, but one may have the Libra Sun in his 12th House, while the other may have his Libra Sun in his 1st house. This could make for two very different types of people.\\n\\n(Another reason why the popular daily Sun Sign Horoscopes are a bunch of silliness: they are written assuming everyone has their Sun in the 1st House.)\\n\\nThe 12 Houses of astrology are symbolic of the all the departments that make up human life. The planets and zodiac signs will manifest themselves most strongly in the sphere of life represented by the House in which they fall on your chart (and also in the House which they rule; more on House Rulerships below).\\n\\nRemember, the houses are not “energies” like the elements or planets, nor do they color the expression of energies like the zodiac signs do. The houses are WHERE these energies are most likely to manifest. The houses are the fields of experience, not the experience themselves.\\n\\nNotice how the order of the Houses follows the developmental path of a human’s life, from the original impulse of individual being (1st house), to learning what is “mine” and how to use what one owns (2nd house), to learning how to communicate within the limitations set by our environment (3rd house), etc. The following description of the Houses are short and topical, directed at beginners.\\n\\nThe most important houses are the 1st, 4th, 7th, and 10th houses. These are called the \"angular houses\" because their cusps coincide with the 4 special angles: ascendant, I.C., descendant, and M.C.. Planets in the angular houses will influence you the most.\\n\\n1st Astrological House\\n\\nThe first House is the House of self. This includes self-awareness, the physical body, personality, appearance, personal views on life, self-identity, self-image, early environment, and beginnings; how we initiate, how we’re impulsive. Any planets in this house will greatly influence your personality and how others perceive you.\\n\\nTop\\n\\n2nd Astrological House\\n\\nThe second House refers to your own money and possessions, what you value, your hidden talents, sense of self-worth, self-esteem (how you value yourself, instead of describing your personality as in the 1st House). Possessions include anything a person owns (except the house/home which is ruled by the 4th House): cars, furniture, clothing, moveable property, investments and securities, etc. The 2nd house specifies how you gain and spend your own money (as opposed to other\\'s money in the 8th house), your attitude towards wealth and material possessions, and your potential for accumulating it/them.\\n\\nTop\\n\\n3rd Astrological House\\n\\nThe third House is that of communication, which by extension includes one\\'s immediate environment: siblings, neighbors, short journeys, and all forms of transportation. The 3rd house also includes the intellect, the lower mind (details and small bits of information as opposed to the higher mind in 9th house), thinking patterns, and early education (before college). Communication includes messages, deliveries, gossip, phone calls, visits, reading and writing.\\n\\nTop\\n\\n4th Astrological House\\n\\nThe fourth House refers to the home and everything associated with it (both the childhood home & the current home): family, land, personal foundations (inner emotional security), your roots. Astrologers are divided over whether this house is associated with one\\'s mother or father. What is clear is that a person\\'s upbringing is associated with this House.\\n\\nOn a deeper level, the 4th house is the base of consciousness or the center of our concrete existence. See how the cusp of the 4th house is the I.C., the lowest point on the chart, representative of things below the surface of Earth. Due to that, the 4th house was believed to rule the conditions at the end of life, and graves. As the root or base of your real self, the 4th house rules where you go when you \"die\" but also where you came from. For those who believe in reincarnation, the 4th house would give clues to your karmic lesson for this lifetime. It shows what karmic baggage you brought with you into this life. Even if you don\\'t believe in reincarnation, you\\'re likely to be surprised by what you find in your 4th house for it may move your soul.\\n\\nAny planets in the 4th house affect your home life, your emotions, your subconscious, and possibly your relationship with your parents.\\n\\nTop\\n\\n5th Astrological House\\n\\nThe fifth House refers to children, creativity, and the pursuit of pleasure. This includes personal interests, love affairs, sports, hobbies, speculation, risk-taking, teaching, drama, creative self-expression, love given, gambling. The 5th house is all about you being yourself and enjoying it.\\n\\nRomance, dating, love affairs, and sexual relationships are ruled by this 5th house, yet marriage is assigned to the 7th. Why? Because, until very recently, marriage was not entered into for pleasure, for love, nor for personal fulfillment. Marriage was hardly even entered into by choice, but rather for the purpose of raising kids to preserve the values of a particular culture or religion. And these marriages were most often arranged according to class and financial status, a partnership befitting the 7th house.\\n\\nNowadays, it\\'s common to marry for love. To avoid confusion, remember: affairs of the heart are in the 5th house, but cooperative partnerships are in the domain of the 7th house.\\n\\nTop\\n\\n6th Astrological House\\n\\nThe sixth House refers to daily work, service, diet, health and physical sickness, physical ability to work, employees. This includes volunteer labor, civil service work, caretaking, and mundane daily tasks. The 6th house really involves the quality of your work, the quality of the jobs you perform, as opposed to an actual career (career is represented by the 10th house). Daily mundane tasks include personal hygiene and our method of responding to everyday crises.\\n\\nTop\\n\\n7th Astrological House\\n\\nThe seventh House is sometimes referred to as the House of marriage, but it encompasses all one-to-one relationships: marriage, business partnerships, contracts, cooperative relationships, and also divorce, separation, quarrels, open enemies, and law suits.\\n\\nThe difference between the love affairs of the 5th House and love relationships of the 7th is that the 7th House refers to more permanently binding relationships, whereas the 5th House refers to affairs that may be temporary. When the 5th House affair progresses into a serious relationship, we can say that the relationship has \"moved into the 7th House.\"\\n\\n7th house relationships are about cooperation and sharing, and they generally serve some functional purpose in the larger social community (i.e. a marriage). This is different from a 5th house love affair, whose only qualification is \"butterflies in the stomach.\"\\n\\nThe 7th house includes the way you relate to those closest to you. Planets in this house will influence your manner of relating. They also give clues to issues that arise in your relationships.\\n\\nTop\\n\\n8th Astrological House\\n\\nSimply put, the 8th house is the polar opposite of the 2nd house. Whereas the 2nd rules your own individual possessions, the 8th house rules what a relationship owns (joint finances).\\n\\nThe 8th House is one of the most misunderstood Houses. This is probably because the things represented by the 8th House seem to have nothing in common with each other, or they seem to be negative. This House governs death, regeneration, taxes, inheritances, wills & legacies, sex (the actual act of sex), latent occult ability, joint resources, your partner’s money and possessions, spouse\\'s money, bankruptcy, losses, personal sacrifices, alimony, clairvoyance.\\n\\nOn a positive note, this House is about transformation and healing. But transformation and healing require some type of death, loss, or injury first. This House rules those processes and things by which we transform and become more powerful. Yes, this includes the act of sex.\\n\\nTop\\n\\n9th Astrological House\\n\\nThe ninth House refers to philosophy, religion, law, learning, higher education (as opposed to early education by the 3rd House), ethics, morals, long journeys, travel, foreign countries and interests, spiritual urges, dreams, visions, higher mind, ideas, understanding and wisdom, books, publishing, ceremonies, and rituals. This is the House of big thoughts and big ideas.\\n\\n9th house \"understanding\" is more complex than 3rd house \"knowledge\". The act of \"knowing\" belongs to the 3rd house because it implies simply the direct contact of a person with something in his environment. Understanding involves the synthesis of known data.\\n\\nWhile the 3rd house refers to an individual\\'s need to understand his close and personal environment, the 9th house is an area in which one seeks to discover the significance of larger fields of social existence which one may not experience directly but which his mind may explore through the use of analogy, generalization and abstraction. The 3rd and 9th houses symbolize the 2 polarities of the human mind, the concrete and the abstract.\\n\\nIn summary, the 9th house includes experiences that we encounter when we search for the meaning of things. Whatever expands your field of activity or the scope of your mind – long journeys, contact with other cultures, great dreams, and even experiences with fortunetellers.\\n\\nTop\\n\\n10th Astrological House\\n\\nThe tenth House is the House of status, honor, community power, prestige, reputation, and professional career. In our society, this includes financial success, but only as it relates to community power and prestige. It\\'s not about gaining \"material stuff\" as it is in the 2nd house. The 10th house wants success for the sake of honor and social status.\\n\\nThis house includes social foundations (as opposed to personal home foundations in the 4th), recognition, personal achievements, social responsibilities, sense of duty, authority figures, politicians. This House encompasses the most public areas of one\\'s life, and the career that you grow into, as opposed to daily work and odd jobs ruled by the 6th House.\\n\\nAs with the 4th House, astrologers are divided over whether the 10th House rules one\\'s mother or father. Those that say the 4th House rules the mother, say the 10th House rules the father, and vice versa. What is clear is that the 4th House rules the nurturing, home-body parent, while the 10th House rules the public, success-focused parent (the parent who \"wears the pants\").\\n\\nAs with the other angular houses, any planets in this house are very important. Planets in the 10th house, the sign on the cusp of the 10th house, and its ruling planet will greatly influence your career and your general reputation in public.\\n\\nTop\\n\\n11th Astrological House\\n\\nThe eleventh House is the House of community, large groups, and friends. It refers to memberships, hopes, goals, ambitions, wishes, social groups, associations, humanitarian interests. It also refers to self-realization, liberty, legislation and regulation.\\n\\nTop\\n\\n12th Astrological House\\n\\nThis is probably the most misunderstood house of all. The twelfth House refers to the subconscious, the hidden self that exists apart from our physical everyday reality. This includes the unconscious mind, subconscious memory, subconscious habit patterns from the past, mental illness, karmic debts, self-deception, escapism, spiritual realization, limitations, frustration, and ultimately our self-undoing.\\n\\nOn a physical, material level, the 12th house includes things that take us away from everyday life: institutions (such as hospitals, prisons, government offices), places of confinement, secrets, secret relationships, hidden enemies, and self-sacrifice for others. It also refers to sorrow, tribulations, widowhood, grief, funerals, exile, seclusion, bribery, subversion, murder, suicide, kidnapping, and endings.\\n\\nFor those who believe, the 12th house is also considered to refer to the collective unconscious of all humanity.\\n\\nTop\\n\\nastrology houses labeled chart\\n\\nastrology houses labeled chart in color\\n\\n“Natural” Houses of the Planets & Signs\\n\\nEach planet and zodiac sign is naturally associated with a House, the House that most corresponds to its archetype. The planet, then, is said to be the “Natural Ruler” of that House, or more often, it’s said to be “at home” in that House.\\n\\nThe House/planet associations were adjusted with the discoveries of Uranus, Neptune, and Pluto. The following table lists the current House rulers, along with the traditional rulers. The traditional rulers are still considered to be co-rulers of that House (along with the new planet that rules the House).\\n\\nNote: in your own birth chart, the rulers of your houses are determined by the signs that fall on the cusps of your houses. However, the natural rulers, listed here, give a subtle influence.\\n\\nTable of Natural Ruling Planets of Each House\\n\\nHouse Keywords Zodiac Sign Natural Ruler Traditional Ruler 1st self, life, body Aries Mars 2nd possessions, money, material circumstances, livelihood Taurus Venus 3rd local movement, short journeys, communication, school, siblings Gemini Mercury 4th home, family, roots, parent Cancer Moon 5th creativity, children, romance, entertainment Leo Sun 6th health, service, work, routine Virgo Mercury 7th partners, marriage, open enemies Libra Venus 8th sex, death, inheritances, other’s money, loss Scorpio Pluto Mars 9th travel, higher education, religion, spirituality, law Sagittarius Jupiter 10th career, social position, dominant parent Capricorn Saturn 11th friendships, associations, aspirations Aquarius Uranus Saturn 12th hidden matters, the unconscious, clandestine relationships, secret enemies, seclusion Pisces Neptune Jupiter\\n\\nTake Note: The qualities of the zodiac signs are not exactly the same as those of the Houses which they are associated with. There are subtle differences between the qualities of the signs and Houses. More on the zodiac signs later; but first, learn about the star players, the Planets. See Lesson 5-The Planets.\\n\\nCite This Page\\n\\nMLA style\\n\\nCorinne Lane. \"12 Astrological Houses – Astrology Lesson 4\" Astrolibrary. Astrolibrary, LLC, 19 Aug. 2009. Web. 30 Apr. 2025. <https://astrolibrary.org/houses/>\\n\\nAPA style\\n\\nCorinne Lane. (19 Aug. 2009). 12 Astrological Houses – Astrology Lesson 4. In Free Astrology Lessons (4). Retrieved from https://astrolibrary.org/houses/\\n\\nTop ↑\\n\\nFree Astrology Lessons\\n\\nPOPULAR ON OUR SITE\\n\\nFree Astrology Reports\\n\\nAstrology Calculators\\n\\nBirth Chart Interpretations\\n\\nFree Astrology Lessons\\n\\nFree Ebooks\\n\\nCopyright 2009–2025 Astrolibrary, LLC. All rights reserved.\\n\\nKNOW THYSELF'),\n",
       " Document(metadata={'source': 'data/House Overlays – Deeper into the 3 parts of Synastry.html'}, page_content='Astrolibrary logo\\n\\nAstroLibrary 🔎\\n\\nDaily Personalized Horoscope ↗\\n\\nHouse Overlays – Deeper into the 3 parts of Synastry\\n\\n(This is a synastry lesson. If you prefer, see Synastry Interpretations instead.)\\n\\nHouse Overlays say a great deal about how you see each other, what you expect out of each other, and in which areas of life you affect each other. The planets overlaid in the Houses of another person reveal how the planet person (person who’s planets are in your houses) perceives the house person (person who’s birthchart houses the other’s planets are overlayed upon). The planet person will then have expectations according to their perceptions of the house person. The planet person will act accordingly. This, in turn, evokes a response from the house person. Here begin the dynamics of the relationship. Then we flip the whole thing to see the 2nd person’s planets in the 1st person’s houses.\\n\\nHouse overlays are the secret to knowing how that special guy or girl really sees you. House overlays don’t necessarily describe how compatible you are based on your personalities. They reveal how you see each other. How we perceive each other largely determines how we treat each other, and whether or not we’ll even approach each other. Are they intimidated by you? Are they mesmerized? Are they disgusted?\\n\\nIn effect, House Overlays reveal the areas of life of the house person that will be affected by the other’s presence (planets). But it begins with the perception of the planet person. It’s similar to entering someone’s actual home. When you enter someone’s home for the first time, you immediately perceive and form expectations based on the surrounding environment. Similarly, the planet person enters a birth chart house, and perceives you according to the environment of that specific house.\\n\\nSince House Overlays reveal perceptions and expectations regarding the partner, they can be used to pinpoint problems. Many relationship problems, separations, and divorces come about because of wrong perceptions about the partner, or lofty expectations. Partners should discuss what the House Overlays reveal, as it would bring them to a common understanding about each other’s expectations.\\n\\nIn addition, House Overlays can reveal why certain relationships never get off the ground. Some house-planet overlays denote negative perceptions from the beginning.\\n\\nRelated\\n\\nSynastry Interpretations\\n\\nLove & Relationship Articles\\n\\nCite This Page\\n\\nMLA style\\n\\nCorinne Lane. \"House Overlays – Deeper into the 3 parts of Synastry\" Astrolibrary. Astrolibrary, LLC, 24 Aug. 2009. Web. 30 Apr. 2025. <https://astrolibrary.org/synastry-2/>\\n\\nAPA style\\n\\nCorinne Lane. (24 Aug. 2009). House Overlays – Deeper into the 3 parts of Synastry. In Free Astrology Lessons (16). Retrieved from https://astrolibrary.org/synastry-2/\\n\\nTop ↑\\n\\nFree Astrology Lessons\\n\\nPOPULAR ON OUR SITE\\n\\nFree Astrology Reports\\n\\nAstrology Calculators\\n\\nBirth Chart Interpretations\\n\\nFree Astrology Lessons\\n\\nFree Ebooks\\n\\nCopyright 2009–2025 Astrolibrary, LLC. All rights reserved.\\n\\nKNOW THYSELF'),\n",
       " Document(metadata={'source': 'data/Synastry Aspects – Deeper into the 3 parts of Synastry.html'}, page_content='Astrolibrary logo\\n\\nAstroLibrary 🔎\\n\\nDaily Personalized Horoscope ↗\\n\\nSynastry Aspects – Deeper into the 3 parts of Synastry\\n\\nsynastry\\n\\n(This is a synastry lesson. If you prefer, see Synastry Interpretations or calculate your synastry aspects.)\\n\\nThe aspects from one birth chart to another show how the two individuals get along. Planets making harmonious aspects mean that those dimensions represented by each planet blend together with pleasing results. Planets making inharmonious (often called challenging or dynamic) aspects produce discordant, irritating and unpleasant results.\\n\\nFor example, a man’s Moon blending harmoniously (conjunct) with a woman’s Venus will make for a tender, emotional, sweet interaction between them (if the rest of the synastric analysis concurs). On the other hand, if his Moon makes a challenging aspect (square) to her Venus, then her way of projecting herself as a woman (Venus) will emotionally (Moon) irritate him instead of arousing tenderness.\\n\\nNow, there is always a mixture of harmonious and challenging synastry aspects between two charts. Don’t expect to find perfect synastry. That probably does not exist. We are simply looking for the positive aspects to be stronger than the negative aspects. If the negative aspects are stronger than the positive, the two people will bug each other so much that the irritation will outweigh the power of attraction between them.\\n\\nRelated\\n\\nSynastry Interpretations\\n\\nLove & Relationship Articles\\n\\nCite This Page\\n\\nMLA style\\n\\nCorinne Lane. \"Synastry Aspects – Deeper into the 3 parts of Synastry\" Astrolibrary. Astrolibrary, LLC, 24 Aug. 2009. Web. 30 Apr. 2025. <https://astrolibrary.org/synastry-3/>\\n\\nAPA style\\n\\nCorinne Lane. (24 Aug. 2009). Synastry Aspects – Deeper into the 3 parts of Synastry. In Free Astrology Lessons (17). Retrieved from https://astrolibrary.org/synastry-3/\\n\\nTop ↑\\n\\nFree Astrology Lessons\\n\\nPOPULAR ON OUR SITE\\n\\nFree Astrology Reports\\n\\nAstrology Calculators\\n\\nBirth Chart Interpretations\\n\\nFree Astrology Lessons\\n\\nFree Ebooks\\n\\nCopyright 2009–2025 Astrolibrary, LLC. All rights reserved.\\n\\nKNOW THYSELF'),\n",
       " Document(metadata={'source': 'data/What Are Transits In Astrology_ – Lesson 18.html'}, page_content='Astrolibrary logo\\n\\nAstroLibrary 🔎\\n\\nDaily Personalized Horoscope ↗\\n\\nWhat Are Transits In Astrology? – Lesson 18\\n\\nTransits in Astrology\\n\\n(Go here instead to see transits interpretations.)\\n\\nTo understand what transits are in astrology, you must first understand what aspects are. You should already know that aspects are relationships, measured in degrees of arc, between two planets in your birth chart. (An aspect can also take place between a planet and a special angle or point in your birth chart, i.e. Ascendant, M.C., I.C., Descendant, Lunar Nodes, and some other points.)\\n\\nTransits are, in effect, aspects between a planet’s current position up above and its position in your birth chart.\\n\\nThe positions of the planets at the moment you were born are captured on your birth chart. As you took your first breath, the planets continued on their tracks. As the planets continue moving, every once in a while, they come into aspect with the planetary positions on your birth chart.\\n\\nFor example, say you were born with the Sun at 16 ° and 28 minutes of Cancer, and Pluto at 24 ° of Libra. When Pluto moved into 16 degrees of Capricorn, in the year 2016, it made an opposition aspect (180 °) to your natal Sun.\\n\\nTo be clear, that aspect is called a “transit.” We would not call it an aspect because when we speak of aspects, we are usually speaking of natal aspects based on the positions of the planets at someone’s birth. An aspect made by a transiting planet is called a “transit” in astrology.\\n\\nA moving planet can stay in aspect anywhere from a few hours up to a few years. The moon, because she moves so fast, makes aspects only for a short hour or two. And then she’s gone. Neptune and Pluto, because they move so slowly (relative motion), can stay in aspect for 2 or 3 years. Use an orb of 1 degree to consider transits (but use a 2 degree orb to plan ahead!) While a moving planet is in aspect to a natal planetary position, the moving planet is said to be “transiting” the natal planet.\\n\\nThe transit has an influence over you during the entire time that it’s transiting, but it also has a point at which it becomes “exact.” This is the day when it reaches the exact degree, minute, and second of your birth planet. Some transits can become exact three times because of retrograde motion: the transiting planet passes over the point once, then the planet goes retrograde and backtracks over the point, then the planet goes back into direct motion and passes over the point a third time.\\n\\nIn the example above, Pluto would be transiting your natal Sun throughout most of 2016 because it will be close enough to 16 ° to be considered in aspect. But that transit becomes “exact” in 2016 when Pluto reaches exactly 10 ° and 28 minutes of Capricorn.\\n\\nIn summary, transits are simply aspects made by the current moving planets to our birth-chart planets. Technically, the planets are always in transit, as in “on the move.” But in astrology, “transit” is a term of art. In the language of astrology, planets make “transits” or are “transiting” only when they make aspects to our birth chart.\\n\\nTo find out your own personal transits, try the Transits calculator.\\n\\nCite This Page\\n\\nMLA style\\n\\nCorinne Lane. \"What Are Transits In Astrology? – Lesson 18\" Astrolibrary. Astrolibrary, LLC, 25 Aug. 2009. Web. 1 May. 2025. <https://astrolibrary.org/transits-in-astrology-lesson-18/>\\n\\nAPA style\\n\\nCorinne Lane. (25 Aug. 2009). What Are Transits In Astrology? – Lesson 18. In Free Astrology Lessons (18). Retrieved from https://astrolibrary.org/transits-in-astrology-lesson-18/\\n\\nTop ↑\\n\\nFree Astrology Lessons\\n\\nPOPULAR ON OUR SITE\\n\\nFree Astrology Reports\\n\\nAstrology Calculators\\n\\nBirth Chart Interpretations\\n\\nFree Astrology Lessons\\n\\nFree Ebooks\\n\\nCopyright 2009–2025 Astrolibrary, LLC. All rights reserved.\\n\\nKNOW THYSELF'),\n",
       " Document(metadata={'source': 'data/Aspects and Orbs in Astrology – Lesson 9.html'}, page_content='Astrolibrary logo\\n\\nAstroLibrary 🔎\\n\\nDaily Personalized Horoscope ↗\\n\\nAspects and Orbs in Astrology – Lesson 9\\n\\nAspects in astrology are extremely important when interpreting any chart. Aspects indicate how the various planetary and sign energies actually play out. They indicate, among other things, if there will be struggles or ease. Without acknowledging the aspects in a chart, the reading is incomplete, and ultimately incorrect. Keep this in mind when you begin to read the interpretations of your planets in the signs of your chart – the aspects tell more of the story.\\n\\nSo, what are aspects in astrology? Simply put, aspects are a connection or relationship between two or more planets. This connection always alters the interpretation of the planets and signs involved. When planets are in aspect to each other, their interpretations must be blended according to the nature of the aspect.\\n\\nTo be precise, aspects are special degrees of separation between the planets, with respect to the Earth. Since astrology focuses on the interplay between the celestial bodies and our Earth, we take a geocentric (Earth-centered) view of the heavens. The planets, then, are observed to orbit at different speeds in approximately the same plane in space.\\n\\nearth space astrology art\\n\\nAs a result of these planetary motions, various angles, measured in degrees, arc minutes, and arc seconds, are formed between the planets as seen from the Earth. In mathematics, an angle is defined as that fraction of a circle formed between two lines that intersect at the vertex. Imagine the Earth being at the center of the circle. Then imagine a line being drawn from two planets each to the Earth, so that the Earth is the vertex of the angle. The number of degrees between the two lines connecting two planets with respect to the Earth forms the angular relationship – the aspect – between the two planets. Aspects are considered not only for the planets, Sun, and Moon, but also for the points of the Ascendant and the Midheaven.\\n\\nExample of an Aspect\\n\\nastrology chart square aspect, labeled\\n\\nIn this example image, the Sun and the Moon are in \"square\" aspect. They are 90° apart, as you can see by the angle formed by the gray lines. However, astrologers do not label aspects like that, for that would be a tangled mess of lines in the birth chart. Instead, the angular relationships are denoted by a single line connecting the two planets in aspect. Thus, in any astrology chart, the square aspect will be denoted by a line like the red one in the image above.\\n\\nCertain degrees of angularity are very important in astrology. They are called the \"major aspects.\" The major aspects are 0° (conjunction), 60° (sextile), 90° (square), 120° (trine), and 180° (opposition).\\n\\nWhat Are Orbs?\\n\\nNow, aspects are given a margin in which they have an influence. For example, although the square aspect is 90°, two planets that are 95° (or 85°) apart are still considered to be in square aspect. This margin of influence is called an \"orb\" in astrology. In the example of 95°, it is considered a square aspect with an orb of 5°, since it deviates 5° from an exact square. An allowable orb is the amount by which the two planets involved can deviate from the exact number of degrees of the aspect and still be considered to have an aspect influence. Most astrologers use an allowable orb of only 6° for the major aspects, and 2° or 3° for the minor aspects. However, the allowable orb is increased to 10° (or 8°) if it includes the Sun or Moon. This is a matter of preference, but in fact, the smaller the orb, the more significant the aspect is, with orbs of less than 1° being the most potent aspect influences.\\n\\nAs you\\'ll see below, each aspect can be defined as a circle divided by a number. A full circle is 360°. However, to avoid confusion, notice that the astrology chart is divided into 12 signs of 30° each. Then the square aspect (90°) will be between planets that are in the same degree, but three signs apart. The sextile will be two signs apart, the trine will be four signs apart, and the opposition will be six signs apart.\\n\\nMany pages can be written describing the dynamics of each aspect, but here we will brief. Keep in mind that as you grow in your knowledge of astrology, and as you gain experience in interpreting charts, you can add your own insight into how the aspects are manifested.\\n\\nMajor Aspects\\n\\nConjunction ()\\n\\ndiagram of conjunction astrology aspect, 0 degrees\\n\\nThe conjunction (0°) is the circle divided by one (in which the conjunction can be termed as 360° apart, which is the same as 0° in a circle). This is a very dynamic aspect, since it marks a strong focalized potential for expression along with a tendency for direct action and self-dramatization. The two planets in conjunction are blended together, fused, and intensified. Planets in conjunction must be interpreted as a blend in which the planets work together. This can be a good thing if the two planets get along (like say, Venus and the Moon), but it can be inharmonious if the two planets are incompatible (like say, Mars and Neptune).\\n\\nSextile (\\n\\nsextile astrology aspect, glyph symbol\\n\\nDiagram of sextile astrology aspect\\n\\nThe sextile aspect (60°) is the circle divided by six. It represents an easy flow of opportunities or ideas that, if acted upon, will help realize the individual\\'s goals. It can also indicate talents. This is a harmonious aspect in which the energies of the planets involved collaborate well and work comfortably together. However, while this is traditionally a positive aspect, it is not dynamic. This aspect is rather passive, and it does not necessarily bring an impetus to do anything. The sextile aspect can be characterized as a lack of friction. The main reason that it’s considered positive is that it will not disrupt anything. This is usually pleasant, but can sometimes go unnoticed.\\n\\nSquare ()\\n\\nThe square (90°) is the circle divided by four. This aspect implies restrictions and challenges. It is a dynamic aspect since the challenges pressure you to work on the issues represented by the planets involved. Planets in square aspect are at cross-purposes. They are in conflict that leads to irritation; achievement is delayed, though patient hard work can lead to success through integration of the two principles. Traditionally, this is a negative, inharmonious aspect. The planets and houses involved are areas in the individual\\'s life where adjustments must be made and where tremendous effort must be expended to realize gains.\\n\\nTrine ()\\n\\ndiagram of trine astrology aspect\\n\\nThe trine (120°) is the circle divided by three. This is considered the most fortunate of aspects. The trine aspect represents easy flowing energy between the planets involved, bringing luck, opportunities, and innate creative talents. But even too much of a good thing can be bad – the ease brought on by the trine can sometimes be taken for granted, and the talents left unexpressed. In the ancient days, this aspect was thought to bring about a laziness (due to all the good luck) that was considered evil. But more often than not, the trine aspect tends to manifest the most pleasant potential of the planets involved.\\n\\nOpposition ()\\n\\nThe opposition (180°) is the circle divided by two. Planets in opposition will appear directly across from each other in the birth chart. This aspect indicates a fundamental polarity or duality; a situation in which one must cooperate with others or break with them. It creates tension leading to frustration, though objectivity can lead to a delicate balancing of opposites. Resolving the tension is helped by compromising between the two energies, otherwise they bounce back and forth, competing for center stage in your life. Compromise can be achieved by accepting that the two are parts of a whole. In general, this is considered an inharmonious aspect.\\n\\nMinor Aspects\\n\\nSemi-sextile (\\n\\nsemi-sextile astrology aspect glyph symbol\\n\\nThe semi-sextile (30°) is the circle divided by 12. This aspect is very mild, barely noticeable, almost insignificant. It is considered by some astrologers as mildly beneficial, but since it connects signs of different elements and qualities, it may actually be mildly difficult, awkward, or uncomfortable. This aspect should be interpreted by taking into account the rest of the chart for more insight. This minor aspect will usually corroborate with other things specified in the chart.\\n\\nSemi-square ()\\n\\nThe semi-square (45°) is the circle divided by 8. This is similar to the square, but less intense. This aspect implies friction, generating minor internal conflict or frustration that can be annoying.\\n\\nSesqui-quadrate (\\n\\nsesqui-square astrology aspect glyph symbol\\n\\nThe sesquiquadrate (135°), also known as the sesquisquare, is 3/8 of a circle, or \"a square and a half.\" This aspect denotes the same friction as the semi-square, but this irritation tends to generate external difficulties (whereas the semi-square correlates more with inner conflict).\\n\\nQuincunx (or Inconjunct) (\\n\\nquincunx astrology aspect\\n\\nThe quincunx (150°) is 5/12 of a circle. This aspect demands continual adjustments. It is not necessarily negative, but it brings strain, some difficulty, or stress. This can sometimes affect the health. It can indicate circumstances that are forced upon the person, or self-neglect regarding that area of life.\\n\\nQuintile ()\\n\\nThe quintile (72°) is the circle divided by five. Quintiles imply artistic or creative talents, especially mental ones, as well as versatility and an authentic individuality. It is considered mildly beneficial. The biquintile (144°, ) is considered in the same way as the quintile.\\n\\nThe Cosmolabe Was Used To Measure Aspects\\n\\nPeople in history measured the aspects using a cosmolabe. The following cosmolabe was made by Jacques Besson in 1567. He was a French mathematician, inventor, and philosopher.\\n\\nCosmolabe invented by Jacques Besson, circa 1567\\n\\nIf you made it this far, congratulations. There is still much, much more to learn in the field of astrology. We will continue to add lessons at regular intervals.\\n\\nWith what you\\'ve learned so far, you can begin to interpret your natal chart. You may want to begin with a chart of a close friend or relative, instead of yourself, since we have the tendency to use rose-colored lenses when inspecting ourselves. While rose-colored lenses have their place, they are not helpful when we are trying to take an accurate inventory of our strengths, weaknesses, drives, and potential.\\n\\nCite This Page\\n\\nMLA style\\n\\nCorinne Lane. \"Aspects and Orbs in Astrology – Lesson 9\" Astrolibrary. Astrolibrary, LLC, 23 Aug. 2009. Web. 30 Apr. 2025. <https://astrolibrary.org/aspects-in-astrology/>\\n\\nAPA style\\n\\nCorinne Lane. (23 Aug. 2009). Aspects and Orbs in Astrology – Lesson 9. In Free Astrology Lessons (9). Retrieved from https://astrolibrary.org/aspects-in-astrology/\\n\\nTop ↑\\n\\nFree Astrology Lessons\\n\\nPOPULAR ON OUR SITE\\n\\nFree Astrology Reports\\n\\nAstrology Calculators\\n\\nBirth Chart Interpretations\\n\\nFree Astrology Lessons\\n\\nFree Ebooks\\n\\nCopyright 2009–2025 Astrolibrary, LLC. All rights reserved.\\n\\nKNOW THYSELF')]"
      ]
     },
     "execution_count": 10,
     "metadata": {},
     "output_type": "execute_result"
    }
   ],
   "source": [
    "docs"
   ]
  },
  {
   "cell_type": "code",
   "execution_count": 11,
   "metadata": {},
   "outputs": [],
   "source": [
    "import tiktoken\n",
    "from langchain.text_splitter import RecursiveCharacterTextSplitter\n",
    "\n",
    "def tiktoken_len(text):\n",
    "    tokens = tiktoken.encoding_for_model(\"gpt-4o-mini\").encode(\n",
    "        text,\n",
    "    )\n",
    "    return len(tokens)\n",
    "\n",
    "text_splitter = RecursiveCharacterTextSplitter(\n",
    "    chunk_size = 500,\n",
    "    chunk_overlap = 50,\n",
    "    length_function = tiktoken_len,\n",
    "    separators=[\"\\n\\n\", \"\\n\", \". \", \" \", \"\"]  # Split on paragraphs, then sentences\n",
    ")\n",
    "\n",
    "split_chunks = text_splitter.split_documents(docs)"
   ]
  },
  {
   "cell_type": "code",
   "execution_count": 12,
   "metadata": {},
   "outputs": [
    {
     "data": {
      "text/plain": [
       "[Document(metadata={'source': 'data/Synastry Art and Science- Synastry Aspects, Element Compatibility, House Overlays.html'}, page_content='Astrolibrary logo\\n\\nAstroLibrary 🔎\\n\\nDaily Personalized Horoscope ↗\\n\\nSynastry Art and Science- Synastry Aspects, Element Compatibility, House Overlays\\n\\n(This is a synastry lesson. If you prefer, see Synastry Interpretations instead.)\\n\\nWhat is synastry? Synastry is the art and science of comparing two birth charts to ascertain the energy flow between two individuals. Synastry is the astrology of relationships, and it reveals the level of compatibility between two people. Please don\\'t confuse this with fortune-telling. Synastry will not tell you if you are \"fated to be together.\" Any two people can choose to be together. Synastry shows if two unique individuals can be themselves and blend nicely together, or if being themselves causes the irritating grinding of mismatched gears.\\n\\nSpecifically, 3 things are compared:\\n\\nElements – At the very least, the dominant element in each chart must flow smoothly with the other.\\n\\nHouse Overlays – \"How you perceive each other.\" This is literally laying one birth chart over the other one, aligning them by zodiac sign degrees. First we note in which of your 12 Houses your partner\\'s planets fall. Then we note in which of your partner\\'s 12 Houses your planets fall.\\n\\nSynastry Aspects (also called Inter-aspects) – These are aspects formed from planets and angles in one chart to the planets and angles in the second chart. Here is the \"nitty gritty\" of a relationship. The dynamics between you is revealed by synastry aspects.\\n\\nNothing so profoundly affects our lives as contact with others, so this subject should be entered into with compassion and a commitment to thoroughness. If you rush the process of synastry, you will make erroneous judgments about something so serious. It is too easy and common for people to compare just 1 or 2 synastry aspects and assume they have the entire relationship mapped out. This is usually a huge mistake. Do not bother with synastry if you will not take the time to consider all parts. A real relationship is always at stake.'),\n",
       " Document(metadata={'source': 'data/Synastry Art and Science- Synastry Aspects, Element Compatibility, House Overlays.html'}, page_content='The scientific part of synastry is that all aspects, house cusps, planets, points, and angles are calculated mathematically. In this sense, synastry (and all astrology) is mathematically precise. Allowable orbs for synastry aspects range according to the preference of the astrologer. Keep in mind, we exist in a universal energy field in which an energy influence increases as it comes near us or decreases as it departs. It doesn’t just appear or disappear. So we must be flexible with allowable orbs.\\n\\nThen the art of synastry is to paint a picture of this energy field that is erected between the two birth charts. Please don\\'t attempt to do this without some intermediate astrological knowledge. Especially regarding your own relationships! 99% of the time, you will not be objective regarding your own relationship synastry unless you are experienced in astrology. Take time and learn as much as you can before making judgment calls regarding relationships.\\n\\nRelated\\n\\nSynastry Interpretations\\n\\nLove & Relationship Articles\\n\\nCite This Page\\n\\nMLA style\\n\\nCorinne Lane. \"Synastry Art and Science- Synastry Aspects, Element Compatibility, House Overlays\" Astrolibrary. Astrolibrary, LLC, 24 Aug. 2009. Web. 1 May. 2025. <https://astrolibrary.org/synastry/>\\n\\nAPA style\\n\\nCorinne Lane. (24 Aug. 2009). Synastry Art and Science- Synastry Aspects, Element Compatibility, House Overlays. In Free Astrology Lessons (14). Retrieved from https://astrolibrary.org/synastry/\\n\\nTop ↑\\n\\nFree Astrology Lessons\\n\\nPOPULAR ON OUR SITE\\n\\nFree Astrology Reports\\n\\nAstrology Calculators\\n\\nBirth Chart Interpretations\\n\\nFree Astrology Lessons\\n\\nFree Ebooks\\n\\nCopyright 2009–2025 Astrolibrary, LLC. All rights reserved.\\n\\nKNOW THYSELF'),\n",
       " Document(metadata={'source': 'data/What is a Rising Sign_Ascendant – Astrology Lesson 6.html'}, page_content='Astrolibrary logo\\n\\nAstroLibrary 🔎\\n\\nDaily Personalized Horoscope ↗\\n\\nWhat is a Rising Sign/Ascendant – Astrology Lesson 6\\n\\nRising Sign zodiac wheel banner\\n\\nWhat is a Rising Sign? The Rising sign is interchangeably called the Ascendant. It can be located on a natal chart as the sign on which the 1st House cusp falls. It is the sign that was at the eastern horizon point, from the viewpoint of your birth coordinates, at the moment of your birth. It rises on the path of the sun’s rise, and it changes degrees every few minutes. This is why an accurate birth time and place is so important for an accurate horoscope. A Rising sign can be different for twins born just a couple minutes apart. Further, this Ascendant point is the premises for the calculations of the rest of the house cusps. A few minutes of time difference shifts the entire chart.\\n\\nAstrology rising stars and sun, Classic Astrology Art\\n\\nThe Rising sign is like a direct connection between our Earth and the zodiac path. It is the zodiac sign that was “rising” over the Earth at the moment that we took our first breath, the point of intersection between the wheel of personal Houses and the celestial zodiac wheel. It represents our appearance in the world. The Rising sign is the image we project, the impression we make on others, the way we take action in the world, and the lasting effect we have on the environment. The Rising sign is often described as a public mask that we wear, since it tends to be how people see us, especially strangers who don’t know our deeper selves. But in fact, the Rising sign is not like a mask because wearing a mask denotes some level of falsity or hiding oneself. Your Rising Sign characteristics are not a \"fake cover-up\" as a mask would imply. Those characteristics are a real and true part of who your are, more like a face than a mask. Even though your face is shallow and external, you\\'re stuck with it and cannot take it off! It\\'s a real part of you, not fake. And people usually perceive it in ways that you yourself do not. That\\'s a Rising Sign for you – others see you as the embodiment of those characteristics, even though you might not see yourself like that.'),\n",
       " Document(metadata={'source': 'data/What is a Rising Sign_Ascendant – Astrology Lesson 6.html'}, page_content='Your Sun sign is your true self, but it’s like the frame of a car, which is not so visible underneath the doors, bumpers and shiny paint. The Rising sign is how people perceive us because it is the style that we use to go about meeting the needs of our Sun sign. For example, a Capricorn-Sun person is ambitious, reserved, and needs order. But coupled with a Sagittarius-Rising sign, the person will appear care-free and un-ambitious, while all the time working hard to reach its Capricornian goals.\\n\\nWe tend to behave more like our Rising sign when we are surrounded by strangers, or in new situations, like job interviews. But still, it tends to be our personal style at all times. Personal style does not represent our deepest needs, though (like the Moon). A study of the Rising sign is best used as a tool to understand why people behave the way they do. The Rising sign is also said to describe our physical characteristics – our looks. For example, Libra-Rising is beautiful, Pisces-Rising has a dreamy appearance and small feet, Taurus-Rising is stocky with a thick neck, and so forth. We find this to be somewhat accurate most of the time. You try it and see.\\n\\nThe Rising sign is extremely important in the natal chart. The planet that rules the Rising sign is considered to be the chart ruler (planetary rulerships will be discussed in a later lesson). In practical terms, this means that every planet and sign in your natal chart is filtered through the Rising sign, or filtered through its ruling planet. Here is the most literal reason why we see people of the same Sun sign who behave so differently. They must obviously have different Rising signs.\\n\\nIn addition, people with the same Rising sign can also have different personalities because of the following: since the Rising sign is not as as basically fundamental as our Sun sign, it is greatly subject to the modifying influence of aspects. In other words, you don\\'t have a clear description of your Rising sign until you\\'ve blended in the energies of any planets aspecting the Ascendant. Example: A person with Leo Rising, but with Saturn in conjunction with the Ascendant will not be as bubbly and expressive as a typical \"Leo Rising\" person.'),\n",
       " Document(metadata={'source': 'data/What is a Rising Sign_Ascendant – Astrology Lesson 6.html'}, page_content='Some astrologers believe that the Rising sign is the way the world forces you to behave. At some point in your youth, you were forced or taught to behave like your Rising sign. You can trace the Rising sign to one of your parents or primary care givers. Many times, the Rising sign of child will match the dominant sign of one of the parents.\\n\\nNow that you know what a rising sign is, see the Rising Sign Interpretations.\\n\\nFind out your rising sign with our Rising Sign Calculator\\n\\nCite This Page\\n\\nMLA style\\n\\nCorinne Lane. \"What is a Rising Sign/Ascendant – Astrology Lesson 6\" Astrolibrary. Astrolibrary, LLC, 20 Aug. 2009. Web. 30 Apr. 2025. <https://astrolibrary.org/rising/>\\n\\nAPA style\\n\\nCorinne Lane. (20 Aug. 2009). What is a Rising Sign/Ascendant – Astrology Lesson 6. In Free Astrology Lessons (6). Retrieved from https://astrolibrary.org/rising/\\n\\nTop ↑\\n\\nFree Astrology Lessons\\n\\nPOPULAR ON OUR SITE\\n\\nFree Astrology Reports\\n\\nAstrology Calculators\\n\\nBirth Chart Interpretations\\n\\nFree Astrology Lessons\\n\\nFree Ebooks\\n\\nCopyright 2009–2025 Astrolibrary, LLC. All rights reserved.\\n\\nKNOW THYSELF'),\n",
       " Document(metadata={'source': 'data/How to Read Your Own Birth Chart – Astrology Lesson 10.html'}, page_content='Astrolibrary logo\\n\\nAstroLibrary 🔎\\n\\nDaily Personalized Horoscope ↗\\n\\nHow to Read Your Own Birth Chart – Astrology Lesson 10\\n\\nastrologer observing, reading the sky through a telescope\\n\\n(This is a comprehensive lesson. If you prefer, see instead 4 Easy Birth Chart Reading Techniques For Beginners.)\\n\\n(Get your free birth chart and report here.)\\n\\nThe most important thing to remember while interpreting any birth chart is: synthesis. The entire chart must be taken as a whole. A natal chart abounds with bits and pieces of information about an individual. Each separate bit must be synthesized into one whole picture of the person.\\n\\nThis means that you cannot take one piece of the chart (for example, Mercury in Sagittarius) and decide that it defines the entire person. If you do that, you will, undoubtedly, be in error. Of course, you will be tempted to stop at one or another of the planetary meanings, and think that it is the defining factor of a person. This is a big mistake. For example, say that two individuals both have Mercury in Sagittarius (denoting something of a \"big mouth\"). You may be tempted to assume that both of the individuals are \"outspoken.\" But, say the first person has the Sun in Capricorn, while the second person has the Sun in Sagittarius. While they both have Mercury in Sagittarius, the first person (Sun in Capricorn) will have a much more reserved communication style than the second person (Sun in Sagittarius).\\n\\nThe point, again (and this point will be repeated often), is that the entire chart must be blended together. Yes, by all means, go ahead and see all the separate interpretations of each planet in its sign and house. But then you must weave it all together, and lace it with the Rising Sign, to get an accurate picture.'),\n",
       " Document(metadata={'source': 'data/How to Read Your Own Birth Chart – Astrology Lesson 10.html'}, page_content='It’s as if each of us is a mosaic, made up of tiny individual images. In the birth chart, each separate planet in a sign and house is like one tiny individual image, one tiny part of the whole mosaic. Now, two different completed mosaics, if you look close enough, may contain tiny pieces that are exactly the same, yet they are part of two completely different finished mosaics (this point is illustrated by the example of Mercury in Sagittarius above). Although the mosaics contain similar pieces, the final products look nothing alike. So what we’re saying here is the opposite of that age-old adage: \"Don\\'t judge a book by its cover.\" The opposite is \"Don’t judge a book by a single page inside.\" The work of the astrologer, then, is to take all the bits and pieces of insight in the birth chart and synthesize them into a whole. What emerges is an amazingly accurate portrait of an individual.\\n\\nInterpreting Planets in the Signs\\n\\nLook at the birth chart and take note of what sign and house each planet is in. (Check here if you need help remembering what the symbols/glyphs mean.) Here is a handy, printable worksheet that will help you keep track of your birth chart information. Also take note of the Ascendant\\'s sign (Rising Sign), and which house the Ascendant\\'s ruler occupies.\\n\\nNow you can look up the \"Chart Interpretations\" of each of your planets and Rising Sign. The Chart Interpretations on the linked page are only general meanings of what each item represents. As you get a feel for the basic energy of each planet, and of the qualities of each sign, you can add your own insight.'),\n",
       " Document(metadata={'source': 'data/How to Read Your Own Birth Chart – Astrology Lesson 10.html'}, page_content='The zodiac sign will show how the planet is manifested. Previously, we likened the signs to \"stained-glass windows\" through which the planet is expressed. See if this analogy helps: envision a sentence, with a \"verb\" and an \"adverb.\" The planet is the \"verb\" while the zodiac sign is the \"adverb.\" For example, the Moon (feel, nurture, respond) in the sign of Capricorn (reservedly, coldly) denotes someone who nurtures in a cold and reserved way, or has trouble expressing emotions. That\\'s not a happy placement for the Moon, but remember: there\\'s more to the story…the rest of the chart. (See what each planet means in Lesson 5: The Planets. See what each zodiac sign means in Lesson 8: Zodiac Signs)\\n\\nIncorporating the Astrological Houses\\n\\nThe other thing to remember is that the planet in the sign will focus on the House. This means that the activity denoted by the planet will take place in the arena of your life designated by the House in which that planet falls. (Remember, each House represents a sphere of life – i.e. work, home, friendships, etc.) The planet is the \"what,\" the sign is \"how\" that \"what\" is done, and the House is \"where\" it takes place. Here is a handy reminder to use when interpreting your natal chart:\\n\\nPlanets = What? Signs = How? Houses = Where?\\n\\nThe following table explains it further.\\n\\nPlanets = “What” = energies; what you like to do Signs = “How” = the way you do it Houses = “Where” = areas of your life\\n\\nAn example of why taking the House into consideration is so important:\\n\\nSay a person has Saturn in Capricorn in the 7th House, which could manifest as a reserved (Capricorn) attitude in love relationships (7th House). Then, say this same individual has Venus in Sagittarius in the 11th House. This person will be friendly and outgoing (Sagittarius) in social situations and groups (11th House), but unemotional and detached (although dependable) in love relationships (Saturn in Capricorn in the 7th). (Astrology is a powerful tool for understanding those seemingly contradicting tendencies that we all have. The birth chart tells it all. With time and patience, you will be able to read all such details from a birth chart)'),\n",
       " Document(metadata={'source': 'data/How to Read Your Own Birth Chart – Astrology Lesson 10.html'}, page_content=\"House Rulers (Signs on the Cusps)\\n\\nAnother influence on each House (in each department of life) is the ruling planet of the House. The ruling planet of each House in your natal chart is the planet that rules the sign on the cusp. For example, if you have Capricorn on the 7th House cusp, then Saturn is the Ruler of your 7th House, because Saturn rules Capricorn. The result is that Saturn will have an influence in the matters of your 7th House, regardless of which House Saturn is actually residing in. (Here is a table of the Sign Rulerships). The sign on each house cusp shows one's attitude towards the matters of that house, whereas planets in the house show actual circumstances. For example, Capricorn on the 7th House cusp denotes an attitude of reserve or caution towards forming partnerships. On the other hand, Saturn in the 7th house may denote actual problems transpiring in partnerships and in marriage. These are subtle differences that will perfect your interpretations when reading a birth chart.\\n\\nSo a House is influenced by any planets residing in that House, but also by the ruler of the House. Most of the time, the ruler will be in a different House. Many times, the goods of the House will be used for advantage in the House where the planetary ruler actually resides. For example, say you have Capricorn on the 7th House cusp, and Saturn (Capricorn's ruler) in the 2nd House. You may very well choose to marry (7th House) for money (ruler in 2nd House). This last statement brings us to our next point – a word of caution.\\n\\nA Word of Caution\\n\\nThe celestial configuration that took place at your moment of birth is a powerful indicator of your motivations, drives, preferences, and psychological makeup, but it does not seal your fate. It does show the potential you were born with, but what you do with that potential is up to you.\"),\n",
       " Document(metadata={'source': 'data/How to Read Your Own Birth Chart – Astrology Lesson 10.html'}, page_content='Some astrologers mistakenly interpret birth charts by declaring the outcomes of the drives, or the external circumstances. They declare things that must definitively take place. But the correct way to interpret a birth chart is to declare the drives, strengths, weaknesses, preferences, needs, tendencies, and so forth. Astrology reveals our inner psychological makeup. The outcomes are for the individual to manifest for him/herself. For example, above it was mentioned that if you have Capricorn ruling your 7th House, and Saturn in the 2nd House, then you might marry for money. But the proper way to read that example is to declare that you \"have a need for security in your relationships. You have a need for security, but it does not necessarily mean that you will marry for money. You may very well choose to marry a pauper for true love. But be assured that your need for material security in relationships (as shown in your birth chart) will continue as a nagging feeling you won\\'t easily be rid of.\"\\n\\nThe natal chart never lies. The problem is when the natal chart is read incorrectly. Remember, instead of giving predestined predictions, you will be more precise to explain the potential. People choose what to do with their potential. As Henley wrote,\\n\\nI am the master of my fate: I am the captain of my soul.\"\\n\\nThe natal chart is one\\'s map.\\n\\nHere is another example, taken from history. Ancient astrologers, before psychology was popular, interpreted charts in a more fatalistic manner. If you were a Pisces, they would say that you would end up living in poverty (the \"starving artist\" stereotype) because you were such a \"weakling\". Modern astrologers understand the deeper psychological drives and needs that are represented by the planets and signs. Nowadays, we understand that Pisces has a need to transcend the mundane, and while he is very artistic, he is not fated to live in poverty. Pisces simply does not prioritize money or materials. He could be poor, or he could be rich. Either way, the Pisces will prioritize the intangible over the tangible – which is how we interpret it today. The interpretation shifted from a predetermined fate (poverty), to a psychological drive (need for artistic/spiritual transcendence) that may result in any circumstantial fate.\\n\\nRemembering Aspects'),\n",
       " Document(metadata={'source': 'data/How to Read Your Own Birth Chart – Astrology Lesson 10.html'}, page_content=\"Remembering Aspects\\n\\nDon't forget the aspects. If you attempt to make an interpretation without considering the aspects, you will be in error. Interpretations for each planet in sign and house must be modified according to the nature of the aspects. Aspects can soften things and bring ease to otherwise troublesome planetary placements, or they can bring conflict to otherwise pleasant planetary placements. Aspects stimulate the planets.\\n\\nEvery planet has both easy and difficult (or positive and negative) manifestations. For example, the sun's energy can be expressed as a generous pouring forth of self and creativity, or prideful arrogance and an excessive desire to be special. Aspects from other planets tell whether the energies will be expressed easily and positively (if it receives trines & sextiles), or with struggle and conflict (if it receives squares or oppositions). Again, a birth chart interpretation without accounting for aspects is incorrect, or at least incomplete. (See Lesson 9: Aspects in Astrology)\\n\\nMost important aspects to look for:\\n\\nTake immediate notice of conjunctions to any of the four angles (this means conjunctions to the Ascendant, M.C., Descendant, I.C.). When a planet makes a conjunction to one of the angles, the influence of that planet may be the strongest influence in the chart. The person will identify very strongly with the traits of that planet. This is explained in detail in: The Meaning of a Planet in Conjunction To 1 of Your Angles.\\n\\nAlso take notice of conjunctions made by the outer planets (Uranus, Neptune, and Pluto) to the inner planets (Sun, Moon, Mercury, Venus, and Mars). These conjunctions will drastically alter the interpretation for the inner planet by adding its own qualities. A conjunction from Uranus adds rebelliousness and innovation; a conjunction from Neptune adds confusion or sadness and/or inspiration and magic, and a conjunction from Pluto adds power, but can be a bit creepy.\\n\\nFor example, a Leo-Sun person who has Pluto making a conjunction aspect with their Sun will be very Plutonian. This person would be one of the most silent and secretive Leos ever.\\n\\nBalance of Elements and Qualities\"),\n",
       " Document(metadata={'source': 'data/How to Read Your Own Birth Chart – Astrology Lesson 10.html'}, page_content='For example, a Leo-Sun person who has Pluto making a conjunction aspect with their Sun will be very Plutonian. This person would be one of the most silent and secretive Leos ever.\\n\\nBalance of Elements and Qualities\\n\\nAnother thing to note is the balance of elements and qualities in the chart. If you feel overwhelmed with all this new information, then you should simply try this step first. This is the easiest interpretation that can be derived from a natal chart, even for inexperienced people. This is how it\\'s done:\\n\\nNote the element of the sign of each planet, and that of the ascendant, and of the midheaven. This printable worksheet will help you. Then simply count how many are fire, air, Earth, and water. Count the Sun\\'s and the Moon\\'s element for 2 each, because they are such a strong influence. It\\'s common to have a combination of elements, say 3 or 4 of each. However, should you find an imbalance, such as 5 or more of an element, or 0 to 1 of an element, this will say something about the overall temperament of the individual. Five or more of one element will make that the \"Predominant Element\" in the individual. It is interesting to note that the Predominant Element may be different from that of the Sun sign. In this case, the person will behave even less like their Sun sign – yet another reason why we cannot define a person simply by their Sun sign. If a chart is completely lacking in an element, or if there is only 1 planet in an element, that will be considered the \"Weakest Element.\" The \"General Interpretations\" on the following page will include interpretations for Predominant and Weakest Elements.\\n\\nThe same method is used to tally up the balance of qualities (Cardinal, Fixed, Mutable) of each planet, ascendant, and midheaven. This gives only subtle information, unless you find a great imbalance, such as a complete lack of one quality, or 6 or more of one quality. This printable worksheet will help you.\\n\\nIf you have your worksheet filled in with all the signs and houses of your planets, continue to Chart Interpretations to help you interpret your own birth chart.\\n\\nCite This Page\\n\\nMLA style'),\n",
       " Document(metadata={'source': 'data/How to Read Your Own Birth Chart – Astrology Lesson 10.html'}, page_content='If you have your worksheet filled in with all the signs and houses of your planets, continue to Chart Interpretations to help you interpret your own birth chart.\\n\\nCite This Page\\n\\nMLA style\\n\\nCorinne Lane. \"How to Read Your Own Birth Chart – Astrology Lesson 10\" Astrolibrary. Astrolibrary, LLC, 23 Aug. 2009. Web. 30 Apr. 2025. <https://astrolibrary.org/read/>\\n\\nAPA style\\n\\nCorinne Lane. (23 Aug. 2009). How to Read Your Own Birth Chart – Astrology Lesson 10. In Free Astrology Lessons (10). Retrieved from https://astrolibrary.org/read/\\n\\nTop ↑\\n\\nFree Astrology Lessons\\n\\nPOPULAR ON OUR SITE\\n\\nFree Astrology Reports\\n\\nAstrology Calculators\\n\\nBirth Chart Interpretations\\n\\nFree Astrology Lessons\\n\\nFree Ebooks\\n\\nCopyright 2009–2025 Astrolibrary, LLC. All rights reserved.\\n\\nKNOW THYSELF'),\n",
       " Document(metadata={'source': 'data/Relationship Astrology – Introduction _ AstroLibrary.html'}, page_content='Astrolibrary logo\\n\\nAstroLibrary 🔎\\n\\nDaily Personalized Horoscope ↗\\n\\nRelationship Astrology – Introduction\\n\\nWhy is astrology useful in the area of love and relationships? This introduction explains why relationship astrology is reliable for finding genuine happiness in love.\\n\\nFor starters, we each have different preferences and different needs. Mainstream relationship advice, whether it comes from psychologists, books, or other media, is extremely limited in its capacity to be effective simply because they all ignore that one precious fact: each human is unique, with different preferences and different needs.\\n\\nThere is not one universal definition of a good relationship or lover. Ladies, it’s a waste of time to try and fit the mold of the popular media’s definition of a great girlfriend because that definition may not attract the man that satisfies you. Men, it’s a waste of time to follow rigid dating tips that may not appeal to the woman of your dreams.\\n\\nSo how do know what attracts or appeals to the lover of your dreams? More importantly, what attracts or appeals to you? What type of man/woman is the lover of your dreams? What do you need in a lover, in a relationship, in a spouse? You may think you know the answer to these questions. However, popular media may be influencing you to seek qualities that are not your natural preferences.\\n\\nThat ultimately results in failed relationships.\\n\\nOn the other hand, relationship astrology reveals your legitimate preferences. It is surprisingly thorough at detailing all the little things that we love and hate in relationships. Astrology is an extremely effective tool for illuminating each individual’s preferences and needs, including your hidden subconscious desires. Astrology reveals your psychological makeup and your hidden drives.\\n\\nYou can test this out by reading the description of your own Venus sign: Venus in the Signs. (Note that the description of your Venus sign will be an incomplete picture of your love style because a complete description must include aspects and other astrological factors.)\\n\\nThe benefit of astrology is that it reveals your unique and true love styles, love needs, and love preferences.\\n\\nWhy is this important?\\n\\nWhen you awaken your deeply-embedded love style, you awaken the love energy that can attract a naturally compatible lover. Relationships between naturally compatible people invite happiness and genuine satisfaction into our lives.\\n\\nSagittarius Couple Holding Hands on Swing Set\\n\\nRelated\\n\\nSynastry Interpretations\\n\\nLove & Relationship Articles\\n\\nCite This Page\\n\\nMLA style'),\n",
       " Document(metadata={'source': 'data/Relationship Astrology – Introduction _ AstroLibrary.html'}, page_content='Sagittarius Couple Holding Hands on Swing Set\\n\\nRelated\\n\\nSynastry Interpretations\\n\\nLove & Relationship Articles\\n\\nCite This Page\\n\\nMLA style\\n\\nCorinne Lane. \"Relationship Astrology – Introduction\" Astrolibrary. Astrolibrary, LLC, 24 Aug. 2009. Web. 30 Apr. 2025. <https://astrolibrary.org/astrology-love/>\\n\\nAPA style\\n\\nCorinne Lane. (24 Aug. 2009). Relationship Astrology – Introduction. In Free Astrology Lessons (11). Retrieved from https://astrolibrary.org/astrology-love/\\n\\nTop ↑\\n\\nFree Astrology Lessons\\n\\nPOPULAR ON OUR SITE\\n\\nFree Astrology Reports\\n\\nAstrology Calculators\\n\\nBirth Chart Interpretations\\n\\nFree Astrology Lessons\\n\\nFree Ebooks\\n\\nCopyright 2009–2025 Astrolibrary, LLC. All rights reserved.\\n\\nKNOW THYSELF'),\n",
       " Document(metadata={'source': 'data/Zodiac Signs – Astrology Lesson 8 _ AstroLibrary.html'}, page_content='Astrolibrary logo\\n\\nAstroLibrary 🔎\\n\\nDaily Personalized Horoscope ↗\\n\\nZodiac Signs – Astrology Lesson 8\\n\\n(This page is a lesson about zodiac signs. You can instead go to zodiac sign descriptions. Or, for just the dates of the zodiac signs, see below.)\\n\\nWhat are the zodiac signs? The ancient Babylonians created the zodiac wheel by first splitting our sky into four sections designated by the yearly equinoxes and solstices (the turning points of the four yearly seasons).\\n\\nEach of these four sections of sky were split into 3 sections measuring 30 degrees each. This gives us a full 360-degree zodiac circle with 12 equal sections of 30 degrees each. Each 30-degree section is one zodiac sign, for a total of 12 zodiac signs (12, not 13). These 12 zodiac signs are not star constellations. The zodiac signs are 30-degree sections of space that were mathematically calculated in a way that was, and still is, intimately connected to our yearly seasons. (A Short History of Astrology)\\n\\nThe zodiac circle always assigns zero degrees of Aries (Aries, the zodiac sign, not the star constellation) to the Vernal Equinox (the Spring Equinox, or the first day of Spring in the northern hemisphere).\\n\\nThis zodiac wheel, also known as the tropical zodiac or western zodiac, is still accurate because we always align/begin it, as the ancients Greeks did, with the first day of Spring. This not a mistake. The zodiac wheel is intimately aligned with our Earth’s seasons. (This is an important fact to recognize. Some people today fail to recognize this fact, and so they erroneously claim that the zodiac wheel is misaligned. They do not understand that the Earth’s axial precession, or “precession of the equinoxes” does not impair the zodiac wheel.)\\n\\nThe ancient Babylonians used the constellations that appeared in the general area of each zodiac sign as placeholders. They designated 12 constellations to represent the 12 zodiac signs in the sky. The star constellations, with their varying degrees and sizes, are not the actual zodiac signs. These constellations were named after the zodiac signs they represent, not the other way around!\\n\\nZodiac signs wheel with sun in center. Ancient astrology art.'),\n",
       " Document(metadata={'source': 'data/Zodiac Signs – Astrology Lesson 8 _ AstroLibrary.html'}, page_content='Zodiac signs wheel with sun in center. Ancient astrology art.\\n\\nThere were no cute animals or mythical creatures associated with them yet. Different energies were observed to correlate with the position of the planets in different sections of the heavens. These 12 signs became 12 different archetypes, each with their own characteristics.\\n\\n(Notice how the 12 archetypes recur in history: 12 Gods of Olympus, 12 sons of Abraham, 12 tribes of Israel, 12 Apostles of Jesus Christ, 12 Successors to the Prophet Muhammad).\\n\\nThe 12 archetypes, or zodiac signs, already had their traits before the ancient Greeks attached the popular symbols to them. The Greeks had the uncanny brilliance of choosing symbols that parallel the sign traits very closely. So now, when we think of the sign of Aries, we think of a ram; when we think of Sagittarius, we think of an archer, and so on. This lesson will not delve into the mythological stories behind the choice of symbols for the signs. We will give a topical, general description of the archetype of each sign.\\n\\nTo clarify, the following descriptions of the zodiac signs refer to the archetype of the sign itself, regardless of which planet is in the sign. We will describe the zodiac sign as if it were a person, with characteristics. In other words, the following descriptions do not specifically or exclusively apply to people with the Sun in that sign. This is because the Sun sign is not the only defining characteristic of a person. While the Sun sign is important, it is by no means the complete story of our personal profile.\\n\\nlight shining through stained glass window\\n\\nOur Moon sign, Rising sign, Mercury sign, Venus sign, and all the rest are just as important in giving us a complete picture of ourselves. We all have the entire zodiac in our charts – all 12 zodiac signs. For this reason, it is important to learn the traits of all the signs. Planets in the signs will be expressed according to the traits of the sign they are in. Thus, the zodiac signs modify the planets. Each zodiac sign is like a stained-glass window through which the planets must pass to manifest in our lives. Each \"window\" is different. And different planets through the same \"window\" will also be different. (For example, the Sun in Aries is not the same as the Moon in Aries).\\n\\nClick on each zodiac sign constellation to learn about it.'),\n",
       " Document(metadata={'source': 'data/Zodiac Signs – Astrology Lesson 8 _ AstroLibrary.html'}, page_content='Click on each zodiac sign constellation to learn about it.\\n\\nAries Taurus Gemini Cancer\\n\\nLeo Virgo Libra Scorpio\\n\\nSagittarius Capricorn Aquarius Pisces\\n\\n* Sun Sign Dates\\n\\nNote: Being born on the cusp does not mean you have two sun signs.\\n\\nHere are the approximate dates for Zodiac Sun Signs:\\n\\nAries:\\n\\nMarch 20 – April 22 approximately\\n\\nTaurus:\\n\\nApril 19 – May 22 approximately\\n\\nGemini:\\n\\nMay 20 – June 22 approximately\\n\\nCancer:\\n\\nJune 20 – July 22 approximately\\n\\nLeo:\\n\\nJuly 21 – August 22 approximately\\n\\nVirgo:\\n\\nAugust 21 – September 22 approximately\\n\\nLibra:\\n\\nSeptember 21 – October 22 approximately\\n\\nScorpio:\\n\\nOctober 21 – November 22 approximately\\n\\nSagittarius:\\n\\nNovember 21 – December 22 approximately\\n\\nCapricorn:\\n\\nDecember 20 – January 22 approximately\\n\\nAquarius:\\n\\nJanuary 19 – February 20 approximately\\n\\nPisces:\\n\\nFebruary 17 – March 21 approximately\\n\\nCite This Page\\n\\nMLA style\\n\\nCorinne Lane. \"Zodiac Signs – Astrology Lesson 8\" Astrolibrary. Astrolibrary, LLC, 22 Aug. 2009. Web. 30 Apr. 2025. <https://astrolibrary.org/zodiac/>\\n\\nAPA style\\n\\nCorinne Lane. (22 Aug. 2009). Zodiac Signs – Astrology Lesson 8. In Free Astrology Lessons (8). Retrieved from https://astrolibrary.org/zodiac/\\n\\nTop ↑\\n\\nFree Astrology Lessons\\n\\nPOPULAR ON OUR SITE\\n\\nFree Astrology Reports\\n\\nAstrology Calculators\\n\\nBirth Chart Interpretations\\n\\nFree Astrology Lessons\\n\\nFree Ebooks\\n\\nCopyright 2009–2025 Astrolibrary, LLC. All rights reserved.\\n\\nKNOW THYSELF'),\n",
       " Document(metadata={'source': 'data/Before Determining Compatibility – Individual Capacity to Relate.html'}, page_content=\"Astrolibrary logo\\n\\nAstroLibrary 🔎\\n\\nDaily Personalized Horoscope ↗\\n\\nBefore Determining Compatibility – Individual Capacity to Relate\\n\\n(This is a compatibility lesson. If you prefer, see zodiac compatibility instead, or the synastry interpretations.)\\n\\nBefore attempting to determine compatibility between 2 people, check each birth chart separately to determine what each individual’s capacity to relate is? How well matched are their needs for intimacy? How well do the individual life goals, styles, and rhythms blend? If their life goals don’t match up well, all the compatibility in the world will not help such star-crossed lovers.\\n\\nAnswer the 4 following questions:\\n\\nHow comfortable is each with their biologic role and how well do these roles match up? How well does each relate to their own and the opposite sex? Those at ease with the opposite sex will be frustrated when trying to form a relationship with someone who is not. Do not assume that others function the same as you do, as that will plant the seeds of friction and annoyance when you find that they do not. Look at the aspects of the Sun, Moon, Venus and Mars in the birth chart. Then check your aspects in the following 3 tables to see what those aspects signify.\\n\\nDo you Play Well with Males?\\n\\nLook at Sun's Aspects\\n\\nif Sun has several good aspects; no squares or oppositions of Sun\\n\\nGenerally at ease & comfortable with males, and comfortable playing society's expected role towards males\\n\\nif Sun is unaspected, or only lightly aspected\\n\\nMales will not play a significant role in one's life\\n\\nif Sun has hard aspects (squares or oppositions)\\n\\nRelating to males (whether father, friend, or lover) is stressful & anxious; has difficulty accepting society's demands in relating to males\\n\\ncompatibility with males, father, son, grandfather\\n\\nrelationship compatibility with females\\n\\nDo you Play Well with Females?\\n\\nLook at Moon's Aspects\\n\\nif Moon makes harmonious aspects – conjunctions, trines and sextiles\\n\\nRelates easily and happily to females\\n\\nif Moon makes no, or minimal, aspects\\n\\nInteraction with females is generally unimportant, routine, or obligatory\\n\\nif Moon makes hard aspects\\n\\nFinds female qualities irritating or demanding (either in themselves or others)\\n\\nCan you be Happy in Love and Sex?\\n\\nif Venus has good aspects; no squares or oppositions\"),\n",
       " Document(metadata={'source': 'data/Before Determining Compatibility – Individual Capacity to Relate.html'}, page_content='if Moon makes hard aspects\\n\\nFinds female qualities irritating or demanding (either in themselves or others)\\n\\nCan you be Happy in Love and Sex?\\n\\nif Venus has good aspects; no squares or oppositions\\n\\nHappy capacity to give of self, find beauty & value in others, and act to communicate those feelings\\n\\nif Venus has hard aspects\\n\\nLimited ability to express love; limited ability to develop trust & admiration for another person enough for a love commitment\\n\\nif Mars is well-aspected\\n\\nCommunicates sexual needs openly & gracefully\\n\\nif Mars is badly-aspected\\n\\nstressful or discordant sexual style\\n\\nHow well do the life goals, limitations, and unconscious needs of each match up? Where do they find satisfaction, fulfillment, limitations, frustrations, and illusions? If these are not well matched, no amount of love, sexual attraction, worldly success or effort will prevail against a simple mismatch of what each person defines as a good and satisfactory life. Look at the Houses in the birth chart containing the Moon, Venus, Saturn, and Neptune…\\n\\nWhat is \"The Good Life\" to you?\\n\\nLook at Houses of Moon & Venus\\n\\nThe Houses containing the Moon and Venus show what areas of life provide you with a sense of emotional fulfillment and joy of living (especially the Moon\\'s house). If these houses clash with those of your partner, conflict down the line will be inevitable regardless of how compatible your personalities are. A person\\'s life goals are almost always (I dare say, always) related to one of these houses. These houses signify those things you want to do when you retire, or when you win the lottery. Would you prefer to go sky-diving or snuggle up with a book? Travel the world, or be a cookie-baking grandparent?'),\n",
       " Document(metadata={'source': 'data/Before Determining Compatibility – Individual Capacity to Relate.html'}, page_content=\"Some brief examples: A person with Moon in the 5th house may get a sense of well-being from the pursuit of pleasure and thrill-seeking adventures. Moon or Venus in the 4th house prefers to sit at home. Moon or Venus in the 7th house needs to be in a one-to-one relationship, but in the 11th house large community groups are preferred. Moon or Venus in the 12th is comfortable in solitude and may forego partnerships altogether. 10th or 6th house: needs to be productive instead of relaxing and thrill seeking; likely a workaholic. But in the 10th house, public worldly success is a must, while in the 6th enjoyment comes simply from a job well-done, working behind the scenes.\\n\\nExamine the Houses containing the Moon and Venus in both charts to see if the individuals can possibly enjoy life together.\\n\\nSee descriptions of all 12 Houses See interpretations for Moon in the Houses See interpretations for Venus in the Houses\\n\\nWhere are you Frustrated or Limited?\\n\\nLook at House of Saturn\\n\\nThe House containing Saturn is the most frustrating area of life for the individual. There exists ambivalence regarding this house: you want the stuff of this house, yet at the same time, you don't want it. There seems to be built-in limitations in this area of life. What is frustrating for the individual will eventually carry over into any relationship. Couples beware of your partner's house of Saturn! Limitations can be overcome, but not without struggle, as this house is sure to teach. Can you accept your partner’s Saturn? More about Saturn in the Houses.\\n\\nWhere are you Disappointed? Fall for Illusions?\\n\\nLook at House of Neptune\"),\n",
       " Document(metadata={'source': 'data/Before Determining Compatibility – Individual Capacity to Relate.html'}, page_content='Where are you Disappointed? Fall for Illusions?\\n\\nLook at House of Neptune\\n\\nThe House containing Neptune is the area of life that is always just out of reach. This is the sphere of life that will seemingly forever elude us in finding completeness. Yet, in this house, we endlessly chase illusions and fulfillments. We have big dreams for this house, but only limited success. Couples beware of your expectations regarding your partner\\'s Neptune house! No doubt, this is the most inspired and inspiring house in the birth chart, the only one where fantasy can become real, but here…what you see is not always what you get. Dreams can come true in your Neptune house (Oprah has Neptune in her House of Career), but more often than not, Neptune leaves us swimming in a deep pool of delusion and fantasy. Can you swim in your partner’s Neptune house? Better yet, have you got room in your boat? More about Neptune in the Houses.\\n\\nWhat’s your Love Language?\\n\\nWhat type of relating energy exists in each chart? Sexual energy? Emotional energy? Companionability? Permanence? These can be seen as relating \"languages.\" Understanding the partner\\'s love language can help avoid feelings of rejection. For example, if one partner naturally pours much emotionally and/or physically into the relationship, but the other is, by nature, much less emotionally or sexually energetic, this can be misinterpreted as disinterest or lack of commitment to the relationship. We really only understand love in our own \"love language.\" If your partner speaks fire and you speak water, you will both feel like you don\\'t love each other. Loving someone in that scenario will require a lot of work. And unfortunately, you will not easily appreciate the effort because it will usually be in a language foreign to your heart.\\n\\nA different way of understanding these energy levels is to see them like radio frequencies. Fire, air, water, and earth are different radio frequencies, or radio stations. If you are a water person, then you are tuned into the water station. You will not pick up love vibes coming from the fire or air station. They may be breaking their head trying to prove love to you, but you will not be receiving it because you are tuned in to the water station.\\n\\nGenerally speaking, water and earth signs are compatible with each other. Air and fire signs are compatible with each other.'),\n",
       " Document(metadata={'source': 'data/Before Determining Compatibility – Individual Capacity to Relate.html'}, page_content='Generally speaking, water and earth signs are compatible with each other. Air and fire signs are compatible with each other.\\n\\nKnowing a person\\'s love language ahead of time can help one avoid a bad choice of partner, or avoid resentment about the partner\\'s way of relating.\\n\\nLook at the element of your Venus sign. Your Venus element is your love language; read below to see how each element understands “love”.\\n\\n(If you want to be super-specific…Look at the elements of the signs of the following: Moon, Venus, Mars, and Cusps of 5th house, 7th house, & 8th house. These planets and house cusps have to do specifically with how we relate to others. Calculate the strongest element within these planets and house cusps. Give the element of Venus\\'s sign an extra point. If you get a tie between two elements, go with the element of your Venus sign.)\\n\\nWhat\\'s your Love Language?\\n\\nLook at your Venus Element\\n\\nWater signs bring the most emotional energy (read: intimate, soul-level bonding) to partnerships. Water needs an emotional, soul-merging to feel love. Water Venus loves deeply and shows it by caring about your well-being and your feelings. Touching and talking alone will not satisfy this Venus; they need to \"feel\" love from you in order to be satisfied in love.\\n\\nFire signs bring the most physical energy (read: sexual energy). Fire Venus needs to be active together to feel love; fun outings, adventurous vacations, etc. And tons of sex. Fire Venus people can seem self-centered because when in love, they feel it coming from inside them, rather than being based on the other person. The other person may be in front of them saying, \"hello, look at me,\" but Fire Venus ignores because they are too busy being consumed with love. They love passionately.\\n\\nEarth signs bring stability and durability (read: a keeper) to partnerships, but have a more limited emotional range. Earthy Venus people need your physical presence near them, but don\\'t get mushy because they won\\'t have it. Emotional expressions should be limited to what you want for dinner, or which movie you want to see. They handle physical and material needs, not emotional ones. Earthy Venus is faithful. In bed, you will appreciate their mastery of the physical. They are sensual.'),\n",
       " Document(metadata={'source': 'data/Before Determining Compatibility – Individual Capacity to Relate.html'}, page_content='Air signs bring great companionability and intellectual stimulus to partnership but perhaps the least of all emotional energy and physical responsiveness (read: excellent communication, interesting conversations, but of a detached acquaintance-type). Air Venus needs companionship, someone to talk to, someone to hang out with, someone to watch movies with. (But most of all, someone to talk to.) These are friendly people, and even in love, the relationship may seem more like a friendship. This may sound nice, but if you need deep emotional bonding, you will not find it here. If you need a lot of physical presence (as in Earth Venus) forget about Air Venus. Like the wind, they come and go as they please.\\n\\nCompare the 4 love languages more by reading these articles:\\n\\nFire Sign Love Language\\n\\nWater Sign Love Language\\n\\nAir Sign Love Language\\n\\nEarth Sign Love Language\\n\\nWhere are the individuals in their great life cycles and how well do their life agendas fit together? What is the current focus of life? Trying to settle down with a partner who does not have a relationship on their agenda at the time ends up in the notorious situation of a lingering love affair that never progresses to the next step.\\n\\nSaturn is the \"time-clock\" or \"taskmaster\" of our lives. We tend to reassess, rewrite, and focus on the portion of our lives indicated by the house that Saturn is transiting at any given time. Knowing this ahead of time helps to distinguish between genuine and durable compatibility and just a temporary coincidence of meshing desires. A person is highly unlikely to begin or endure in a real relationship if Saturn is not transiting through a \"relationship house.\" (Uranus, Neptune, and Pluto transits can direct our focus, as well, but Saturn is more solidly felt).\\n\\nLook to the house that Saturn, the great time-clock of our lives, is transiting. We are most open to partnerships when Saturn (or Uranus, Neptune, and Pluto) transits through the following Houses:\\n\\nIs it Your Time for a Relationship?\\n\\nOnly if Saturn is Transiting 1 of the following houses in your birthchart\\n\\n4th: Home & Family\\n\\n5th: Pleasure, Romance, Children\\n\\n7th: Marriage\\n\\n8th: Partner\\'s Finances, Psychological issues, Sex\\n\\n10th: Partnering for the purpose of establishing identity or public recognition\\n\\nIn Summary'),\n",
       " Document(metadata={'source': 'data/Before Determining Compatibility – Individual Capacity to Relate.html'}, page_content='5th: Pleasure, Romance, Children\\n\\n7th: Marriage\\n\\n8th: Partner\\'s Finances, Psychological issues, Sex\\n\\n10th: Partnering for the purpose of establishing identity or public recognition\\n\\nIn Summary\\n\\nThe 4 questions above describe the broad boundaries of each individual\\'s capacity to relate. These boundaries create the stage on which any relationship must take place, and limits which cannot be crossed. Then, the smaller frame of personal compatibility must be determined only as it fits within these broad boundaries since these ultimately define the outer ranges of any relationship. Compatibility is discussed on the next page.\\n\\nRelated\\n\\nSynastry Interpretations\\n\\nLove & Relationship Articles\\n\\nCite This Page\\n\\nMLA style\\n\\nCorinne Lane. \"Before Determining Compatibility – Individual Capacity to Relate\" Astrolibrary. Astrolibrary, LLC, 24 Aug. 2009. Web. 1 May. 2025. <https://astrolibrary.org/before-compatibility/>\\n\\nAPA style\\n\\nCorinne Lane. (24 Aug. 2009). Before Determining Compatibility – Individual Capacity to Relate. In Free Astrology Lessons (12). Retrieved from https://astrolibrary.org/before-compatibility/\\n\\nTop ↑\\n\\nFree Astrology Lessons\\n\\nPOPULAR ON OUR SITE\\n\\nFree Astrology Reports\\n\\nAstrology Calculators\\n\\nBirth Chart Interpretations\\n\\nFree Astrology Lessons\\n\\nFree Ebooks\\n\\nCopyright 2009–2025 Astrolibrary, LLC. All rights reserved.\\n\\nKNOW THYSELF'),\n",
       " Document(metadata={'source': 'data/Elements and Energy – Deeper into the 3 parts of Synastry.html'}, page_content='Astrolibrary logo\\n\\nAstroLibrary 🔎\\n\\nDaily Personalized Horoscope ↗\\n\\nElements and Energy – Deeper into the 3 parts of Synastry\\n\\nYin-yang, compatible energy and elements in Relationships\\n\\n(This is a synastry lesson. If you prefer, see Synastry Interpretations instead.)\\n\\nFire and air are compatible with each other, and they are the yang elements. Earth and water are compatible with each other, and they are the yin elements.\\n\\nIn general, we can see eye to eye with people of our compatible elements. It’s best to start with compatible Sun-sign elements (both yin or both yang). This is really the ideal. Some astrologers say there are so-called compensations for incompatible Sun elements that can make for a bearable relationship. But we tend to disagree. Yang (fire & air) and Yin (earth & water) just don’t see eye to eye. This isn’t necessarily bad, but you will spend a great deal of time explaining yourself to each other. If you are dominant yang energy, you will notice that you need to put in extra effort to understand a yin person, and vice versa. Communication will not be smooth in such a relationship.\\n\\nBeing in a long-term relationship with the wrong energy can actually be detrimental to your health. It’s doable, but not always healthy.\\n\\nThe ideal is compatible Sun elements. If the Suns are compatible, everything else can be worked on. And this is not a asking too much — about half of the population is compatible with your Sun element. You can check which Sun signs are compatible with your own on the Zodiac Signs Compatibility page.\\n\\nIn addition, compatible Moon elements, Rising sign elements, and Venus sign elements are desirable. The more the better. Compatibility is all about this elemental energy flowing smoothly. Incompatible elements are like gears of a transmission grinding against each other instead of flowing smoothly. You can actually test this and get a feel for incompatible energies: take a 4-hour car drive with a person who has an incompatible Moon element.\\n\\nThe four elements express and understand love differently. Compare the love styles of the 4 elements be reading these articles:\\n\\nFire Sign Love Language Water Sign Love Language Air Sign Love Language Earth Sign Love Language\\n\\nRelated\\n\\nSynastry Interpretations\\n\\nLove & Relationship Articles\\n\\nCite This Page\\n\\nMLA style'),\n",
       " Document(metadata={'source': 'data/Elements and Energy – Deeper into the 3 parts of Synastry.html'}, page_content='Fire Sign Love Language Water Sign Love Language Air Sign Love Language Earth Sign Love Language\\n\\nRelated\\n\\nSynastry Interpretations\\n\\nLove & Relationship Articles\\n\\nCite This Page\\n\\nMLA style\\n\\nCorinne Lane. \"Elements and Energy – Deeper into the 3 parts of Synastry\" Astrolibrary. Astrolibrary, LLC, 24 Aug. 2009. Web. 1 May. 2025. <https://astrolibrary.org/synastry-1/>\\n\\nAPA style\\n\\nCorinne Lane. (24 Aug. 2009). Elements and Energy – Deeper into the 3 parts of Synastry. In Free Astrology Lessons (15). Retrieved from https://astrolibrary.org/synastry-1/\\n\\nTop ↑\\n\\nFree Astrology Lessons\\n\\nPOPULAR ON OUR SITE\\n\\nFree Astrology Reports\\n\\nAstrology Calculators\\n\\nBirth Chart Interpretations\\n\\nFree Astrology Lessons\\n\\nFree Ebooks\\n\\nCopyright 2009–2025 Astrolibrary, LLC. All rights reserved.\\n\\nKNOW THYSELF'),\n",
       " Document(metadata={'source': 'data/Planets in Astrology – Lesson 5 _ AstroLibrary.html'}, page_content='Astrolibrary logo\\n\\nAstroLibrary 🔎\\n\\nDaily Personalized Horoscope ↗\\n\\nPlanets in Astrology – Lesson 5\\n\\nClick on one of these astrology planets to skip down to its description:\\n\\nastrology planet sun glyph symbol\\n\\nSun\\n\\nastrology planet moon glyph symbol\\n\\nMoon\\n\\nastrology planet mercury glyph symbol\\n\\nMercury\\n\\nastrology planet venus glyph symbol\\n\\nVenus\\n\\nplanet mars astrology glyph symbol\\n\\nMars\\n\\njupiter astrology planet glyph symbol\\n\\nJupiter\\n\\nsaturn astrology planet glyph symbol\\n\\nSaturn\\n\\nuranus astrology planet glyph symbol\\n\\nUranus\\n\\nneptune astrology planet glyph symbol\\n\\nNeptune\\n\\npluto astrology planet glyph symbol\\n\\nPluto\\n\\nAstrology is about observing the planets. This is not to say that the planets (or the signs) cause anything to happen. What we observe is synchrony – that things are taking place in sync. One movement is flowing throughout our space, heavens, and Earth. Instead of causing, the planets indicate things, describing what is already taking place. But for the sake of convenience, astrologers use phrases like, “your Venus makes you like this,” or “his Mars made him act like that.” Please note that this is only for convenience in communicating. Astrologers know that the planets don’t force us to do anything, any more than your 5:00pm clock forces you to stop working. But you do stop working when the clock strikes 5:00pm, don’t you? And so you pay careful attention to that clock, because that clock will show you when it’s time to go home from work. But the clock never forced you to leave work, neither did it ever seal your fate. In the end, you decide when to leave work. That is the beauty of synchronicity.'),\n",
       " Document(metadata={'source': 'data/Planets in Astrology – Lesson 5 _ AstroLibrary.html'}, page_content='As has been mentioned, the Sun and the Moon are included when we say “the planets.” Astrologers do this for convenience. The ten planets of astrology are: Sun, Moon, Mercury, Venus, Mars, Jupiter, Saturn, Uranus, Neptune, and Pluto[1]. (From our geocentric position, Earth is not included in the list; however Earth\\'s interplay in the scheme of things is denoted by the Ascendant.) However, before the 18th century only the first seven planets were recognized (they were perceivable to the naked eye): Sun, Moon, Mercury, Venus, Mars, Jupiter, and Saturn. Since over 2,000 years ago, the seven classical planets were observed to keep time, orbiting steadily on their paths. Perhaps that is why the number seven was symbolic of deity in ancient cultures. The seven were named after Greek gods because their influence was considered to be as such. Seven was the number of days chosen for a week, with each day borrowing its name from one of the classical planets. (The days making up our calendar month were determined based on one complete cycle through the 12 zodiac signs by the moon, from which the word \"month\" comes from.)\\n\\nThe discoveries of Uranus, Neptune, and Pluto corresponded to revolutionary changes in our world, from the Industrial Revolution and discovery of electricity (Uranus), to the financial collapse and interest in world domination of the 1930’s (Pluto). Pluto’s demotion of status to a “dwarf planet” does not change the fact that it is a celestial body participating in the continuous flow of energy in our world. Thus, Pluto is included here as a planet. (Astrology also observes several other asteroids/planetoids, regardless of planetary status. The body is there, thus, it counts.)\\n\\nEach planet symbolizes a different component of life, a different type of energy. In psychological terms, we can call them “needs” or “drives.” Click on the astrology planets above to learn what each one brings to astrology.\\n\\nNotes\\n\\n1. See Why Pluto is still valid even though it’s not a planet anymore\\n\\nplanets solar system view from moon\\n\\nsun planet golden red orange fire\\n\\nThe Sun\\n\\n“I am”\\n\\nBest quality: Rulership Worst quality: Dictativeness'),\n",
       " Document(metadata={'source': 'data/Planets in Astrology – Lesson 5 _ AstroLibrary.html'}, page_content=\"planets solar system view from moon\\n\\nsun planet golden red orange fire\\n\\nThe Sun\\n\\n“I am”\\n\\nBest quality: Rulership Worst quality: Dictativeness\\n\\nThe sun represents your ego, the inner you, your essence, the unchanging part of you – the calm, steady, deep and lasting force felt within you, enabling you to exert willpower, make decisions and direct all the other parts of you life. The Sun represents your will, and its sign determines the dynamic expression of the will, which is carried out through the activity of the other planets in the horoscope. Remember, the sun sign is just the start of your portrait. Think of your horoscope as a painting of you. The characteristics of your Sun sign are the first broad strokes that the artist first lays down on the canvas. The artist outlines your general shape, the planes and angles of your face, the way in which you hold your body. In the same way, your sun sign delineates your fundamental character, your core. Are you introspective? Do you make friends easily? Are you pompous or plain, generous or greedy? How do you cope with responsibility? Are you high-strung or easygoing? The answers may be found in a study of your Sun's position by sign and house, and any aspects from it.\\n\\nInterpretations for the Sun in each zodiac sign are available here: Sun in the Signs\\n\\nInterpretations for the Sun in each House of the birth chart: Sun in Houses\\n\\nReturn to Top Return to Leo\\n\\nfull moon planet\\n\\nThe Moon\\n\\n“I feel”\\n\\nBest quality: Adaptability Worst quality: Inconstancy\"),\n",
       " Document(metadata={'source': 'data/Planets in Astrology – Lesson 5 _ AstroLibrary.html'}, page_content='Interpretations for the Sun in each House of the birth chart: Sun in Houses\\n\\nReturn to Top Return to Leo\\n\\nfull moon planet\\n\\nThe Moon\\n\\n“I feel”\\n\\nBest quality: Adaptability Worst quality: Inconstancy\\n\\nThe Moon is as important as the Sun in your natal chart. The Sun sign is a part of you that is apparent to others; it is what others see. The Moon sign is the part of you that you see. The Moon represents your emotional nature and instinctive reactions – emotional responses based on past experiences and unconscious habit patterns that you have developed. It comprises all the little surface peculiarities, moods, and changes that have to do with physical life which are disturbing, fleeting, and changing. It describes the way you behave in instances in which you haven’t had time to think things through, your immediate emotional responses. Have you ever done something that you immediately regretted and thought, “that’s not like me.” It may have been your Moon sign qualities at work. The sign that the Moon is in shows what makes you feel emotionally nurtured, secure, and satisfied. Because emotions run so deep, the Moon sign represents your greatest need. It also shows how you nurture others. Most of the time, your Moon sign will only be apparent to those who live with you, or people that are very close to you. In many ways, your Moon personality is the one you keep hidden. It is your inner core, which feels hate, jealousy, fear, and has fantasies that you often deny even to yourself. On the other hand, it is your Moon personality that spontaneously feels and expresses joy and pleasure. It is the part of you that enjoys the little sensualities of life. The Moon in your horoscope modifies your Sun sign; it brings new forces, different motivations, and spiritual elements to the character of your Sun sign. For example, a Gemini-Sun person with Moon in Taurus will be more dependable than a Gemini-Sun with Moon in Aquarius. Here is another reason why we cannot define a person simply by their Sun sign.'),\n",
       " Document(metadata={'source': 'data/Planets in Astrology – Lesson 5 _ AstroLibrary.html'}, page_content='The Moon is also a symbol of fertility and femininity; its sign colors one\\'s relationship with the mother, and with women in general. In a male\\'s chart, it indicates the type of woman he feels most comfortable with. Although the Venus sign indicates a male\\'s romantic/erotic preference in partners, the Moon sign indicates the type of woman he would choose as a lifelong mate (because the Moon \"needs\" are stronger than the Venus \"wants\").\\n\\nThe Moon is constantly waxing and waning, from new Moon to full Moon and back. The house position of the Moon in your natal chart shows the area of life where you tend to be the most emotional, and where you often experience changing conditions. The house of the Moon also gives clues to the type of activity that occurs on the domestic scene.\\n\\nInterpretations for the Moon in each zodiac sign are available here: Moon in the Signs\\n\\nInterpretations for the Moon in each House of the birth chart: Moon in Houses\\n\\nReturn to Top Return to Cancer\\n\\nmercury planet astrology\\n\\nMercury\\n\\n“I think”\\n\\nBest quality: Expression Worst quality: Restlessness\\n\\nMercury is the planet of intelligence and communication. It governs our rational and intellectual faculties, perception and reason, memory, speaking, and writing. Mercury reflects your capacity to collect, sort, and communicate the knowledge you gain through your experiences and your senses. It reflects the way you see, hear, understand, and assimilate information. Mercury is symbolic of that child-like curiosity that drives your urge to know, and the ability to analyze and reason. Mercury also has to do with transportation and short trips, and the nervous system. The positive manifestations of Mercury include clever speech, eloquence, persuasiveness, success with public speaking and a sharp, quick mind. The more negative manifestations include restlessness, a tendency to be critical, sarcastic, argumentative and sly. The quick wit of Mercury can quickly turn into trickery. Lies, deceit, fraud, swindling, and forgery are examples of Mercury’s negative power. The sign of Mercury in your natal chart shows your style and preferences of communicating and learning. A strong Mercury in one\\'s chart, free of any negative aspects, indicates a brilliant mind.\\n\\nInterpretations for Mercury in each zodiac sign are available here: Mercury in the Signs\\n\\nInterpretations for Mercury in each House of the birth chart: Mercury in Houses\\n\\nReturn to Top Return to Gemini Return to Virgo'),\n",
       " Document(metadata={'source': 'data/Planets in Astrology – Lesson 5 _ AstroLibrary.html'}, page_content='Interpretations for Mercury in each zodiac sign are available here: Mercury in the Signs\\n\\nInterpretations for Mercury in each House of the birth chart: Mercury in Houses\\n\\nReturn to Top Return to Gemini Return to Virgo\\n\\nvenus astrology planet real image\\n\\nVenus\\n\\n“I love”\\n\\nBest quality: Affection Worst quality: Pliancy (bending too easily, taking the easy way out)\\n\\nVenus is the planet of love, pleasure, and beauty. It represents your capacity to express affection and to enjoy beauty. This includes your capacity to attract and appreciate the things of the world, whether they are emotional, physical/material, mental, or spiritual things. It defines the type of people you draw to yourself, based on your social values. Things ruled by Venus include: what kind of sex appeal you posses, love affairs, the arts, beauty and beautiful things, adornment, affection, the social graces, harmony, and friendship. Being the planet of pleasure, it points to the kinds of amusements you are drawn to and in what ways you spend your money. The position of Venus in your natal chart can answer such questions as: What kind of lovers do you attract? Are you flirtatious? Do you find happiness in your love affairs, or are you often disappointed? Where do your creative talents lie? The sign of Venus gives important information about how you expresses yourself in personal relationships, especially in love and marriage. It also indicates your attitude toward money, personal possessions, creature comforts, and social and aesthetic values. Your Venus sign also reveals your idea of the \"perfect woman.\" In a male\\'s chart, the Venus sign indicates the type of woman that attracts him. In a woman\\'s chart, the Venus sign indicates the qualities that she uses to attract lovers. The house position of Venus indicates the type of people with whom you establish relationships, both friendships and romances, and where you are most likely to find an artistic outlet.\\n\\nVenus never travels far from the Sun. In your horoscope, it is always either in your Sun sign or in one of the two signs immediately preceding or following your Sun sign. A well-aspected Venus bestows charm, diplomacy, and tact. Some negative manifestations of Venus are self-indulgence, jealousy, envy, lust, and of course, unfaithfulness.\\n\\nInterpretations for Venus in each zodiac sign are available here: Venus in the Signs'),\n",
       " Document(metadata={'source': 'data/Planets in Astrology – Lesson 5 _ AstroLibrary.html'}, page_content=\"Interpretations for Venus in each zodiac sign are available here: Venus in the Signs\\n\\nInterpretations for Venus in each House of the birth chart: Venus in Houses\\n\\nReturn to Top Return to Taurus Return to Libra\\n\\nastrology planet mars real image\\n\\nMars\\n\\n“I act”\\n\\nBest quality: Initiative Worst quality: Harshness\\n\\nMars is the exact opposite of Venus. Whereas Venus represents the female, Mars is all male. Whereas Venus is about harmony, Mars is conflict, aggression, and outright war. Mars is the planet of physical energy. It governs your sex drive, your forcefulness and your aggression. It is associated with your desires and aspirations for emotional, physical, mental and spiritual things that stimulate activity. You have to want something before you reach out and take it; Mars is the heated passion behind action. Mars shows your ability to turn ideas into action. The sign of Mars in your natal chart indicates your vitality, energy level, and style of action. In a female's chart, the Mars sign is one factor suggesting the type of man she attracts. In its highest form, Mars represent your unleashed energy and your human will – initiative. A controlled Mars can give a healthy dose of assertiveness and ambition. At its worst, Mars energy makes one prone to anger, harshness and destructive violence, impulsive behavior, danger, combativeness and every kind of cruelty. It’s up to you to use this force constructively.\\n\\nInterpretations for Mars in each zodiac sign are available here: Mars in the Signs.\\n\\nInterpretations for Mars in each House of the birth chart: Mars in Houses\\n\\nReturn to Top Return to Aries\\n\\njupiter astrology planet\\n\\nJupiter\\n\\n“I grow”\\n\\nBest quality: Benevolence (kindness) Worst quality: Conceit\"),\n",
       " Document(metadata={'source': 'data/Planets in Astrology – Lesson 5 _ AstroLibrary.html'}, page_content='Return to Top Return to Aries\\n\\njupiter astrology planet\\n\\nJupiter\\n\\n“I grow”\\n\\nBest quality: Benevolence (kindness) Worst quality: Conceit\\n\\nJupiter is the planet of good luck, optimism, success and generosity. Jupiter brings joy to life. Think expansiveness and abundance, as Jupiter is the largest planet in our solar system. Jupiter signifies knowledge, higher leaning, breadth of vision, confidence, charity and good-will, frankness and honesty. Jupiter’s knowledge is on a philosophical level (as opposed to Mercury’s day-to-day cleverness). It is the broad view of the higher mind. Psychologically, Jupiter is the search for meaning or truth. As such, it represents law and justice, philosophy, religion, metaphysics, and education. Jupiter encompasses the urge for self-improvement through participation in the larger whole. It urges you to go forth exploring life. Jupiter\\'s sign indicates what you idealize, what your ethical, religious, and philosophical standards are. The sign also indicates where you express expansiveness, where you do things on a large scale. Jupiter in your chart shows where you are likely to receive financial and material benefits, and in turn, where you express generosity to others. The House of Jupiter is where we tend to be optimistic, and the affairs of that House usually flow easily. Jupiter’s qualities include benevolence (kindness), wisdom, morality, and spirituality. If negatively placed in the chart, Jupiter’s energy can be manifested as self-righteousness, excessiveness, squandering, exaggeration, over-indulgence, superficiality, and bigotry. However, even when negatively positioned, Jupiter is protective and beneficial. Over-indulgence and excess often lead to learning the lesson of restraint. Even with a negatively-aspected Jupiter, a person will tend to \"land on their feet\" when problems arise in the areas signified by Jupiter\\'s House.\\n\\nInterpretations for Jupiter in each zodiac sign are available here: Jupiter in the Signs\\n\\nInterpretations for Jupiter in each House of the birth chart: Jupiter in Houses\\n\\nReturn to Top Return to Sagittarius\\n\\nastrology planet saturn with ring\\n\\nSaturn\\n\\n“I achieve”\\n\\nBest quality: System and Organization Worst quality: Selfishness'),\n",
       " Document(metadata={'source': 'data/Planets in Astrology – Lesson 5 _ AstroLibrary.html'}, page_content='Return to Top Return to Sagittarius\\n\\nastrology planet saturn with ring\\n\\nSaturn\\n\\n“I achieve”\\n\\nBest quality: System and Organization Worst quality: Selfishness\\n\\nAstrologers of the past regarded Saturn as \"evil\" and malignant, indicating dire misfortune and misery wherever it was found in a chart. When Venus wishes for love, Saturn denies her. When Jupiter promises good fortune, Saturn delays it. When Mercury brings news, Saturn degrades it, and when Mars goes too hard or too fast, Saturn will crash him. But this is not necessarily bad. Saturn is associated with the principles of limitation, restrictions, boundaries, safety, practicality, reality, seriousness, and structures. Saturn is the laws, boundaries and limits set by society or karma. Modern astrologers acknowledge that the hardships brought on by Saturn\\'s limitations, compel one to continue striving for a final product, that although delayed, will be solid and of real worth.\\n\\nSaturn governs ambition, career, authority, hierarchy, and conforming social structures. It concerns a person\\'s sense of duty, discipline and responsibility, and their physical and emotional endurance during hardships. Saturn is morose and cold, melancholic, and serious. By placement in your chart, it indicates the area of life in which you may feel shame, for a time. This is the area where you have lessons to learn. But this is where your disciplined hard work will lead to genuinely earned, long-lasting success. At its best, Saturn endows organization and order. At its worst, Saturn’s energy is manifested as selfishness. The sign of Saturn also gives clues to the kind of work for which a person is suited and the kind of career he is likely to pursue.\\n\\nInterpretations for Saturn in each zodiac sign are available here: Saturn in the Signs\\n\\nInterpretations for Saturn in each House of the birth chart: Saturn in Houses\\n\\nReturn to Top Return to Capricorn\\n\\nastrology planet uranus on its side with ring\\n\\nUranus\\n\\n“I evolve”\\n\\nBest quality: Originality Worst quality: Rebellion'),\n",
       " Document(metadata={'source': 'data/Planets in Astrology – Lesson 5 _ AstroLibrary.html'}, page_content='Return to Top Return to Capricorn\\n\\nastrology planet uranus on its side with ring\\n\\nUranus\\n\\n“I evolve”\\n\\nBest quality: Originality Worst quality: Rebellion\\n\\nUranus represents the unconscious urge to become aware of your true inner individuality (the Sun). Like a lightning bolt, Uranus symbolizes sudden flashes of insight, moments of revelation, and spurts of creativity. Uranus’s energy is usually described as suddenness, revolution, change, shock, and disruption. Like lightning, Uranus breaks into time and fractures our patterns. New ideas break into ordinary streams of thought, bringing innovative solutions to stubborn problems. It is your intuition awakening you to a world beyond our social structure. Uranus forces sudden changes when the usefulness of the old is gone and something newer, something higher and better is ready to take its place. Uranus encompasses technology and all types of electronic devices. Uranus speeds up the mind, making it to bypass logic and arrive at conclusions by leaping from A to Z, shocking people. Uranus seeks alternatives to the common and accepted forms. True to itself, the planet Uranus stands out from the rest of the planets by orbiting around on its \"side.\" The rest of the planets orbit like a \"spinning top,\" but Uranus insists on rolling on its side like a ball. At best, Uranus encourages originality, versatility and independence. At worst, it encourages eccentricity, perversion and rebellion. Uranus demands freedom.\\n\\nInterpretations for Uranus in each zodiac sign are available here: Uranus in the Signs\\n\\nInterpretations for Uranus in each House of the birth chart: Uranus in Houses\\n\\nReturn to Top Return to Aquarius\\n\\nneptune astrology planet\\n\\nNeptune\\n\\n“I dream”\\n\\nBest quality: Idealism Worst quality: Vagueness'),\n",
       " Document(metadata={'source': 'data/Planets in Astrology – Lesson 5 _ AstroLibrary.html'}, page_content=\"Interpretations for Uranus in each House of the birth chart: Uranus in Houses\\n\\nReturn to Top Return to Aquarius\\n\\nneptune astrology planet\\n\\nNeptune\\n\\n“I dream”\\n\\nBest quality: Idealism Worst quality: Vagueness\\n\\nNeptune represents the unconscious urge to dissolve the boundaries of your ego-centeredness in order to ‘lose yourself’ in other realms of being. While Uranus breaks into our dimension to allow momentary flashes of insight into other realms of existence, Neptune is those other realms. Neptune dissolves life’s patterns in order to teach new meanings in the quest for universal wisdom. Neptune represents things that aren’t quite as they appear, the illusive, and the unreal. It is the planet of receptivity, imagination, cloudiness, confusion, delusion, illusion, and unreality. Neptune is also associated with movies, acting, and compassion. Neptune can indicate mystical visions of a divine creator, or an experience of the primordial chaos before creation (dangerously, the latter can drive one to madness). Neptune can indicate spiritual healing and service to others, or becoming lost in a foggy world of fantasy and dreams. More often than not, Neptune indicates confusion in the House where it resides in your birth chart. A negatively positioned Neptune in the natal chart can indicate a tendency to escape reality. The house and sign will indicate whether it be through mind-altering drugs and alcohol, day-dreaming, sexual addiction, cult worship, psychosis, potential suicide, or others. At its best, Neptune's energy inspires marvelous art, music, theatre, dance, poetry, and film. Above all, Neptune represents the intangible, and makes it very real.\\n\\nInterpretations for Neptune in each zodiac sign are available here: Neptune in the Signs\\n\\nInterpretations for Neptune in each House of the birth chart: Neptune in Houses\\n\\nReturn to Top Return to Pisces\\n\\nastrology planet pluto\\n\\nPluto\\n\\n“I empower”\\n\\nBest quality: Transformation Worst quality: Inversion (turning things upside down)\\n\\n(See Why Pluto is still valid even though it’s not a planet anymore)\"),\n",
       " Document(metadata={'source': 'data/Planets in Astrology – Lesson 5 _ AstroLibrary.html'}, page_content='astrology planet pluto\\n\\nPluto\\n\\n“I empower”\\n\\nBest quality: Transformation Worst quality: Inversion (turning things upside down)\\n\\n(See Why Pluto is still valid even though it’s not a planet anymore)\\n\\nPluto represents the unconscious urge to transform repressed ego-desire energies into group-desire energies in order to live out your role in society’s evolution. Pluto represents sexuality (the act itself, as opposed to the energetic desire which is associated with Mars), obsessive desires, transformation, power, and the ingredients of great wealth (investments, banking, loans, debt, mortgages). Pluto has dominion over drastic changes that bring true upheavals. Since Pluto is the slowest-moving planet, an entire generation will share the same Pluto sign, giving it historical importance. Drastic and permanent changes in civilization as a whole can be linked to Pluto\\'s movement through the signs. On a personal level, the House that Pluto occupies in your chart will show how Plutonian energy is manifested in your life. Pluto will transform those things in your life that require regeneration, whether you desire it or not. You may experience dramatic crises or have to endure terrible suffering where Pluto is involved in your chart, but for the purpose of healing. Pluto tears down only to transform and regenerate what has been destroyed. Pluto is associated with recklessness, mental obsession and compulsion, emotional resistance, and overall transcendence. It is also associated with unsolved mysteries, secrets, and taboos.\\n\\nInterpretations for Pluto in each zodiac sign are available here: Pluto in the Signs\\n\\nInterpretations for Pluto in each House of the birth chart: Pluto in Houses\\n\\nReturn to Top Return to Scorpio\\n\\nCite This Page\\n\\nMLA style\\n\\nCorinne Lane. \"Planets in Astrology – Lesson 5\" Astrolibrary. Astrolibrary, LLC, 19 Aug. 2009. Web. 30 Apr. 2025. <https://astrolibrary.org/planets/>\\n\\nAPA style\\n\\nCorinne Lane. (19 Aug. 2009). Planets in Astrology – Lesson 5. In Free Astrology Lessons (5). Retrieved from https://astrolibrary.org/planets/\\n\\nTop ↑\\n\\nFree Astrology Lessons\\n\\nPOPULAR ON OUR SITE\\n\\nFree Astrology Reports\\n\\nAstrology Calculators\\n\\nBirth Chart Interpretations\\n\\nFree Astrology Lessons\\n\\nFree Ebooks'),\n",
       " Document(metadata={'source': 'data/Planets in Astrology – Lesson 5 _ AstroLibrary.html'}, page_content='Top ↑\\n\\nFree Astrology Lessons\\n\\nPOPULAR ON OUR SITE\\n\\nFree Astrology Reports\\n\\nAstrology Calculators\\n\\nBirth Chart Interpretations\\n\\nFree Astrology Lessons\\n\\nFree Ebooks\\n\\nCopyright 2009–2025 Astrolibrary, LLC. All rights reserved.\\n\\nKNOW THYSELF'),\n",
       " Document(metadata={'source': 'data/Elements Qualities Polarities – Astrology Lesson 7.html'}, page_content='Astrolibrary logo\\n\\nAstroLibrary 🔎\\n\\nDaily Personalized Horoscope ↗\\n\\nElements Qualities Polarities – Astrology Lesson 7\\n\\nThe twelve zodiac signs are classified in three different ways: elements, qualities, and polarities. These three classifications essentially define the zodiac signs. Just by knowing the element, quality, and polarity, you would be able to describe the fundamental traits of each zodiac sign without actually learning the sign. This is a very important lesson, indeed.\\n\\nThe author considers this the single most important lesson of the zodiac. The elements, qualities, and polarities are the fundamental, underlying nature of each zodiac sign. Learn these!\\n\\nElements | Qualities | Polarities\\n\\nZodiac Elements\\n\\nThe element of a zodiac sign reveals the basic temperament of the sign. The element of your Sun, Moon, or Rising sign are of significant importance, but the overall distribution of elements in your chart is what counts the most. Having more than 4 planets in an element will have an impact on your behavior, even if that element does not correspond to your Sun sign. An abundance (5 or more), or a lack (0-2), of an element has much impact on your temperament. See Balance of Elements.\\n\\nThere are four zodiac elements, with three zodiac signs belonging to each element group. The elements are interchangeably called \"triplicities;\" this is because there are three (triple) signs per element. The four elements are Fire, Earth, Air, and Water.\\n\\nFire Zodiac Element\\n\\nThe fire signs are Aries, Leo, and Sagittarius. Fire signs respond to energy very quickly. They favor action. They\\'re ready to go, take a risk, start a business, go on a trip, etc. They are confident, idealistic, intense, and approach life with zest and enthusiasm. Here is energy to conquer, lead, and travel physically and mentally. Aries must act, Leo must lead grandly, and Sagittarius explores unknown places and ideas.\\n\\nPositive keywords: extroverted, energetic, enthusiastic, inspirational, visionary, high-spirited, simple and direct, physically active, dramatic, courageous, warm.\\n\\nNegative keywords: overly active to the point of burnout, restless, impatient, selfish, insensitive, willful, hasty, lacking in perspective, thoughtless, impulsive, reckless, extravagant, wild.\\n\\nSee the love style of the fire signs.\\n\\nEarth Zodiac Element'),\n",
       " Document(metadata={'source': 'data/Elements Qualities Polarities – Astrology Lesson 7.html'}, page_content='See the love style of the fire signs.\\n\\nEarth Zodiac Element\\n\\nThe Earth signs are Taurus, Virgo, and Capricorn. Earth signs are more cautious in their approach. They are more practical, realistic, and they need solid footing before going forward. Taurus will dig the heels in and really ponder things. Virgo will analyze. Capricorn will climb, but will do it with care, first needing a vision, a plan, an organized structure before starting the ascent. Earth signs are dependable, thorough and solid.\\n\\nEarth signs seek to engage the physical world and master it through efficient organization. Earth signs seek economic security, respect, and prestige, and they work hard for it.\\n\\nPositive keywords: practical, efficient, organized, realistic, patient, self-disciplined, hard-working, productive, enduring, persistent, dependable, stable, good common sense.\\n\\nNegative keywords: slow, stodgy, lacking in vision, unimaginative, petty, excessively conventional, narrow-minded, stubborn, resistant to change, hoarding, ultra conservative.\\n\\nSee the love style of the earth signs.\\n\\nAir Zodiac Element\\n\\nThe Air signs are Gemini, Libra, and Aquarius. Air signs approach energy mentally; they are thinkers. They are social, always ready for a new relationship or friendship. They love learning, but bore easily. Gemini has great intellectual curiosity, but too many personalities. Libra is partnership driven, but not in an emotional way. Aquarius is popular with friends and is unstoppable when it has a cause to champion. Air signs are into ideas and people. They are communicative; they must share information, interact with others, and influence society.\\n\\nPositive keywords: articulate, objective, mentally clear, detached, capable of forethought, understanding, socially adept and adaptable, cooperative, relational.\\n\\nNegative keywords: unemotional, lacking in sympathy, impractical, disassociated from the body and the physical world, over-adaptive, abstracted, glib and facile, hyperactive.\\n\\nSee the love style of the air signs.\\n\\nWater Zodiac Element\\n\\nWater signs respond to energy almost unconsciously. They are deeply emotional. Cancer is motivated to nurture and be nurtured. Scorpio has intense vision, never swaying, looking straight ahead with laser-like focus. Pisces is the trickiest to describe. Pisces energy is chameleon-like, absorbing its surroundings.'),\n",
       " Document(metadata={'source': 'data/Elements Qualities Polarities – Astrology Lesson 7.html'}, page_content='Positive keywords: deeply emotional, sympathetic, empathetic, nurturing, calm and peaceful, sensitive, compassionate, imaginative, intuitive, psychically aware.\\n\\nNegative keywords: emotionally insecure and unstable, shy, timid, lacking in confidence, oversensitive, easily influenced and manipulated, withdrawn, uncommunicative, vindictive and vengeful, takes everything personally, moody and depressed.\\n\\nSee the love style of the water signs.\\n\\nZodiac Qualities\\n\\nThe qualities, also called \"modes,\" or “modalities,” indicate how people respond to stimuli, and especially how they act under tension. They indicate how the signs express their element, meaning the mode of behavior they use to express the element needs. There are three qualities: Cardinal, Fixed, and Mutable. They are also called \"quadruplicities\" because there are 4 signs per group. To learn how to calculate the balance of qualities in a birth chart, see Balance of Qualities.\\n\\nInterestingly, there’s one sign from each element in each group of qualities. So, in the Cardinal Signs group, there’s one fire sign, one earth sign, one air sign, and one water sign.\\n\\nCardinal Signs\\n\\nAries, Cancer, Libra, Capricorn\\n\\nCardinal Signs are the most assertive, the most interested in initiating change. Their mode of activity is to start new things. They easily begin things and respond well to new ideas. They are self-starters. Crisis motivates them. They achieve control by remaining one step ahead of everyone else. Aries seeks leadership and control in general, Cancer controls emotions, home, and family; Libra tries to control partnerships; Capricorn controls, uses, and exploits the material environment. For Cardinal signs, things are always happening. This is usually because they are doing the starting. The four Cardinal signs are at the first month of each season.\\n\\nFixed Signs\\n\\nTaurus, Leo, Scorpio, Aquarius'),\n",
       " Document(metadata={'source': 'data/Elements Qualities Polarities – Astrology Lesson 7.html'}, page_content=\"Fixed Signs\\n\\nTaurus, Leo, Scorpio, Aquarius\\n\\nFixed Signs are the most stable and self-contained. Their mode of activity is sort of passive, yet determined, unwavering, and even stubborn. Their strength is their consistency and loyalty. They follow things through to the end, managing and sustaining what has been started by the Cardinal signs. They may go to denial in times of change. They are very resistant to change, needing to take time to prep themselves. They tend to be late: Taurus is just slow; Scorpio uses tardiness as a subtle power struggle; Leo enjoys making an entrance; Aquarius wants things on their own terms. Late, but once there, they stay forever. The four Fixed signs are at the middle month of each season.\\n\\nMutable Signs\\n\\nGemini, Virgo, Sagittarius, Pisces\\n\\nMutable Signs are the most unstable and most open to influence by the environment. Their mode of activity is to make the transition from the old to the new, opening the way for the Cardinal Signs to begin a new cycle. They are infinitely flexible and tolerant. They find it naturally easy to let go. Whereas Cardinal signs begin new things, and Fixed signs sustain things, Mutable energy loosens structures and adapts it to new and changing conditions. With this territory comes mental worry. Mutable signs have many things going on in their heads rather than in tangible form. Many react by making lists. Some suffer from negative mental tension, involving fear, paranoia, and panic attacks. In anticipating negative outcomes, they really suffer during the worry process. But their high adaptability always sees them through. Gemini is changeable in its ideas; Virgo is dominated by its environment; Sagittarius has a continually changing view of life's possibilities; Pisces adapts itself superficially to its environment (like a chameleon) and reflects it like a mirror. Sometimes they compromise so much that they sacrifice their own interests. The four Mutable signs are at the final month of each season.\\n\\nBetween elements, qualities, and signs, there is only one combination of each, making each zodiac sign unique. For example, there is only 1 cardinal fire sign, only 1 cardinal earth sign, only 1 cardinal air sign, etc. You can understand the nature of each sign by examining these energetic combinations. See the table below (or open in Print/Download View).\\n\\nFire Earth Air Water Cardinal Aries Capricorn Libra Cancer Fixed Leo Taurus Aquarius Scorpio Mutable Sagittarius Virgo Gemini Pisces\\n\\nZodiac Polarities\"),\n",
       " Document(metadata={'source': 'data/Elements Qualities Polarities – Astrology Lesson 7.html'}, page_content='Fire Earth Air Water Cardinal Aries Capricorn Libra Cancer Fixed Leo Taurus Aquarius Scorpio Mutable Sagittarius Virgo Gemini Pisces\\n\\nZodiac Polarities\\n\\nThe two polarities are sometimes referred to as male/female, positive/negative, or yang/yin. Modern astrologers prefer to call the polarities active/receptive. This type of duality is the earliest form of classification. Six of the zodiac signs are yang energy, which is also known as “masculine” energy. The six yang signs are Aries, Leo, Sagittarius, Gemini, Libra, and Aquarius. These are the Fire and Air signs. These signs are more active and assertive rather than receptive.\\n\\nThe other six signs are yin energy, which is also known as “feminine” energy. The six yin signs are Taurus, Virgo, Capricorn, Cancer, Scorpio, and Pisces. These are the Earth and Water signs. These signs are more receptive and reactive rather than active.\\n\\nIn general, signs of the same polarity can understand each other\\'s personalities, whereas signs from opposing polarities have a difficult time seeing eye to eye. Air feeds Fire and empowers it; Earth needs Water for life. When talking about compatibility, Air and Fire signs (yang) go with each other, while Earth and Water signs (yin) go with each other.\\n\\nHere are keywords to help describe the two opposing yin/yang energies.\\n\\nYang Yin direct outgoing extroverted giving active male (traditionally) positive (traditionally) indirect passive/reactive introverted withdrawn receiving/receptive reactive female (traditionally) negative (traditionally)\\n\\nSummary\\n\\n(Open the following table in Print/Download View.)\\n\\nSign Element Quality Polarity Aries Fire Cardinal Yang (+) Taurus Earth Fixed Yin (-) Gemini Air Mutable Yang(+) Cancer Water Cardinal Yin (-) Leo Fire Fixed Yang (+) Virgo Earth Mutable Yin (-) Libra Air Cardinal Yang (+) Scorpio Water Fixed Yin (-) Sagittarius Fire Mutable Yang (+) Capricorn Earth Cardinal Yin (-) Aquarius Air Fixed Yang (+) Pisces Water Mutable Yin (-)\\n\\nSee a printable Zodiac Wheel, labeled with all the Signs, Elements, Qualities, and Polarities.\\n\\nCite This Page\\n\\nMLA style\\n\\nCorinne Lane. \"Elements Qualities Polarities – Astrology Lesson 7\" Astrolibrary. Astrolibrary, LLC, 21 Aug. 2009. Web. 30 Apr. 2025. <https://astrolibrary.org/elements/>'),\n",
       " Document(metadata={'source': 'data/Elements Qualities Polarities – Astrology Lesson 7.html'}, page_content='APA style\\n\\nCorinne Lane. (21 Aug. 2009). Elements Qualities Polarities – Astrology Lesson 7. In Free Astrology Lessons (7). Retrieved from https://astrolibrary.org/elements/\\n\\nTop ↑\\n\\nFree Astrology Lessons\\n\\nPOPULAR ON OUR SITE\\n\\nFree Astrology Reports\\n\\nAstrology Calculators\\n\\nBirth Chart Interpretations\\n\\nFree Astrology Lessons\\n\\nFree Ebooks\\n\\nCopyright 2009–2025 Astrolibrary, LLC. All rights reserved.\\n\\nKNOW THYSELF'),\n",
       " Document(metadata={'source': 'data/Compatibility in Love Relationships _ AstroLibrary.html'}, page_content='Astrolibrary logo\\n\\nAstroLibrary 🔎\\n\\nDaily Personalized Horoscope ↗\\n\\nCompatibility in Love Relationships\\n\\n(This is a compatibility lesson. If you prefer, see Zodiac Compatibility instead.)\\n\\nIn discussing compatibility, we will overlook “initial attraction” (for now). The difference between “initial attraction” and “compatibility” is great, for the first never ensures the second, and the second can manifest without the first, as many of us are forced to find out in the course of our lives. Here we focus on compatibility, and whether it exists between two people who are already past the “initial attraction” stage of a relationship.\\n\\nCompatibility between two people is not so much a thing, as it is the absence of a thing – absence of friction. Now, compatibility is not simply the sort of harmony that takes place when we are on a romantic date. Men and women tend to be on their best behavior on a date, putting their best foot forward and performing all the charming niceties that are expected from a romantic encounter. In a way, it can be said that people on dates are performing an act. There will be an illusion of compatibility on any romantic date, even between incompatible lovers. This is not a true measure of compatibility because the people in those cases are acting a part.\\n\\nCompatibility Relationship, Compatible couple, man and woman in movie theater\\n\\nTrue compatibility can only be determined based on our natural dispositions, our real personalities, our deep-seated mannerisms and habits. It can only be determined on “the morning after,” when the charming date from the night before reveals his/her ordinary habits, peculiar quirks, eccentricities and other daily behaviors. Often, these daily idiosyncrasies are what drives couples apart or attracts genuine admiration.\\n\\nSo, compatibility is the lucky situation in which both partners can be themselves without irritating each other. If you have to alter your behavior or style so as not to annoy your partner, then compatibility is lacking. Also, if you have to grit your teeth to acquiesce to your partner’s expression of his/herself, compatibility is lacking. If simply being yourselves causes friction with each other, compatibility is lacking.'),\n",
       " Document(metadata={'source': 'data/Compatibility in Love Relationships _ AstroLibrary.html'}, page_content='This is really a matter of energy flow. For example, try joining the positive ends of two magnets. They will not stick together regardless of how “attractive” or “charming” they are. Their energies repel each other. Humans are similar to magnets because we are part of a universal field consisting of an ebb and flow of energy. But unlike magnets, we humans are very complex, and we have many more points to consider than just “positive” and “negative.” Everyone has some great qualities, but not everyone is compatible with you.\\n\\nSince compatibility is really a matter of smooth energy flow between two people, not much can be done to “fix” an incompatible union. An incompatible couple is one in which the natural energy of one partner clashes with the natural energy of the other. It is unfair and sad that many divorcing and separating couples hurt each other in great proportions by bashing each other’s personalities, when the real problem may be a simple mismatch of energies (like repelling magnets).\\n\\nIncompatible couples can possibly succeed in a relationship, but it will require a lot of work and planned romantic dates. You may get along during the artificial scenarios (dates), but the incompatible partner will always rub you the wrong way just by being him/herself when you are not on a date. Their natural manner of being will irritate you. This is because your energies don’t blend well. As a result, the union creates tension, stress, and unhappiness.\\n\\nCompatible couples do not need many extras; they can simply enjoy being in each other’s presence. They can be themselves without causing friction in the relationship. This is because their energies flow together nicely. As a result, such a union creates happiness.\\n\\nOf course, no two people are perfectly compatible in every way (not that we are aware of). Compatibility, as we know it, exists in levels. Higher levels of compatibility result in happier relationships.\\n\\nAstrology, as the unique language of energy, is the most powerful tool available for determining compatibility, before risking years in a relationship. But even if you’ve been married for years, astrology can actually pinpoint the deep root of problem areas in your relationship. Astrology helps people learn how to deal with each other because it reveals the inner workings of their psyches. Even if you are stuck with an incompatible partner, astrology will get you to say, “Now I know why he/she is like that.”'),\n",
       " Document(metadata={'source': 'data/Compatibility in Love Relationships _ AstroLibrary.html'}, page_content='Numerous astrological techniques can (and should) be used to determine compatibility levels between two lovers. Some of these astrological techniques are simple and fun, such as comparing Venus, Mars, and Moon signs. Other techniques are far more complicated. All methods of determining compatibility fall under the magnificent and special branch of astrology: synastry.\\n\\nThe comparison of two birth charts in astrology is called synastry. The art of synastry is perhaps the most beloved branch of astrology. Synastry is discussed on the following page.\\n\\nRelated\\n\\nSynastry Interpretations\\n\\nLove & Relationship Articles\\n\\nCite This Page\\n\\nMLA style\\n\\nCorinne Lane. \"Compatibility in Love Relationships\" Astrolibrary. Astrolibrary, LLC, 24 Aug. 2009. Web. 1 May. 2025. <https://astrolibrary.org/compatibility/>\\n\\nAPA style\\n\\nCorinne Lane. (24 Aug. 2009). Compatibility in Love Relationships. In Free Astrology Lessons (13). Retrieved from https://astrolibrary.org/compatibility/\\n\\nTop ↑\\n\\nFree Astrology Lessons\\n\\nPOPULAR ON OUR SITE\\n\\nFree Astrology Reports\\n\\nAstrology Calculators\\n\\nBirth Chart Interpretations\\n\\nFree Astrology Lessons\\n\\nFree Ebooks\\n\\nCopyright 2009–2025 Astrolibrary, LLC. All rights reserved.\\n\\nKNOW THYSELF'),\n",
       " Document(metadata={'source': 'data/12 Astrological Houses – Astrology Lesson 4.html'}, page_content='Astrolibrary logo\\n\\nAstroLibrary 🔎\\n\\nDaily Personalized Horoscope ↗\\n\\n12 Astrological Houses – Astrology Lesson 4\\n\\n1st | 2nd | 3rd | 4th | 5th | 6th | 7th | 8th | 9th | 10th | 11th | 12th\\n\\nThe 12 Houses of astrology are arranged on a circle-shaped chart, or wheel.\\n\\nDo not confuse the wheel of Houses with the zodiac wheel. They are 2 different wheels.\\n\\nThe zodiac wheel is based on the sun’s apparent yearly rotation about our Earth, along the ecliptic.\\n\\nThe wheel of Houses is based on our Earth’s 24-hour rotation about its own axis.\\n\\nThe 2 wheels join together at points derived by calculations involving your exact birth time and astronomical birth coordinates.\\n\\nThen, the planets are described in 2 ways: as being in a zodiac sign, and also as being in a House.\\n\\nFor example, two people may both have a Libra Sun sign, but one may have the Libra Sun in his 12th House, while the other may have his Libra Sun in his 1st house. This could make for two very different types of people.\\n\\n(Another reason why the popular daily Sun Sign Horoscopes are a bunch of silliness: they are written assuming everyone has their Sun in the 1st House.)\\n\\nThe 12 Houses of astrology are symbolic of the all the departments that make up human life. The planets and zodiac signs will manifest themselves most strongly in the sphere of life represented by the House in which they fall on your chart (and also in the House which they rule; more on House Rulerships below).\\n\\nRemember, the houses are not “energies” like the elements or planets, nor do they color the expression of energies like the zodiac signs do. The houses are WHERE these energies are most likely to manifest. The houses are the fields of experience, not the experience themselves.\\n\\nNotice how the order of the Houses follows the developmental path of a human’s life, from the original impulse of individual being (1st house), to learning what is “mine” and how to use what one owns (2nd house), to learning how to communicate within the limitations set by our environment (3rd house), etc. The following description of the Houses are short and topical, directed at beginners.'),\n",
       " Document(metadata={'source': 'data/12 Astrological Houses – Astrology Lesson 4.html'}, page_content='The most important houses are the 1st, 4th, 7th, and 10th houses. These are called the \"angular houses\" because their cusps coincide with the 4 special angles: ascendant, I.C., descendant, and M.C.. Planets in the angular houses will influence you the most.\\n\\n1st Astrological House\\n\\nThe first House is the House of self. This includes self-awareness, the physical body, personality, appearance, personal views on life, self-identity, self-image, early environment, and beginnings; how we initiate, how we’re impulsive. Any planets in this house will greatly influence your personality and how others perceive you.\\n\\nTop\\n\\n2nd Astrological House\\n\\nThe second House refers to your own money and possessions, what you value, your hidden talents, sense of self-worth, self-esteem (how you value yourself, instead of describing your personality as in the 1st House). Possessions include anything a person owns (except the house/home which is ruled by the 4th House): cars, furniture, clothing, moveable property, investments and securities, etc. The 2nd house specifies how you gain and spend your own money (as opposed to other\\'s money in the 8th house), your attitude towards wealth and material possessions, and your potential for accumulating it/them.\\n\\nTop\\n\\n3rd Astrological House\\n\\nThe third House is that of communication, which by extension includes one\\'s immediate environment: siblings, neighbors, short journeys, and all forms of transportation. The 3rd house also includes the intellect, the lower mind (details and small bits of information as opposed to the higher mind in 9th house), thinking patterns, and early education (before college). Communication includes messages, deliveries, gossip, phone calls, visits, reading and writing.\\n\\nTop\\n\\n4th Astrological House\\n\\nThe fourth House refers to the home and everything associated with it (both the childhood home & the current home): family, land, personal foundations (inner emotional security), your roots. Astrologers are divided over whether this house is associated with one\\'s mother or father. What is clear is that a person\\'s upbringing is associated with this House.'),\n",
       " Document(metadata={'source': 'data/12 Astrological Houses – Astrology Lesson 4.html'}, page_content='On a deeper level, the 4th house is the base of consciousness or the center of our concrete existence. See how the cusp of the 4th house is the I.C., the lowest point on the chart, representative of things below the surface of Earth. Due to that, the 4th house was believed to rule the conditions at the end of life, and graves. As the root or base of your real self, the 4th house rules where you go when you \"die\" but also where you came from. For those who believe in reincarnation, the 4th house would give clues to your karmic lesson for this lifetime. It shows what karmic baggage you brought with you into this life. Even if you don\\'t believe in reincarnation, you\\'re likely to be surprised by what you find in your 4th house for it may move your soul.\\n\\nAny planets in the 4th house affect your home life, your emotions, your subconscious, and possibly your relationship with your parents.\\n\\nTop\\n\\n5th Astrological House\\n\\nThe fifth House refers to children, creativity, and the pursuit of pleasure. This includes personal interests, love affairs, sports, hobbies, speculation, risk-taking, teaching, drama, creative self-expression, love given, gambling. The 5th house is all about you being yourself and enjoying it.\\n\\nRomance, dating, love affairs, and sexual relationships are ruled by this 5th house, yet marriage is assigned to the 7th. Why? Because, until very recently, marriage was not entered into for pleasure, for love, nor for personal fulfillment. Marriage was hardly even entered into by choice, but rather for the purpose of raising kids to preserve the values of a particular culture or religion. And these marriages were most often arranged according to class and financial status, a partnership befitting the 7th house.\\n\\nNowadays, it\\'s common to marry for love. To avoid confusion, remember: affairs of the heart are in the 5th house, but cooperative partnerships are in the domain of the 7th house.\\n\\nTop\\n\\n6th Astrological House'),\n",
       " Document(metadata={'source': 'data/12 Astrological Houses – Astrology Lesson 4.html'}, page_content='Nowadays, it\\'s common to marry for love. To avoid confusion, remember: affairs of the heart are in the 5th house, but cooperative partnerships are in the domain of the 7th house.\\n\\nTop\\n\\n6th Astrological House\\n\\nThe sixth House refers to daily work, service, diet, health and physical sickness, physical ability to work, employees. This includes volunteer labor, civil service work, caretaking, and mundane daily tasks. The 6th house really involves the quality of your work, the quality of the jobs you perform, as opposed to an actual career (career is represented by the 10th house). Daily mundane tasks include personal hygiene and our method of responding to everyday crises.\\n\\nTop\\n\\n7th Astrological House\\n\\nThe seventh House is sometimes referred to as the House of marriage, but it encompasses all one-to-one relationships: marriage, business partnerships, contracts, cooperative relationships, and also divorce, separation, quarrels, open enemies, and law suits.\\n\\nThe difference between the love affairs of the 5th House and love relationships of the 7th is that the 7th House refers to more permanently binding relationships, whereas the 5th House refers to affairs that may be temporary. When the 5th House affair progresses into a serious relationship, we can say that the relationship has \"moved into the 7th House.\"\\n\\n7th house relationships are about cooperation and sharing, and they generally serve some functional purpose in the larger social community (i.e. a marriage). This is different from a 5th house love affair, whose only qualification is \"butterflies in the stomach.\"\\n\\nThe 7th house includes the way you relate to those closest to you. Planets in this house will influence your manner of relating. They also give clues to issues that arise in your relationships.\\n\\nTop\\n\\n8th Astrological House\\n\\nSimply put, the 8th house is the polar opposite of the 2nd house. Whereas the 2nd rules your own individual possessions, the 8th house rules what a relationship owns (joint finances).'),\n",
       " Document(metadata={'source': 'data/12 Astrological Houses – Astrology Lesson 4.html'}, page_content='Simply put, the 8th house is the polar opposite of the 2nd house. Whereas the 2nd rules your own individual possessions, the 8th house rules what a relationship owns (joint finances).\\n\\nThe 8th House is one of the most misunderstood Houses. This is probably because the things represented by the 8th House seem to have nothing in common with each other, or they seem to be negative. This House governs death, regeneration, taxes, inheritances, wills & legacies, sex (the actual act of sex), latent occult ability, joint resources, your partner’s money and possessions, spouse\\'s money, bankruptcy, losses, personal sacrifices, alimony, clairvoyance.\\n\\nOn a positive note, this House is about transformation and healing. But transformation and healing require some type of death, loss, or injury first. This House rules those processes and things by which we transform and become more powerful. Yes, this includes the act of sex.\\n\\nTop\\n\\n9th Astrological House\\n\\nThe ninth House refers to philosophy, religion, law, learning, higher education (as opposed to early education by the 3rd House), ethics, morals, long journeys, travel, foreign countries and interests, spiritual urges, dreams, visions, higher mind, ideas, understanding and wisdom, books, publishing, ceremonies, and rituals. This is the House of big thoughts and big ideas.\\n\\n9th house \"understanding\" is more complex than 3rd house \"knowledge\". The act of \"knowing\" belongs to the 3rd house because it implies simply the direct contact of a person with something in his environment. Understanding involves the synthesis of known data.\\n\\nWhile the 3rd house refers to an individual\\'s need to understand his close and personal environment, the 9th house is an area in which one seeks to discover the significance of larger fields of social existence which one may not experience directly but which his mind may explore through the use of analogy, generalization and abstraction. The 3rd and 9th houses symbolize the 2 polarities of the human mind, the concrete and the abstract.\\n\\nIn summary, the 9th house includes experiences that we encounter when we search for the meaning of things. Whatever expands your field of activity or the scope of your mind – long journeys, contact with other cultures, great dreams, and even experiences with fortunetellers.\\n\\nTop\\n\\n10th Astrological House'),\n",
       " Document(metadata={'source': 'data/12 Astrological Houses – Astrology Lesson 4.html'}, page_content='Top\\n\\n10th Astrological House\\n\\nThe tenth House is the House of status, honor, community power, prestige, reputation, and professional career. In our society, this includes financial success, but only as it relates to community power and prestige. It\\'s not about gaining \"material stuff\" as it is in the 2nd house. The 10th house wants success for the sake of honor and social status.\\n\\nThis house includes social foundations (as opposed to personal home foundations in the 4th), recognition, personal achievements, social responsibilities, sense of duty, authority figures, politicians. This House encompasses the most public areas of one\\'s life, and the career that you grow into, as opposed to daily work and odd jobs ruled by the 6th House.\\n\\nAs with the 4th House, astrologers are divided over whether the 10th House rules one\\'s mother or father. Those that say the 4th House rules the mother, say the 10th House rules the father, and vice versa. What is clear is that the 4th House rules the nurturing, home-body parent, while the 10th House rules the public, success-focused parent (the parent who \"wears the pants\").\\n\\nAs with the other angular houses, any planets in this house are very important. Planets in the 10th house, the sign on the cusp of the 10th house, and its ruling planet will greatly influence your career and your general reputation in public.\\n\\nTop\\n\\n11th Astrological House\\n\\nThe eleventh House is the House of community, large groups, and friends. It refers to memberships, hopes, goals, ambitions, wishes, social groups, associations, humanitarian interests. It also refers to self-realization, liberty, legislation and regulation.\\n\\nTop\\n\\n12th Astrological House\\n\\nThis is probably the most misunderstood house of all. The twelfth House refers to the subconscious, the hidden self that exists apart from our physical everyday reality. This includes the unconscious mind, subconscious memory, subconscious habit patterns from the past, mental illness, karmic debts, self-deception, escapism, spiritual realization, limitations, frustration, and ultimately our self-undoing.'),\n",
       " Document(metadata={'source': 'data/12 Astrological Houses – Astrology Lesson 4.html'}, page_content='On a physical, material level, the 12th house includes things that take us away from everyday life: institutions (such as hospitals, prisons, government offices), places of confinement, secrets, secret relationships, hidden enemies, and self-sacrifice for others. It also refers to sorrow, tribulations, widowhood, grief, funerals, exile, seclusion, bribery, subversion, murder, suicide, kidnapping, and endings.\\n\\nFor those who believe, the 12th house is also considered to refer to the collective unconscious of all humanity.\\n\\nTop\\n\\nastrology houses labeled chart\\n\\nastrology houses labeled chart in color\\n\\n“Natural” Houses of the Planets & Signs\\n\\nEach planet and zodiac sign is naturally associated with a House, the House that most corresponds to its archetype. The planet, then, is said to be the “Natural Ruler” of that House, or more often, it’s said to be “at home” in that House.\\n\\nThe House/planet associations were adjusted with the discoveries of Uranus, Neptune, and Pluto. The following table lists the current House rulers, along with the traditional rulers. The traditional rulers are still considered to be co-rulers of that House (along with the new planet that rules the House).\\n\\nNote: in your own birth chart, the rulers of your houses are determined by the signs that fall on the cusps of your houses. However, the natural rulers, listed here, give a subtle influence.\\n\\nTable of Natural Ruling Planets of Each House\\n\\nHouse Keywords Zodiac Sign Natural Ruler Traditional Ruler 1st self, life, body Aries Mars 2nd possessions, money, material circumstances, livelihood Taurus Venus 3rd local movement, short journeys, communication, school, siblings Gemini Mercury 4th home, family, roots, parent Cancer Moon 5th creativity, children, romance, entertainment Leo Sun 6th health, service, work, routine Virgo Mercury 7th partners, marriage, open enemies Libra Venus 8th sex, death, inheritances, other’s money, loss Scorpio Pluto Mars 9th travel, higher education, religion, spirituality, law Sagittarius Jupiter 10th career, social position, dominant parent Capricorn Saturn 11th friendships, associations, aspirations Aquarius Uranus Saturn 12th hidden matters, the unconscious, clandestine relationships, secret enemies, seclusion Pisces Neptune Jupiter'),\n",
       " Document(metadata={'source': 'data/12 Astrological Houses – Astrology Lesson 4.html'}, page_content='Take Note: The qualities of the zodiac signs are not exactly the same as those of the Houses which they are associated with. There are subtle differences between the qualities of the signs and Houses. More on the zodiac signs later; but first, learn about the star players, the Planets. See Lesson 5-The Planets.\\n\\nCite This Page\\n\\nMLA style\\n\\nCorinne Lane. \"12 Astrological Houses – Astrology Lesson 4\" Astrolibrary. Astrolibrary, LLC, 19 Aug. 2009. Web. 30 Apr. 2025. <https://astrolibrary.org/houses/>\\n\\nAPA style\\n\\nCorinne Lane. (19 Aug. 2009). 12 Astrological Houses – Astrology Lesson 4. In Free Astrology Lessons (4). Retrieved from https://astrolibrary.org/houses/\\n\\nTop ↑\\n\\nFree Astrology Lessons\\n\\nPOPULAR ON OUR SITE\\n\\nFree Astrology Reports\\n\\nAstrology Calculators\\n\\nBirth Chart Interpretations\\n\\nFree Astrology Lessons\\n\\nFree Ebooks\\n\\nCopyright 2009–2025 Astrolibrary, LLC. All rights reserved.\\n\\nKNOW THYSELF'),\n",
       " Document(metadata={'source': 'data/House Overlays – Deeper into the 3 parts of Synastry.html'}, page_content='Astrolibrary logo\\n\\nAstroLibrary 🔎\\n\\nDaily Personalized Horoscope ↗\\n\\nHouse Overlays – Deeper into the 3 parts of Synastry\\n\\n(This is a synastry lesson. If you prefer, see Synastry Interpretations instead.)\\n\\nHouse Overlays say a great deal about how you see each other, what you expect out of each other, and in which areas of life you affect each other. The planets overlaid in the Houses of another person reveal how the planet person (person who’s planets are in your houses) perceives the house person (person who’s birthchart houses the other’s planets are overlayed upon). The planet person will then have expectations according to their perceptions of the house person. The planet person will act accordingly. This, in turn, evokes a response from the house person. Here begin the dynamics of the relationship. Then we flip the whole thing to see the 2nd person’s planets in the 1st person’s houses.\\n\\nHouse overlays are the secret to knowing how that special guy or girl really sees you. House overlays don’t necessarily describe how compatible you are based on your personalities. They reveal how you see each other. How we perceive each other largely determines how we treat each other, and whether or not we’ll even approach each other. Are they intimidated by you? Are they mesmerized? Are they disgusted?\\n\\nIn effect, House Overlays reveal the areas of life of the house person that will be affected by the other’s presence (planets). But it begins with the perception of the planet person. It’s similar to entering someone’s actual home. When you enter someone’s home for the first time, you immediately perceive and form expectations based on the surrounding environment. Similarly, the planet person enters a birth chart house, and perceives you according to the environment of that specific house.\\n\\nSince House Overlays reveal perceptions and expectations regarding the partner, they can be used to pinpoint problems. Many relationship problems, separations, and divorces come about because of wrong perceptions about the partner, or lofty expectations. Partners should discuss what the House Overlays reveal, as it would bring them to a common understanding about each other’s expectations.\\n\\nIn addition, House Overlays can reveal why certain relationships never get off the ground. Some house-planet overlays denote negative perceptions from the beginning.\\n\\nRelated\\n\\nSynastry Interpretations\\n\\nLove & Relationship Articles\\n\\nCite This Page'),\n",
       " Document(metadata={'source': 'data/House Overlays – Deeper into the 3 parts of Synastry.html'}, page_content='In addition, House Overlays can reveal why certain relationships never get off the ground. Some house-planet overlays denote negative perceptions from the beginning.\\n\\nRelated\\n\\nSynastry Interpretations\\n\\nLove & Relationship Articles\\n\\nCite This Page\\n\\nMLA style\\n\\nCorinne Lane. \"House Overlays – Deeper into the 3 parts of Synastry\" Astrolibrary. Astrolibrary, LLC, 24 Aug. 2009. Web. 30 Apr. 2025. <https://astrolibrary.org/synastry-2/>\\n\\nAPA style\\n\\nCorinne Lane. (24 Aug. 2009). House Overlays – Deeper into the 3 parts of Synastry. In Free Astrology Lessons (16). Retrieved from https://astrolibrary.org/synastry-2/\\n\\nTop ↑\\n\\nFree Astrology Lessons\\n\\nPOPULAR ON OUR SITE\\n\\nFree Astrology Reports\\n\\nAstrology Calculators\\n\\nBirth Chart Interpretations\\n\\nFree Astrology Lessons\\n\\nFree Ebooks\\n\\nCopyright 2009–2025 Astrolibrary, LLC. All rights reserved.\\n\\nKNOW THYSELF'),\n",
       " Document(metadata={'source': 'data/Synastry Aspects – Deeper into the 3 parts of Synastry.html'}, page_content='Astrolibrary logo\\n\\nAstroLibrary 🔎\\n\\nDaily Personalized Horoscope ↗\\n\\nSynastry Aspects – Deeper into the 3 parts of Synastry\\n\\nsynastry\\n\\n(This is a synastry lesson. If you prefer, see Synastry Interpretations or calculate your synastry aspects.)\\n\\nThe aspects from one birth chart to another show how the two individuals get along. Planets making harmonious aspects mean that those dimensions represented by each planet blend together with pleasing results. Planets making inharmonious (often called challenging or dynamic) aspects produce discordant, irritating and unpleasant results.\\n\\nFor example, a man’s Moon blending harmoniously (conjunct) with a woman’s Venus will make for a tender, emotional, sweet interaction between them (if the rest of the synastric analysis concurs). On the other hand, if his Moon makes a challenging aspect (square) to her Venus, then her way of projecting herself as a woman (Venus) will emotionally (Moon) irritate him instead of arousing tenderness.\\n\\nNow, there is always a mixture of harmonious and challenging synastry aspects between two charts. Don’t expect to find perfect synastry. That probably does not exist. We are simply looking for the positive aspects to be stronger than the negative aspects. If the negative aspects are stronger than the positive, the two people will bug each other so much that the irritation will outweigh the power of attraction between them.\\n\\nRelated\\n\\nSynastry Interpretations\\n\\nLove & Relationship Articles\\n\\nCite This Page\\n\\nMLA style\\n\\nCorinne Lane. \"Synastry Aspects – Deeper into the 3 parts of Synastry\" Astrolibrary. Astrolibrary, LLC, 24 Aug. 2009. Web. 30 Apr. 2025. <https://astrolibrary.org/synastry-3/>\\n\\nAPA style\\n\\nCorinne Lane. (24 Aug. 2009). Synastry Aspects – Deeper into the 3 parts of Synastry. In Free Astrology Lessons (17). Retrieved from https://astrolibrary.org/synastry-3/\\n\\nTop ↑\\n\\nFree Astrology Lessons\\n\\nPOPULAR ON OUR SITE\\n\\nFree Astrology Reports\\n\\nAstrology Calculators\\n\\nBirth Chart Interpretations\\n\\nFree Astrology Lessons\\n\\nFree Ebooks\\n\\nCopyright 2009–2025 Astrolibrary, LLC. All rights reserved.'),\n",
       " Document(metadata={'source': 'data/Synastry Aspects – Deeper into the 3 parts of Synastry.html'}, page_content='Free Astrology Lessons\\n\\nPOPULAR ON OUR SITE\\n\\nFree Astrology Reports\\n\\nAstrology Calculators\\n\\nBirth Chart Interpretations\\n\\nFree Astrology Lessons\\n\\nFree Ebooks\\n\\nCopyright 2009–2025 Astrolibrary, LLC. All rights reserved.\\n\\nKNOW THYSELF'),\n",
       " Document(metadata={'source': 'data/What Are Transits In Astrology_ – Lesson 18.html'}, page_content='Astrolibrary logo\\n\\nAstroLibrary 🔎\\n\\nDaily Personalized Horoscope ↗\\n\\nWhat Are Transits In Astrology? – Lesson 18\\n\\nTransits in Astrology\\n\\n(Go here instead to see transits interpretations.)\\n\\nTo understand what transits are in astrology, you must first understand what aspects are. You should already know that aspects are relationships, measured in degrees of arc, between two planets in your birth chart. (An aspect can also take place between a planet and a special angle or point in your birth chart, i.e. Ascendant, M.C., I.C., Descendant, Lunar Nodes, and some other points.)\\n\\nTransits are, in effect, aspects between a planet’s current position up above and its position in your birth chart.\\n\\nThe positions of the planets at the moment you were born are captured on your birth chart. As you took your first breath, the planets continued on their tracks. As the planets continue moving, every once in a while, they come into aspect with the planetary positions on your birth chart.\\n\\nFor example, say you were born with the Sun at 16 ° and 28 minutes of Cancer, and Pluto at 24 ° of Libra. When Pluto moved into 16 degrees of Capricorn, in the year 2016, it made an opposition aspect (180 °) to your natal Sun.\\n\\nTo be clear, that aspect is called a “transit.” We would not call it an aspect because when we speak of aspects, we are usually speaking of natal aspects based on the positions of the planets at someone’s birth. An aspect made by a transiting planet is called a “transit” in astrology.\\n\\nA moving planet can stay in aspect anywhere from a few hours up to a few years. The moon, because she moves so fast, makes aspects only for a short hour or two. And then she’s gone. Neptune and Pluto, because they move so slowly (relative motion), can stay in aspect for 2 or 3 years. Use an orb of 1 degree to consider transits (but use a 2 degree orb to plan ahead!) While a moving planet is in aspect to a natal planetary position, the moving planet is said to be “transiting” the natal planet.'),\n",
       " Document(metadata={'source': 'data/What Are Transits In Astrology_ – Lesson 18.html'}, page_content='The transit has an influence over you during the entire time that it’s transiting, but it also has a point at which it becomes “exact.” This is the day when it reaches the exact degree, minute, and second of your birth planet. Some transits can become exact three times because of retrograde motion: the transiting planet passes over the point once, then the planet goes retrograde and backtracks over the point, then the planet goes back into direct motion and passes over the point a third time.\\n\\nIn the example above, Pluto would be transiting your natal Sun throughout most of 2016 because it will be close enough to 16 ° to be considered in aspect. But that transit becomes “exact” in 2016 when Pluto reaches exactly 10 ° and 28 minutes of Capricorn.\\n\\nIn summary, transits are simply aspects made by the current moving planets to our birth-chart planets. Technically, the planets are always in transit, as in “on the move.” But in astrology, “transit” is a term of art. In the language of astrology, planets make “transits” or are “transiting” only when they make aspects to our birth chart.\\n\\nTo find out your own personal transits, try the Transits calculator.\\n\\nCite This Page\\n\\nMLA style\\n\\nCorinne Lane. \"What Are Transits In Astrology? – Lesson 18\" Astrolibrary. Astrolibrary, LLC, 25 Aug. 2009. Web. 1 May. 2025. <https://astrolibrary.org/transits-in-astrology-lesson-18/>\\n\\nAPA style\\n\\nCorinne Lane. (25 Aug. 2009). What Are Transits In Astrology? – Lesson 18. In Free Astrology Lessons (18). Retrieved from https://astrolibrary.org/transits-in-astrology-lesson-18/\\n\\nTop ↑\\n\\nFree Astrology Lessons\\n\\nPOPULAR ON OUR SITE\\n\\nFree Astrology Reports\\n\\nAstrology Calculators\\n\\nBirth Chart Interpretations\\n\\nFree Astrology Lessons\\n\\nFree Ebooks\\n\\nCopyright 2009–2025 Astrolibrary, LLC. All rights reserved.\\n\\nKNOW THYSELF'),\n",
       " Document(metadata={'source': 'data/Aspects and Orbs in Astrology – Lesson 9.html'}, page_content='Astrolibrary logo\\n\\nAstroLibrary 🔎\\n\\nDaily Personalized Horoscope ↗\\n\\nAspects and Orbs in Astrology – Lesson 9\\n\\nAspects in astrology are extremely important when interpreting any chart. Aspects indicate how the various planetary and sign energies actually play out. They indicate, among other things, if there will be struggles or ease. Without acknowledging the aspects in a chart, the reading is incomplete, and ultimately incorrect. Keep this in mind when you begin to read the interpretations of your planets in the signs of your chart – the aspects tell more of the story.\\n\\nSo, what are aspects in astrology? Simply put, aspects are a connection or relationship between two or more planets. This connection always alters the interpretation of the planets and signs involved. When planets are in aspect to each other, their interpretations must be blended according to the nature of the aspect.\\n\\nTo be precise, aspects are special degrees of separation between the planets, with respect to the Earth. Since astrology focuses on the interplay between the celestial bodies and our Earth, we take a geocentric (Earth-centered) view of the heavens. The planets, then, are observed to orbit at different speeds in approximately the same plane in space.\\n\\nearth space astrology art\\n\\nAs a result of these planetary motions, various angles, measured in degrees, arc minutes, and arc seconds, are formed between the planets as seen from the Earth. In mathematics, an angle is defined as that fraction of a circle formed between two lines that intersect at the vertex. Imagine the Earth being at the center of the circle. Then imagine a line being drawn from two planets each to the Earth, so that the Earth is the vertex of the angle. The number of degrees between the two lines connecting two planets with respect to the Earth forms the angular relationship – the aspect – between the two planets. Aspects are considered not only for the planets, Sun, and Moon, but also for the points of the Ascendant and the Midheaven.\\n\\nExample of an Aspect\\n\\nastrology chart square aspect, labeled'),\n",
       " Document(metadata={'source': 'data/Aspects and Orbs in Astrology – Lesson 9.html'}, page_content='Example of an Aspect\\n\\nastrology chart square aspect, labeled\\n\\nIn this example image, the Sun and the Moon are in \"square\" aspect. They are 90° apart, as you can see by the angle formed by the gray lines. However, astrologers do not label aspects like that, for that would be a tangled mess of lines in the birth chart. Instead, the angular relationships are denoted by a single line connecting the two planets in aspect. Thus, in any astrology chart, the square aspect will be denoted by a line like the red one in the image above.\\n\\nCertain degrees of angularity are very important in astrology. They are called the \"major aspects.\" The major aspects are 0° (conjunction), 60° (sextile), 90° (square), 120° (trine), and 180° (opposition).\\n\\nWhat Are Orbs?\\n\\nNow, aspects are given a margin in which they have an influence. For example, although the square aspect is 90°, two planets that are 95° (or 85°) apart are still considered to be in square aspect. This margin of influence is called an \"orb\" in astrology. In the example of 95°, it is considered a square aspect with an orb of 5°, since it deviates 5° from an exact square. An allowable orb is the amount by which the two planets involved can deviate from the exact number of degrees of the aspect and still be considered to have an aspect influence. Most astrologers use an allowable orb of only 6° for the major aspects, and 2° or 3° for the minor aspects. However, the allowable orb is increased to 10° (or 8°) if it includes the Sun or Moon. This is a matter of preference, but in fact, the smaller the orb, the more significant the aspect is, with orbs of less than 1° being the most potent aspect influences.'),\n",
       " Document(metadata={'source': 'data/Aspects and Orbs in Astrology – Lesson 9.html'}, page_content=\"As you'll see below, each aspect can be defined as a circle divided by a number. A full circle is 360°. However, to avoid confusion, notice that the astrology chart is divided into 12 signs of 30° each. Then the square aspect (90°) will be between planets that are in the same degree, but three signs apart. The sextile will be two signs apart, the trine will be four signs apart, and the opposition will be six signs apart.\\n\\nMany pages can be written describing the dynamics of each aspect, but here we will brief. Keep in mind that as you grow in your knowledge of astrology, and as you gain experience in interpreting charts, you can add your own insight into how the aspects are manifested.\\n\\nMajor Aspects\\n\\nConjunction ()\\n\\ndiagram of conjunction astrology aspect, 0 degrees\\n\\nThe conjunction (0°) is the circle divided by one (in which the conjunction can be termed as 360° apart, which is the same as 0° in a circle). This is a very dynamic aspect, since it marks a strong focalized potential for expression along with a tendency for direct action and self-dramatization. The two planets in conjunction are blended together, fused, and intensified. Planets in conjunction must be interpreted as a blend in which the planets work together. This can be a good thing if the two planets get along (like say, Venus and the Moon), but it can be inharmonious if the two planets are incompatible (like say, Mars and Neptune).\\n\\nSextile (\\n\\nsextile astrology aspect, glyph symbol\\n\\nDiagram of sextile astrology aspect\\n\\nThe sextile aspect (60°) is the circle divided by six. It represents an easy flow of opportunities or ideas that, if acted upon, will help realize the individual's goals. It can also indicate talents. This is a harmonious aspect in which the energies of the planets involved collaborate well and work comfortably together. However, while this is traditionally a positive aspect, it is not dynamic. This aspect is rather passive, and it does not necessarily bring an impetus to do anything. The sextile aspect can be characterized as a lack of friction. The main reason that it’s considered positive is that it will not disrupt anything. This is usually pleasant, but can sometimes go unnoticed.\\n\\nSquare ()\"),\n",
       " Document(metadata={'source': 'data/Aspects and Orbs in Astrology – Lesson 9.html'}, page_content=\"Square ()\\n\\nThe square (90°) is the circle divided by four. This aspect implies restrictions and challenges. It is a dynamic aspect since the challenges pressure you to work on the issues represented by the planets involved. Planets in square aspect are at cross-purposes. They are in conflict that leads to irritation; achievement is delayed, though patient hard work can lead to success through integration of the two principles. Traditionally, this is a negative, inharmonious aspect. The planets and houses involved are areas in the individual's life where adjustments must be made and where tremendous effort must be expended to realize gains.\\n\\nTrine ()\\n\\ndiagram of trine astrology aspect\\n\\nThe trine (120°) is the circle divided by three. This is considered the most fortunate of aspects. The trine aspect represents easy flowing energy between the planets involved, bringing luck, opportunities, and innate creative talents. But even too much of a good thing can be bad – the ease brought on by the trine can sometimes be taken for granted, and the talents left unexpressed. In the ancient days, this aspect was thought to bring about a laziness (due to all the good luck) that was considered evil. But more often than not, the trine aspect tends to manifest the most pleasant potential of the planets involved.\\n\\nOpposition ()\\n\\nThe opposition (180°) is the circle divided by two. Planets in opposition will appear directly across from each other in the birth chart. This aspect indicates a fundamental polarity or duality; a situation in which one must cooperate with others or break with them. It creates tension leading to frustration, though objectivity can lead to a delicate balancing of opposites. Resolving the tension is helped by compromising between the two energies, otherwise they bounce back and forth, competing for center stage in your life. Compromise can be achieved by accepting that the two are parts of a whole. In general, this is considered an inharmonious aspect.\\n\\nMinor Aspects\\n\\nSemi-sextile (\\n\\nsemi-sextile astrology aspect glyph symbol\"),\n",
       " Document(metadata={'source': 'data/Aspects and Orbs in Astrology – Lesson 9.html'}, page_content='Minor Aspects\\n\\nSemi-sextile (\\n\\nsemi-sextile astrology aspect glyph symbol\\n\\nThe semi-sextile (30°) is the circle divided by 12. This aspect is very mild, barely noticeable, almost insignificant. It is considered by some astrologers as mildly beneficial, but since it connects signs of different elements and qualities, it may actually be mildly difficult, awkward, or uncomfortable. This aspect should be interpreted by taking into account the rest of the chart for more insight. This minor aspect will usually corroborate with other things specified in the chart.\\n\\nSemi-square ()\\n\\nThe semi-square (45°) is the circle divided by 8. This is similar to the square, but less intense. This aspect implies friction, generating minor internal conflict or frustration that can be annoying.\\n\\nSesqui-quadrate (\\n\\nsesqui-square astrology aspect glyph symbol\\n\\nThe sesquiquadrate (135°), also known as the sesquisquare, is 3/8 of a circle, or \"a square and a half.\" This aspect denotes the same friction as the semi-square, but this irritation tends to generate external difficulties (whereas the semi-square correlates more with inner conflict).\\n\\nQuincunx (or Inconjunct) (\\n\\nquincunx astrology aspect\\n\\nThe quincunx (150°) is 5/12 of a circle. This aspect demands continual adjustments. It is not necessarily negative, but it brings strain, some difficulty, or stress. This can sometimes affect the health. It can indicate circumstances that are forced upon the person, or self-neglect regarding that area of life.\\n\\nQuintile ()\\n\\nThe quintile (72°) is the circle divided by five. Quintiles imply artistic or creative talents, especially mental ones, as well as versatility and an authentic individuality. It is considered mildly beneficial. The biquintile (144°, ) is considered in the same way as the quintile.\\n\\nThe Cosmolabe Was Used To Measure Aspects\\n\\nPeople in history measured the aspects using a cosmolabe. The following cosmolabe was made by Jacques Besson in 1567. He was a French mathematician, inventor, and philosopher.\\n\\nCosmolabe invented by Jacques Besson, circa 1567'),\n",
       " Document(metadata={'source': 'data/Aspects and Orbs in Astrology – Lesson 9.html'}, page_content='Cosmolabe invented by Jacques Besson, circa 1567\\n\\nIf you made it this far, congratulations. There is still much, much more to learn in the field of astrology. We will continue to add lessons at regular intervals.\\n\\nWith what you\\'ve learned so far, you can begin to interpret your natal chart. You may want to begin with a chart of a close friend or relative, instead of yourself, since we have the tendency to use rose-colored lenses when inspecting ourselves. While rose-colored lenses have their place, they are not helpful when we are trying to take an accurate inventory of our strengths, weaknesses, drives, and potential.\\n\\nCite This Page\\n\\nMLA style\\n\\nCorinne Lane. \"Aspects and Orbs in Astrology – Lesson 9\" Astrolibrary. Astrolibrary, LLC, 23 Aug. 2009. Web. 30 Apr. 2025. <https://astrolibrary.org/aspects-in-astrology/>\\n\\nAPA style\\n\\nCorinne Lane. (23 Aug. 2009). Aspects and Orbs in Astrology – Lesson 9. In Free Astrology Lessons (9). Retrieved from https://astrolibrary.org/aspects-in-astrology/\\n\\nTop ↑\\n\\nFree Astrology Lessons\\n\\nPOPULAR ON OUR SITE\\n\\nFree Astrology Reports\\n\\nAstrology Calculators\\n\\nBirth Chart Interpretations\\n\\nFree Astrology Lessons\\n\\nFree Ebooks\\n\\nCopyright 2009–2025 Astrolibrary, LLC. All rights reserved.\\n\\nKNOW THYSELF')]"
      ]
     },
     "execution_count": 12,
     "metadata": {},
     "output_type": "execute_result"
    }
   ],
   "source": [
    "split_chunks"
   ]
  },
  {
   "cell_type": "code",
   "execution_count": 13,
   "metadata": {},
   "outputs": [],
   "source": [
    "from langchain_openai import OpenAIEmbeddings\n",
    "from langchain_community.vectorstores import Qdrant\n",
    "\n",
    "embedding_model = OpenAIEmbeddings(model=\"text-embedding-3-small\")\n",
    "\n",
    "qdrant_vectorstore = Qdrant.from_documents(\n",
    "    split_chunks,\n",
    "    embedding_model,\n",
    "    location=\":memory:\",\n",
    "    collection_name=\"astrology101\",\n",
    "    #collection_name=\"planets-in-transit\",\n",
    ")"
   ]
  },
  {
   "cell_type": "code",
   "execution_count": 14,
   "metadata": {},
   "outputs": [],
   "source": [
    "qdrant_retriever = qdrant_vectorstore.as_retriever(search_kwargs={\"k\": 5})"
   ]
  },
  {
   "cell_type": "markdown",
   "metadata": {},
   "source": [
    "Setup Graph for retreival node"
   ]
  },
  {
   "cell_type": "code",
   "execution_count": 15,
   "metadata": {},
   "outputs": [],
   "source": [
    "def retrieve(state):\n",
    "  retrieved_docs = qdrant_retriever.invoke(state[\"question\"])\n",
    "  return {\"context\" : retrieved_docs}"
   ]
  },
  {
   "cell_type": "markdown",
   "metadata": {},
   "source": [
    "### Augmented"
   ]
  },
  {
   "cell_type": "code",
   "execution_count": 16,
   "metadata": {},
   "outputs": [],
   "source": [
    "from langchain_core.prompts import ChatPromptTemplate\n",
    "\n",
    "\n",
    "RAG_PROMPT = \"\"\"\n",
    "CONTEXT:\n",
    "{context}\n",
    "\n",
    "QUERY:\n",
    "{question}\n",
    "\n",
    "You are an expert astrologer with deep knowledge of planetary transits and interpretations. Use the provided context from the astrological text to answer the question. \n",
    "\n",
    "\n",
    "Guidelines:\n",
    "1. Focus on the astrological significance and interpretations\n",
    "2. Explain planetary positions, aspects, and their effects\n",
    "3. If discussing transits, include timing and duration of influences\n",
    "4. If the context doesn't contain enough information, say \"I don't have enough information as my cosmic sources aren’t aligning on that question right now.”\n",
    "5. If the question is about a specific chart or transit, make sure to reference the relevant planetary positions and aspects\n",
    "\n",
    "Provide a detailed astrological interpretation based on the context. Ensure that format is easy to read and understand.\n",
    "\"\"\"\n",
    "\n",
    "rag_prompt = ChatPromptTemplate.from_template(RAG_PROMPT)"
   ]
  },
  {
   "cell_type": "markdown",
   "metadata": {},
   "source": [
    "### Generation\n"
   ]
  },
  {
   "cell_type": "code",
   "execution_count": 17,
   "metadata": {},
   "outputs": [],
   "source": [
    "from langchain_openai import ChatOpenAI\n",
    "llm = ChatOpenAI(model=\"gpt-4.1-mini\")"
   ]
  },
  {
   "cell_type": "markdown",
   "metadata": {},
   "source": [
    "Set up graph for generation node"
   ]
  },
  {
   "cell_type": "code",
   "execution_count": 18,
   "metadata": {},
   "outputs": [],
   "source": [
    "def generate(state):\n",
    "  docs_content = \"\\n\\n\".join(doc.page_content for doc in state[\"context\"])\n",
    "  messages = rag_prompt.format_messages(question=state[\"question\"], context=docs_content)\n",
    "  response = llm.invoke(messages)\n",
    "  return {\"response\" : response.content}"
   ]
  },
  {
   "cell_type": "code",
   "execution_count": 19,
   "metadata": {},
   "outputs": [],
   "source": [
    "from langgraph.graph import START, StateGraph, END\n",
    "from typing_extensions import List, TypedDict\n",
    "from langchain_core.documents import Document\n",
    "\n",
    "class State(TypedDict):\n",
    "  question: str\n",
    "  context: List[Document]\n",
    "  response: str"
   ]
  },
  {
   "cell_type": "markdown",
   "metadata": {},
   "source": [
    "Putting nodes and edges together\n",
    "(Start -> Retrieve -> Generate -> End)"
   ]
  },
  {
   "cell_type": "code",
   "execution_count": 20,
   "metadata": {},
   "outputs": [],
   "source": [
    "graph_builder = StateGraph(State)\n",
    "# Define nodes\n",
    "graph_builder.add_node(\"retrieve\", retrieve)\n",
    "graph_builder.add_node(\"generate\", generate)\n",
    "# Define edges\n",
    "graph_builder.add_edge(START, \"retrieve\")\n",
    "graph_builder.add_edge(\"retrieve\", \"generate\")\n",
    "graph_builder.add_edge(\"generate\", END)\n",
    "# Compile\n",
    "graph = graph_builder.compile()"
   ]
  },
  {
   "cell_type": "code",
   "execution_count": 21,
   "metadata": {},
   "outputs": [],
   "source": [
    "response =graph.invoke({\"question\" : \"What does Mars in 5th mean?\"})"
   ]
  },
  {
   "cell_type": "code",
   "execution_count": 22,
   "metadata": {},
   "outputs": [
    {
     "data": {
      "text/plain": [
       "{'question': 'What does Mars in 5th mean?',\n",
       " 'context': [Document(metadata={'source': 'data/Planets in Astrology – Lesson 5 _ AstroLibrary.html', '_id': '0af75eef9c8c4a9b8684f989fbf470e1', '_collection_name': 'astrology101'}, page_content=\"Interpretations for Venus in each zodiac sign are available here: Venus in the Signs\\n\\nInterpretations for Venus in each House of the birth chart: Venus in Houses\\n\\nReturn to Top Return to Taurus Return to Libra\\n\\nastrology planet mars real image\\n\\nMars\\n\\n“I act”\\n\\nBest quality: Initiative Worst quality: Harshness\\n\\nMars is the exact opposite of Venus. Whereas Venus represents the female, Mars is all male. Whereas Venus is about harmony, Mars is conflict, aggression, and outright war. Mars is the planet of physical energy. It governs your sex drive, your forcefulness and your aggression. It is associated with your desires and aspirations for emotional, physical, mental and spiritual things that stimulate activity. You have to want something before you reach out and take it; Mars is the heated passion behind action. Mars shows your ability to turn ideas into action. The sign of Mars in your natal chart indicates your vitality, energy level, and style of action. In a female's chart, the Mars sign is one factor suggesting the type of man she attracts. In its highest form, Mars represent your unleashed energy and your human will – initiative. A controlled Mars can give a healthy dose of assertiveness and ambition. At its worst, Mars energy makes one prone to anger, harshness and destructive violence, impulsive behavior, danger, combativeness and every kind of cruelty. It’s up to you to use this force constructively.\\n\\nInterpretations for Mars in each zodiac sign are available here: Mars in the Signs.\\n\\nInterpretations for Mars in each House of the birth chart: Mars in Houses\\n\\nReturn to Top Return to Aries\\n\\njupiter astrology planet\\n\\nJupiter\\n\\n“I grow”\\n\\nBest quality: Benevolence (kindness) Worst quality: Conceit\"),\n",
       "  Document(metadata={'source': 'data/12 Astrological Houses – Astrology Lesson 4.html', '_id': 'ca44c4bc8103487e91c3386e964ae058', '_collection_name': 'astrology101'}, page_content='On a deeper level, the 4th house is the base of consciousness or the center of our concrete existence. See how the cusp of the 4th house is the I.C., the lowest point on the chart, representative of things below the surface of Earth. Due to that, the 4th house was believed to rule the conditions at the end of life, and graves. As the root or base of your real self, the 4th house rules where you go when you \"die\" but also where you came from. For those who believe in reincarnation, the 4th house would give clues to your karmic lesson for this lifetime. It shows what karmic baggage you brought with you into this life. Even if you don\\'t believe in reincarnation, you\\'re likely to be surprised by what you find in your 4th house for it may move your soul.\\n\\nAny planets in the 4th house affect your home life, your emotions, your subconscious, and possibly your relationship with your parents.\\n\\nTop\\n\\n5th Astrological House\\n\\nThe fifth House refers to children, creativity, and the pursuit of pleasure. This includes personal interests, love affairs, sports, hobbies, speculation, risk-taking, teaching, drama, creative self-expression, love given, gambling. The 5th house is all about you being yourself and enjoying it.\\n\\nRomance, dating, love affairs, and sexual relationships are ruled by this 5th house, yet marriage is assigned to the 7th. Why? Because, until very recently, marriage was not entered into for pleasure, for love, nor for personal fulfillment. Marriage was hardly even entered into by choice, but rather for the purpose of raising kids to preserve the values of a particular culture or religion. And these marriages were most often arranged according to class and financial status, a partnership befitting the 7th house.\\n\\nNowadays, it\\'s common to marry for love. To avoid confusion, remember: affairs of the heart are in the 5th house, but cooperative partnerships are in the domain of the 7th house.\\n\\nTop\\n\\n6th Astrological House'),\n",
       "  Document(metadata={'source': 'data/Planets in Astrology – Lesson 5 _ AstroLibrary.html', '_id': 'ac308a0f92ee42c585b843422e310e1d', '_collection_name': 'astrology101'}, page_content='Astrolibrary logo\\n\\nAstroLibrary 🔎\\n\\nDaily Personalized Horoscope ↗\\n\\nPlanets in Astrology – Lesson 5\\n\\nClick on one of these astrology planets to skip down to its description:\\n\\nastrology planet sun glyph symbol\\n\\nSun\\n\\nastrology planet moon glyph symbol\\n\\nMoon\\n\\nastrology planet mercury glyph symbol\\n\\nMercury\\n\\nastrology planet venus glyph symbol\\n\\nVenus\\n\\nplanet mars astrology glyph symbol\\n\\nMars\\n\\njupiter astrology planet glyph symbol\\n\\nJupiter\\n\\nsaturn astrology planet glyph symbol\\n\\nSaturn\\n\\nuranus astrology planet glyph symbol\\n\\nUranus\\n\\nneptune astrology planet glyph symbol\\n\\nNeptune\\n\\npluto astrology planet glyph symbol\\n\\nPluto\\n\\nAstrology is about observing the planets. This is not to say that the planets (or the signs) cause anything to happen. What we observe is synchrony – that things are taking place in sync. One movement is flowing throughout our space, heavens, and Earth. Instead of causing, the planets indicate things, describing what is already taking place. But for the sake of convenience, astrologers use phrases like, “your Venus makes you like this,” or “his Mars made him act like that.” Please note that this is only for convenience in communicating. Astrologers know that the planets don’t force us to do anything, any more than your 5:00pm clock forces you to stop working. But you do stop working when the clock strikes 5:00pm, don’t you? And so you pay careful attention to that clock, because that clock will show you when it’s time to go home from work. But the clock never forced you to leave work, neither did it ever seal your fate. In the end, you decide when to leave work. That is the beauty of synchronicity.'),\n",
       "  Document(metadata={'source': 'data/How to Read Your Own Birth Chart – Astrology Lesson 10.html', '_id': 'd438bbf7ea514baf8c1a8e656d24869a', '_collection_name': 'astrology101'}, page_content='The zodiac sign will show how the planet is manifested. Previously, we likened the signs to \"stained-glass windows\" through which the planet is expressed. See if this analogy helps: envision a sentence, with a \"verb\" and an \"adverb.\" The planet is the \"verb\" while the zodiac sign is the \"adverb.\" For example, the Moon (feel, nurture, respond) in the sign of Capricorn (reservedly, coldly) denotes someone who nurtures in a cold and reserved way, or has trouble expressing emotions. That\\'s not a happy placement for the Moon, but remember: there\\'s more to the story…the rest of the chart. (See what each planet means in Lesson 5: The Planets. See what each zodiac sign means in Lesson 8: Zodiac Signs)\\n\\nIncorporating the Astrological Houses\\n\\nThe other thing to remember is that the planet in the sign will focus on the House. This means that the activity denoted by the planet will take place in the arena of your life designated by the House in which that planet falls. (Remember, each House represents a sphere of life – i.e. work, home, friendships, etc.) The planet is the \"what,\" the sign is \"how\" that \"what\" is done, and the House is \"where\" it takes place. Here is a handy reminder to use when interpreting your natal chart:\\n\\nPlanets = What? Signs = How? Houses = Where?\\n\\nThe following table explains it further.\\n\\nPlanets = “What” = energies; what you like to do Signs = “How” = the way you do it Houses = “Where” = areas of your life\\n\\nAn example of why taking the House into consideration is so important:\\n\\nSay a person has Saturn in Capricorn in the 7th House, which could manifest as a reserved (Capricorn) attitude in love relationships (7th House). Then, say this same individual has Venus in Sagittarius in the 11th House. This person will be friendly and outgoing (Sagittarius) in social situations and groups (11th House), but unemotional and detached (although dependable) in love relationships (Saturn in Capricorn in the 7th). (Astrology is a powerful tool for understanding those seemingly contradicting tendencies that we all have. The birth chart tells it all. With time and patience, you will be able to read all such details from a birth chart)'),\n",
       "  Document(metadata={'source': 'data/Planets in Astrology – Lesson 5 _ AstroLibrary.html', '_id': '3c9131f8106a4048aa18c122463561cb', '_collection_name': 'astrology101'}, page_content='As has been mentioned, the Sun and the Moon are included when we say “the planets.” Astrologers do this for convenience. The ten planets of astrology are: Sun, Moon, Mercury, Venus, Mars, Jupiter, Saturn, Uranus, Neptune, and Pluto[1]. (From our geocentric position, Earth is not included in the list; however Earth\\'s interplay in the scheme of things is denoted by the Ascendant.) However, before the 18th century only the first seven planets were recognized (they were perceivable to the naked eye): Sun, Moon, Mercury, Venus, Mars, Jupiter, and Saturn. Since over 2,000 years ago, the seven classical planets were observed to keep time, orbiting steadily on their paths. Perhaps that is why the number seven was symbolic of deity in ancient cultures. The seven were named after Greek gods because their influence was considered to be as such. Seven was the number of days chosen for a week, with each day borrowing its name from one of the classical planets. (The days making up our calendar month were determined based on one complete cycle through the 12 zodiac signs by the moon, from which the word \"month\" comes from.)\\n\\nThe discoveries of Uranus, Neptune, and Pluto corresponded to revolutionary changes in our world, from the Industrial Revolution and discovery of electricity (Uranus), to the financial collapse and interest in world domination of the 1930’s (Pluto). Pluto’s demotion of status to a “dwarf planet” does not change the fact that it is a celestial body participating in the continuous flow of energy in our world. Thus, Pluto is included here as a planet. (Astrology also observes several other asteroids/planetoids, regardless of planetary status. The body is there, thus, it counts.)\\n\\nEach planet symbolizes a different component of life, a different type of energy. In psychological terms, we can call them “needs” or “drives.” Click on the astrology planets above to learn what each one brings to astrology.\\n\\nNotes\\n\\n1. See Why Pluto is still valid even though it’s not a planet anymore\\n\\nplanets solar system view from moon\\n\\nsun planet golden red orange fire\\n\\nThe Sun\\n\\n“I am”\\n\\nBest quality: Rulership Worst quality: Dictativeness')],\n",
       " 'response': '**Astrological Interpretation: Mars in the 5th House**\\n\\n---\\n\\n### What does Mars represent?\\n\\n- Mars symbolizes **action, initiative, physical energy, aggression, and desire**.\\n- It governs your **drive, ambition, sex drive, and ability to turn ideas into action**.\\n- Mars expresses how you assert yourself and pursue what you want.\\n- At its best, Mars delivers **healthy assertiveness and boldness**.\\n- At its worst, it can bring **impulsiveness, harshness, anger, and conflict**.\\n\\n---\\n\\n### What does the 5th House represent?\\n\\n- The 5th House rules **creativity, pleasure, romance, love affairs, children, hobbies, sports, risk-taking, and self-expression**.\\n- It focuses on **being yourself and enjoying life through fun and personal interests**.\\n- Romance and dating fall under the 5th House (distinct from marriage, which is ruled by the 7th House).\\n\\n---\\n\\n### Mars in the 5th House: Combined Meaning\\n\\n**Fundamental theme:**  \\nMars energizes the arena of pleasure, creativity, and romance. This placement ignites your passion for fun, self-expression, and love affairs, making you dynamic and assertive in these areas.\\n\\n---\\n\\n### Key Interpretive Points\\n\\n1. **Energetic Creativity and Passion**  \\n   Mars in the 5th brings a **fiery, bold, and enthusiastic approach to creative projects and hobbies**. You are likely to pursue your interests with vigor, enthusiasm, and a competitive edge. You may enjoy sports or physical activities that allow you to express your vitality.\\n\\n2. **Romance and Love Affairs**  \\n   In love and dating, Mars here suggests a **direct, passionate, and sometimes impulsive style**. You may attract intense and exciting romantic encounters and could be assertive in pursuing love interests. There may be a love for the thrill of the chase or risk-taking in romance.\\n\\n3. **Risk-Taking and Gambling**  \\n   Mars energizes your appetite for **speculation, risk-taking, and gambling**. You are likely to enjoy challenges and might be drawn to situations where you can assert your courage or test your limits.\\n\\n4. **Sexual Drive and Expression**  \\n   The 5th House relates to sexual relationships (outside of committed partnerships), so Mars here can indicate a **strong sex drive and a bold, active approach to sexuality**.\\n\\n5. **Potential Challenges**  \\n   - Impulsivity in romance or creative pursuits could lead to conflicts or reckless behavior.  \\n   - Mars’ aggression might sometimes cause **arguments or competitiveness** in love affairs or with children.  \\n   - There may be a tendency to **overdo** or push too hard in playful or romantic situations.\\n\\n---\\n\\n### How Mars in the 5th might manifest in life\\n\\n- You may be a **dynamic and passionate lover**, always ready to take initiative in romance.\\n- You might enjoy competitive sports, drama, or any activity where you can express yourself boldly.\\n- Children (if any) might be a source of energetic involvement or occasional conflict.\\n- Creative projects are approached with a pioneering spirit.\\n- You might enjoy the excitement of speculative ventures or gambling.\\n- Your love affairs could be marked by intensity and sometimes impulsiveness.\\n\\n---\\n\\n### Summary\\n\\n| Aspect                 | Interpretation                                                                                                 |\\n|------------------------|---------------------------------------------------------------------------------------------------------------|\\n| **Mars = What?**       | Action, assertiveness, energy, drive                                                                         |\\n| **5th House = Where?** | Creativity, romance, pleasure, self-expression, children, risk-taking                                         |\\n| **Mars in 5th = What/Where** | Assertive, passionate, and energetic approach to love affairs, creative projects, and personal pleasures |\\n\\n---\\n\\n### Final Note\\n\\nMars in the 5th House invites you to **actively seek joy, love, and creative expression** with enthusiasm and courage. Harnessing this energy constructively can lead to exciting and fulfilling experiences in romance, creativity, and play. Beware of impulsiveness and channel aggressive energy positively.\\n\\n---\\n\\nIf you want a more tailored interpretation, including the sign Mars is in or aspects it makes, please provide those details.\\n\\n---\\n\\n**I hope this helps illuminate the cosmic energy of Mars in the 5th House!**'}"
      ]
     },
     "execution_count": 22,
     "metadata": {},
     "output_type": "execute_result"
    }
   ],
   "source": [
    "response"
   ]
  },
  {
   "cell_type": "markdown",
   "metadata": {},
   "source": [
    "## Agent Tools"
   ]
  },
  {
   "cell_type": "markdown",
   "metadata": {},
   "source": [
    "### 1. TavilySearchResults tool"
   ]
  },
  {
   "cell_type": "code",
   "execution_count": 23,
   "metadata": {},
   "outputs": [],
   "source": [
    "from langchain_community.tools.tavily_search import TavilySearchResults\n",
    "\n",
    "tavily_tool = TavilySearchResults(max_results=5)"
   ]
  },
  {
   "cell_type": "markdown",
   "metadata": {},
   "source": [
    "### 2. Birthchart tool "
   ]
  },
  {
   "cell_type": "code",
   "execution_count": 24,
   "metadata": {},
   "outputs": [],
   "source": [
    "from datetime import datetime\n",
    "from typing import Optional, Dict, Any, Literal, Tuple\n",
    "from dataclasses import dataclass\n",
    "from astrology.chart import LocationGeocoder, AstrologicalChart\n",
    "import pytz\n",
    "from geopy.exc import GeocoderTimedOut\n",
    "from dateutil import parser\n",
    "from geopy.geocoders import Nominatim\n",
    "from timezonefinder import TimezoneFinder\n",
    "from langchain_core.tools import tool\n",
    "\n",
    "@dataclass\n",
    "class BirthChartResult:\n",
    "    \"\"\"Structured result of birth chart generation.\"\"\"\n",
    "    success: bool\n",
    "    chart_text: Optional[str] = None\n",
    "    error_type: Optional[Literal[\"invalid_input\", \"location_error\", \"calculation_error\", \"system_error\"]] = None\n",
    "    error_message: Optional[str] = None\n",
    "    raw_data: Optional[Dict[str, Any]] = None\n",
    "\n",
    "def parse_date_time(date_str: str, time_str: str) -> Tuple[Optional[datetime], Optional[str]]:\n",
    "    \"\"\"\n",
    "    Parse various date and time formats into a datetime object.\n",
    "    \"\"\"\n",
    "    try:\n",
    "        # Try to parse the date using dateutil\n",
    "        date = parser.parse(date_str)\n",
    "        \n",
    "        # Try to parse the time\n",
    "        time = parser.parse(time_str)\n",
    "        \n",
    "        # Combine date and time\n",
    "        combined_datetime = datetime.combine(date.date(), time.time())\n",
    "        \n",
    "        return combined_datetime, None\n",
    "        \n",
    "    except Exception as e:\n",
    "        return None, f\"Could not parse date/time: {str(e)}\"\n",
    "\n",
    "def get_location_timezone(location_name: str) -> Tuple[Optional[float], Optional[str]]:\n",
    "    \"\"\"\n",
    "    Get timezone offset for any location using geocoding and timezonefinder.\n",
    "    \"\"\"\n",
    "    try:\n",
    "        # Create geocoder instance\n",
    "        geolocator = Nominatim(user_agent=\"my_astrology_app\")\n",
    "        \n",
    "        # Get location data\n",
    "        location = geolocator.geocode(location_name)\n",
    "        if not location:\n",
    "            return None, f\"Could not find location: {location_name}\"\n",
    "        \n",
    "        # Get coordinates\n",
    "        lat, lon = location.latitude, location.longitude\n",
    "        \n",
    "        # Use timezonefinder to get timezone\n",
    "        tf = TimezoneFinder()\n",
    "        timezone_str = tf.timezone_at(lat=lat, lng=lon)\n",
    "        \n",
    "        if not timezone_str:\n",
    "            return None, f\"Could not determine timezone for location: {location_name}\"\n",
    "        \n",
    "        # Get timezone object\n",
    "        tz = pytz.timezone(timezone_str)\n",
    "        \n",
    "        # Get current offset\n",
    "        offset = tz.utcoffset(datetime.now()).total_seconds() / 3600\n",
    "        \n",
    "        return offset, None\n",
    "        \n",
    "    except GeocoderTimedOut:\n",
    "        return None, \"Geocoding service timed out. Please try again.\"\n",
    "    except Exception as e:\n",
    "        return None, f\"Error determining timezone: {str(e)}\"\n",
    "\n",
    "def generate_birthchart(\n",
    "    location_name: str,\n",
    "    birth_date: str,\n",
    "    birth_time: str,\n",
    "    timezone: Optional[float] = None\n",
    ") -> BirthChartResult:\n",
    "    \"\"\"\n",
    "    Generate an astrological birth chart based on location, date, time, and timezone.\n",
    "    \"\"\"\n",
    "    try:\n",
    "        # Input validation\n",
    "        if not location_name or not isinstance(location_name, str):\n",
    "            return BirthChartResult(\n",
    "                success=False,\n",
    "                error_type=\"invalid_input\",\n",
    "                error_message=\"Location name must be a non-empty string\"\n",
    "            )\n",
    "        \n",
    "        # Parse date and time\n",
    "        birth_datetime, parse_error = parse_date_time(birth_date, birth_time)\n",
    "        if parse_error:\n",
    "            return BirthChartResult(\n",
    "                success=False,\n",
    "                error_type=\"invalid_input\",\n",
    "                error_message=parse_error\n",
    "            )\n",
    "        \n",
    "        # Get timezone if not provided\n",
    "        if timezone is None:\n",
    "            timezone, tz_error = get_location_timezone(location_name)\n",
    "            if tz_error:\n",
    "                return BirthChartResult(\n",
    "                    success=False,\n",
    "                    error_type=\"location_error\",\n",
    "                    error_message=tz_error\n",
    "                )\n",
    "        \n",
    "        # Create instances of the required classes\n",
    "        geocoder = LocationGeocoder(user_agent=\"my_astrology_app\")\n",
    "        chart = AstrologicalChart(geocoder)\n",
    "        \n",
    "        # Calculate the chart\n",
    "        chart_data = chart.calculate(location_name, birth_datetime, timezone)\n",
    "        \n",
    "        if chart_data:\n",
    "            formatted_chart = chart.format_chart(chart_data)\n",
    "            return BirthChartResult(\n",
    "                success=True,\n",
    "                chart_text=formatted_chart,\n",
    "                raw_data=chart_data\n",
    "            )\n",
    "        else:\n",
    "            return BirthChartResult(\n",
    "                success=False,\n",
    "                error_type=\"location_error\",\n",
    "                error_message=\"Could not calculate chart. Please check the location name and try again.\"\n",
    "            )\n",
    "            \n",
    "    except Exception as e:\n",
    "        return BirthChartResult(\n",
    "            success=False,\n",
    "            error_type=\"system_error\",\n",
    "            error_message=f\"An unexpected error occurred: {str(e)}\"\n",
    "        )\n",
    "\n",
    "@tool\n",
    "def birthchart_tool(\n",
    "    location_name: str,\n",
    "    birth_date: str,\n",
    "    birth_time: str,\n",
    "    timezone: Optional[float] = None\n",
    ") -> str:\n",
    "    \"\"\"\n",
    "    Tool to generate an astrological birth chart.\n",
    "    \n",
    "    This tool can handle various date and time formats and automatically determines\n",
    "    timezone from location if not provided.\n",
    "    \n",
    "    Examples:\n",
    "    - \"Generate birth chart for someone born in Bangkok on May 25, 1994 at 7:20 PM\"\n",
    "    - \"What's the birth chart for Tokyo, Japan on 1994-05-25 at 19:20?\"\n",
    "    - \"Calculate birth chart for New York, USA, born on 05/25/1994 at 7:20 PM\"\n",
    "    \"\"\"\n",
    "    result = generate_birthchart(location_name, birth_date, birth_time, timezone)\n",
    "    \n",
    "    if result.success:\n",
    "        return result.chart_text\n",
    "    else:\n",
    "        return f\"Error: {result.error_message}\""
   ]
  },
  {
   "cell_type": "markdown",
   "metadata": {},
   "source": [
    "### 3. Transit Tool"
   ]
  },
  {
   "cell_type": "code",
   "execution_count": 25,
   "metadata": {},
   "outputs": [],
   "source": [
    "from datetime import datetime, timedelta\n",
    "from typing import Optional, Dict, Any, Literal, Tuple\n",
    "from dataclasses import dataclass\n",
    "from langchain_core.tools import tool\n",
    "from astrology.transits import (\n",
    "    calculate_transits,\n",
    "    find_exact_aspect_time,\n",
    "    format_transit_report\n",
    ")\n",
    "\n",
    "@tool\n",
    "def transit_tool(\n",
    "    location_name: str,\n",
    "    birth_date: str,\n",
    "    birth_time: str,\n",
    "    transit_date: Optional[str] = None,\n",
    "    timezone: Optional[float] = None,\n",
    "    look_ahead_days: int = 30,\n",
    "    aspect_to_find: Optional[str] = None,\n",
    "    question_context: Optional[str] = None\n",
    ") -> str:\n",
    "    \"\"\"\n",
    "    Tool to calculate transits for a birth chart.\n",
    "    \n",
    "    This tool can calculate transits for any date and provide context for specific life questions.\n",
    "    The AI Agent can use this to analyze astrological influences for future events.\n",
    "    \n",
    "    Examples:\n",
    "    - \"What are the transits for my birthday next year?\"\n",
    "    - \"Should I get a dog in a month's time?\"\n",
    "    - \"Is next week good for starting a new project?\"\n",
    "    - \"What are the planetary influences for my career change in 3 months?\"\n",
    "    \n",
    "    Parameters:\n",
    "    - location_name: Birth location (e.g., \"Bangkok, Thailand\")\n",
    "    - birth_date: Birth date (e.g., \"25 May 1994\")\n",
    "    - birth_time: Birth time (e.g., \"19:20\")\n",
    "    - transit_date: Any date to calculate transits for (e.g., \"next month\", \"2024-06-11\")\n",
    "    - timezone: Optional timezone offset (e.g., 7.0 for Bangkok)\n",
    "    - look_ahead_days: Number of days to look ahead for exact aspects\n",
    "    - aspect_to_find: Optional specific aspect to find (e.g., \"Jupiter Sun opposition\")\n",
    "    - question_context: Context of the question being asked\n",
    "    \"\"\"\n",
    "    try:\n",
    "        # First get the birth chart\n",
    "        birth_result = generate_birthchart(location_name, birth_date, birth_time, timezone)\n",
    "        if not birth_result.success:\n",
    "            return f\"Error getting birth chart: {birth_result.error_message}\"\n",
    "        \n",
    "        # Parse transit date if provided\n",
    "        transit_datetime = None\n",
    "        if transit_date:\n",
    "            try:\n",
    "                from dateutil import parser\n",
    "                transit_datetime = parser.parse(transit_date)\n",
    "            except:\n",
    "                return f\"Could not parse transit date: {transit_date}\"\n",
    "        \n",
    "        # Calculate transits\n",
    "        transit_data = calculate_transits(\n",
    "            birth_result.raw_data['planets'],\n",
    "            transit_datetime or datetime.now(),\n",
    "            timezone or birth_result.raw_data['time']['timezone']\n",
    "        )\n",
    "        \n",
    "        # Format the report\n",
    "        report = format_transit_report(transit_data)\n",
    "        \n",
    "        # Add context if provided\n",
    "        if question_context:\n",
    "            report = f\"Transit Analysis for: {question_context}\\n\\n\" + report\n",
    "        \n",
    "        # Add exact aspect time if requested\n",
    "        if aspect_to_find:\n",
    "            try:\n",
    "                planet1, planet2, aspect_type = aspect_to_find.split()\n",
    "                exact_time = find_exact_aspect_time(\n",
    "                    birth_result.raw_data['planets'],\n",
    "                    transit_datetime or datetime.now(),\n",
    "                    (transit_datetime or datetime.now()) + timedelta(days=look_ahead_days),\n",
    "                    planet1,\n",
    "                    planet2,\n",
    "                    aspect_type,\n",
    "                    timezone or birth_result.raw_data['time']['timezone']\n",
    "                )\n",
    "                if exact_time:\n",
    "                    report += f\"\\n\\nExact {aspect_type} between {planet1} and {planet2} will occur at: {exact_time}\"\n",
    "            except:\n",
    "                pass\n",
    "        \n",
    "        return report\n",
    "            \n",
    "    except Exception as e:\n",
    "        return f\"An unexpected error occurred: {str(e)}\""
   ]
  },
  {
   "cell_type": "markdown",
   "metadata": {},
   "source": [
    "### 4. Knowledge base retrieval tool"
   ]
  },
  {
   "cell_type": "code",
   "execution_count": 26,
   "metadata": {},
   "outputs": [],
   "source": [
    "from typing import Annotated, List, Tuple, Union\n",
    "from langchain_core.tools import tool\n",
    "\n",
    "@tool\n",
    "def retrieve_information(\n",
    "    query: Annotated[str, \"query to ask the retrieve information tool\"]\n",
    "    ):\n",
    "  \"\"\"Use Retrieval Augmented Generation to retrieve information about the 'Planets in Transit' interpretation.\"\"\"\n",
    "  return graph.invoke({\"question\" : query})"
   ]
  },
  {
   "cell_type": "markdown",
   "metadata": {},
   "source": [
    "## Constructing Agents"
   ]
  },
  {
   "cell_type": "code",
   "execution_count": 27,
   "metadata": {},
   "outputs": [],
   "source": [
    "from typing import Any, Callable, List, Optional, TypedDict, Union\n",
    "\n",
    "from langchain.agents import AgentExecutor, create_openai_functions_agent\n",
    "from langchain.output_parsers.openai_functions import JsonOutputFunctionsParser\n",
    "from langchain_core.prompts import ChatPromptTemplate, MessagesPlaceholder\n",
    "from langchain_core.messages import AIMessage, BaseMessage, HumanMessage\n",
    "from langchain_core.runnables import Runnable\n",
    "from langchain_core.tools import BaseTool\n",
    "from langchain_openai import ChatOpenAI\n",
    "\n",
    "from langgraph.graph import END, StateGraph"
   ]
  },
  {
   "cell_type": "markdown",
   "metadata": {},
   "source": [
    "### Agent Definition"
   ]
  },
  {
   "cell_type": "code",
   "execution_count": 28,
   "metadata": {},
   "outputs": [],
   "source": [
    "#wrap each agent into a node\n",
    "\n",
    "def agent_node(state, agent, name):\n",
    "    result = agent.invoke(state)\n",
    "    return {\"messages\": [HumanMessage(content=result[\"output\"], name=name)]}\n",
    "\n",
    "\n",
    "def create_agent(\n",
    "    llm: ChatOpenAI,\n",
    "    tools: list,\n",
    "    system_prompt: str,\n",
    "    team_members: list[str] \n",
    ") -> str:\n",
    "    \"\"\"Create a function-calling agent and add it to the graph.\"\"\"\n",
    "\n",
    "    system_prompt += (\"\\nWork autonomously according to your specialty, using the tools available to you.\"\n",
    "    \" Do not ask for clarification.\"\n",
    "    \" Your other team members (and other teams) will collaborate with you with their own specialties.\"\n",
    "    \" You are chosen for a reason! You are one of the following team members: {team_members}.\")\n",
    "    prompt = ChatPromptTemplate.from_messages(\n",
    "        [\n",
    "            (\n",
    "                \"system\",\n",
    "                system_prompt,\n",
    "            ),\n",
    "            MessagesPlaceholder(variable_name=\"messages\"),\n",
    "            MessagesPlaceholder(variable_name=\"agent_scratchpad\"),\n",
    "        ]\n",
    "    ).partial(team_members=\", \".join(team_members))  # Apply partial here\n",
    "    # Define team members once\n",
    "    agent = create_openai_functions_agent(llm, tools, prompt)\n",
    "    executor = AgentExecutor(agent=agent, tools=tools)\n",
    "    return executor"
   ]
  },
  {
   "cell_type": "markdown",
   "metadata": {},
   "source": [
    "### Supervisor Definition"
   ]
  },
  {
   "cell_type": "code",
   "execution_count": 29,
   "metadata": {},
   "outputs": [],
   "source": [
    "def create_team_supervisor(llm: ChatOpenAI, system_prompt, members: list[str]) -> str:\n",
    "    \"\"\"An LLM-based router.\"\"\"\n",
    "    options = [\"FINISH\"] + members\n",
    "    \n",
    "    # Define the function schema\n",
    "    function_def = {\n",
    "        \"name\": \"route\",\n",
    "        \"description\": \"Select the next role to handle the request.\",\n",
    "        \"parameters\": {\n",
    "            \"type\": \"object\",\n",
    "            \"properties\": {\n",
    "                \"next\": {\n",
    "                    \"type\": \"string\",\n",
    "                    \"enum\": options,\n",
    "                    \"description\": \"The next team member to process the request\"\n",
    "                }\n",
    "            },\n",
    "            \"required\": [\"next\"]\n",
    "        }\n",
    "    }\n",
    "\n",
    "    prompt = ChatPromptTemplate.from_messages(\n",
    "        [\n",
    "            (\"system\", system_prompt),\n",
    "            MessagesPlaceholder(variable_name=\"messages\"),\n",
    "            (\n",
    "                \"system\",\n",
    "                \"Given the conversation above, who should act next?\"\n",
    "                \" Or should we FINISH? Select one of: {options}. \"\n",
    "                \"You MUST use the route function to make your selection.\"\n",
    "            ),\n",
    "        ]\n",
    "    ).partial(options=str(options), team_members=\", \".join(members))\n",
    "\n",
    "    # Configure LLM to always use the route function\n",
    "    llm_with_function = llm.bind(\n",
    "        function_call={\"name\": \"route\"},  # Force it to use route\n",
    "        functions=[function_def]  # Provide the function definition\n",
    "    )\n",
    "\n",
    "    return (\n",
    "        prompt\n",
    "        | llm_with_function\n",
    "        | JsonOutputFunctionsParser()\n",
    "    )"
   ]
  },
  {
   "cell_type": "markdown",
   "metadata": {},
   "source": [
    "### Initialise FortuneTeller Team State"
   ]
  },
  {
   "cell_type": "code",
   "execution_count": 30,
   "metadata": {},
   "outputs": [],
   "source": [
    "import functools\n",
    "import operator\n",
    "\n",
    "from langchain_core.messages import AIMessage, BaseMessage, HumanMessage\n",
    "from langchain_openai.chat_models import ChatOpenAI\n",
    "import functools\n",
    "\n",
    "class FortuneTellingTeam (TypedDict):\n",
    "    messages: Annotated[List[BaseMessage], operator.add]\n",
    "    team_members: List[str]\n",
    "    next: str"
   ]
  },
  {
   "cell_type": "code",
   "execution_count": 31,
   "metadata": {},
   "outputs": [],
   "source": [
    "llm = ChatOpenAI(model=\"gpt-4.1-mini\")"
   ]
  },
  {
   "cell_type": "markdown",
   "metadata": {},
   "source": [
    "### Create 4 Agents "
   ]
  },
  {
   "cell_type": "code",
   "execution_count": 32,
   "metadata": {},
   "outputs": [],
   "source": [
    "TEAM_MEMBERS = [\"WorldOracle\", \"BirthChartCalculator\", \"TransitAnalyst\", \"AstrologicalInterpreter\"]\n",
    "\n",
    "# Agent 1: Oracle\n",
    "oracle_agent = create_agent(\n",
    "    llm,\n",
    "    [tavily_tool],\n",
    "    f\"\"\"You are the search specialist in a team of fortune tellers.\n",
    "    Guidelines:\n",
    "    - ALWAYS check the current date before searching\n",
    "    - When a user asks about \"this year\", determine if they mean:\n",
    "        * The current year ({datetime.now().year})\n",
    "        * Or the next 12 months from now\n",
    "    - For questions about \"next year\", look for information about {datetime.now().year + 1}\n",
    "    \n",
    "    Search Strategy:\n",
    "    - Include the specific year in your searches\n",
    "    - For year-spanning predictions (like \"next 12 months\"), search for both years\n",
    "    - Format dates clearly in responses:\n",
    "        \"From {datetime.now().strftime('%B %Y')} onwards...\"\n",
    "        \"For the remainder of {datetime.now().year}...\"\n",
    "        \"Looking ahead to {datetime.now().year + 1}...\"\n",
    "    \n",
    "    - If information for current dates isn't available:\n",
    "        * State when the most recent reliable information is from\n",
    "        * Focus on longer-term transits that are currently active\n",
    "        * Be transparent about the time range of your information\n",
    "    \n",
    "    Remember: Astrology is time-sensitive - always verify and specify the time period you're discussing.\"\"\",\n",
    "    team_members=TEAM_MEMBERS\n",
    "    )\n",
    "worldoracle_node = functools.partial(agent_node, agent=oracle_agent, name=\"WorldOracle\")\n",
    "\n",
    "# Agent 2: Birthchart Calculator\n",
    "birthchart_calculator = create_agent(\n",
    "    llm,\n",
    "    [birthchart_tool],\n",
    "    \"\"\"You are a birth chart calculator. Your job is to generate accurate astrological birth charts based on the user's birth location, date, and time. \\\n",
    "    Use the birthchart_tool to perform all calculations. Do not provide interpretations or advice—just return the calculated birth chart data and planetary positions. \\\n",
    "    \n",
    "    Guidelines:\n",
    "    - If birth details are NOT provided in the question:\n",
    "      * Ask ONCE for birth details\n",
    "      * If not provided, say \"Since birth details aren't available yet, I'll let our team provide general insights first.\"\n",
    "      * Let other team members handle general insights\n",
    "    \n",
    "    - If birth details ARE provided:\n",
    "      * Generate the birth chart using the birthchart_tool\n",
    "      * Format output exactly as shown in the example\n",
    "    \n",
    "    Remember: Don't keep asking for birth details repeatedly. Users may want general insights first.\n",
    "\n",
    "    Example Output: \n",
    "        Location: Bangkok \n",
    "        Latitude: 13.7524938°N \n",
    "        Longitude: 100.4935089°E \n",
    "        Time: 1994-05-25 19:20 (UTC+7.0) \n",
    "        Julian Day: 2449498.013888889 \\\n",
    "\n",
    "        Planetary Positions: \\\n",
    "        Sun      64°3'54\" (Gemini 4°3'54\")\n",
    "        Moon     249°7'45\" (Sagittarius 9°7'45\")\n",
    "        Mercury  86°22'23\" (Gemini 26°22'23\")\n",
    "        Venus    95°20'13\" (Cancer 5°20'13\")\n",
    "        Mars     31°10'46\" (Taurus 1°10'46\")\n",
    "        Jupiter  216°47'53\" (Scorpio 6°47'53\")\n",
    "        Saturn   341°43'56\" (Pisces 11°43'56\")\n",
    "        Uranus   296°5'54\" (Capricorn 26°5'54\")\n",
    "        Neptune  293°6'49\" (Capricorn 23°6'49\")\n",
    "        Pluto    236°28'53\" (Scorpio 26°28'53\")\n",
    "\n",
    "        Ascendant (Rising Sign):\n",
    "        Position: 253°54'16\" (Sagittarius 13°54'16\")\n",
    "\n",
    "        House Cusps:\n",
    "        ------------\n",
    "        house_1  253°54'16\" (Sagittarius 13°54'16\")\n",
    "        house_2  283°16'22\" (Capricorn 13°16'22\")\n",
    "        house_3  314°30'5\" (Aquarius 14°30'5\")\n",
    "        house_4  347°20'8\" (Pisces 17°20'8\")\n",
    "        house_5  19°12'56\" (Aries 19°12'56\")\n",
    "        house_6  47°55'17\" (Taurus 17°55'17\")\n",
    "        house_7  73°54'16\" (Gemini 13°54'16\")\n",
    "        house_8  103°16'22\" (Cancer 13°16'22\")\n",
    "        house_9  134°30'5\" (Leo 14°30'5\")\n",
    "        house_10 167°20'8\" (Virgo 17°20'8\")\n",
    "        house_11 199°12'56\" (Libra 19°12'56\")\n",
    "        house_12 227°55'17\" (Scorpio 17°55'17\")\n",
    "\n",
    "        Angles:\n",
    "        -------\n",
    "        ascendant  253°54'16\" (Sagittarius 13°54'16\")\n",
    "        midheaven  167°20'8\" (Virgo 17°20'8\")\n",
    "        armc       168°21'3\" (Virgo 18°21'3\")\n",
    "        vertex     145°46'40\" (Leo 25°46'40\")\"\"\",\n",
    "        team_members=TEAM_MEMBERS\n",
    ")\n",
    "birthchart_node = functools.partial(agent_node, agent=birthchart_calculator, name=\"BirthChartCalculator\")\n",
    "\n",
    "# Agent 3: Transit Analyst\n",
    "transit_analyst = create_agent(\n",
    "    llm,\n",
    "    [transit_tool],\n",
    "    \"\"\"You are a transit analyst. Your job is to analyze astrological transits and their effects on people's lives.\n",
    "    Use the transit tool to perform all calculations. Do not provide interpretations or advice—just return the calculated transit data.\n",
    "    Format your output exactly as in the example below:\n",
    "        Example 1: Basic transit calculation\n",
    "        Transit Report for 2025-05-11 14:41\n",
    "        ==================================================\n",
    "\n",
    "        Transiting Planets:\n",
    "        --------------------\n",
    "        Sun      50°52'23\" (Taurus 20°52'23\") \n",
    "        Moon     215°46'4\" (Scorpio 5°46'4\") \n",
    "        Mercury  31°22'19\" (Taurus 1°22'19\") \n",
    "        Venus    6°58'27\" (Aries 6°58'27\") \n",
    "        Mars     130°28'56\" (Leo 10°28'56\") \n",
    "        Jupiter  83°29'33\" (Gemini 23°29'33\") \n",
    "        Saturn   358°50'37\" (Pisces 28°50'37\") \n",
    "        Uranus   56°54'35\" (Taurus 26°54'35\") \n",
    "        Neptune  1°23'43\" (Aries 1°23'43\") \n",
    "        Pluto    303°48'29\" (Aquarius 3°48'29\") R\n",
    "\n",
    "        Aspects to Natal Planets:\n",
    "        --------------------\n",
    "        Sun quincunx Moon (orb: 1.70°)  \n",
    "        Sun semisextile Mercury (orb: 2.69°)  \n",
    "        Sun sextile Venus (orb: 2.91°)  \n",
    "        Sun sextile Saturn (orb: 5.22°)  \n",
    "        Sun conjunction Uranus (orb: 7.16°)  \n",
    "        Sun sextile Neptune (orb: 2.67°)  \n",
    "        Sun trine Pluto (orb: 0.26°)  R\n",
    "        Moon trine Venus (orb: 2.16°)  \n",
    "        Moon trine Mars (orb: 1.35°)  \n",
    "        Moon trine Neptune (orb: 7.73°)  \n",
    "        Moon sextile Pluto (orb: 5.32°)  R\n",
    "        Mercury sextile Mercury (orb: 5.00°)  \n",
    "        Mercury semisquare Mars (orb: 0.89°)  \n",
    "        Mercury conjunction Jupiter (orb: 2.88°)  \n",
    "        Mercury square Saturn (orb: 2.47°)  \n",
    "        Mercury semisextile Uranus (orb: 0.54°)  \n",
    "        Mercury square Neptune (orb: 5.02°)  \n",
    "        Venus semisquare Sun (orb: 0.54°)  \n",
    "        Venus trine Moon (orb: 0.43°)  \n",
    "        Venus sextile Mercury (orb: 3.96°)  \n",
    "        Venus square Venus (orb: 1.64°)  \n",
    "        Venus square Saturn (orb: 6.49°)  \n",
    "        Venus square Neptune (orb: 3.94°)  \n",
    "        Venus quincunx Pluto (orb: 1.53°)  R\n",
    "        Mars opposition Moon (orb: 4.59°)  \n",
    "        Mars conjunction Mercury (orb: 0.19°)  \n",
    "        Mars semisextile Saturn (orb: 2.34°)  \n",
    "        Mars semisextile Neptune (orb: 0.22°)  \n",
    "        Mars square Pluto (orb: 2.63°)  R\n",
    "        Jupiter conjunction Moon (orb: 1.03°) R \n",
    "        Jupiter opposition Mercury (orb: 5.43°) R \n",
    "        Jupiter quincunx Venus (orb: 0.18°) R \n",
    "        Jupiter square Mars (orb: 3.68°) R \n",
    "        Jupiter sesquisquare Jupiter (orb: 1.69°) R \n",
    "        Jupiter square Pluto (orb: 2.99°) R R\n",
    "        Saturn trine Moon (orb: 5.96°)  \n",
    "        Saturn quincunx Mars (orb: 1.25°)  \n",
    "        Uranus trine Sun (orb: 5.23°) R \n",
    "        Uranus square Mercury (orb: 5.27°) R \n",
    "        Uranus quincunx Jupiter (orb: 2.61°) R \n",
    "        Uranus sextile Saturn (orb: 2.75°) R \n",
    "        Uranus trine Uranus (orb: 0.81°) R \n",
    "        Uranus sextile Neptune (orb: 5.30°) R \n",
    "        Uranus conjunction Pluto (orb: 7.71°) R R\n",
    "        Neptune trine Sun (orb: 2.24°) R \n",
    "        Neptune quincunx Jupiter (orb: 0.38°) R \n",
    "        Neptune sextile Saturn (orb: 5.73°) R \n",
    "        Neptune trine Uranus (orb: 3.80°) R \n",
    "        Pluto opposition Sun (orb: 5.61°) R \n",
    "        Pluto quincunx Jupiter (orb: 2.99°) R \n",
    "        Pluto trine Saturn (orb: 2.36°) R \n",
    "        Pluto opposition Uranus (orb: 0.43°) R \n",
    "        Pluto trine Neptune (orb: 4.91°) R \n",
    "\n",
    "        Example 2: Future date with context\n",
    "        Transit Analysis for: getting a pet\n",
    "\n",
    "        Transit Report for 2024-06-11 00:00\n",
    "        ==================================================\n",
    "\n",
    "        Transiting Planets:\n",
    "        --------------------\n",
    "        Sun      80°17'49\" (Gemini 20°17'49\") \n",
    "        Moon     131°17'53\" (Leo 11°17'53\") \n",
    "        Mercury  75°22'41\" (Gemini 15°22'41\") \n",
    "        Venus    81°56'42\" (Gemini 21°56'42\") \n",
    "        Mars     31°7'36\" (Taurus 1°7'36\") \n",
    "        Jupiter  63°40'11\" (Gemini 3°40'11\") \n",
    "        Saturn   349°7'35\" (Pisces 19°7'35\") \n",
    "        Uranus   54°42'28\" (Taurus 24°42'28\") \n",
    "        Neptune  359°48'14\" (Pisces 29°48'14\") \n",
    "        Pluto    301°46'9\" (Aquarius 1°46'9\") R\n",
    "\n",
    "        Aspects to Natal Planets:\n",
    "        --------------------\n",
    "        Sun semisextile Mars (orb: 2.94°)  \n",
    "        Sun conjunction Jupiter (orb: 0.40°)  \n",
    "        Sun sextile Neptune (orb: 4.26°)  \n",
    "        Sun trine Pluto (orb: 2.30°)  R\n",
    "        Moon trine Moon (orb: 2.17°)  \n",
    "        Moon opposition Mercury (orb: 6.25°)  \n",
    "        Moon opposition Jupiter (orb: 5.46°)  \n",
    "        Mercury conjunction Sun (orb: 6.08°)  \n",
    "        Mercury semisquare Moon (orb: 0.07°)  \n",
    "        Mercury conjunction Venus (orb: 4.43°)  \n",
    "        Mercury sextile Mars (orb: 4.75°)  \n",
    "        Mercury square Saturn (orb: 7.25°)  \n",
    "        Mercury semisextile Uranus (orb: 1.67°)  \n",
    "        Mercury square Neptune (orb: 3.43°)  \n",
    "        Venus sextile Mars (orb: 4.21°)  \n",
    "        Venus semisextile Jupiter (orb: 1.67°)  \n",
    "        Venus square Neptune (orb: 5.53°)  \n",
    "        Mars semisquare Mercury (orb: 0.80°)  \n",
    "        Mars conjunction Mars (orb: 0.05°)  \n",
    "        Mars semisextile Jupiter (orb: 2.49°)  \n",
    "        Mars semisextile Neptune (orb: 1.38°)  \n",
    "        Mars square Pluto (orb: 0.59°)  R\n",
    "        Jupiter sesquisquare Sun (orb: 1.50°) R \n",
    "        Jupiter square Moon (orb: 4.50°) R \n",
    "        Jupiter sesquisquare Venus (orb: 0.15°) R \n",
    "        Jupiter opposition Mars (orb: 5.67°) R \n",
    "        Jupiter square Pluto (orb: 5.03°) R R\n",
    "        Saturn quincunx Moon (orb: 0.43°)  \n",
    "        Saturn square Mercury (orb: 3.65°)  \n",
    "        Saturn conjunction Saturn (orb: 7.39°)  \n",
    "        Uranus square Mars (orb: 5.03°) R \n",
    "        Uranus trine Jupiter (orb: 7.57°) R \n",
    "        Uranus trine Uranus (orb: 1.39°) R \n",
    "        Uranus sextile Neptune (orb: 3.71°) R \n",
    "        Uranus conjunction Pluto (orb: 5.67°) R R\n",
    "        Neptune quincunx Sun (orb: 2.82°) R \n",
    "        Neptune quincunx Venus (orb: 1.17°) R \n",
    "        Neptune sextile Saturn (orb: 3.99°) R \n",
    "        Neptune trine Uranus (orb: 1.59°) R \n",
    "        Pluto opposition Jupiter (orb: 7.19°) R \n",
    "        Pluto trine Saturn (orb: 7.36°) R \n",
    "        Pluto opposition Uranus (orb: 1.77°) R \n",
    "        Pluto trine Neptune (orb: 3.32°) R \n",
    "        Pluto sextile Pluto (orb: 5.29°) R R\n",
    "\n",
    "        Example 3: Finding exact aspect\n",
    "        Transit Report for 2024-05-11 00:00\n",
    "        ==================================================\n",
    "\n",
    "        Transiting Planets:\n",
    "        --------------------\n",
    "        Sun      50°31'6\" (Taurus 20°31'6\") \n",
    "        Moon     84°13'57\" (Gemini 24°13'57\") \n",
    "        Mercury  24°20'53\" (Aries 24°20'53\") \n",
    "        Venus    43°49'45\" (Taurus 13°49'45\") \n",
    "        Mars     7°43'51\" (Aries 7°43'51\") \n",
    "        Jupiter  56°24'6\" (Taurus 26°24'6\") \n",
    "        Saturn   347°25'55\" (Pisces 17°25'55\") \n",
    "        Uranus   52°56'53\" (Taurus 22°56'53\") \n",
    "        Neptune  359°12'12\" (Pisces 29°12'12\") \n",
    "        Pluto    302°5'20\" (Aquarius 2°5'20\") R\n",
    "\n",
    "        Aspects to Natal Planets:\n",
    "        --------------------\n",
    "        Sun sextile Mars (orb: 3.67°)  \n",
    "        Sun conjunction Jupiter (orb: 7.66°)  \n",
    "        Sun sextile Neptune (orb: 4.86°)  \n",
    "        Sun trine Pluto (orb: 1.98°)  R\n",
    "        Moon sesquisquare Mercury (orb: 0.22°)  \n",
    "        Moon trine Mars (orb: 1.40°)  \n",
    "        Mercury conjunction Moon (orb: 2.14°)  \n",
    "        Mercury sextile Mercury (orb: 2.02°)  \n",
    "        Mercury semisextile Jupiter (orb: 0.03°)  \n",
    "        Mercury square Neptune (orb: 2.83°)  \n",
    "        Venus semisquare Sun (orb: 0.18°)  \n",
    "        Venus square Mars (orb: 2.39°)  \n",
    "        Venus square Neptune (orb: 6.13°)  \n",
    "        Mars conjunction Mercury (orb: 6.83°)  \n",
    "        Mars semisquare Saturn (orb: 1.25°)  \n",
    "        Mars semisextile Neptune (orb: 1.98°)  \n",
    "        Mars square Pluto (orb: 0.91°)  R\n",
    "        Jupiter opposition Venus (orb: 7.03°) R \n",
    "        Jupiter quincunx Mars (orb: 0.93°) R \n",
    "        Jupiter square Pluto (orb: 4.71°) R R\n",
    "        Saturn sextile Venus (orb: 2.10°)  \n",
    "        Saturn conjunction Saturn (orb: 5.70°)  \n",
    "        Uranus trine Sun (orb: 5.58°) R \n",
    "        Uranus quincunx Moon (orb: 1.87°) R \n",
    "        Uranus square Mercury (orb: 1.75°) R \n",
    "        Uranus trine Jupiter (orb: 0.30°) R \n",
    "        Uranus trine Uranus (orb: 3.15°) R \n",
    "        Uranus sextile Neptune (orb: 3.10°) R \n",
    "        Uranus conjunction Pluto (orb: 5.99°) R R\n",
    "        Neptune trine Sun (orb: 2.60°) R \n",
    "        Neptune quincunx Moon (orb: 1.12°) R \n",
    "        Neptune square Mercury (orb: 1.23°) R \n",
    "        Neptune trine Jupiter (orb: 3.29°) R \n",
    "        Neptune sextile Saturn (orb: 5.68°) R \n",
    "        Neptune trine Uranus (orb: 0.17°) R \n",
    "        Pluto opposition Sun (orb: 5.96°) R \n",
    "        Pluto quincunx Moon (orb: 2.25°) R \n",
    "        Pluto quincunx Mercury (orb: 2.13°) R \n",
    "        Pluto opposition Jupiter (orb: 0.08°) R \n",
    "        Pluto opposition Uranus (orb: 3.53°) R \n",
    "        Pluto trine Neptune (orb: 2.72°) R \n",
    "        Pluto sextile Pluto (orb: 5.61°) R R\n",
    "\n",
    "        Example 4: Career question\n",
    "        Transit Analysis for: career change\n",
    "\n",
    "        Transit Report for 2024-05-18 00:00\n",
    "        ==================================================\n",
    "\n",
    "        Transiting Planets:\n",
    "        --------------------\n",
    "        Sun      57°16'22\" (Taurus 27°16'22\") \n",
    "        Moon     171°27'4\" (Virgo 21°27'4\") \n",
    "        Mercury  32°33'48\" (Taurus 2°33'48\") \n",
    "        Venus    52°26'33\" (Taurus 22°26'33\") \n",
    "        Mars     13°4'30\" (Aries 13°4'30\") \n",
    "        Jupiter  58°3'12\" (Taurus 28°3'12\") \n",
    "        Saturn   347°55'58\" (Pisces 17°55'58\") \n",
    "        Uranus   53°21'16\" (Taurus 23°21'16\") \n",
    "        Neptune  359°22'40\" (Pisces 29°22'40\") \n",
    "        Pluto    302°3'6\" (Aquarius 2°3'6\") R\n",
    "\n",
    "        Aspects to Natal Planets:\n",
    "        --------------------\n",
    "        Sun conjunction Sun (orb: 6.79°)  \n",
    "        Sun semisextile Mercury (orb: 1.50°)  \n",
    "        Sun conjunction Jupiter (orb: 6.01°)  \n",
    "        Sun sextile Neptune (orb: 4.69°)  \n",
    "        Sun trine Pluto (orb: 2.01°)  R\n",
    "        Moon trine Mars (orb: 3.95°)  \n",
    "        Mercury semisextile Sun (orb: 0.90°)  \n",
    "        Mercury square Moon (orb: 4.92°)  \n",
    "        Mercury semisextile Jupiter (orb: 1.68°)  \n",
    "        Mercury square Neptune (orb: 3.00°)  \n",
    "        Venus sextile Mercury (orb: 2.77°)  \n",
    "        Venus square Mars (orb: 7.74°)  \n",
    "        Venus square Neptune (orb: 5.96°)  \n",
    "        Mars conjunction Mercury (orb: 1.38°)  \n",
    "        Mars semisquare Saturn (orb: 1.75°)  \n",
    "        Mars semisextile Neptune (orb: 1.80°)  \n",
    "        Mars square Pluto (orb: 0.87°)  R\n",
    "        Jupiter semisquare Moon (orb: 0.35°) R \n",
    "        Jupiter opposition Mercury (orb: 4.23°) R \n",
    "        Jupiter square Pluto (orb: 4.75°) R R\n",
    "        Saturn semisextile Mars (orb: 1.34°)  \n",
    "        Saturn conjunction Saturn (orb: 6.20°)  \n",
    "        Uranus trine Sun (orb: 1.17°) R \n",
    "        Uranus trine Moon (orb: 4.65°) R \n",
    "        Uranus square Mercury (orb: 6.47°) R \n",
    "        Uranus trine Venus (orb: 3.66°) R \n",
    "        Uranus trine Jupiter (orb: 1.95°) R \n",
    "        Uranus trine Uranus (orb: 2.74°) R \n",
    "        Uranus sextile Neptune (orb: 3.28°) R \n",
    "        Uranus conjunction Pluto (orb: 5.95°) R R\n",
    "        Neptune trine Sun (orb: 4.16°) R \n",
    "        Neptune trine Moon (orb: 1.66°) R \n",
    "        Neptune trine Venus (orb: 0.67°) R \n",
    "        Neptune trine Jupiter (orb: 4.94°) R \n",
    "        Neptune sextile Saturn (orb: 5.18°) R \n",
    "        Neptune trine Uranus (orb: 0.24°) R \n",
    "        Pluto opposition Sun (orb: 0.79°) R \n",
    "        Pluto sextile Moon (orb: 5.03°) R \n",
    "        Pluto opposition Venus (orb: 4.04°) R \n",
    "        Pluto sesquisquare Mars (orb: 1.59°) R \n",
    "        Pluto opposition Jupiter (orb: 1.57°) R \n",
    "        Pluto opposition Uranus (orb: 3.13°) R \n",
    "        Pluto trine Neptune (orb: 2.90°) R \n",
    "        Pluto sextile Pluto (orb: 5.57°) R R\n",
    "\n",
    "        Example 5: Different date formats\n",
    "        Testing date format: next month\n",
    "        Could not parse transit date: next month\n",
    "\n",
    "        Testing date format: 2024-05-25\n",
    "        Transit Report for 2024-05-25 00:00\n",
    "        ==================================================\n",
    "\n",
    "        Transiting Planets:\n",
    "        --------------------\n",
    "        Sun      64°0'18\" (Gemini 4°0'18\") \n",
    "        Moon     257°33'32\" (Sagittarius 17°33'32\") \n",
    "        Mercury  42°49'33\" (Taurus 12°49'33\") \n",
    "        Venus    61°2'59\" (Gemini 1°2'59\") \n",
    "        Mars     18°23'9\" (Aries 18°23'9\") \n",
    "        Jupiter  59°42'12\" (Taurus 29°42'12\") \n",
    "        Saturn   348°22'4\" (Pisces 18°22'4\") \n",
    "        Uranus   53°45'31\" (Taurus 23°45'31\") \n",
    "        Neptune  359°31'50\" (Pisces 29°31'50\") \n",
    "        Pluto    301°59'35\" (Aquarius 1°59'35\") R\n",
    "\n",
    "        Aspects to Natal Planets:\n",
    "        --------------------\n",
    "        Sun conjunction Sun (orb: 0.06°)  \n",
    "        Sun conjunction Venus (orb: 3.02°)  \n",
    "        Sun semisquare Mars (orb: 0.68°)  \n",
    "        Sun conjunction Jupiter (orb: 4.36°)  \n",
    "        Sun sextile Neptune (orb: 4.53°)  \n",
    "        Sun trine Pluto (orb: 2.07°)  R\n",
    "        Moon opposition Sun (orb: 5.12°)  \n",
    "        Mercury semisquare Mercury (orb: 1.45°)  \n",
    "        Mercury semisextile Uranus (orb: 2.61°)  \n",
    "        Mercury square Neptune (orb: 3.16°)  \n",
    "        Venus semisextile Sun (orb: 1.33°)  \n",
    "        Venus square Neptune (orb: 5.81°)  \n",
    "        Mars semisextile Sun (orb: 2.83°)  \n",
    "        Mars sesquisquare Moon (orb: 1.38°)  \n",
    "        Mars semisextile Venus (orb: 0.13°)  \n",
    "        Mars semisextile Jupiter (orb: 1.48°)  \n",
    "        Mars semisextile Neptune (orb: 1.65°)  \n",
    "        Mars square Pluto (orb: 0.81°)  R\n",
    "        Jupiter quincunx Sun (orb: 2.79°) R \n",
    "        Jupiter opposition Mercury (orb: 6.03°) R \n",
    "        Jupiter square Pluto (orb: 4.81°) R R\n",
    "        Saturn square Sun (orb: 7.73°)  \n",
    "        Saturn square Moon (orb: 5.83°)  \n",
    "        Saturn sextile Mercury (orb: 1.09°)  \n",
    "        Saturn conjunction Saturn (orb: 6.64°)  \n",
    "        Uranus trine Sun (orb: 7.91°) R \n",
    "        Uranus trine Venus (orb: 4.95°) R \n",
    "        Uranus square Mars (orb: 7.71°) R \n",
    "        Uranus trine Jupiter (orb: 3.60°) R \n",
    "        Uranus trine Uranus (orb: 2.34°) R \n",
    "        Uranus sextile Neptune (orb: 3.43°) R \n",
    "        Uranus conjunction Pluto (orb: 5.89°) R R\n",
    "        Neptune trine Venus (orb: 7.94°) R \n",
    "        Neptune square Mars (orb: 4.73°) R \n",
    "        Neptune trine Jupiter (orb: 6.59°) R \n",
    "        Neptune sextile Saturn (orb: 4.75°) R \n",
    "        Neptune trine Uranus (orb: 0.64°) R \n",
    "        Pluto opposition Sun (orb: 7.52°) R \n",
    "        Pluto opposition Venus (orb: 4.57°) R \n",
    "        Pluto opposition Jupiter (orb: 3.22°) R \n",
    "        Pluto opposition Uranus (orb: 2.72°) R \n",
    "        Pluto trine Neptune (orb: 3.05°) R \n",
    "        Pluto sextile Pluto (orb: 5.51°) R R\n",
    "\n",
    "        Testing date format: May 25, 2024\n",
    "        Transit Report for 2024-05-25 00:00\n",
    "        ==================================================\n",
    "\n",
    "        Transiting Planets:\n",
    "        --------------------\n",
    "        Sun      64°0'18\" (Gemini 4°0'18\") \n",
    "        Moon     257°33'32\" (Sagittarius 17°33'32\") \n",
    "        Mercury  42°49'33\" (Taurus 12°49'33\") \n",
    "        Venus    61°2'59\" (Gemini 1°2'59\") \n",
    "        Mars     18°23'9\" (Aries 18°23'9\") \n",
    "        Jupiter  59°42'12\" (Taurus 29°42'12\") \n",
    "        Saturn   348°22'4\" (Pisces 18°22'4\") \n",
    "        Uranus   53°45'31\" (Taurus 23°45'31\") \n",
    "        Neptune  359°31'50\" (Pisces 29°31'50\") \n",
    "        Pluto    301°59'35\" (Aquarius 1°59'35\") R\n",
    "\n",
    "        Aspects to Natal Planets:\n",
    "        --------------------\n",
    "        Sun conjunction Sun (orb: 0.06°)  \n",
    "        Sun conjunction Venus (orb: 3.02°)  \n",
    "        Sun semisquare Mars (orb: 0.68°)  \n",
    "        Sun conjunction Jupiter (orb: 4.36°)  \n",
    "        Sun sextile Neptune (orb: 4.53°)  \n",
    "        Sun trine Pluto (orb: 2.07°)  R\n",
    "        Moon opposition Sun (orb: 5.12°)  \n",
    "        Mercury semisquare Mercury (orb: 1.45°)  \n",
    "        Mercury semisextile Uranus (orb: 2.61°)  \n",
    "        Mercury square Neptune (orb: 3.16°)  \n",
    "        Venus semisextile Sun (orb: 1.33°)  \n",
    "        Venus square Neptune (orb: 5.81°)  \n",
    "        Mars semisextile Sun (orb: 2.83°)  \n",
    "        Mars sesquisquare Moon (orb: 1.38°)  \n",
    "        Mars semisextile Venus (orb: 0.13°)  \n",
    "        Mars semisextile Jupiter (orb: 1.48°)  \n",
    "        Mars semisextile Neptune (orb: 1.65°)  \n",
    "        Mars square Pluto (orb: 0.81°)  R\n",
    "        Jupiter quincunx Sun (orb: 2.79°) R \n",
    "        Jupiter opposition Mercury (orb: 6.03°) R \n",
    "        Jupiter square Pluto (orb: 4.81°) R R\n",
    "        Saturn square Sun (orb: 7.73°)  \n",
    "        Saturn square Moon (orb: 5.83°)  \n",
    "        Saturn sextile Mercury (orb: 1.09°)  \n",
    "        Saturn conjunction Saturn (orb: 6.64°)  \n",
    "        Uranus trine Sun (orb: 7.91°) R \n",
    "        Uranus trine Venus (orb: 4.95°) R \n",
    "        Uranus square Mars (orb: 7.71°) R \n",
    "        Uranus trine Jupiter (orb: 3.60°) R \n",
    "        Uranus trine Uranus (orb: 2.34°) R \n",
    "        Uranus sextile Neptune (orb: 3.43°) R \n",
    "        Uranus conjunction Pluto (orb: 5.89°) R R\n",
    "        Neptune trine Venus (orb: 7.94°) R \n",
    "        Neptune square Mars (orb: 4.73°) R \n",
    "        Neptune trine Jupiter (orb: 6.59°) R \n",
    "        Neptune sextile Saturn (orb: 4.75°) R \n",
    "        Neptune trine Uranus (orb: 0.64°) R \n",
    "        Pluto opposition Sun (orb: 7.52°) R \n",
    "        Pluto opposition Venus (orb: 4.57°) R \n",
    "        Pluto opposition Jupiter (orb: 3.22°) R \n",
    "        Pluto opposition Uranus (orb: 2.72°) R \n",
    "        Pluto trine Neptune (orb: 3.05°) R \n",
    "        Pluto sextile Pluto (orb: 5.51°) R R\n",
    "\n",
    "        Testing date format: 25/05/2024\n",
    "        Transit Report for 2024-05-25 00:00\n",
    "        ==================================================\n",
    "\n",
    "        Transiting Planets:\n",
    "        --------------------\n",
    "        Sun      64°0'18\" (Gemini 4°0'18\") \n",
    "        Moon     257°33'32\" (Sagittarius 17°33'32\") \n",
    "        Mercury  42°49'33\" (Taurus 12°49'33\") \n",
    "        Venus    61°2'59\" (Gemini 1°2'59\") \n",
    "        Mars     18°23'9\" (Aries 18°23'9\") \n",
    "        Jupiter  59°42'12\" (Taurus 29°42'12\") \n",
    "        Saturn   348°22'4\" (Pisces 18°22'4\") \n",
    "        Uranus   53°45'31\" (Taurus 23°45'31\") \n",
    "        Neptune  359°31'50\" (Pisces 29°31'50\") \n",
    "        Pluto    301°59'35\" (Aquarius 1°59'35\") R\n",
    "\n",
    "        Aspects to Natal Planets:\n",
    "        --------------------\n",
    "        Sun conjunction Sun (orb: 0.06°)  \n",
    "        Sun conjunction Venus (orb: 3.02°)  \n",
    "        Sun semisquare Mars (orb: 0.68°)  \n",
    "        Sun conjunction Jupiter (orb: 4.36°)  \n",
    "        Sun sextile Neptune (orb: 4.53°)  \n",
    "        Sun trine Pluto (orb: 2.07°)  R\n",
    "        Moon opposition Sun (orb: 5.12°)  \n",
    "        Mercury semisquare Mercury (orb: 1.45°)  \n",
    "        Mercury semisextile Uranus (orb: 2.61°)  \n",
    "        Mercury square Neptune (orb: 3.16°)  \n",
    "        Venus semisextile Sun (orb: 1.33°)  \n",
    "        Venus square Neptune (orb: 5.81°)  \n",
    "        Mars semisextile Sun (orb: 2.83°)  \n",
    "        Mars sesquisquare Moon (orb: 1.38°)  \n",
    "        Mars semisextile Venus (orb: 0.13°)  \n",
    "        Mars semisextile Jupiter (orb: 1.48°)  \n",
    "        Mars semisextile Neptune (orb: 1.65°)  \n",
    "        Mars square Pluto (orb: 0.81°)  R\n",
    "        Jupiter quincunx Sun (orb: 2.79°) R \n",
    "        Jupiter opposition Mercury (orb: 6.03°) R \n",
    "        Jupiter square Pluto (orb: 4.81°) R R\n",
    "        Saturn square Sun (orb: 7.73°)  \n",
    "        Saturn square Moon (orb: 5.83°)  \n",
    "        Saturn sextile Mercury (orb: 1.09°)  \n",
    "        Saturn conjunction Saturn (orb: 6.64°)  \n",
    "        Uranus trine Sun (orb: 7.91°) R \n",
    "        Uranus trine Venus (orb: 4.95°) R \n",
    "        Uranus square Mars (orb: 7.71°) R \n",
    "        Uranus trine Jupiter (orb: 3.60°) R \n",
    "        Uranus trine Uranus (orb: 2.34°) R \n",
    "        Uranus sextile Neptune (orb: 3.43°) R \n",
    "        Uranus conjunction Pluto (orb: 5.89°) R R\n",
    "        Neptune trine Venus (orb: 7.94°) R \n",
    "        Neptune square Mars (orb: 4.73°) R \n",
    "        Neptune trine Jupiter (orb: 6.59°) R \n",
    "        Neptune sextile Saturn (orb: 4.75°) R \n",
    "        Neptune trine Uranus (orb: 0.64°) R \n",
    "        Pluto opposition Sun (orb: 7.52°) R \n",
    "        Pluto opposition Venus (orb: 4.57°) R \n",
    "        Pluto opposition Jupiter (orb: 3.22°) R \n",
    "        Pluto opposition Uranus (orb: 2.72°) R \n",
    "        Pluto trine Neptune (orb: 3.05°) R \n",
    "        Pluto sextile Pluto (orb: 5.51°) R R\"\"\",\n",
    "        team_members=TEAM_MEMBERS\n",
    ")\n",
    "transit_node = functools.partial(agent_node, agent=transit_analyst, name=\"TransitAnalyst\")\n",
    "\n",
    "# Agent 4: Astrological Interpretation\n",
    "astrological_interpreter = create_agent(\n",
    "    llm,\n",
    "    [retrieve_information],\n",
    "    \"\"\"You are an astrological interpreter. Your job is to interpret astrological data and provide insightful, practical advice based on the user's birth chart and transit data.\n",
    "    Use the retrieve_information tool to find relevant astrological interpretations for planetary positions, aspects, and transits. Carefully apply these interpretations to the specific details of the user's birth chart and current or future transits.\n",
    "\n",
    "    Guidelines:\n",
    "\n",
    "    - If birth chart IS available:\n",
    "        * Provide personalized interpretations using the birth chart and transits\n",
    "        * Be specific: mention which planets, houses, and aspects are most relevant to the user's question.\n",
    "        * Always reference the actual birth chart and transit data provided.\n",
    "        * Synthesize information from the knowledge base with the user's unique astrological context.\n",
    "        * Provide advice that is actionable, empathetic, and aligned with astrological best practices.\n",
    "        * If the knowledge base does not contain enough information, say so and suggest what additional data would be helpful.\n",
    "        * If the user’s question is about timing, highlight the most significant astrological periods and their potential effects.\n",
    "        * Structure your response clearly, using headings or bullet points if helpful.\n",
    "\n",
    "    - If NO birth chart is available:\n",
    "        * Provide general astrological insights based on current transits\n",
    "        * Use general astrological principles and current planetary positions\n",
    "        * Mention that personalized insights would require birth details \n",
    "\n",
    "\n",
    "    Example Output:\n",
    "    Astrological Analysis:\n",
    "    - Jupiter trine Moon in your 6th house this month suggests increased emotional openness and support for new routines, such as adopting a pet.\n",
    "    - Saturn square your 4th house cusp indicates extra responsibilities at home; plan for these before making changes.\n",
    "\n",
    "    Advice:\n",
    "    - This is a favorable time to consider new commitments, but ensure you have routines in place.\n",
    "    - Reflect on how your daily habits will adapt to new responsibilities.\n",
    "    If you cannot provide a complete interpretation, explain what is missing or unclear.\"\"\",\n",
    "    team_members=TEAM_MEMBERS\n",
    ")\n",
    "\n",
    "astrological_node = functools.partial(agent_node, agent=astrological_interpreter, name=\"AstrologicalInterpreter\")\n"
   ]
  },
  {
   "cell_type": "markdown",
   "metadata": {},
   "source": [
    "### Create Supervior"
   ]
  },
  {
   "cell_type": "code",
   "execution_count": 33,
   "metadata": {},
   "outputs": [],
   "source": [
    "fortuneteller_agent = create_team_supervisor(\n",
    "    llm,\n",
    "    (\"\"\"You are the supervisor of a fortune telling team. Your job is to coordinate between team members based on the conversation context and available information.\n",
    "\n",
    "    Guidelines:\n",
    "    - When birth details are NEEDED but NOT provided:\n",
    "        * First route to AstrologicalInterpreter to:\n",
    "            - Acknowledge the question\n",
    "            - Explain why birth details would be helpful\n",
    "            - Ask for: birth date, time, and location\n",
    "            - Offer to provide general insights while waiting\n",
    "        * Then route to WorldOracle for general astrological trends\n",
    "        * If user provides birth details in response:\n",
    "            - Route to BirthChartCalculator\n",
    "        * If user doesn't provide birth details:\n",
    "            - Continue with general insights\n",
    "\n",
    "        - If birth details ARE provided:\n",
    "        * Route to BirthChartCalculator first\n",
    "        * Then TransitAnalyst\n",
    "        * Route to WorldOracle if needed for:\n",
    "            - Current events context\n",
    "            - Specific life situation insights\n",
    "            - Real-world trends\n",
    "        * Finally AstrologicalInterpreter to synthesize everything\n",
    "\n",
    "    Example Flow 1 (No Birth Details):\n",
    "    User: \"What's my love life like this year?\"\n",
    "    → AstrologicalInterpreter (explains need for birth details + offers general insights)\n",
    "    → WorldOracle (checks current love-related transits)\n",
    "    → AstrologicalInterpreter (provides general guidance)\n",
    "\n",
    "    Example Flow 2 (Birth Details Provided Later):\n",
    "    User: \"What's my love life like this year?\"\n",
    "    → AstrologicalInterpreter (asks for details)\n",
    "    User: \"Born June 15, 1990, 3:30 PM in London\"\n",
    "    → BirthChartCalculator\n",
    "    → TransitAnalyst\n",
    "    → WorldOracle (if needed for context)\n",
    "    → AstrologicalInterpreter\n",
    "\n",
    "    Remember: \n",
    "    - Always maintain a conversational, helpful tone\n",
    "    - Don't get stuck in loops asking for birth details\n",
    "    - Provide value whether birth details are available or not\n",
    "    - Route to FINISH if the question has been fully addressed\"\"\"\n",
    "    ),\n",
    "    [\"WorldOracle\", \"BirthChartCalculator\", \"TransitAnalyst\", \"AstrologicalInterpreter\"],\n",
    ")"
   ]
  },
  {
   "cell_type": "markdown",
   "metadata": {},
   "source": [
    "### Fortune-telling team graph creation"
   ]
  },
  {
   "cell_type": "code",
   "execution_count": 34,
   "metadata": {},
   "outputs": [
    {
     "data": {
      "text/plain": [
       "<langgraph.graph.state.StateGraph at 0x30e34b250>"
      ]
     },
     "execution_count": 34,
     "metadata": {},
     "output_type": "execute_result"
    }
   ],
   "source": [
    "research_graph = StateGraph(FortuneTellingTeam)\n",
    "\n",
    "research_graph.add_node(\"WorldOracle\", worldoracle_node)\n",
    "research_graph.add_node(\"BirthChartCalculator\", birthchart_node)\n",
    "research_graph.add_node(\"TransitAnalyst\", transit_node)\n",
    "research_graph.add_node(\"AstrologicalInterpreter\", astrological_node)\n",
    "research_graph.add_node(\"supervisor\", fortuneteller_agent)\n",
    "research_graph.set_entry_point(\"supervisor\")"
   ]
  },
  {
   "cell_type": "code",
   "execution_count": 35,
   "metadata": {},
   "outputs": [
    {
     "data": {
      "text/plain": [
       "<langgraph.graph.state.StateGraph at 0x30e34b250>"
      ]
     },
     "execution_count": 35,
     "metadata": {},
     "output_type": "execute_result"
    }
   ],
   "source": [
    "research_graph.add_edge(\"WorldOracle\", \"supervisor\")\n",
    "research_graph.add_edge(\"BirthChartCalculator\", \"supervisor\")\n",
    "research_graph.add_edge(\"TransitAnalyst\", \"supervisor\")\n",
    "research_graph.add_edge(\"AstrologicalInterpreter\", \"supervisor\")\n",
    "\n",
    "research_graph.add_conditional_edges(\n",
    "    \"supervisor\", \n",
    "    lambda x: x[\"next\"],\n",
    "    {\n",
    "        \"WorldOracle\": \"WorldOracle\",\n",
    "        \"BirthChartCalculator\": \"BirthChartCalculator\",\n",
    "        \"TransitAnalyst\": \"TransitAnalyst\",\n",
    "        \"AstrologicalInterpreter\": \"AstrologicalInterpreter\",\n",
    "        \"FINISH\": END,\n",
    "    },\n",
    ")"
   ]
  },
  {
   "cell_type": "code",
   "execution_count": 36,
   "metadata": {},
   "outputs": [],
   "source": [
    "research_graph.set_entry_point(\"supervisor\")\n",
    "compiled_research_graph = research_graph.compile()"
   ]
  },
  {
   "cell_type": "code",
   "execution_count": 37,
   "metadata": {},
   "outputs": [],
   "source": [
    "result = compiled_research_graph.invoke({\"messages\": [HumanMessage(content=\"What is 5th house?\")], \"next\": \"supervisor\"})"
   ]
  },
  {
   "cell_type": "code",
   "execution_count": 38,
   "metadata": {},
   "outputs": [
    {
     "data": {
      "text/plain": [
       "{'messages': [HumanMessage(content='What is 5th house?', additional_kwargs={}, response_metadata={}),\n",
       "  HumanMessage(content='The 5th house in astrology is the house of creativity, pleasure, and self-expression. It governs areas such as:\\n\\n- Children and your relationship with them\\n- Creative pursuits like art, drama, hobbies, and teaching\\n- Love affairs, romance, dating, and casual relationships (distinct from marriage, which is ruled by the 7th house)\\n- Personal enjoyment, fun, sports, gambling, and risk-taking\\n- Speculation and playful self-expression\\n\\nEssentially, the 5th house represents how you enjoy life, express your individuality, and seek joy and passion. It highlights the playful, romantic, and creative side of your personality.\\n\\nIf you want a personalized interpretation of the 5th house in your chart or how current or upcoming transits might affect this area, feel free to provide your birth details or specific planetary placements.', additional_kwargs={}, response_metadata={}, name='AstrologicalInterpreter')],\n",
       " 'next': 'FINISH'}"
      ]
     },
     "execution_count": 38,
     "metadata": {},
     "output_type": "execute_result"
    }
   ],
   "source": [
    "result"
   ]
  },
  {
   "cell_type": "code",
   "execution_count": 39,
   "metadata": {},
   "outputs": [],
   "source": [
    "def enter_chain(message: str):\n",
    "    results = {\n",
    "        \"messages\": [HumanMessage(content=message)],\n",
    "    }\n",
    "    return results\n",
    "\n",
    "rag_chain = enter_chain | compiled_research_graph"
   ]
  },
  {
   "cell_type": "code",
   "execution_count": 40,
   "metadata": {},
   "outputs": [
    {
     "name": "stdout",
     "output_type": "stream",
     "text": [
      "{'supervisor': {'next': 'AstrologicalInterpreter'}}\n",
      "---\n",
      "{'AstrologicalInterpreter': {'messages': [HumanMessage(content='Astrological Interpretation: Mars in the 20th House\\n\\nThe traditional astrological system recognizes only 12 houses in a birth chart, so there is no standard or classical \"20th house.\" The concept of a 20th house might come from a specialized or non-traditional house system, a harmonic chart division, or could be a misunderstanding or typo.\\n\\nMars represents initiative, physical energy, drive, assertiveness, and how you take action. It can bring ambition and assertiveness but also potential for anger or impulsiveness.\\n\\nSince the 20th house is not recognized in typical astrology, I can\\'t provide a direct interpretation for Mars there. If you meant Mars in the 2nd or 10th house (which are standard houses), I can offer detailed insights on those.\\n\\nIf you have more information about the house system or chart type you are using, please share it, and I can help interpret Mars in that context!', additional_kwargs={}, response_metadata={}, name='AstrologicalInterpreter')]}}\n",
      "---\n",
      "{'supervisor': {'next': 'FINISH'}}\n",
      "---\n"
     ]
    }
   ],
   "source": [
    "for s in rag_chain.stream(\n",
    "    \"What is Mars in 20th house?\", {\"recursion_limit\": 100}\n",
    "):\n",
    "    if \"__end__\" not in s:\n",
    "        print(s)\n",
    "        print(\"---\")"
   ]
  },
  {
   "cell_type": "code",
   "execution_count": 41,
   "metadata": {},
   "outputs": [
    {
     "name": "stdout",
     "output_type": "stream",
     "text": [
      "{'supervisor': {'next': 'BirthChartCalculator'}}\n",
      "---\n",
      "{'BirthChartCalculator': {'messages': [HumanMessage(content='Location: Paris\\nLatitude: 48.8588897°N\\nLongitude: 2.320041°E\\nTime: 1990-05-13 12:00 (UTC+2.0)\\nJulian Day: 2448024.9166666665\\n\\nPlanetary Positions:\\n------------------\\nSun      52°23\\'11\" (Taurus 22°23\\'11\")\\nMoon     271°49\\'33\" (Capricorn 1°49\\'33\")\\nMercury  38°25\\'23\" (Taurus 8°25\\'23\")\\nVenus    10°26\\'44\" (Aries 10°26\\'44\")\\nMars     346°47\\'8\" (Pisces 16°47\\'8\")\\nJupiter  99°9\\'0\" (Cancer 9°9\\'0\")\\nSaturn   295°16\\'52\" (Capricorn 25°16\\'52\")\\nUranus   279°14\\'1\" (Capricorn 9°14\\'1\")\\nNeptune  284°22\\'57\" (Capricorn 14°22\\'57\")\\nPluto    226°13\\'31\" (Scorpio 16°13\\'31\")\\n\\nAscendant (Rising Sign):\\nPosition: 131°38\\'33\" (Leo 11°38\\'33\")\\n\\nHouse Cusps:\\n------------\\nhouse_1  131°38\\'33\" (Leo 11°38\\'33\")\\nhouse_2  150°4\\'17\" (Virgo 0°4\\'17\")\\nhouse_3  173°39\\'52\" (Virgo 23°39\\'52\")\\nhouse_4  205°3\\'50\" (Libra 25°3\\'50\")\\nhouse_5  243°52\\'40\" (Sagittarius 3°52\\'40\")\\nhouse_6  281°32\\'9\" (Capricorn 11°32\\'9\")\\nhouse_7  311°38\\'33\" (Aquarius 11°38\\'33\")\\nhouse_8  330°4\\'17\" (Pisces 0°4\\'17\")\\nhouse_9  353°39\\'52\" (Pisces 23°39\\'52\")\\nhouse_10 25°3\\'50\" (Aries 25°3\\'50\")\\nhouse_11 63°52\\'40\" (Gemini 3°52\\'40\")\\nhouse_12 101°32\\'9\" (Cancer 11°32\\'9\")\\n\\nAngles:\\n-------\\nascendant  131°38\\'33\" (Leo 11°38\\'33\")\\nmidheaven  25°3\\'50\" (Aries 25°3\\'50\")\\narmc       23°13\\'21\" (Aries 23°13\\'21\")\\nvertex     270°53\\'10\" (Capricorn 0°53\\'10\")', additional_kwargs={}, response_metadata={}, name='BirthChartCalculator')]}}\n",
      "---\n",
      "{'supervisor': {'next': 'TransitAnalyst'}}\n",
      "---\n",
      "{'TransitAnalyst': {'messages': [HumanMessage(content='Transit Report for 2025-05-18 13:54\\n==================================================\\n\\nTransiting Planets:\\n--------------------\\nSun      57°47\\'36\" (Taurus 27°47\\'36\") \\nMoon     303°25\\'13\" (Aquarius 3°25\\'13\") \\nMercury  44°28\\'54\" (Taurus 14°28\\'54\") \\nVenus    12°41\\'40\" (Aries 12°41\\'40\") \\nMars     134°2\\'42\" (Leo 14°2\\'42\") \\nJupiter  85°1\\'26\" (Gemini 25°1\\'26\") \\nSaturn   359°28\\'16\" (Pisces 29°28\\'16\") \\nUranus   57°19\\'37\" (Taurus 27°19\\'37\") \\nNeptune  1°34\\'47\" (Aries 1°34\\'47\") \\nPluto    303°46\\'28\" (Aquarius 3°46\\'28\") R\\n\\nAspects to Natal Planets:\\n--------------------\\nSun conjunction Sun (orb: 5.41°)  \\nSun conjunction Mercury (orb: 7.90°)  \\nSun semisextile Jupiter (orb: 2.64°)  \\nSun conjunction Uranus (orb: 4.94°)  \\nMoon semisextile Moon (orb: 1.59°)  \\nMoon opposition Jupiter (orb: 6.80°)  \\nMoon square Saturn (orb: 2.35°)  \\nMoon square Neptune (orb: 0.25°)  \\nMoon semisextile Pluto (orb: 1.95°)  R\\nMercury square Moon (orb: 5.00°) R \\nMercury conjunction Mercury (orb: 6.06°) R \\nMercury square Mars (orb: 5.62°) R \\nMercury semisquare Jupiter (orb: 1.60°) R \\nMercury square Pluto (orb: 4.65°) R R\\nVenus conjunction Venus (orb: 2.25°)  \\nVenus trine Mars (orb: 3.60°)  \\nVenus semisquare Uranus (orb: 1.88°)  \\nMars semisquare Moon (orb: 1.63°)  \\nMars sextile Mercury (orb: 2.30°)  \\nMars quincunx Mars (orb: 2.74°)  \\nMars semisquare Pluto (orb: 1.99°)  R\\nJupiter sextile Mercury (orb: 5.33°)  \\nJupiter square Venus (orb: 3.54°)  \\nJupiter square Neptune (orb: 7.57°)  \\nSaturn trine Sun (orb: 2.51°) R \\nSaturn quincunx Jupiter (orb: 0.26°) R \\nSaturn sextile Saturn (orb: 4.19°) R \\nSaturn trine Uranus (orb: 2.05°) R \\nUranus trine Mercury (orb: 5.25°) R \\nUranus square Venus (orb: 3.46°) R \\nUranus square Neptune (orb: 7.65°) R \\nNeptune sesquisquare Sun (orb: 1.59°) R \\nNeptune trine Mercury (orb: 0.10°) R \\nNeptune square Venus (orb: 1.69°) R \\nNeptune quincunx Mars (orb: 0.34°) R \\nPluto opposition Mercury (orb: 1.74°) R \\nPluto square Mars (orb: 2.18°) R \\nPluto sesquisquare Saturn (orb: 1.75°) R \\nPluto sesquisquare Neptune (orb: 0.35°) R', additional_kwargs={}, response_metadata={}, name='TransitAnalyst')]}}\n",
      "---\n",
      "{'supervisor': {'next': 'WorldOracle'}}\n",
      "---\n",
      "{'WorldOracle': {'messages': [HumanMessage(content=\"You were born on May 13, 1990, at 12:00 in Paris, with your Sun in Taurus at 22°23', Moon in Capricorn at 1°49', and Leo rising at 11°38'. Your chart shows a strong earth influence (Taurus Sun, Capricorn Moon) which suggests you are practical, grounded, and determined in life. Your Leo Ascendant adds a warm, confident, and charismatic outer personality.\\n\\nKey natal planetary placements include:\\n- Sun in Taurus (22°): Steadfast, patient, values stability and comfort.\\n- Moon in Capricorn (1°): Emotionally reserved, responsible, ambitious.\\n- Mercury in Taurus (8°): Thoughtful communicator, deliberate in thinking.\\n- Venus in Aries (10°): Passionate and direct in love and creativity.\\n- Mars in Pisces (16°): Sensitive and intuitive in action and drive.\\n- Jupiter in Cancer (9°): Nurturing and protective growth orientation.\\n- Saturn, Uranus, Neptune all in Capricorn: Strong Capricorn influence, disciplined, innovative, and somewhat idealistic about structure and authority.\\n- Pluto in Scorpio (16°): Deep transformational power and intensity.\\n\\nYour Leo Ascendant suggests you come across as warm, confident, and creative, with leadership qualities.\\n\\nFor the remainder of 2025, current transits indicate:\\n- The Sun is conjunct your natal Sun and Uranus in Taurus, which can bring about a time of personal awakening, new opportunities, and potential changes related to your core identity.\\n- Venus is conjunct your natal Venus in Aries, favoring romance, creativity, and social harmony.\\n- Saturn is trine your natal Sun and Uranus in Capricorn, supporting disciplined efforts and innovative restructuring in your life.\\n- Pluto transits are challenging your Mercury and Mars, suggesting deep transformative mental and energetic shifts, which may feel intense but also offer powerful growth.\\n\\nOverall, 2025 is a year that encourages you to embrace change, particularly in how you express yourself and relate to others, while grounding your ambitions with discipline and practicality. Your natural earth and fire energies in the chart balance stability with creative leadership.\\n\\nIf you want, I can also provide specific forecasts or advice for particular areas of life (career, relationships, health) for the upcoming months or for 2026.\", additional_kwargs={}, response_metadata={}, name='WorldOracle')]}}\n",
      "---\n",
      "{'supervisor': {'next': 'AstrologicalInterpreter'}}\n",
      "---\n",
      "{'AstrologicalInterpreter': {'messages': [HumanMessage(content='Astrological Analysis of Your Birth Chart:\\n- Sun in Taurus (22°) in your natal chart gives you a steady, patient, and practical nature. You value security and comfort and tend to approach life with determination.\\n- Your Moon in Capricorn (1°) indicates emotional reserve and a responsible, ambitious drive. You likely prefer to achieve emotional fulfillment through tangible achievements and structure.\\n- Leo Ascendant (11°) adds warmth, confidence, and charisma to your outward personality. You come across as creative and a natural leader.\\n- Mercury in Taurus suggests thoughtful and deliberate communication.\\n- Venus in Aries brings passion and directness in relationships and creative pursuits.\\n- Mars in Pisces shows sensitivity and intuition in how you take action.\\n- Strong Capricorn influence with Saturn, Uranus, and Neptune in Capricorn indicates discipline, innovation, and idealism around authority and structure.\\n- Pluto in Scorpio adds depth and transformational power.\\n\\nCurrent 2025 Transits Relevant to You:\\n- The Sun conjunct your natal Sun and Uranus in Taurus signals a personal awakening and opportunities for change around your core self and identity.\\n- Venus conjunct your natal Venus in Aries supports romance, creativity, and social harmony.\\n- Saturn trine your Sun and Uranus aids disciplined efforts and innovative restructuring.\\n- Challenging Pluto aspects to your Mercury and Mars suggest deep mental and energetic transformations, which may be intense but offer growth.\\n\\nPractical Advice:\\n- Embrace the current period of awakening and change, especially regarding how you express yourself and your identity. Be open to new opportunities that broaden your horizons.\\n- Use the supportive Saturn trine to bring structure and discipline to new ventures or personal goals.\\n- In relationships and creative projects, Venus’s transit encourages you to express passion and warmth freely.\\n- With Pluto stirring deep inner transformation, consider practices that help you process intensity, such as journaling, therapy, or creative expression.\\n- Your natural earth and fire energies balance stability with leadership; rely on this blend to navigate changes confidently.\\n\\nIf you want, I can provide more focused insights on career, relationships, or health for the coming months or for 2026.', additional_kwargs={}, response_metadata={}, name='AstrologicalInterpreter')]}}\n",
      "---\n",
      "{'supervisor': {'next': 'FINISH'}}\n",
      "---\n"
     ]
    }
   ],
   "source": [
    "for s in rag_chain.stream(\n",
    "    \"I was born on 13 May 1990 at 12:00 in Paris, I wanna know about my life\", {\"recursion_limit\": 100}\n",
    "):\n",
    "    if \"__end__\" not in s:\n",
    "        print(s)\n",
    "        print(\"---\")"
   ]
  },
  {
   "cell_type": "markdown",
   "metadata": {},
   "source": [
    "## Creating a Golden Test Dataset"
   ]
  },
  {
   "cell_type": "code",
   "execution_count": 42,
   "metadata": {},
   "outputs": [
    {
     "name": "stderr",
     "output_type": "stream",
     "text": [
      "[nltk_data] Downloading package punkt to\n",
      "[nltk_data]     /Users/keatnuxsuo/nltk_data...\n",
      "[nltk_data]   Package punkt is already up-to-date!\n",
      "[nltk_data] Downloading package averaged_perceptron_tagger to\n",
      "[nltk_data]     /Users/keatnuxsuo/nltk_data...\n",
      "[nltk_data]   Package averaged_perceptron_tagger is already up-to-\n",
      "[nltk_data]       date!\n"
     ]
    },
    {
     "data": {
      "text/plain": [
       "True"
      ]
     },
     "execution_count": 42,
     "metadata": {},
     "output_type": "execute_result"
    }
   ],
   "source": [
    "#RAGAS\n",
    "import nltk\n",
    "nltk.download('punkt')\n",
    "nltk.download('averaged_perceptron_tagger')"
   ]
  },
  {
   "cell_type": "code",
   "execution_count": 43,
   "metadata": {},
   "outputs": [],
   "source": [
    "from uuid import uuid4\n",
    "\n",
    "os.environ[\"LANGCHAIN_PROJECT\"] = \"cyberteller\""
   ]
  },
  {
   "cell_type": "markdown",
   "metadata": {},
   "source": [
    "### Using the same html files to generate synthetic data"
   ]
  },
  {
   "cell_type": "code",
   "execution_count": 44,
   "metadata": {},
   "outputs": [
    {
     "data": {
      "text/plain": [
       "[Document(metadata={'source': 'data/Synastry Art and Science- Synastry Aspects, Element Compatibility, House Overlays.html'}, page_content='Astrolibrary logo\\n\\nAstroLibrary 🔎\\n\\nDaily Personalized Horoscope ↗\\n\\nSynastry Art and Science- Synastry Aspects, Element Compatibility, House Overlays\\n\\n(This is a synastry lesson. If you prefer, see Synastry Interpretations instead.)\\n\\nWhat is synastry? Synastry is the art and science of comparing two birth charts to ascertain the energy flow between two individuals. Synastry is the astrology of relationships, and it reveals the level of compatibility between two people. Please don\\'t confuse this with fortune-telling. Synastry will not tell you if you are \"fated to be together.\" Any two people can choose to be together. Synastry shows if two unique individuals can be themselves and blend nicely together, or if being themselves causes the irritating grinding of mismatched gears.\\n\\nSpecifically, 3 things are compared:\\n\\nElements – At the very least, the dominant element in each chart must flow smoothly with the other.\\n\\nHouse Overlays – \"How you perceive each other.\" This is literally laying one birth chart over the other one, aligning them by zodiac sign degrees. First we note in which of your 12 Houses your partner\\'s planets fall. Then we note in which of your partner\\'s 12 Houses your planets fall.\\n\\nSynastry Aspects (also called Inter-aspects) – These are aspects formed from planets and angles in one chart to the planets and angles in the second chart. Here is the \"nitty gritty\" of a relationship. The dynamics between you is revealed by synastry aspects.\\n\\nNothing so profoundly affects our lives as contact with others, so this subject should be entered into with compassion and a commitment to thoroughness. If you rush the process of synastry, you will make erroneous judgments about something so serious. It is too easy and common for people to compare just 1 or 2 synastry aspects and assume they have the entire relationship mapped out. This is usually a huge mistake. Do not bother with synastry if you will not take the time to consider all parts. A real relationship is always at stake.\\n\\nThe scientific part of synastry is that all aspects, house cusps, planets, points, and angles are calculated mathematically. In this sense, synastry (and all astrology) is mathematically precise. Allowable orbs for synastry aspects range according to the preference of the astrologer. Keep in mind, we exist in a universal energy field in which an energy influence increases as it comes near us or decreases as it departs. It doesn’t just appear or disappear. So we must be flexible with allowable orbs.\\n\\nThen the art of synastry is to paint a picture of this energy field that is erected between the two birth charts. Please don\\'t attempt to do this without some intermediate astrological knowledge. Especially regarding your own relationships! 99% of the time, you will not be objective regarding your own relationship synastry unless you are experienced in astrology. Take time and learn as much as you can before making judgment calls regarding relationships.\\n\\nRelated\\n\\nSynastry Interpretations\\n\\nLove & Relationship Articles\\n\\nCite This Page\\n\\nMLA style\\n\\nCorinne Lane. \"Synastry Art and Science- Synastry Aspects, Element Compatibility, House Overlays\" Astrolibrary. Astrolibrary, LLC, 24 Aug. 2009. Web. 1 May. 2025. <https://astrolibrary.org/synastry/>\\n\\nAPA style\\n\\nCorinne Lane. (24 Aug. 2009). Synastry Art and Science- Synastry Aspects, Element Compatibility, House Overlays. In Free Astrology Lessons (14). Retrieved from https://astrolibrary.org/synastry/\\n\\nTop ↑\\n\\nFree Astrology Lessons\\n\\nPOPULAR ON OUR SITE\\n\\nFree Astrology Reports\\n\\nAstrology Calculators\\n\\nBirth Chart Interpretations\\n\\nFree Astrology Lessons\\n\\nFree Ebooks\\n\\nCopyright 2009–2025 Astrolibrary, LLC. All rights reserved.\\n\\nKNOW THYSELF'),\n",
       " Document(metadata={'source': 'data/What is a Rising Sign_Ascendant – Astrology Lesson 6.html'}, page_content='Astrolibrary logo\\n\\nAstroLibrary 🔎\\n\\nDaily Personalized Horoscope ↗\\n\\nWhat is a Rising Sign/Ascendant – Astrology Lesson 6\\n\\nRising Sign zodiac wheel banner\\n\\nWhat is a Rising Sign? The Rising sign is interchangeably called the Ascendant. It can be located on a natal chart as the sign on which the 1st House cusp falls. It is the sign that was at the eastern horizon point, from the viewpoint of your birth coordinates, at the moment of your birth. It rises on the path of the sun’s rise, and it changes degrees every few minutes. This is why an accurate birth time and place is so important for an accurate horoscope. A Rising sign can be different for twins born just a couple minutes apart. Further, this Ascendant point is the premises for the calculations of the rest of the house cusps. A few minutes of time difference shifts the entire chart.\\n\\nAstrology rising stars and sun, Classic Astrology Art\\n\\nThe Rising sign is like a direct connection between our Earth and the zodiac path. It is the zodiac sign that was “rising” over the Earth at the moment that we took our first breath, the point of intersection between the wheel of personal Houses and the celestial zodiac wheel. It represents our appearance in the world. The Rising sign is the image we project, the impression we make on others, the way we take action in the world, and the lasting effect we have on the environment. The Rising sign is often described as a public mask that we wear, since it tends to be how people see us, especially strangers who don’t know our deeper selves. But in fact, the Rising sign is not like a mask because wearing a mask denotes some level of falsity or hiding oneself. Your Rising Sign characteristics are not a \"fake cover-up\" as a mask would imply. Those characteristics are a real and true part of who your are, more like a face than a mask. Even though your face is shallow and external, you\\'re stuck with it and cannot take it off! It\\'s a real part of you, not fake. And people usually perceive it in ways that you yourself do not. That\\'s a Rising Sign for you – others see you as the embodiment of those characteristics, even though you might not see yourself like that.\\n\\nYour Sun sign is your true self, but it’s like the frame of a car, which is not so visible underneath the doors, bumpers and shiny paint. The Rising sign is how people perceive us because it is the style that we use to go about meeting the needs of our Sun sign. For example, a Capricorn-Sun person is ambitious, reserved, and needs order. But coupled with a Sagittarius-Rising sign, the person will appear care-free and un-ambitious, while all the time working hard to reach its Capricornian goals.\\n\\nWe tend to behave more like our Rising sign when we are surrounded by strangers, or in new situations, like job interviews. But still, it tends to be our personal style at all times. Personal style does not represent our deepest needs, though (like the Moon). A study of the Rising sign is best used as a tool to understand why people behave the way they do. The Rising sign is also said to describe our physical characteristics – our looks. For example, Libra-Rising is beautiful, Pisces-Rising has a dreamy appearance and small feet, Taurus-Rising is stocky with a thick neck, and so forth. We find this to be somewhat accurate most of the time. You try it and see.\\n\\nThe Rising sign is extremely important in the natal chart. The planet that rules the Rising sign is considered to be the chart ruler (planetary rulerships will be discussed in a later lesson). In practical terms, this means that every planet and sign in your natal chart is filtered through the Rising sign, or filtered through its ruling planet. Here is the most literal reason why we see people of the same Sun sign who behave so differently. They must obviously have different Rising signs.\\n\\nIn addition, people with the same Rising sign can also have different personalities because of the following: since the Rising sign is not as as basically fundamental as our Sun sign, it is greatly subject to the modifying influence of aspects. In other words, you don\\'t have a clear description of your Rising sign until you\\'ve blended in the energies of any planets aspecting the Ascendant. Example: A person with Leo Rising, but with Saturn in conjunction with the Ascendant will not be as bubbly and expressive as a typical \"Leo Rising\" person.\\n\\nSome astrologers believe that the Rising sign is the way the world forces you to behave. At some point in your youth, you were forced or taught to behave like your Rising sign. You can trace the Rising sign to one of your parents or primary care givers. Many times, the Rising sign of child will match the dominant sign of one of the parents.\\n\\nNow that you know what a rising sign is, see the Rising Sign Interpretations.\\n\\nFind out your rising sign with our Rising Sign Calculator\\n\\nCite This Page\\n\\nMLA style\\n\\nCorinne Lane. \"What is a Rising Sign/Ascendant – Astrology Lesson 6\" Astrolibrary. Astrolibrary, LLC, 20 Aug. 2009. Web. 30 Apr. 2025. <https://astrolibrary.org/rising/>\\n\\nAPA style\\n\\nCorinne Lane. (20 Aug. 2009). What is a Rising Sign/Ascendant – Astrology Lesson 6. In Free Astrology Lessons (6). Retrieved from https://astrolibrary.org/rising/\\n\\nTop ↑\\n\\nFree Astrology Lessons\\n\\nPOPULAR ON OUR SITE\\n\\nFree Astrology Reports\\n\\nAstrology Calculators\\n\\nBirth Chart Interpretations\\n\\nFree Astrology Lessons\\n\\nFree Ebooks\\n\\nCopyright 2009–2025 Astrolibrary, LLC. All rights reserved.\\n\\nKNOW THYSELF'),\n",
       " Document(metadata={'source': 'data/How to Read Your Own Birth Chart – Astrology Lesson 10.html'}, page_content='Astrolibrary logo\\n\\nAstroLibrary 🔎\\n\\nDaily Personalized Horoscope ↗\\n\\nHow to Read Your Own Birth Chart – Astrology Lesson 10\\n\\nastrologer observing, reading the sky through a telescope\\n\\n(This is a comprehensive lesson. If you prefer, see instead 4 Easy Birth Chart Reading Techniques For Beginners.)\\n\\n(Get your free birth chart and report here.)\\n\\nThe most important thing to remember while interpreting any birth chart is: synthesis. The entire chart must be taken as a whole. A natal chart abounds with bits and pieces of information about an individual. Each separate bit must be synthesized into one whole picture of the person.\\n\\nThis means that you cannot take one piece of the chart (for example, Mercury in Sagittarius) and decide that it defines the entire person. If you do that, you will, undoubtedly, be in error. Of course, you will be tempted to stop at one or another of the planetary meanings, and think that it is the defining factor of a person. This is a big mistake. For example, say that two individuals both have Mercury in Sagittarius (denoting something of a \"big mouth\"). You may be tempted to assume that both of the individuals are \"outspoken.\" But, say the first person has the Sun in Capricorn, while the second person has the Sun in Sagittarius. While they both have Mercury in Sagittarius, the first person (Sun in Capricorn) will have a much more reserved communication style than the second person (Sun in Sagittarius).\\n\\nThe point, again (and this point will be repeated often), is that the entire chart must be blended together. Yes, by all means, go ahead and see all the separate interpretations of each planet in its sign and house. But then you must weave it all together, and lace it with the Rising Sign, to get an accurate picture.\\n\\nIt’s as if each of us is a mosaic, made up of tiny individual images. In the birth chart, each separate planet in a sign and house is like one tiny individual image, one tiny part of the whole mosaic. Now, two different completed mosaics, if you look close enough, may contain tiny pieces that are exactly the same, yet they are part of two completely different finished mosaics (this point is illustrated by the example of Mercury in Sagittarius above). Although the mosaics contain similar pieces, the final products look nothing alike. So what we’re saying here is the opposite of that age-old adage: \"Don\\'t judge a book by its cover.\" The opposite is \"Don’t judge a book by a single page inside.\" The work of the astrologer, then, is to take all the bits and pieces of insight in the birth chart and synthesize them into a whole. What emerges is an amazingly accurate portrait of an individual.\\n\\nInterpreting Planets in the Signs\\n\\nLook at the birth chart and take note of what sign and house each planet is in. (Check here if you need help remembering what the symbols/glyphs mean.) Here is a handy, printable worksheet that will help you keep track of your birth chart information. Also take note of the Ascendant\\'s sign (Rising Sign), and which house the Ascendant\\'s ruler occupies.\\n\\nNow you can look up the \"Chart Interpretations\" of each of your planets and Rising Sign. The Chart Interpretations on the linked page are only general meanings of what each item represents. As you get a feel for the basic energy of each planet, and of the qualities of each sign, you can add your own insight.\\n\\nThe zodiac sign will show how the planet is manifested. Previously, we likened the signs to \"stained-glass windows\" through which the planet is expressed. See if this analogy helps: envision a sentence, with a \"verb\" and an \"adverb.\" The planet is the \"verb\" while the zodiac sign is the \"adverb.\" For example, the Moon (feel, nurture, respond) in the sign of Capricorn (reservedly, coldly) denotes someone who nurtures in a cold and reserved way, or has trouble expressing emotions. That\\'s not a happy placement for the Moon, but remember: there\\'s more to the story…the rest of the chart. (See what each planet means in Lesson 5: The Planets. See what each zodiac sign means in Lesson 8: Zodiac Signs)\\n\\nIncorporating the Astrological Houses\\n\\nThe other thing to remember is that the planet in the sign will focus on the House. This means that the activity denoted by the planet will take place in the arena of your life designated by the House in which that planet falls. (Remember, each House represents a sphere of life – i.e. work, home, friendships, etc.) The planet is the \"what,\" the sign is \"how\" that \"what\" is done, and the House is \"where\" it takes place. Here is a handy reminder to use when interpreting your natal chart:\\n\\nPlanets = What? Signs = How? Houses = Where?\\n\\nThe following table explains it further.\\n\\nPlanets = “What” = energies; what you like to do Signs = “How” = the way you do it Houses = “Where” = areas of your life\\n\\nAn example of why taking the House into consideration is so important:\\n\\nSay a person has Saturn in Capricorn in the 7th House, which could manifest as a reserved (Capricorn) attitude in love relationships (7th House). Then, say this same individual has Venus in Sagittarius in the 11th House. This person will be friendly and outgoing (Sagittarius) in social situations and groups (11th House), but unemotional and detached (although dependable) in love relationships (Saturn in Capricorn in the 7th). (Astrology is a powerful tool for understanding those seemingly contradicting tendencies that we all have. The birth chart tells it all. With time and patience, you will be able to read all such details from a birth chart)\\n\\nHouse Rulers (Signs on the Cusps)\\n\\nAnother influence on each House (in each department of life) is the ruling planet of the House. The ruling planet of each House in your natal chart is the planet that rules the sign on the cusp. For example, if you have Capricorn on the 7th House cusp, then Saturn is the Ruler of your 7th House, because Saturn rules Capricorn. The result is that Saturn will have an influence in the matters of your 7th House, regardless of which House Saturn is actually residing in. (Here is a table of the Sign Rulerships). The sign on each house cusp shows one\\'s attitude towards the matters of that house, whereas planets in the house show actual circumstances. For example, Capricorn on the 7th House cusp denotes an attitude of reserve or caution towards forming partnerships. On the other hand, Saturn in the 7th house may denote actual problems transpiring in partnerships and in marriage. These are subtle differences that will perfect your interpretations when reading a birth chart.\\n\\nSo a House is influenced by any planets residing in that House, but also by the ruler of the House. Most of the time, the ruler will be in a different House. Many times, the goods of the House will be used for advantage in the House where the planetary ruler actually resides. For example, say you have Capricorn on the 7th House cusp, and Saturn (Capricorn\\'s ruler) in the 2nd House. You may very well choose to marry (7th House) for money (ruler in 2nd House). This last statement brings us to our next point – a word of caution.\\n\\nA Word of Caution\\n\\nThe celestial configuration that took place at your moment of birth is a powerful indicator of your motivations, drives, preferences, and psychological makeup, but it does not seal your fate. It does show the potential you were born with, but what you do with that potential is up to you.\\n\\nSome astrologers mistakenly interpret birth charts by declaring the outcomes of the drives, or the external circumstances. They declare things that must definitively take place. But the correct way to interpret a birth chart is to declare the drives, strengths, weaknesses, preferences, needs, tendencies, and so forth. Astrology reveals our inner psychological makeup. The outcomes are for the individual to manifest for him/herself. For example, above it was mentioned that if you have Capricorn ruling your 7th House, and Saturn in the 2nd House, then you might marry for money. But the proper way to read that example is to declare that you \"have a need for security in your relationships. You have a need for security, but it does not necessarily mean that you will marry for money. You may very well choose to marry a pauper for true love. But be assured that your need for material security in relationships (as shown in your birth chart) will continue as a nagging feeling you won\\'t easily be rid of.\"\\n\\nThe natal chart never lies. The problem is when the natal chart is read incorrectly. Remember, instead of giving predestined predictions, you will be more precise to explain the potential. People choose what to do with their potential. As Henley wrote,\\n\\nI am the master of my fate: I am the captain of my soul.\"\\n\\nThe natal chart is one\\'s map.\\n\\nHere is another example, taken from history. Ancient astrologers, before psychology was popular, interpreted charts in a more fatalistic manner. If you were a Pisces, they would say that you would end up living in poverty (the \"starving artist\" stereotype) because you were such a \"weakling\". Modern astrologers understand the deeper psychological drives and needs that are represented by the planets and signs. Nowadays, we understand that Pisces has a need to transcend the mundane, and while he is very artistic, he is not fated to live in poverty. Pisces simply does not prioritize money or materials. He could be poor, or he could be rich. Either way, the Pisces will prioritize the intangible over the tangible – which is how we interpret it today. The interpretation shifted from a predetermined fate (poverty), to a psychological drive (need for artistic/spiritual transcendence) that may result in any circumstantial fate.\\n\\nRemembering Aspects\\n\\nDon\\'t forget the aspects. If you attempt to make an interpretation without considering the aspects, you will be in error. Interpretations for each planet in sign and house must be modified according to the nature of the aspects. Aspects can soften things and bring ease to otherwise troublesome planetary placements, or they can bring conflict to otherwise pleasant planetary placements. Aspects stimulate the planets.\\n\\nEvery planet has both easy and difficult (or positive and negative) manifestations. For example, the sun\\'s energy can be expressed as a generous pouring forth of self and creativity, or prideful arrogance and an excessive desire to be special. Aspects from other planets tell whether the energies will be expressed easily and positively (if it receives trines & sextiles), or with struggle and conflict (if it receives squares or oppositions). Again, a birth chart interpretation without accounting for aspects is incorrect, or at least incomplete. (See Lesson 9: Aspects in Astrology)\\n\\nMost important aspects to look for:\\n\\nTake immediate notice of conjunctions to any of the four angles (this means conjunctions to the Ascendant, M.C., Descendant, I.C.). When a planet makes a conjunction to one of the angles, the influence of that planet may be the strongest influence in the chart. The person will identify very strongly with the traits of that planet. This is explained in detail in: The Meaning of a Planet in Conjunction To 1 of Your Angles.\\n\\nAlso take notice of conjunctions made by the outer planets (Uranus, Neptune, and Pluto) to the inner planets (Sun, Moon, Mercury, Venus, and Mars). These conjunctions will drastically alter the interpretation for the inner planet by adding its own qualities. A conjunction from Uranus adds rebelliousness and innovation; a conjunction from Neptune adds confusion or sadness and/or inspiration and magic, and a conjunction from Pluto adds power, but can be a bit creepy.\\n\\nFor example, a Leo-Sun person who has Pluto making a conjunction aspect with their Sun will be very Plutonian. This person would be one of the most silent and secretive Leos ever.\\n\\nBalance of Elements and Qualities\\n\\nAnother thing to note is the balance of elements and qualities in the chart. If you feel overwhelmed with all this new information, then you should simply try this step first. This is the easiest interpretation that can be derived from a natal chart, even for inexperienced people. This is how it\\'s done:\\n\\nNote the element of the sign of each planet, and that of the ascendant, and of the midheaven. This printable worksheet will help you. Then simply count how many are fire, air, Earth, and water. Count the Sun\\'s and the Moon\\'s element for 2 each, because they are such a strong influence. It\\'s common to have a combination of elements, say 3 or 4 of each. However, should you find an imbalance, such as 5 or more of an element, or 0 to 1 of an element, this will say something about the overall temperament of the individual. Five or more of one element will make that the \"Predominant Element\" in the individual. It is interesting to note that the Predominant Element may be different from that of the Sun sign. In this case, the person will behave even less like their Sun sign – yet another reason why we cannot define a person simply by their Sun sign. If a chart is completely lacking in an element, or if there is only 1 planet in an element, that will be considered the \"Weakest Element.\" The \"General Interpretations\" on the following page will include interpretations for Predominant and Weakest Elements.\\n\\nThe same method is used to tally up the balance of qualities (Cardinal, Fixed, Mutable) of each planet, ascendant, and midheaven. This gives only subtle information, unless you find a great imbalance, such as a complete lack of one quality, or 6 or more of one quality. This printable worksheet will help you.\\n\\nIf you have your worksheet filled in with all the signs and houses of your planets, continue to Chart Interpretations to help you interpret your own birth chart.\\n\\nCite This Page\\n\\nMLA style\\n\\nCorinne Lane. \"How to Read Your Own Birth Chart – Astrology Lesson 10\" Astrolibrary. Astrolibrary, LLC, 23 Aug. 2009. Web. 30 Apr. 2025. <https://astrolibrary.org/read/>\\n\\nAPA style\\n\\nCorinne Lane. (23 Aug. 2009). How to Read Your Own Birth Chart – Astrology Lesson 10. In Free Astrology Lessons (10). Retrieved from https://astrolibrary.org/read/\\n\\nTop ↑\\n\\nFree Astrology Lessons\\n\\nPOPULAR ON OUR SITE\\n\\nFree Astrology Reports\\n\\nAstrology Calculators\\n\\nBirth Chart Interpretations\\n\\nFree Astrology Lessons\\n\\nFree Ebooks\\n\\nCopyright 2009–2025 Astrolibrary, LLC. All rights reserved.\\n\\nKNOW THYSELF'),\n",
       " Document(metadata={'source': 'data/Relationship Astrology – Introduction _ AstroLibrary.html'}, page_content='Astrolibrary logo\\n\\nAstroLibrary 🔎\\n\\nDaily Personalized Horoscope ↗\\n\\nRelationship Astrology – Introduction\\n\\nWhy is astrology useful in the area of love and relationships? This introduction explains why relationship astrology is reliable for finding genuine happiness in love.\\n\\nFor starters, we each have different preferences and different needs. Mainstream relationship advice, whether it comes from psychologists, books, or other media, is extremely limited in its capacity to be effective simply because they all ignore that one precious fact: each human is unique, with different preferences and different needs.\\n\\nThere is not one universal definition of a good relationship or lover. Ladies, it’s a waste of time to try and fit the mold of the popular media’s definition of a great girlfriend because that definition may not attract the man that satisfies you. Men, it’s a waste of time to follow rigid dating tips that may not appeal to the woman of your dreams.\\n\\nSo how do know what attracts or appeals to the lover of your dreams? More importantly, what attracts or appeals to you? What type of man/woman is the lover of your dreams? What do you need in a lover, in a relationship, in a spouse? You may think you know the answer to these questions. However, popular media may be influencing you to seek qualities that are not your natural preferences.\\n\\nThat ultimately results in failed relationships.\\n\\nOn the other hand, relationship astrology reveals your legitimate preferences. It is surprisingly thorough at detailing all the little things that we love and hate in relationships. Astrology is an extremely effective tool for illuminating each individual’s preferences and needs, including your hidden subconscious desires. Astrology reveals your psychological makeup and your hidden drives.\\n\\nYou can test this out by reading the description of your own Venus sign: Venus in the Signs. (Note that the description of your Venus sign will be an incomplete picture of your love style because a complete description must include aspects and other astrological factors.)\\n\\nThe benefit of astrology is that it reveals your unique and true love styles, love needs, and love preferences.\\n\\nWhy is this important?\\n\\nWhen you awaken your deeply-embedded love style, you awaken the love energy that can attract a naturally compatible lover. Relationships between naturally compatible people invite happiness and genuine satisfaction into our lives.\\n\\nSagittarius Couple Holding Hands on Swing Set\\n\\nRelated\\n\\nSynastry Interpretations\\n\\nLove & Relationship Articles\\n\\nCite This Page\\n\\nMLA style\\n\\nCorinne Lane. \"Relationship Astrology – Introduction\" Astrolibrary. Astrolibrary, LLC, 24 Aug. 2009. Web. 30 Apr. 2025. <https://astrolibrary.org/astrology-love/>\\n\\nAPA style\\n\\nCorinne Lane. (24 Aug. 2009). Relationship Astrology – Introduction. In Free Astrology Lessons (11). Retrieved from https://astrolibrary.org/astrology-love/\\n\\nTop ↑\\n\\nFree Astrology Lessons\\n\\nPOPULAR ON OUR SITE\\n\\nFree Astrology Reports\\n\\nAstrology Calculators\\n\\nBirth Chart Interpretations\\n\\nFree Astrology Lessons\\n\\nFree Ebooks\\n\\nCopyright 2009–2025 Astrolibrary, LLC. All rights reserved.\\n\\nKNOW THYSELF'),\n",
       " Document(metadata={'source': 'data/Zodiac Signs – Astrology Lesson 8 _ AstroLibrary.html'}, page_content='Astrolibrary logo\\n\\nAstroLibrary 🔎\\n\\nDaily Personalized Horoscope ↗\\n\\nZodiac Signs – Astrology Lesson 8\\n\\n(This page is a lesson about zodiac signs. You can instead go to zodiac sign descriptions. Or, for just the dates of the zodiac signs, see below.)\\n\\nWhat are the zodiac signs? The ancient Babylonians created the zodiac wheel by first splitting our sky into four sections designated by the yearly equinoxes and solstices (the turning points of the four yearly seasons).\\n\\nEach of these four sections of sky were split into 3 sections measuring 30 degrees each. This gives us a full 360-degree zodiac circle with 12 equal sections of 30 degrees each. Each 30-degree section is one zodiac sign, for a total of 12 zodiac signs (12, not 13). These 12 zodiac signs are not star constellations. The zodiac signs are 30-degree sections of space that were mathematically calculated in a way that was, and still is, intimately connected to our yearly seasons. (A Short History of Astrology)\\n\\nThe zodiac circle always assigns zero degrees of Aries (Aries, the zodiac sign, not the star constellation) to the Vernal Equinox (the Spring Equinox, or the first day of Spring in the northern hemisphere).\\n\\nThis zodiac wheel, also known as the tropical zodiac or western zodiac, is still accurate because we always align/begin it, as the ancients Greeks did, with the first day of Spring. This not a mistake. The zodiac wheel is intimately aligned with our Earth’s seasons. (This is an important fact to recognize. Some people today fail to recognize this fact, and so they erroneously claim that the zodiac wheel is misaligned. They do not understand that the Earth’s axial precession, or “precession of the equinoxes” does not impair the zodiac wheel.)\\n\\nThe ancient Babylonians used the constellations that appeared in the general area of each zodiac sign as placeholders. They designated 12 constellations to represent the 12 zodiac signs in the sky. The star constellations, with their varying degrees and sizes, are not the actual zodiac signs. These constellations were named after the zodiac signs they represent, not the other way around!\\n\\nZodiac signs wheel with sun in center. Ancient astrology art.\\n\\nThere were no cute animals or mythical creatures associated with them yet. Different energies were observed to correlate with the position of the planets in different sections of the heavens. These 12 signs became 12 different archetypes, each with their own characteristics.\\n\\n(Notice how the 12 archetypes recur in history: 12 Gods of Olympus, 12 sons of Abraham, 12 tribes of Israel, 12 Apostles of Jesus Christ, 12 Successors to the Prophet Muhammad).\\n\\nThe 12 archetypes, or zodiac signs, already had their traits before the ancient Greeks attached the popular symbols to them. The Greeks had the uncanny brilliance of choosing symbols that parallel the sign traits very closely. So now, when we think of the sign of Aries, we think of a ram; when we think of Sagittarius, we think of an archer, and so on. This lesson will not delve into the mythological stories behind the choice of symbols for the signs. We will give a topical, general description of the archetype of each sign.\\n\\nTo clarify, the following descriptions of the zodiac signs refer to the archetype of the sign itself, regardless of which planet is in the sign. We will describe the zodiac sign as if it were a person, with characteristics. In other words, the following descriptions do not specifically or exclusively apply to people with the Sun in that sign. This is because the Sun sign is not the only defining characteristic of a person. While the Sun sign is important, it is by no means the complete story of our personal profile.\\n\\nlight shining through stained glass window\\n\\nOur Moon sign, Rising sign, Mercury sign, Venus sign, and all the rest are just as important in giving us a complete picture of ourselves. We all have the entire zodiac in our charts – all 12 zodiac signs. For this reason, it is important to learn the traits of all the signs. Planets in the signs will be expressed according to the traits of the sign they are in. Thus, the zodiac signs modify the planets. Each zodiac sign is like a stained-glass window through which the planets must pass to manifest in our lives. Each \"window\" is different. And different planets through the same \"window\" will also be different. (For example, the Sun in Aries is not the same as the Moon in Aries).\\n\\nClick on each zodiac sign constellation to learn about it.\\n\\nAries Taurus Gemini Cancer\\n\\nLeo Virgo Libra Scorpio\\n\\nSagittarius Capricorn Aquarius Pisces\\n\\n* Sun Sign Dates\\n\\nNote: Being born on the cusp does not mean you have two sun signs.\\n\\nHere are the approximate dates for Zodiac Sun Signs:\\n\\nAries:\\n\\nMarch 20 – April 22 approximately\\n\\nTaurus:\\n\\nApril 19 – May 22 approximately\\n\\nGemini:\\n\\nMay 20 – June 22 approximately\\n\\nCancer:\\n\\nJune 20 – July 22 approximately\\n\\nLeo:\\n\\nJuly 21 – August 22 approximately\\n\\nVirgo:\\n\\nAugust 21 – September 22 approximately\\n\\nLibra:\\n\\nSeptember 21 – October 22 approximately\\n\\nScorpio:\\n\\nOctober 21 – November 22 approximately\\n\\nSagittarius:\\n\\nNovember 21 – December 22 approximately\\n\\nCapricorn:\\n\\nDecember 20 – January 22 approximately\\n\\nAquarius:\\n\\nJanuary 19 – February 20 approximately\\n\\nPisces:\\n\\nFebruary 17 – March 21 approximately\\n\\nCite This Page\\n\\nMLA style\\n\\nCorinne Lane. \"Zodiac Signs – Astrology Lesson 8\" Astrolibrary. Astrolibrary, LLC, 22 Aug. 2009. Web. 30 Apr. 2025. <https://astrolibrary.org/zodiac/>\\n\\nAPA style\\n\\nCorinne Lane. (22 Aug. 2009). Zodiac Signs – Astrology Lesson 8. In Free Astrology Lessons (8). Retrieved from https://astrolibrary.org/zodiac/\\n\\nTop ↑\\n\\nFree Astrology Lessons\\n\\nPOPULAR ON OUR SITE\\n\\nFree Astrology Reports\\n\\nAstrology Calculators\\n\\nBirth Chart Interpretations\\n\\nFree Astrology Lessons\\n\\nFree Ebooks\\n\\nCopyright 2009–2025 Astrolibrary, LLC. All rights reserved.\\n\\nKNOW THYSELF'),\n",
       " Document(metadata={'source': 'data/Before Determining Compatibility – Individual Capacity to Relate.html'}, page_content='Astrolibrary logo\\n\\nAstroLibrary 🔎\\n\\nDaily Personalized Horoscope ↗\\n\\nBefore Determining Compatibility – Individual Capacity to Relate\\n\\n(This is a compatibility lesson. If you prefer, see zodiac compatibility instead, or the synastry interpretations.)\\n\\nBefore attempting to determine compatibility between 2 people, check each birth chart separately to determine what each individual’s capacity to relate is? How well matched are their needs for intimacy? How well do the individual life goals, styles, and rhythms blend? If their life goals don’t match up well, all the compatibility in the world will not help such star-crossed lovers.\\n\\nAnswer the 4 following questions:\\n\\nHow comfortable is each with their biologic role and how well do these roles match up? How well does each relate to their own and the opposite sex? Those at ease with the opposite sex will be frustrated when trying to form a relationship with someone who is not. Do not assume that others function the same as you do, as that will plant the seeds of friction and annoyance when you find that they do not. Look at the aspects of the Sun, Moon, Venus and Mars in the birth chart. Then check your aspects in the following 3 tables to see what those aspects signify.\\n\\nDo you Play Well with Males?\\n\\nLook at Sun\\'s Aspects\\n\\nif Sun has several good aspects; no squares or oppositions of Sun\\n\\nGenerally at ease & comfortable with males, and comfortable playing society\\'s expected role towards males\\n\\nif Sun is unaspected, or only lightly aspected\\n\\nMales will not play a significant role in one\\'s life\\n\\nif Sun has hard aspects (squares or oppositions)\\n\\nRelating to males (whether father, friend, or lover) is stressful & anxious; has difficulty accepting society\\'s demands in relating to males\\n\\ncompatibility with males, father, son, grandfather\\n\\nrelationship compatibility with females\\n\\nDo you Play Well with Females?\\n\\nLook at Moon\\'s Aspects\\n\\nif Moon makes harmonious aspects – conjunctions, trines and sextiles\\n\\nRelates easily and happily to females\\n\\nif Moon makes no, or minimal, aspects\\n\\nInteraction with females is generally unimportant, routine, or obligatory\\n\\nif Moon makes hard aspects\\n\\nFinds female qualities irritating or demanding (either in themselves or others)\\n\\nCan you be Happy in Love and Sex?\\n\\nif Venus has good aspects; no squares or oppositions\\n\\nHappy capacity to give of self, find beauty & value in others, and act to communicate those feelings\\n\\nif Venus has hard aspects\\n\\nLimited ability to express love; limited ability to develop trust & admiration for another person enough for a love commitment\\n\\nif Mars is well-aspected\\n\\nCommunicates sexual needs openly & gracefully\\n\\nif Mars is badly-aspected\\n\\nstressful or discordant sexual style\\n\\nHow well do the life goals, limitations, and unconscious needs of each match up? Where do they find satisfaction, fulfillment, limitations, frustrations, and illusions? If these are not well matched, no amount of love, sexual attraction, worldly success or effort will prevail against a simple mismatch of what each person defines as a good and satisfactory life. Look at the Houses in the birth chart containing the Moon, Venus, Saturn, and Neptune…\\n\\nWhat is \"The Good Life\" to you?\\n\\nLook at Houses of Moon & Venus\\n\\nThe Houses containing the Moon and Venus show what areas of life provide you with a sense of emotional fulfillment and joy of living (especially the Moon\\'s house). If these houses clash with those of your partner, conflict down the line will be inevitable regardless of how compatible your personalities are. A person\\'s life goals are almost always (I dare say, always) related to one of these houses. These houses signify those things you want to do when you retire, or when you win the lottery. Would you prefer to go sky-diving or snuggle up with a book? Travel the world, or be a cookie-baking grandparent?\\n\\nSome brief examples: A person with Moon in the 5th house may get a sense of well-being from the pursuit of pleasure and thrill-seeking adventures. Moon or Venus in the 4th house prefers to sit at home. Moon or Venus in the 7th house needs to be in a one-to-one relationship, but in the 11th house large community groups are preferred. Moon or Venus in the 12th is comfortable in solitude and may forego partnerships altogether. 10th or 6th house: needs to be productive instead of relaxing and thrill seeking; likely a workaholic. But in the 10th house, public worldly success is a must, while in the 6th enjoyment comes simply from a job well-done, working behind the scenes.\\n\\nExamine the Houses containing the Moon and Venus in both charts to see if the individuals can possibly enjoy life together.\\n\\nSee descriptions of all 12 Houses See interpretations for Moon in the Houses See interpretations for Venus in the Houses\\n\\nWhere are you Frustrated or Limited?\\n\\nLook at House of Saturn\\n\\nThe House containing Saturn is the most frustrating area of life for the individual. There exists ambivalence regarding this house: you want the stuff of this house, yet at the same time, you don\\'t want it. There seems to be built-in limitations in this area of life. What is frustrating for the individual will eventually carry over into any relationship. Couples beware of your partner\\'s house of Saturn! Limitations can be overcome, but not without struggle, as this house is sure to teach. Can you accept your partner’s Saturn? More about Saturn in the Houses.\\n\\nWhere are you Disappointed? Fall for Illusions?\\n\\nLook at House of Neptune\\n\\nThe House containing Neptune is the area of life that is always just out of reach. This is the sphere of life that will seemingly forever elude us in finding completeness. Yet, in this house, we endlessly chase illusions and fulfillments. We have big dreams for this house, but only limited success. Couples beware of your expectations regarding your partner\\'s Neptune house! No doubt, this is the most inspired and inspiring house in the birth chart, the only one where fantasy can become real, but here…what you see is not always what you get. Dreams can come true in your Neptune house (Oprah has Neptune in her House of Career), but more often than not, Neptune leaves us swimming in a deep pool of delusion and fantasy. Can you swim in your partner’s Neptune house? Better yet, have you got room in your boat? More about Neptune in the Houses.\\n\\nWhat’s your Love Language?\\n\\nWhat type of relating energy exists in each chart? Sexual energy? Emotional energy? Companionability? Permanence? These can be seen as relating \"languages.\" Understanding the partner\\'s love language can help avoid feelings of rejection. For example, if one partner naturally pours much emotionally and/or physically into the relationship, but the other is, by nature, much less emotionally or sexually energetic, this can be misinterpreted as disinterest or lack of commitment to the relationship. We really only understand love in our own \"love language.\" If your partner speaks fire and you speak water, you will both feel like you don\\'t love each other. Loving someone in that scenario will require a lot of work. And unfortunately, you will not easily appreciate the effort because it will usually be in a language foreign to your heart.\\n\\nA different way of understanding these energy levels is to see them like radio frequencies. Fire, air, water, and earth are different radio frequencies, or radio stations. If you are a water person, then you are tuned into the water station. You will not pick up love vibes coming from the fire or air station. They may be breaking their head trying to prove love to you, but you will not be receiving it because you are tuned in to the water station.\\n\\nGenerally speaking, water and earth signs are compatible with each other. Air and fire signs are compatible with each other.\\n\\nKnowing a person\\'s love language ahead of time can help one avoid a bad choice of partner, or avoid resentment about the partner\\'s way of relating.\\n\\nLook at the element of your Venus sign. Your Venus element is your love language; read below to see how each element understands “love”.\\n\\n(If you want to be super-specific…Look at the elements of the signs of the following: Moon, Venus, Mars, and Cusps of 5th house, 7th house, & 8th house. These planets and house cusps have to do specifically with how we relate to others. Calculate the strongest element within these planets and house cusps. Give the element of Venus\\'s sign an extra point. If you get a tie between two elements, go with the element of your Venus sign.)\\n\\nWhat\\'s your Love Language?\\n\\nLook at your Venus Element\\n\\nWater signs bring the most emotional energy (read: intimate, soul-level bonding) to partnerships. Water needs an emotional, soul-merging to feel love. Water Venus loves deeply and shows it by caring about your well-being and your feelings. Touching and talking alone will not satisfy this Venus; they need to \"feel\" love from you in order to be satisfied in love.\\n\\nFire signs bring the most physical energy (read: sexual energy). Fire Venus needs to be active together to feel love; fun outings, adventurous vacations, etc. And tons of sex. Fire Venus people can seem self-centered because when in love, they feel it coming from inside them, rather than being based on the other person. The other person may be in front of them saying, \"hello, look at me,\" but Fire Venus ignores because they are too busy being consumed with love. They love passionately.\\n\\nEarth signs bring stability and durability (read: a keeper) to partnerships, but have a more limited emotional range. Earthy Venus people need your physical presence near them, but don\\'t get mushy because they won\\'t have it. Emotional expressions should be limited to what you want for dinner, or which movie you want to see. They handle physical and material needs, not emotional ones. Earthy Venus is faithful. In bed, you will appreciate their mastery of the physical. They are sensual.\\n\\nAir signs bring great companionability and intellectual stimulus to partnership but perhaps the least of all emotional energy and physical responsiveness (read: excellent communication, interesting conversations, but of a detached acquaintance-type). Air Venus needs companionship, someone to talk to, someone to hang out with, someone to watch movies with. (But most of all, someone to talk to.) These are friendly people, and even in love, the relationship may seem more like a friendship. This may sound nice, but if you need deep emotional bonding, you will not find it here. If you need a lot of physical presence (as in Earth Venus) forget about Air Venus. Like the wind, they come and go as they please.\\n\\nCompare the 4 love languages more by reading these articles:\\n\\nFire Sign Love Language\\n\\nWater Sign Love Language\\n\\nAir Sign Love Language\\n\\nEarth Sign Love Language\\n\\nWhere are the individuals in their great life cycles and how well do their life agendas fit together? What is the current focus of life? Trying to settle down with a partner who does not have a relationship on their agenda at the time ends up in the notorious situation of a lingering love affair that never progresses to the next step.\\n\\nSaturn is the \"time-clock\" or \"taskmaster\" of our lives. We tend to reassess, rewrite, and focus on the portion of our lives indicated by the house that Saturn is transiting at any given time. Knowing this ahead of time helps to distinguish between genuine and durable compatibility and just a temporary coincidence of meshing desires. A person is highly unlikely to begin or endure in a real relationship if Saturn is not transiting through a \"relationship house.\" (Uranus, Neptune, and Pluto transits can direct our focus, as well, but Saturn is more solidly felt).\\n\\nLook to the house that Saturn, the great time-clock of our lives, is transiting. We are most open to partnerships when Saturn (or Uranus, Neptune, and Pluto) transits through the following Houses:\\n\\nIs it Your Time for a Relationship?\\n\\nOnly if Saturn is Transiting 1 of the following houses in your birthchart\\n\\n4th: Home & Family\\n\\n5th: Pleasure, Romance, Children\\n\\n7th: Marriage\\n\\n8th: Partner\\'s Finances, Psychological issues, Sex\\n\\n10th: Partnering for the purpose of establishing identity or public recognition\\n\\nIn Summary\\n\\nThe 4 questions above describe the broad boundaries of each individual\\'s capacity to relate. These boundaries create the stage on which any relationship must take place, and limits which cannot be crossed. Then, the smaller frame of personal compatibility must be determined only as it fits within these broad boundaries since these ultimately define the outer ranges of any relationship. Compatibility is discussed on the next page.\\n\\nRelated\\n\\nSynastry Interpretations\\n\\nLove & Relationship Articles\\n\\nCite This Page\\n\\nMLA style\\n\\nCorinne Lane. \"Before Determining Compatibility – Individual Capacity to Relate\" Astrolibrary. Astrolibrary, LLC, 24 Aug. 2009. Web. 1 May. 2025. <https://astrolibrary.org/before-compatibility/>\\n\\nAPA style\\n\\nCorinne Lane. (24 Aug. 2009). Before Determining Compatibility – Individual Capacity to Relate. In Free Astrology Lessons (12). Retrieved from https://astrolibrary.org/before-compatibility/\\n\\nTop ↑\\n\\nFree Astrology Lessons\\n\\nPOPULAR ON OUR SITE\\n\\nFree Astrology Reports\\n\\nAstrology Calculators\\n\\nBirth Chart Interpretations\\n\\nFree Astrology Lessons\\n\\nFree Ebooks\\n\\nCopyright 2009–2025 Astrolibrary, LLC. All rights reserved.\\n\\nKNOW THYSELF'),\n",
       " Document(metadata={'source': 'data/Elements and Energy – Deeper into the 3 parts of Synastry.html'}, page_content='Astrolibrary logo\\n\\nAstroLibrary 🔎\\n\\nDaily Personalized Horoscope ↗\\n\\nElements and Energy – Deeper into the 3 parts of Synastry\\n\\nYin-yang, compatible energy and elements in Relationships\\n\\n(This is a synastry lesson. If you prefer, see Synastry Interpretations instead.)\\n\\nFire and air are compatible with each other, and they are the yang elements. Earth and water are compatible with each other, and they are the yin elements.\\n\\nIn general, we can see eye to eye with people of our compatible elements. It’s best to start with compatible Sun-sign elements (both yin or both yang). This is really the ideal. Some astrologers say there are so-called compensations for incompatible Sun elements that can make for a bearable relationship. But we tend to disagree. Yang (fire & air) and Yin (earth & water) just don’t see eye to eye. This isn’t necessarily bad, but you will spend a great deal of time explaining yourself to each other. If you are dominant yang energy, you will notice that you need to put in extra effort to understand a yin person, and vice versa. Communication will not be smooth in such a relationship.\\n\\nBeing in a long-term relationship with the wrong energy can actually be detrimental to your health. It’s doable, but not always healthy.\\n\\nThe ideal is compatible Sun elements. If the Suns are compatible, everything else can be worked on. And this is not a asking too much — about half of the population is compatible with your Sun element. You can check which Sun signs are compatible with your own on the Zodiac Signs Compatibility page.\\n\\nIn addition, compatible Moon elements, Rising sign elements, and Venus sign elements are desirable. The more the better. Compatibility is all about this elemental energy flowing smoothly. Incompatible elements are like gears of a transmission grinding against each other instead of flowing smoothly. You can actually test this and get a feel for incompatible energies: take a 4-hour car drive with a person who has an incompatible Moon element.\\n\\nThe four elements express and understand love differently. Compare the love styles of the 4 elements be reading these articles:\\n\\nFire Sign Love Language Water Sign Love Language Air Sign Love Language Earth Sign Love Language\\n\\nRelated\\n\\nSynastry Interpretations\\n\\nLove & Relationship Articles\\n\\nCite This Page\\n\\nMLA style\\n\\nCorinne Lane. \"Elements and Energy – Deeper into the 3 parts of Synastry\" Astrolibrary. Astrolibrary, LLC, 24 Aug. 2009. Web. 1 May. 2025. <https://astrolibrary.org/synastry-1/>\\n\\nAPA style\\n\\nCorinne Lane. (24 Aug. 2009). Elements and Energy – Deeper into the 3 parts of Synastry. In Free Astrology Lessons (15). Retrieved from https://astrolibrary.org/synastry-1/\\n\\nTop ↑\\n\\nFree Astrology Lessons\\n\\nPOPULAR ON OUR SITE\\n\\nFree Astrology Reports\\n\\nAstrology Calculators\\n\\nBirth Chart Interpretations\\n\\nFree Astrology Lessons\\n\\nFree Ebooks\\n\\nCopyright 2009–2025 Astrolibrary, LLC. All rights reserved.\\n\\nKNOW THYSELF'),\n",
       " Document(metadata={'source': 'data/Planets in Astrology – Lesson 5 _ AstroLibrary.html'}, page_content='Astrolibrary logo\\n\\nAstroLibrary 🔎\\n\\nDaily Personalized Horoscope ↗\\n\\nPlanets in Astrology – Lesson 5\\n\\nClick on one of these astrology planets to skip down to its description:\\n\\nastrology planet sun glyph symbol\\n\\nSun\\n\\nastrology planet moon glyph symbol\\n\\nMoon\\n\\nastrology planet mercury glyph symbol\\n\\nMercury\\n\\nastrology planet venus glyph symbol\\n\\nVenus\\n\\nplanet mars astrology glyph symbol\\n\\nMars\\n\\njupiter astrology planet glyph symbol\\n\\nJupiter\\n\\nsaturn astrology planet glyph symbol\\n\\nSaturn\\n\\nuranus astrology planet glyph symbol\\n\\nUranus\\n\\nneptune astrology planet glyph symbol\\n\\nNeptune\\n\\npluto astrology planet glyph symbol\\n\\nPluto\\n\\nAstrology is about observing the planets. This is not to say that the planets (or the signs) cause anything to happen. What we observe is synchrony – that things are taking place in sync. One movement is flowing throughout our space, heavens, and Earth. Instead of causing, the planets indicate things, describing what is already taking place. But for the sake of convenience, astrologers use phrases like, “your Venus makes you like this,” or “his Mars made him act like that.” Please note that this is only for convenience in communicating. Astrologers know that the planets don’t force us to do anything, any more than your 5:00pm clock forces you to stop working. But you do stop working when the clock strikes 5:00pm, don’t you? And so you pay careful attention to that clock, because that clock will show you when it’s time to go home from work. But the clock never forced you to leave work, neither did it ever seal your fate. In the end, you decide when to leave work. That is the beauty of synchronicity.\\n\\nAs has been mentioned, the Sun and the Moon are included when we say “the planets.” Astrologers do this for convenience. The ten planets of astrology are: Sun, Moon, Mercury, Venus, Mars, Jupiter, Saturn, Uranus, Neptune, and Pluto[1]. (From our geocentric position, Earth is not included in the list; however Earth\\'s interplay in the scheme of things is denoted by the Ascendant.) However, before the 18th century only the first seven planets were recognized (they were perceivable to the naked eye): Sun, Moon, Mercury, Venus, Mars, Jupiter, and Saturn. Since over 2,000 years ago, the seven classical planets were observed to keep time, orbiting steadily on their paths. Perhaps that is why the number seven was symbolic of deity in ancient cultures. The seven were named after Greek gods because their influence was considered to be as such. Seven was the number of days chosen for a week, with each day borrowing its name from one of the classical planets. (The days making up our calendar month were determined based on one complete cycle through the 12 zodiac signs by the moon, from which the word \"month\" comes from.)\\n\\nThe discoveries of Uranus, Neptune, and Pluto corresponded to revolutionary changes in our world, from the Industrial Revolution and discovery of electricity (Uranus), to the financial collapse and interest in world domination of the 1930’s (Pluto). Pluto’s demotion of status to a “dwarf planet” does not change the fact that it is a celestial body participating in the continuous flow of energy in our world. Thus, Pluto is included here as a planet. (Astrology also observes several other asteroids/planetoids, regardless of planetary status. The body is there, thus, it counts.)\\n\\nEach planet symbolizes a different component of life, a different type of energy. In psychological terms, we can call them “needs” or “drives.” Click on the astrology planets above to learn what each one brings to astrology.\\n\\nNotes\\n\\n1. See Why Pluto is still valid even though it’s not a planet anymore\\n\\nplanets solar system view from moon\\n\\nsun planet golden red orange fire\\n\\nThe Sun\\n\\n“I am”\\n\\nBest quality: Rulership Worst quality: Dictativeness\\n\\nThe sun represents your ego, the inner you, your essence, the unchanging part of you – the calm, steady, deep and lasting force felt within you, enabling you to exert willpower, make decisions and direct all the other parts of you life. The Sun represents your will, and its sign determines the dynamic expression of the will, which is carried out through the activity of the other planets in the horoscope. Remember, the sun sign is just the start of your portrait. Think of your horoscope as a painting of you. The characteristics of your Sun sign are the first broad strokes that the artist first lays down on the canvas. The artist outlines your general shape, the planes and angles of your face, the way in which you hold your body. In the same way, your sun sign delineates your fundamental character, your core. Are you introspective? Do you make friends easily? Are you pompous or plain, generous or greedy? How do you cope with responsibility? Are you high-strung or easygoing? The answers may be found in a study of your Sun\\'s position by sign and house, and any aspects from it.\\n\\nInterpretations for the Sun in each zodiac sign are available here: Sun in the Signs\\n\\nInterpretations for the Sun in each House of the birth chart: Sun in Houses\\n\\nReturn to Top Return to Leo\\n\\nfull moon planet\\n\\nThe Moon\\n\\n“I feel”\\n\\nBest quality: Adaptability Worst quality: Inconstancy\\n\\nThe Moon is as important as the Sun in your natal chart. The Sun sign is a part of you that is apparent to others; it is what others see. The Moon sign is the part of you that you see. The Moon represents your emotional nature and instinctive reactions – emotional responses based on past experiences and unconscious habit patterns that you have developed. It comprises all the little surface peculiarities, moods, and changes that have to do with physical life which are disturbing, fleeting, and changing. It describes the way you behave in instances in which you haven’t had time to think things through, your immediate emotional responses. Have you ever done something that you immediately regretted and thought, “that’s not like me.” It may have been your Moon sign qualities at work. The sign that the Moon is in shows what makes you feel emotionally nurtured, secure, and satisfied. Because emotions run so deep, the Moon sign represents your greatest need. It also shows how you nurture others. Most of the time, your Moon sign will only be apparent to those who live with you, or people that are very close to you. In many ways, your Moon personality is the one you keep hidden. It is your inner core, which feels hate, jealousy, fear, and has fantasies that you often deny even to yourself. On the other hand, it is your Moon personality that spontaneously feels and expresses joy and pleasure. It is the part of you that enjoys the little sensualities of life. The Moon in your horoscope modifies your Sun sign; it brings new forces, different motivations, and spiritual elements to the character of your Sun sign. For example, a Gemini-Sun person with Moon in Taurus will be more dependable than a Gemini-Sun with Moon in Aquarius. Here is another reason why we cannot define a person simply by their Sun sign.\\n\\nThe Moon is also a symbol of fertility and femininity; its sign colors one\\'s relationship with the mother, and with women in general. In a male\\'s chart, it indicates the type of woman he feels most comfortable with. Although the Venus sign indicates a male\\'s romantic/erotic preference in partners, the Moon sign indicates the type of woman he would choose as a lifelong mate (because the Moon \"needs\" are stronger than the Venus \"wants\").\\n\\nThe Moon is constantly waxing and waning, from new Moon to full Moon and back. The house position of the Moon in your natal chart shows the area of life where you tend to be the most emotional, and where you often experience changing conditions. The house of the Moon also gives clues to the type of activity that occurs on the domestic scene.\\n\\nInterpretations for the Moon in each zodiac sign are available here: Moon in the Signs\\n\\nInterpretations for the Moon in each House of the birth chart: Moon in Houses\\n\\nReturn to Top Return to Cancer\\n\\nmercury planet astrology\\n\\nMercury\\n\\n“I think”\\n\\nBest quality: Expression Worst quality: Restlessness\\n\\nMercury is the planet of intelligence and communication. It governs our rational and intellectual faculties, perception and reason, memory, speaking, and writing. Mercury reflects your capacity to collect, sort, and communicate the knowledge you gain through your experiences and your senses. It reflects the way you see, hear, understand, and assimilate information. Mercury is symbolic of that child-like curiosity that drives your urge to know, and the ability to analyze and reason. Mercury also has to do with transportation and short trips, and the nervous system. The positive manifestations of Mercury include clever speech, eloquence, persuasiveness, success with public speaking and a sharp, quick mind. The more negative manifestations include restlessness, a tendency to be critical, sarcastic, argumentative and sly. The quick wit of Mercury can quickly turn into trickery. Lies, deceit, fraud, swindling, and forgery are examples of Mercury’s negative power. The sign of Mercury in your natal chart shows your style and preferences of communicating and learning. A strong Mercury in one\\'s chart, free of any negative aspects, indicates a brilliant mind.\\n\\nInterpretations for Mercury in each zodiac sign are available here: Mercury in the Signs\\n\\nInterpretations for Mercury in each House of the birth chart: Mercury in Houses\\n\\nReturn to Top Return to Gemini Return to Virgo\\n\\nvenus astrology planet real image\\n\\nVenus\\n\\n“I love”\\n\\nBest quality: Affection Worst quality: Pliancy (bending too easily, taking the easy way out)\\n\\nVenus is the planet of love, pleasure, and beauty. It represents your capacity to express affection and to enjoy beauty. This includes your capacity to attract and appreciate the things of the world, whether they are emotional, physical/material, mental, or spiritual things. It defines the type of people you draw to yourself, based on your social values. Things ruled by Venus include: what kind of sex appeal you posses, love affairs, the arts, beauty and beautiful things, adornment, affection, the social graces, harmony, and friendship. Being the planet of pleasure, it points to the kinds of amusements you are drawn to and in what ways you spend your money. The position of Venus in your natal chart can answer such questions as: What kind of lovers do you attract? Are you flirtatious? Do you find happiness in your love affairs, or are you often disappointed? Where do your creative talents lie? The sign of Venus gives important information about how you expresses yourself in personal relationships, especially in love and marriage. It also indicates your attitude toward money, personal possessions, creature comforts, and social and aesthetic values. Your Venus sign also reveals your idea of the \"perfect woman.\" In a male\\'s chart, the Venus sign indicates the type of woman that attracts him. In a woman\\'s chart, the Venus sign indicates the qualities that she uses to attract lovers. The house position of Venus indicates the type of people with whom you establish relationships, both friendships and romances, and where you are most likely to find an artistic outlet.\\n\\nVenus never travels far from the Sun. In your horoscope, it is always either in your Sun sign or in one of the two signs immediately preceding or following your Sun sign. A well-aspected Venus bestows charm, diplomacy, and tact. Some negative manifestations of Venus are self-indulgence, jealousy, envy, lust, and of course, unfaithfulness.\\n\\nInterpretations for Venus in each zodiac sign are available here: Venus in the Signs\\n\\nInterpretations for Venus in each House of the birth chart: Venus in Houses\\n\\nReturn to Top Return to Taurus Return to Libra\\n\\nastrology planet mars real image\\n\\nMars\\n\\n“I act”\\n\\nBest quality: Initiative Worst quality: Harshness\\n\\nMars is the exact opposite of Venus. Whereas Venus represents the female, Mars is all male. Whereas Venus is about harmony, Mars is conflict, aggression, and outright war. Mars is the planet of physical energy. It governs your sex drive, your forcefulness and your aggression. It is associated with your desires and aspirations for emotional, physical, mental and spiritual things that stimulate activity. You have to want something before you reach out and take it; Mars is the heated passion behind action. Mars shows your ability to turn ideas into action. The sign of Mars in your natal chart indicates your vitality, energy level, and style of action. In a female\\'s chart, the Mars sign is one factor suggesting the type of man she attracts. In its highest form, Mars represent your unleashed energy and your human will – initiative. A controlled Mars can give a healthy dose of assertiveness and ambition. At its worst, Mars energy makes one prone to anger, harshness and destructive violence, impulsive behavior, danger, combativeness and every kind of cruelty. It’s up to you to use this force constructively.\\n\\nInterpretations for Mars in each zodiac sign are available here: Mars in the Signs.\\n\\nInterpretations for Mars in each House of the birth chart: Mars in Houses\\n\\nReturn to Top Return to Aries\\n\\njupiter astrology planet\\n\\nJupiter\\n\\n“I grow”\\n\\nBest quality: Benevolence (kindness) Worst quality: Conceit\\n\\nJupiter is the planet of good luck, optimism, success and generosity. Jupiter brings joy to life. Think expansiveness and abundance, as Jupiter is the largest planet in our solar system. Jupiter signifies knowledge, higher leaning, breadth of vision, confidence, charity and good-will, frankness and honesty. Jupiter’s knowledge is on a philosophical level (as opposed to Mercury’s day-to-day cleverness). It is the broad view of the higher mind. Psychologically, Jupiter is the search for meaning or truth. As such, it represents law and justice, philosophy, religion, metaphysics, and education. Jupiter encompasses the urge for self-improvement through participation in the larger whole. It urges you to go forth exploring life. Jupiter\\'s sign indicates what you idealize, what your ethical, religious, and philosophical standards are. The sign also indicates where you express expansiveness, where you do things on a large scale. Jupiter in your chart shows where you are likely to receive financial and material benefits, and in turn, where you express generosity to others. The House of Jupiter is where we tend to be optimistic, and the affairs of that House usually flow easily. Jupiter’s qualities include benevolence (kindness), wisdom, morality, and spirituality. If negatively placed in the chart, Jupiter’s energy can be manifested as self-righteousness, excessiveness, squandering, exaggeration, over-indulgence, superficiality, and bigotry. However, even when negatively positioned, Jupiter is protective and beneficial. Over-indulgence and excess often lead to learning the lesson of restraint. Even with a negatively-aspected Jupiter, a person will tend to \"land on their feet\" when problems arise in the areas signified by Jupiter\\'s House.\\n\\nInterpretations for Jupiter in each zodiac sign are available here: Jupiter in the Signs\\n\\nInterpretations for Jupiter in each House of the birth chart: Jupiter in Houses\\n\\nReturn to Top Return to Sagittarius\\n\\nastrology planet saturn with ring\\n\\nSaturn\\n\\n“I achieve”\\n\\nBest quality: System and Organization Worst quality: Selfishness\\n\\nAstrologers of the past regarded Saturn as \"evil\" and malignant, indicating dire misfortune and misery wherever it was found in a chart. When Venus wishes for love, Saturn denies her. When Jupiter promises good fortune, Saturn delays it. When Mercury brings news, Saturn degrades it, and when Mars goes too hard or too fast, Saturn will crash him. But this is not necessarily bad. Saturn is associated with the principles of limitation, restrictions, boundaries, safety, practicality, reality, seriousness, and structures. Saturn is the laws, boundaries and limits set by society or karma. Modern astrologers acknowledge that the hardships brought on by Saturn\\'s limitations, compel one to continue striving for a final product, that although delayed, will be solid and of real worth.\\n\\nSaturn governs ambition, career, authority, hierarchy, and conforming social structures. It concerns a person\\'s sense of duty, discipline and responsibility, and their physical and emotional endurance during hardships. Saturn is morose and cold, melancholic, and serious. By placement in your chart, it indicates the area of life in which you may feel shame, for a time. This is the area where you have lessons to learn. But this is where your disciplined hard work will lead to genuinely earned, long-lasting success. At its best, Saturn endows organization and order. At its worst, Saturn’s energy is manifested as selfishness. The sign of Saturn also gives clues to the kind of work for which a person is suited and the kind of career he is likely to pursue.\\n\\nInterpretations for Saturn in each zodiac sign are available here: Saturn in the Signs\\n\\nInterpretations for Saturn in each House of the birth chart: Saturn in Houses\\n\\nReturn to Top Return to Capricorn\\n\\nastrology planet uranus on its side with ring\\n\\nUranus\\n\\n“I evolve”\\n\\nBest quality: Originality Worst quality: Rebellion\\n\\nUranus represents the unconscious urge to become aware of your true inner individuality (the Sun). Like a lightning bolt, Uranus symbolizes sudden flashes of insight, moments of revelation, and spurts of creativity. Uranus’s energy is usually described as suddenness, revolution, change, shock, and disruption. Like lightning, Uranus breaks into time and fractures our patterns. New ideas break into ordinary streams of thought, bringing innovative solutions to stubborn problems. It is your intuition awakening you to a world beyond our social structure. Uranus forces sudden changes when the usefulness of the old is gone and something newer, something higher and better is ready to take its place. Uranus encompasses technology and all types of electronic devices. Uranus speeds up the mind, making it to bypass logic and arrive at conclusions by leaping from A to Z, shocking people. Uranus seeks alternatives to the common and accepted forms. True to itself, the planet Uranus stands out from the rest of the planets by orbiting around on its \"side.\" The rest of the planets orbit like a \"spinning top,\" but Uranus insists on rolling on its side like a ball. At best, Uranus encourages originality, versatility and independence. At worst, it encourages eccentricity, perversion and rebellion. Uranus demands freedom.\\n\\nInterpretations for Uranus in each zodiac sign are available here: Uranus in the Signs\\n\\nInterpretations for Uranus in each House of the birth chart: Uranus in Houses\\n\\nReturn to Top Return to Aquarius\\n\\nneptune astrology planet\\n\\nNeptune\\n\\n“I dream”\\n\\nBest quality: Idealism Worst quality: Vagueness\\n\\nNeptune represents the unconscious urge to dissolve the boundaries of your ego-centeredness in order to ‘lose yourself’ in other realms of being. While Uranus breaks into our dimension to allow momentary flashes of insight into other realms of existence, Neptune is those other realms. Neptune dissolves life’s patterns in order to teach new meanings in the quest for universal wisdom. Neptune represents things that aren’t quite as they appear, the illusive, and the unreal. It is the planet of receptivity, imagination, cloudiness, confusion, delusion, illusion, and unreality. Neptune is also associated with movies, acting, and compassion. Neptune can indicate mystical visions of a divine creator, or an experience of the primordial chaos before creation (dangerously, the latter can drive one to madness). Neptune can indicate spiritual healing and service to others, or becoming lost in a foggy world of fantasy and dreams. More often than not, Neptune indicates confusion in the House where it resides in your birth chart. A negatively positioned Neptune in the natal chart can indicate a tendency to escape reality. The house and sign will indicate whether it be through mind-altering drugs and alcohol, day-dreaming, sexual addiction, cult worship, psychosis, potential suicide, or others. At its best, Neptune\\'s energy inspires marvelous art, music, theatre, dance, poetry, and film. Above all, Neptune represents the intangible, and makes it very real.\\n\\nInterpretations for Neptune in each zodiac sign are available here: Neptune in the Signs\\n\\nInterpretations for Neptune in each House of the birth chart: Neptune in Houses\\n\\nReturn to Top Return to Pisces\\n\\nastrology planet pluto\\n\\nPluto\\n\\n“I empower”\\n\\nBest quality: Transformation Worst quality: Inversion (turning things upside down)\\n\\n(See Why Pluto is still valid even though it’s not a planet anymore)\\n\\nPluto represents the unconscious urge to transform repressed ego-desire energies into group-desire energies in order to live out your role in society’s evolution. Pluto represents sexuality (the act itself, as opposed to the energetic desire which is associated with Mars), obsessive desires, transformation, power, and the ingredients of great wealth (investments, banking, loans, debt, mortgages). Pluto has dominion over drastic changes that bring true upheavals. Since Pluto is the slowest-moving planet, an entire generation will share the same Pluto sign, giving it historical importance. Drastic and permanent changes in civilization as a whole can be linked to Pluto\\'s movement through the signs. On a personal level, the House that Pluto occupies in your chart will show how Plutonian energy is manifested in your life. Pluto will transform those things in your life that require regeneration, whether you desire it or not. You may experience dramatic crises or have to endure terrible suffering where Pluto is involved in your chart, but for the purpose of healing. Pluto tears down only to transform and regenerate what has been destroyed. Pluto is associated with recklessness, mental obsession and compulsion, emotional resistance, and overall transcendence. It is also associated with unsolved mysteries, secrets, and taboos.\\n\\nInterpretations for Pluto in each zodiac sign are available here: Pluto in the Signs\\n\\nInterpretations for Pluto in each House of the birth chart: Pluto in Houses\\n\\nReturn to Top Return to Scorpio\\n\\nCite This Page\\n\\nMLA style\\n\\nCorinne Lane. \"Planets in Astrology – Lesson 5\" Astrolibrary. Astrolibrary, LLC, 19 Aug. 2009. Web. 30 Apr. 2025. <https://astrolibrary.org/planets/>\\n\\nAPA style\\n\\nCorinne Lane. (19 Aug. 2009). Planets in Astrology – Lesson 5. In Free Astrology Lessons (5). Retrieved from https://astrolibrary.org/planets/\\n\\nTop ↑\\n\\nFree Astrology Lessons\\n\\nPOPULAR ON OUR SITE\\n\\nFree Astrology Reports\\n\\nAstrology Calculators\\n\\nBirth Chart Interpretations\\n\\nFree Astrology Lessons\\n\\nFree Ebooks\\n\\nCopyright 2009–2025 Astrolibrary, LLC. All rights reserved.\\n\\nKNOW THYSELF'),\n",
       " Document(metadata={'source': 'data/Elements Qualities Polarities – Astrology Lesson 7.html'}, page_content='Astrolibrary logo\\n\\nAstroLibrary 🔎\\n\\nDaily Personalized Horoscope ↗\\n\\nElements Qualities Polarities – Astrology Lesson 7\\n\\nThe twelve zodiac signs are classified in three different ways: elements, qualities, and polarities. These three classifications essentially define the zodiac signs. Just by knowing the element, quality, and polarity, you would be able to describe the fundamental traits of each zodiac sign without actually learning the sign. This is a very important lesson, indeed.\\n\\nThe author considers this the single most important lesson of the zodiac. The elements, qualities, and polarities are the fundamental, underlying nature of each zodiac sign. Learn these!\\n\\nElements | Qualities | Polarities\\n\\nZodiac Elements\\n\\nThe element of a zodiac sign reveals the basic temperament of the sign. The element of your Sun, Moon, or Rising sign are of significant importance, but the overall distribution of elements in your chart is what counts the most. Having more than 4 planets in an element will have an impact on your behavior, even if that element does not correspond to your Sun sign. An abundance (5 or more), or a lack (0-2), of an element has much impact on your temperament. See Balance of Elements.\\n\\nThere are four zodiac elements, with three zodiac signs belonging to each element group. The elements are interchangeably called \"triplicities;\" this is because there are three (triple) signs per element. The four elements are Fire, Earth, Air, and Water.\\n\\nFire Zodiac Element\\n\\nThe fire signs are Aries, Leo, and Sagittarius. Fire signs respond to energy very quickly. They favor action. They\\'re ready to go, take a risk, start a business, go on a trip, etc. They are confident, idealistic, intense, and approach life with zest and enthusiasm. Here is energy to conquer, lead, and travel physically and mentally. Aries must act, Leo must lead grandly, and Sagittarius explores unknown places and ideas.\\n\\nPositive keywords: extroverted, energetic, enthusiastic, inspirational, visionary, high-spirited, simple and direct, physically active, dramatic, courageous, warm.\\n\\nNegative keywords: overly active to the point of burnout, restless, impatient, selfish, insensitive, willful, hasty, lacking in perspective, thoughtless, impulsive, reckless, extravagant, wild.\\n\\nSee the love style of the fire signs.\\n\\nEarth Zodiac Element\\n\\nThe Earth signs are Taurus, Virgo, and Capricorn. Earth signs are more cautious in their approach. They are more practical, realistic, and they need solid footing before going forward. Taurus will dig the heels in and really ponder things. Virgo will analyze. Capricorn will climb, but will do it with care, first needing a vision, a plan, an organized structure before starting the ascent. Earth signs are dependable, thorough and solid.\\n\\nEarth signs seek to engage the physical world and master it through efficient organization. Earth signs seek economic security, respect, and prestige, and they work hard for it.\\n\\nPositive keywords: practical, efficient, organized, realistic, patient, self-disciplined, hard-working, productive, enduring, persistent, dependable, stable, good common sense.\\n\\nNegative keywords: slow, stodgy, lacking in vision, unimaginative, petty, excessively conventional, narrow-minded, stubborn, resistant to change, hoarding, ultra conservative.\\n\\nSee the love style of the earth signs.\\n\\nAir Zodiac Element\\n\\nThe Air signs are Gemini, Libra, and Aquarius. Air signs approach energy mentally; they are thinkers. They are social, always ready for a new relationship or friendship. They love learning, but bore easily. Gemini has great intellectual curiosity, but too many personalities. Libra is partnership driven, but not in an emotional way. Aquarius is popular with friends and is unstoppable when it has a cause to champion. Air signs are into ideas and people. They are communicative; they must share information, interact with others, and influence society.\\n\\nPositive keywords: articulate, objective, mentally clear, detached, capable of forethought, understanding, socially adept and adaptable, cooperative, relational.\\n\\nNegative keywords: unemotional, lacking in sympathy, impractical, disassociated from the body and the physical world, over-adaptive, abstracted, glib and facile, hyperactive.\\n\\nSee the love style of the air signs.\\n\\nWater Zodiac Element\\n\\nWater signs respond to energy almost unconsciously. They are deeply emotional. Cancer is motivated to nurture and be nurtured. Scorpio has intense vision, never swaying, looking straight ahead with laser-like focus. Pisces is the trickiest to describe. Pisces energy is chameleon-like, absorbing its surroundings.\\n\\nPositive keywords: deeply emotional, sympathetic, empathetic, nurturing, calm and peaceful, sensitive, compassionate, imaginative, intuitive, psychically aware.\\n\\nNegative keywords: emotionally insecure and unstable, shy, timid, lacking in confidence, oversensitive, easily influenced and manipulated, withdrawn, uncommunicative, vindictive and vengeful, takes everything personally, moody and depressed.\\n\\nSee the love style of the water signs.\\n\\nZodiac Qualities\\n\\nThe qualities, also called \"modes,\" or “modalities,” indicate how people respond to stimuli, and especially how they act under tension. They indicate how the signs express their element, meaning the mode of behavior they use to express the element needs. There are three qualities: Cardinal, Fixed, and Mutable. They are also called \"quadruplicities\" because there are 4 signs per group. To learn how to calculate the balance of qualities in a birth chart, see Balance of Qualities.\\n\\nInterestingly, there’s one sign from each element in each group of qualities. So, in the Cardinal Signs group, there’s one fire sign, one earth sign, one air sign, and one water sign.\\n\\nCardinal Signs\\n\\nAries, Cancer, Libra, Capricorn\\n\\nCardinal Signs are the most assertive, the most interested in initiating change. Their mode of activity is to start new things. They easily begin things and respond well to new ideas. They are self-starters. Crisis motivates them. They achieve control by remaining one step ahead of everyone else. Aries seeks leadership and control in general, Cancer controls emotions, home, and family; Libra tries to control partnerships; Capricorn controls, uses, and exploits the material environment. For Cardinal signs, things are always happening. This is usually because they are doing the starting. The four Cardinal signs are at the first month of each season.\\n\\nFixed Signs\\n\\nTaurus, Leo, Scorpio, Aquarius\\n\\nFixed Signs are the most stable and self-contained. Their mode of activity is sort of passive, yet determined, unwavering, and even stubborn. Their strength is their consistency and loyalty. They follow things through to the end, managing and sustaining what has been started by the Cardinal signs. They may go to denial in times of change. They are very resistant to change, needing to take time to prep themselves. They tend to be late: Taurus is just slow; Scorpio uses tardiness as a subtle power struggle; Leo enjoys making an entrance; Aquarius wants things on their own terms. Late, but once there, they stay forever. The four Fixed signs are at the middle month of each season.\\n\\nMutable Signs\\n\\nGemini, Virgo, Sagittarius, Pisces\\n\\nMutable Signs are the most unstable and most open to influence by the environment. Their mode of activity is to make the transition from the old to the new, opening the way for the Cardinal Signs to begin a new cycle. They are infinitely flexible and tolerant. They find it naturally easy to let go. Whereas Cardinal signs begin new things, and Fixed signs sustain things, Mutable energy loosens structures and adapts it to new and changing conditions. With this territory comes mental worry. Mutable signs have many things going on in their heads rather than in tangible form. Many react by making lists. Some suffer from negative mental tension, involving fear, paranoia, and panic attacks. In anticipating negative outcomes, they really suffer during the worry process. But their high adaptability always sees them through. Gemini is changeable in its ideas; Virgo is dominated by its environment; Sagittarius has a continually changing view of life\\'s possibilities; Pisces adapts itself superficially to its environment (like a chameleon) and reflects it like a mirror. Sometimes they compromise so much that they sacrifice their own interests. The four Mutable signs are at the final month of each season.\\n\\nBetween elements, qualities, and signs, there is only one combination of each, making each zodiac sign unique. For example, there is only 1 cardinal fire sign, only 1 cardinal earth sign, only 1 cardinal air sign, etc. You can understand the nature of each sign by examining these energetic combinations. See the table below (or open in Print/Download View).\\n\\nFire Earth Air Water Cardinal Aries Capricorn Libra Cancer Fixed Leo Taurus Aquarius Scorpio Mutable Sagittarius Virgo Gemini Pisces\\n\\nZodiac Polarities\\n\\nThe two polarities are sometimes referred to as male/female, positive/negative, or yang/yin. Modern astrologers prefer to call the polarities active/receptive. This type of duality is the earliest form of classification. Six of the zodiac signs are yang energy, which is also known as “masculine” energy. The six yang signs are Aries, Leo, Sagittarius, Gemini, Libra, and Aquarius. These are the Fire and Air signs. These signs are more active and assertive rather than receptive.\\n\\nThe other six signs are yin energy, which is also known as “feminine” energy. The six yin signs are Taurus, Virgo, Capricorn, Cancer, Scorpio, and Pisces. These are the Earth and Water signs. These signs are more receptive and reactive rather than active.\\n\\nIn general, signs of the same polarity can understand each other\\'s personalities, whereas signs from opposing polarities have a difficult time seeing eye to eye. Air feeds Fire and empowers it; Earth needs Water for life. When talking about compatibility, Air and Fire signs (yang) go with each other, while Earth and Water signs (yin) go with each other.\\n\\nHere are keywords to help describe the two opposing yin/yang energies.\\n\\nYang Yin direct outgoing extroverted giving active male (traditionally) positive (traditionally) indirect passive/reactive introverted withdrawn receiving/receptive reactive female (traditionally) negative (traditionally)\\n\\nSummary\\n\\n(Open the following table in Print/Download View.)\\n\\nSign Element Quality Polarity Aries Fire Cardinal Yang (+) Taurus Earth Fixed Yin (-) Gemini Air Mutable Yang(+) Cancer Water Cardinal Yin (-) Leo Fire Fixed Yang (+) Virgo Earth Mutable Yin (-) Libra Air Cardinal Yang (+) Scorpio Water Fixed Yin (-) Sagittarius Fire Mutable Yang (+) Capricorn Earth Cardinal Yin (-) Aquarius Air Fixed Yang (+) Pisces Water Mutable Yin (-)\\n\\nSee a printable Zodiac Wheel, labeled with all the Signs, Elements, Qualities, and Polarities.\\n\\nCite This Page\\n\\nMLA style\\n\\nCorinne Lane. \"Elements Qualities Polarities – Astrology Lesson 7\" Astrolibrary. Astrolibrary, LLC, 21 Aug. 2009. Web. 30 Apr. 2025. <https://astrolibrary.org/elements/>\\n\\nAPA style\\n\\nCorinne Lane. (21 Aug. 2009). Elements Qualities Polarities – Astrology Lesson 7. In Free Astrology Lessons (7). Retrieved from https://astrolibrary.org/elements/\\n\\nTop ↑\\n\\nFree Astrology Lessons\\n\\nPOPULAR ON OUR SITE\\n\\nFree Astrology Reports\\n\\nAstrology Calculators\\n\\nBirth Chart Interpretations\\n\\nFree Astrology Lessons\\n\\nFree Ebooks\\n\\nCopyright 2009–2025 Astrolibrary, LLC. All rights reserved.\\n\\nKNOW THYSELF'),\n",
       " Document(metadata={'source': 'data/Compatibility in Love Relationships _ AstroLibrary.html'}, page_content='Astrolibrary logo\\n\\nAstroLibrary 🔎\\n\\nDaily Personalized Horoscope ↗\\n\\nCompatibility in Love Relationships\\n\\n(This is a compatibility lesson. If you prefer, see Zodiac Compatibility instead.)\\n\\nIn discussing compatibility, we will overlook “initial attraction” (for now). The difference between “initial attraction” and “compatibility” is great, for the first never ensures the second, and the second can manifest without the first, as many of us are forced to find out in the course of our lives. Here we focus on compatibility, and whether it exists between two people who are already past the “initial attraction” stage of a relationship.\\n\\nCompatibility between two people is not so much a thing, as it is the absence of a thing – absence of friction. Now, compatibility is not simply the sort of harmony that takes place when we are on a romantic date. Men and women tend to be on their best behavior on a date, putting their best foot forward and performing all the charming niceties that are expected from a romantic encounter. In a way, it can be said that people on dates are performing an act. There will be an illusion of compatibility on any romantic date, even between incompatible lovers. This is not a true measure of compatibility because the people in those cases are acting a part.\\n\\nCompatibility Relationship, Compatible couple, man and woman in movie theater\\n\\nTrue compatibility can only be determined based on our natural dispositions, our real personalities, our deep-seated mannerisms and habits. It can only be determined on “the morning after,” when the charming date from the night before reveals his/her ordinary habits, peculiar quirks, eccentricities and other daily behaviors. Often, these daily idiosyncrasies are what drives couples apart or attracts genuine admiration.\\n\\nSo, compatibility is the lucky situation in which both partners can be themselves without irritating each other. If you have to alter your behavior or style so as not to annoy your partner, then compatibility is lacking. Also, if you have to grit your teeth to acquiesce to your partner’s expression of his/herself, compatibility is lacking. If simply being yourselves causes friction with each other, compatibility is lacking.\\n\\nThis is really a matter of energy flow. For example, try joining the positive ends of two magnets. They will not stick together regardless of how “attractive” or “charming” they are. Their energies repel each other. Humans are similar to magnets because we are part of a universal field consisting of an ebb and flow of energy. But unlike magnets, we humans are very complex, and we have many more points to consider than just “positive” and “negative.” Everyone has some great qualities, but not everyone is compatible with you.\\n\\nSince compatibility is really a matter of smooth energy flow between two people, not much can be done to “fix” an incompatible union. An incompatible couple is one in which the natural energy of one partner clashes with the natural energy of the other. It is unfair and sad that many divorcing and separating couples hurt each other in great proportions by bashing each other’s personalities, when the real problem may be a simple mismatch of energies (like repelling magnets).\\n\\nIncompatible couples can possibly succeed in a relationship, but it will require a lot of work and planned romantic dates. You may get along during the artificial scenarios (dates), but the incompatible partner will always rub you the wrong way just by being him/herself when you are not on a date. Their natural manner of being will irritate you. This is because your energies don’t blend well. As a result, the union creates tension, stress, and unhappiness.\\n\\nCompatible couples do not need many extras; they can simply enjoy being in each other’s presence. They can be themselves without causing friction in the relationship. This is because their energies flow together nicely. As a result, such a union creates happiness.\\n\\nOf course, no two people are perfectly compatible in every way (not that we are aware of). Compatibility, as we know it, exists in levels. Higher levels of compatibility result in happier relationships.\\n\\nAstrology, as the unique language of energy, is the most powerful tool available for determining compatibility, before risking years in a relationship. But even if you’ve been married for years, astrology can actually pinpoint the deep root of problem areas in your relationship. Astrology helps people learn how to deal with each other because it reveals the inner workings of their psyches. Even if you are stuck with an incompatible partner, astrology will get you to say, “Now I know why he/she is like that.”\\n\\nNumerous astrological techniques can (and should) be used to determine compatibility levels between two lovers. Some of these astrological techniques are simple and fun, such as comparing Venus, Mars, and Moon signs. Other techniques are far more complicated. All methods of determining compatibility fall under the magnificent and special branch of astrology: synastry.\\n\\nThe comparison of two birth charts in astrology is called synastry. The art of synastry is perhaps the most beloved branch of astrology. Synastry is discussed on the following page.\\n\\nRelated\\n\\nSynastry Interpretations\\n\\nLove & Relationship Articles\\n\\nCite This Page\\n\\nMLA style\\n\\nCorinne Lane. \"Compatibility in Love Relationships\" Astrolibrary. Astrolibrary, LLC, 24 Aug. 2009. Web. 1 May. 2025. <https://astrolibrary.org/compatibility/>\\n\\nAPA style\\n\\nCorinne Lane. (24 Aug. 2009). Compatibility in Love Relationships. In Free Astrology Lessons (13). Retrieved from https://astrolibrary.org/compatibility/\\n\\nTop ↑\\n\\nFree Astrology Lessons\\n\\nPOPULAR ON OUR SITE\\n\\nFree Astrology Reports\\n\\nAstrology Calculators\\n\\nBirth Chart Interpretations\\n\\nFree Astrology Lessons\\n\\nFree Ebooks\\n\\nCopyright 2009–2025 Astrolibrary, LLC. All rights reserved.\\n\\nKNOW THYSELF'),\n",
       " Document(metadata={'source': 'data/12 Astrological Houses – Astrology Lesson 4.html'}, page_content='Astrolibrary logo\\n\\nAstroLibrary 🔎\\n\\nDaily Personalized Horoscope ↗\\n\\n12 Astrological Houses – Astrology Lesson 4\\n\\n1st | 2nd | 3rd | 4th | 5th | 6th | 7th | 8th | 9th | 10th | 11th | 12th\\n\\nThe 12 Houses of astrology are arranged on a circle-shaped chart, or wheel.\\n\\nDo not confuse the wheel of Houses with the zodiac wheel. They are 2 different wheels.\\n\\nThe zodiac wheel is based on the sun’s apparent yearly rotation about our Earth, along the ecliptic.\\n\\nThe wheel of Houses is based on our Earth’s 24-hour rotation about its own axis.\\n\\nThe 2 wheels join together at points derived by calculations involving your exact birth time and astronomical birth coordinates.\\n\\nThen, the planets are described in 2 ways: as being in a zodiac sign, and also as being in a House.\\n\\nFor example, two people may both have a Libra Sun sign, but one may have the Libra Sun in his 12th House, while the other may have his Libra Sun in his 1st house. This could make for two very different types of people.\\n\\n(Another reason why the popular daily Sun Sign Horoscopes are a bunch of silliness: they are written assuming everyone has their Sun in the 1st House.)\\n\\nThe 12 Houses of astrology are symbolic of the all the departments that make up human life. The planets and zodiac signs will manifest themselves most strongly in the sphere of life represented by the House in which they fall on your chart (and also in the House which they rule; more on House Rulerships below).\\n\\nRemember, the houses are not “energies” like the elements or planets, nor do they color the expression of energies like the zodiac signs do. The houses are WHERE these energies are most likely to manifest. The houses are the fields of experience, not the experience themselves.\\n\\nNotice how the order of the Houses follows the developmental path of a human’s life, from the original impulse of individual being (1st house), to learning what is “mine” and how to use what one owns (2nd house), to learning how to communicate within the limitations set by our environment (3rd house), etc. The following description of the Houses are short and topical, directed at beginners.\\n\\nThe most important houses are the 1st, 4th, 7th, and 10th houses. These are called the \"angular houses\" because their cusps coincide with the 4 special angles: ascendant, I.C., descendant, and M.C.. Planets in the angular houses will influence you the most.\\n\\n1st Astrological House\\n\\nThe first House is the House of self. This includes self-awareness, the physical body, personality, appearance, personal views on life, self-identity, self-image, early environment, and beginnings; how we initiate, how we’re impulsive. Any planets in this house will greatly influence your personality and how others perceive you.\\n\\nTop\\n\\n2nd Astrological House\\n\\nThe second House refers to your own money and possessions, what you value, your hidden talents, sense of self-worth, self-esteem (how you value yourself, instead of describing your personality as in the 1st House). Possessions include anything a person owns (except the house/home which is ruled by the 4th House): cars, furniture, clothing, moveable property, investments and securities, etc. The 2nd house specifies how you gain and spend your own money (as opposed to other\\'s money in the 8th house), your attitude towards wealth and material possessions, and your potential for accumulating it/them.\\n\\nTop\\n\\n3rd Astrological House\\n\\nThe third House is that of communication, which by extension includes one\\'s immediate environment: siblings, neighbors, short journeys, and all forms of transportation. The 3rd house also includes the intellect, the lower mind (details and small bits of information as opposed to the higher mind in 9th house), thinking patterns, and early education (before college). Communication includes messages, deliveries, gossip, phone calls, visits, reading and writing.\\n\\nTop\\n\\n4th Astrological House\\n\\nThe fourth House refers to the home and everything associated with it (both the childhood home & the current home): family, land, personal foundations (inner emotional security), your roots. Astrologers are divided over whether this house is associated with one\\'s mother or father. What is clear is that a person\\'s upbringing is associated with this House.\\n\\nOn a deeper level, the 4th house is the base of consciousness or the center of our concrete existence. See how the cusp of the 4th house is the I.C., the lowest point on the chart, representative of things below the surface of Earth. Due to that, the 4th house was believed to rule the conditions at the end of life, and graves. As the root or base of your real self, the 4th house rules where you go when you \"die\" but also where you came from. For those who believe in reincarnation, the 4th house would give clues to your karmic lesson for this lifetime. It shows what karmic baggage you brought with you into this life. Even if you don\\'t believe in reincarnation, you\\'re likely to be surprised by what you find in your 4th house for it may move your soul.\\n\\nAny planets in the 4th house affect your home life, your emotions, your subconscious, and possibly your relationship with your parents.\\n\\nTop\\n\\n5th Astrological House\\n\\nThe fifth House refers to children, creativity, and the pursuit of pleasure. This includes personal interests, love affairs, sports, hobbies, speculation, risk-taking, teaching, drama, creative self-expression, love given, gambling. The 5th house is all about you being yourself and enjoying it.\\n\\nRomance, dating, love affairs, and sexual relationships are ruled by this 5th house, yet marriage is assigned to the 7th. Why? Because, until very recently, marriage was not entered into for pleasure, for love, nor for personal fulfillment. Marriage was hardly even entered into by choice, but rather for the purpose of raising kids to preserve the values of a particular culture or religion. And these marriages were most often arranged according to class and financial status, a partnership befitting the 7th house.\\n\\nNowadays, it\\'s common to marry for love. To avoid confusion, remember: affairs of the heart are in the 5th house, but cooperative partnerships are in the domain of the 7th house.\\n\\nTop\\n\\n6th Astrological House\\n\\nThe sixth House refers to daily work, service, diet, health and physical sickness, physical ability to work, employees. This includes volunteer labor, civil service work, caretaking, and mundane daily tasks. The 6th house really involves the quality of your work, the quality of the jobs you perform, as opposed to an actual career (career is represented by the 10th house). Daily mundane tasks include personal hygiene and our method of responding to everyday crises.\\n\\nTop\\n\\n7th Astrological House\\n\\nThe seventh House is sometimes referred to as the House of marriage, but it encompasses all one-to-one relationships: marriage, business partnerships, contracts, cooperative relationships, and also divorce, separation, quarrels, open enemies, and law suits.\\n\\nThe difference between the love affairs of the 5th House and love relationships of the 7th is that the 7th House refers to more permanently binding relationships, whereas the 5th House refers to affairs that may be temporary. When the 5th House affair progresses into a serious relationship, we can say that the relationship has \"moved into the 7th House.\"\\n\\n7th house relationships are about cooperation and sharing, and they generally serve some functional purpose in the larger social community (i.e. a marriage). This is different from a 5th house love affair, whose only qualification is \"butterflies in the stomach.\"\\n\\nThe 7th house includes the way you relate to those closest to you. Planets in this house will influence your manner of relating. They also give clues to issues that arise in your relationships.\\n\\nTop\\n\\n8th Astrological House\\n\\nSimply put, the 8th house is the polar opposite of the 2nd house. Whereas the 2nd rules your own individual possessions, the 8th house rules what a relationship owns (joint finances).\\n\\nThe 8th House is one of the most misunderstood Houses. This is probably because the things represented by the 8th House seem to have nothing in common with each other, or they seem to be negative. This House governs death, regeneration, taxes, inheritances, wills & legacies, sex (the actual act of sex), latent occult ability, joint resources, your partner’s money and possessions, spouse\\'s money, bankruptcy, losses, personal sacrifices, alimony, clairvoyance.\\n\\nOn a positive note, this House is about transformation and healing. But transformation and healing require some type of death, loss, or injury first. This House rules those processes and things by which we transform and become more powerful. Yes, this includes the act of sex.\\n\\nTop\\n\\n9th Astrological House\\n\\nThe ninth House refers to philosophy, religion, law, learning, higher education (as opposed to early education by the 3rd House), ethics, morals, long journeys, travel, foreign countries and interests, spiritual urges, dreams, visions, higher mind, ideas, understanding and wisdom, books, publishing, ceremonies, and rituals. This is the House of big thoughts and big ideas.\\n\\n9th house \"understanding\" is more complex than 3rd house \"knowledge\". The act of \"knowing\" belongs to the 3rd house because it implies simply the direct contact of a person with something in his environment. Understanding involves the synthesis of known data.\\n\\nWhile the 3rd house refers to an individual\\'s need to understand his close and personal environment, the 9th house is an area in which one seeks to discover the significance of larger fields of social existence which one may not experience directly but which his mind may explore through the use of analogy, generalization and abstraction. The 3rd and 9th houses symbolize the 2 polarities of the human mind, the concrete and the abstract.\\n\\nIn summary, the 9th house includes experiences that we encounter when we search for the meaning of things. Whatever expands your field of activity or the scope of your mind – long journeys, contact with other cultures, great dreams, and even experiences with fortunetellers.\\n\\nTop\\n\\n10th Astrological House\\n\\nThe tenth House is the House of status, honor, community power, prestige, reputation, and professional career. In our society, this includes financial success, but only as it relates to community power and prestige. It\\'s not about gaining \"material stuff\" as it is in the 2nd house. The 10th house wants success for the sake of honor and social status.\\n\\nThis house includes social foundations (as opposed to personal home foundations in the 4th), recognition, personal achievements, social responsibilities, sense of duty, authority figures, politicians. This House encompasses the most public areas of one\\'s life, and the career that you grow into, as opposed to daily work and odd jobs ruled by the 6th House.\\n\\nAs with the 4th House, astrologers are divided over whether the 10th House rules one\\'s mother or father. Those that say the 4th House rules the mother, say the 10th House rules the father, and vice versa. What is clear is that the 4th House rules the nurturing, home-body parent, while the 10th House rules the public, success-focused parent (the parent who \"wears the pants\").\\n\\nAs with the other angular houses, any planets in this house are very important. Planets in the 10th house, the sign on the cusp of the 10th house, and its ruling planet will greatly influence your career and your general reputation in public.\\n\\nTop\\n\\n11th Astrological House\\n\\nThe eleventh House is the House of community, large groups, and friends. It refers to memberships, hopes, goals, ambitions, wishes, social groups, associations, humanitarian interests. It also refers to self-realization, liberty, legislation and regulation.\\n\\nTop\\n\\n12th Astrological House\\n\\nThis is probably the most misunderstood house of all. The twelfth House refers to the subconscious, the hidden self that exists apart from our physical everyday reality. This includes the unconscious mind, subconscious memory, subconscious habit patterns from the past, mental illness, karmic debts, self-deception, escapism, spiritual realization, limitations, frustration, and ultimately our self-undoing.\\n\\nOn a physical, material level, the 12th house includes things that take us away from everyday life: institutions (such as hospitals, prisons, government offices), places of confinement, secrets, secret relationships, hidden enemies, and self-sacrifice for others. It also refers to sorrow, tribulations, widowhood, grief, funerals, exile, seclusion, bribery, subversion, murder, suicide, kidnapping, and endings.\\n\\nFor those who believe, the 12th house is also considered to refer to the collective unconscious of all humanity.\\n\\nTop\\n\\nastrology houses labeled chart\\n\\nastrology houses labeled chart in color\\n\\n“Natural” Houses of the Planets & Signs\\n\\nEach planet and zodiac sign is naturally associated with a House, the House that most corresponds to its archetype. The planet, then, is said to be the “Natural Ruler” of that House, or more often, it’s said to be “at home” in that House.\\n\\nThe House/planet associations were adjusted with the discoveries of Uranus, Neptune, and Pluto. The following table lists the current House rulers, along with the traditional rulers. The traditional rulers are still considered to be co-rulers of that House (along with the new planet that rules the House).\\n\\nNote: in your own birth chart, the rulers of your houses are determined by the signs that fall on the cusps of your houses. However, the natural rulers, listed here, give a subtle influence.\\n\\nTable of Natural Ruling Planets of Each House\\n\\nHouse Keywords Zodiac Sign Natural Ruler Traditional Ruler 1st self, life, body Aries Mars 2nd possessions, money, material circumstances, livelihood Taurus Venus 3rd local movement, short journeys, communication, school, siblings Gemini Mercury 4th home, family, roots, parent Cancer Moon 5th creativity, children, romance, entertainment Leo Sun 6th health, service, work, routine Virgo Mercury 7th partners, marriage, open enemies Libra Venus 8th sex, death, inheritances, other’s money, loss Scorpio Pluto Mars 9th travel, higher education, religion, spirituality, law Sagittarius Jupiter 10th career, social position, dominant parent Capricorn Saturn 11th friendships, associations, aspirations Aquarius Uranus Saturn 12th hidden matters, the unconscious, clandestine relationships, secret enemies, seclusion Pisces Neptune Jupiter\\n\\nTake Note: The qualities of the zodiac signs are not exactly the same as those of the Houses which they are associated with. There are subtle differences between the qualities of the signs and Houses. More on the zodiac signs later; but first, learn about the star players, the Planets. See Lesson 5-The Planets.\\n\\nCite This Page\\n\\nMLA style\\n\\nCorinne Lane. \"12 Astrological Houses – Astrology Lesson 4\" Astrolibrary. Astrolibrary, LLC, 19 Aug. 2009. Web. 30 Apr. 2025. <https://astrolibrary.org/houses/>\\n\\nAPA style\\n\\nCorinne Lane. (19 Aug. 2009). 12 Astrological Houses – Astrology Lesson 4. In Free Astrology Lessons (4). Retrieved from https://astrolibrary.org/houses/\\n\\nTop ↑\\n\\nFree Astrology Lessons\\n\\nPOPULAR ON OUR SITE\\n\\nFree Astrology Reports\\n\\nAstrology Calculators\\n\\nBirth Chart Interpretations\\n\\nFree Astrology Lessons\\n\\nFree Ebooks\\n\\nCopyright 2009–2025 Astrolibrary, LLC. All rights reserved.\\n\\nKNOW THYSELF'),\n",
       " Document(metadata={'source': 'data/House Overlays – Deeper into the 3 parts of Synastry.html'}, page_content='Astrolibrary logo\\n\\nAstroLibrary 🔎\\n\\nDaily Personalized Horoscope ↗\\n\\nHouse Overlays – Deeper into the 3 parts of Synastry\\n\\n(This is a synastry lesson. If you prefer, see Synastry Interpretations instead.)\\n\\nHouse Overlays say a great deal about how you see each other, what you expect out of each other, and in which areas of life you affect each other. The planets overlaid in the Houses of another person reveal how the planet person (person who’s planets are in your houses) perceives the house person (person who’s birthchart houses the other’s planets are overlayed upon). The planet person will then have expectations according to their perceptions of the house person. The planet person will act accordingly. This, in turn, evokes a response from the house person. Here begin the dynamics of the relationship. Then we flip the whole thing to see the 2nd person’s planets in the 1st person’s houses.\\n\\nHouse overlays are the secret to knowing how that special guy or girl really sees you. House overlays don’t necessarily describe how compatible you are based on your personalities. They reveal how you see each other. How we perceive each other largely determines how we treat each other, and whether or not we’ll even approach each other. Are they intimidated by you? Are they mesmerized? Are they disgusted?\\n\\nIn effect, House Overlays reveal the areas of life of the house person that will be affected by the other’s presence (planets). But it begins with the perception of the planet person. It’s similar to entering someone’s actual home. When you enter someone’s home for the first time, you immediately perceive and form expectations based on the surrounding environment. Similarly, the planet person enters a birth chart house, and perceives you according to the environment of that specific house.\\n\\nSince House Overlays reveal perceptions and expectations regarding the partner, they can be used to pinpoint problems. Many relationship problems, separations, and divorces come about because of wrong perceptions about the partner, or lofty expectations. Partners should discuss what the House Overlays reveal, as it would bring them to a common understanding about each other’s expectations.\\n\\nIn addition, House Overlays can reveal why certain relationships never get off the ground. Some house-planet overlays denote negative perceptions from the beginning.\\n\\nRelated\\n\\nSynastry Interpretations\\n\\nLove & Relationship Articles\\n\\nCite This Page\\n\\nMLA style\\n\\nCorinne Lane. \"House Overlays – Deeper into the 3 parts of Synastry\" Astrolibrary. Astrolibrary, LLC, 24 Aug. 2009. Web. 30 Apr. 2025. <https://astrolibrary.org/synastry-2/>\\n\\nAPA style\\n\\nCorinne Lane. (24 Aug. 2009). House Overlays – Deeper into the 3 parts of Synastry. In Free Astrology Lessons (16). Retrieved from https://astrolibrary.org/synastry-2/\\n\\nTop ↑\\n\\nFree Astrology Lessons\\n\\nPOPULAR ON OUR SITE\\n\\nFree Astrology Reports\\n\\nAstrology Calculators\\n\\nBirth Chart Interpretations\\n\\nFree Astrology Lessons\\n\\nFree Ebooks\\n\\nCopyright 2009–2025 Astrolibrary, LLC. All rights reserved.\\n\\nKNOW THYSELF'),\n",
       " Document(metadata={'source': 'data/Synastry Aspects – Deeper into the 3 parts of Synastry.html'}, page_content='Astrolibrary logo\\n\\nAstroLibrary 🔎\\n\\nDaily Personalized Horoscope ↗\\n\\nSynastry Aspects – Deeper into the 3 parts of Synastry\\n\\nsynastry\\n\\n(This is a synastry lesson. If you prefer, see Synastry Interpretations or calculate your synastry aspects.)\\n\\nThe aspects from one birth chart to another show how the two individuals get along. Planets making harmonious aspects mean that those dimensions represented by each planet blend together with pleasing results. Planets making inharmonious (often called challenging or dynamic) aspects produce discordant, irritating and unpleasant results.\\n\\nFor example, a man’s Moon blending harmoniously (conjunct) with a woman’s Venus will make for a tender, emotional, sweet interaction between them (if the rest of the synastric analysis concurs). On the other hand, if his Moon makes a challenging aspect (square) to her Venus, then her way of projecting herself as a woman (Venus) will emotionally (Moon) irritate him instead of arousing tenderness.\\n\\nNow, there is always a mixture of harmonious and challenging synastry aspects between two charts. Don’t expect to find perfect synastry. That probably does not exist. We are simply looking for the positive aspects to be stronger than the negative aspects. If the negative aspects are stronger than the positive, the two people will bug each other so much that the irritation will outweigh the power of attraction between them.\\n\\nRelated\\n\\nSynastry Interpretations\\n\\nLove & Relationship Articles\\n\\nCite This Page\\n\\nMLA style\\n\\nCorinne Lane. \"Synastry Aspects – Deeper into the 3 parts of Synastry\" Astrolibrary. Astrolibrary, LLC, 24 Aug. 2009. Web. 30 Apr. 2025. <https://astrolibrary.org/synastry-3/>\\n\\nAPA style\\n\\nCorinne Lane. (24 Aug. 2009). Synastry Aspects – Deeper into the 3 parts of Synastry. In Free Astrology Lessons (17). Retrieved from https://astrolibrary.org/synastry-3/\\n\\nTop ↑\\n\\nFree Astrology Lessons\\n\\nPOPULAR ON OUR SITE\\n\\nFree Astrology Reports\\n\\nAstrology Calculators\\n\\nBirth Chart Interpretations\\n\\nFree Astrology Lessons\\n\\nFree Ebooks\\n\\nCopyright 2009–2025 Astrolibrary, LLC. All rights reserved.\\n\\nKNOW THYSELF'),\n",
       " Document(metadata={'source': 'data/What Are Transits In Astrology_ – Lesson 18.html'}, page_content='Astrolibrary logo\\n\\nAstroLibrary 🔎\\n\\nDaily Personalized Horoscope ↗\\n\\nWhat Are Transits In Astrology? – Lesson 18\\n\\nTransits in Astrology\\n\\n(Go here instead to see transits interpretations.)\\n\\nTo understand what transits are in astrology, you must first understand what aspects are. You should already know that aspects are relationships, measured in degrees of arc, between two planets in your birth chart. (An aspect can also take place between a planet and a special angle or point in your birth chart, i.e. Ascendant, M.C., I.C., Descendant, Lunar Nodes, and some other points.)\\n\\nTransits are, in effect, aspects between a planet’s current position up above and its position in your birth chart.\\n\\nThe positions of the planets at the moment you were born are captured on your birth chart. As you took your first breath, the planets continued on their tracks. As the planets continue moving, every once in a while, they come into aspect with the planetary positions on your birth chart.\\n\\nFor example, say you were born with the Sun at 16 ° and 28 minutes of Cancer, and Pluto at 24 ° of Libra. When Pluto moved into 16 degrees of Capricorn, in the year 2016, it made an opposition aspect (180 °) to your natal Sun.\\n\\nTo be clear, that aspect is called a “transit.” We would not call it an aspect because when we speak of aspects, we are usually speaking of natal aspects based on the positions of the planets at someone’s birth. An aspect made by a transiting planet is called a “transit” in astrology.\\n\\nA moving planet can stay in aspect anywhere from a few hours up to a few years. The moon, because she moves so fast, makes aspects only for a short hour or two. And then she’s gone. Neptune and Pluto, because they move so slowly (relative motion), can stay in aspect for 2 or 3 years. Use an orb of 1 degree to consider transits (but use a 2 degree orb to plan ahead!) While a moving planet is in aspect to a natal planetary position, the moving planet is said to be “transiting” the natal planet.\\n\\nThe transit has an influence over you during the entire time that it’s transiting, but it also has a point at which it becomes “exact.” This is the day when it reaches the exact degree, minute, and second of your birth planet. Some transits can become exact three times because of retrograde motion: the transiting planet passes over the point once, then the planet goes retrograde and backtracks over the point, then the planet goes back into direct motion and passes over the point a third time.\\n\\nIn the example above, Pluto would be transiting your natal Sun throughout most of 2016 because it will be close enough to 16 ° to be considered in aspect. But that transit becomes “exact” in 2016 when Pluto reaches exactly 10 ° and 28 minutes of Capricorn.\\n\\nIn summary, transits are simply aspects made by the current moving planets to our birth-chart planets. Technically, the planets are always in transit, as in “on the move.” But in astrology, “transit” is a term of art. In the language of astrology, planets make “transits” or are “transiting” only when they make aspects to our birth chart.\\n\\nTo find out your own personal transits, try the Transits calculator.\\n\\nCite This Page\\n\\nMLA style\\n\\nCorinne Lane. \"What Are Transits In Astrology? – Lesson 18\" Astrolibrary. Astrolibrary, LLC, 25 Aug. 2009. Web. 1 May. 2025. <https://astrolibrary.org/transits-in-astrology-lesson-18/>\\n\\nAPA style\\n\\nCorinne Lane. (25 Aug. 2009). What Are Transits In Astrology? – Lesson 18. In Free Astrology Lessons (18). Retrieved from https://astrolibrary.org/transits-in-astrology-lesson-18/\\n\\nTop ↑\\n\\nFree Astrology Lessons\\n\\nPOPULAR ON OUR SITE\\n\\nFree Astrology Reports\\n\\nAstrology Calculators\\n\\nBirth Chart Interpretations\\n\\nFree Astrology Lessons\\n\\nFree Ebooks\\n\\nCopyright 2009–2025 Astrolibrary, LLC. All rights reserved.\\n\\nKNOW THYSELF'),\n",
       " Document(metadata={'source': 'data/Aspects and Orbs in Astrology – Lesson 9.html'}, page_content='Astrolibrary logo\\n\\nAstroLibrary 🔎\\n\\nDaily Personalized Horoscope ↗\\n\\nAspects and Orbs in Astrology – Lesson 9\\n\\nAspects in astrology are extremely important when interpreting any chart. Aspects indicate how the various planetary and sign energies actually play out. They indicate, among other things, if there will be struggles or ease. Without acknowledging the aspects in a chart, the reading is incomplete, and ultimately incorrect. Keep this in mind when you begin to read the interpretations of your planets in the signs of your chart – the aspects tell more of the story.\\n\\nSo, what are aspects in astrology? Simply put, aspects are a connection or relationship between two or more planets. This connection always alters the interpretation of the planets and signs involved. When planets are in aspect to each other, their interpretations must be blended according to the nature of the aspect.\\n\\nTo be precise, aspects are special degrees of separation between the planets, with respect to the Earth. Since astrology focuses on the interplay between the celestial bodies and our Earth, we take a geocentric (Earth-centered) view of the heavens. The planets, then, are observed to orbit at different speeds in approximately the same plane in space.\\n\\nearth space astrology art\\n\\nAs a result of these planetary motions, various angles, measured in degrees, arc minutes, and arc seconds, are formed between the planets as seen from the Earth. In mathematics, an angle is defined as that fraction of a circle formed between two lines that intersect at the vertex. Imagine the Earth being at the center of the circle. Then imagine a line being drawn from two planets each to the Earth, so that the Earth is the vertex of the angle. The number of degrees between the two lines connecting two planets with respect to the Earth forms the angular relationship – the aspect – between the two planets. Aspects are considered not only for the planets, Sun, and Moon, but also for the points of the Ascendant and the Midheaven.\\n\\nExample of an Aspect\\n\\nastrology chart square aspect, labeled\\n\\nIn this example image, the Sun and the Moon are in \"square\" aspect. They are 90° apart, as you can see by the angle formed by the gray lines. However, astrologers do not label aspects like that, for that would be a tangled mess of lines in the birth chart. Instead, the angular relationships are denoted by a single line connecting the two planets in aspect. Thus, in any astrology chart, the square aspect will be denoted by a line like the red one in the image above.\\n\\nCertain degrees of angularity are very important in astrology. They are called the \"major aspects.\" The major aspects are 0° (conjunction), 60° (sextile), 90° (square), 120° (trine), and 180° (opposition).\\n\\nWhat Are Orbs?\\n\\nNow, aspects are given a margin in which they have an influence. For example, although the square aspect is 90°, two planets that are 95° (or 85°) apart are still considered to be in square aspect. This margin of influence is called an \"orb\" in astrology. In the example of 95°, it is considered a square aspect with an orb of 5°, since it deviates 5° from an exact square. An allowable orb is the amount by which the two planets involved can deviate from the exact number of degrees of the aspect and still be considered to have an aspect influence. Most astrologers use an allowable orb of only 6° for the major aspects, and 2° or 3° for the minor aspects. However, the allowable orb is increased to 10° (or 8°) if it includes the Sun or Moon. This is a matter of preference, but in fact, the smaller the orb, the more significant the aspect is, with orbs of less than 1° being the most potent aspect influences.\\n\\nAs you\\'ll see below, each aspect can be defined as a circle divided by a number. A full circle is 360°. However, to avoid confusion, notice that the astrology chart is divided into 12 signs of 30° each. Then the square aspect (90°) will be between planets that are in the same degree, but three signs apart. The sextile will be two signs apart, the trine will be four signs apart, and the opposition will be six signs apart.\\n\\nMany pages can be written describing the dynamics of each aspect, but here we will brief. Keep in mind that as you grow in your knowledge of astrology, and as you gain experience in interpreting charts, you can add your own insight into how the aspects are manifested.\\n\\nMajor Aspects\\n\\nConjunction ()\\n\\ndiagram of conjunction astrology aspect, 0 degrees\\n\\nThe conjunction (0°) is the circle divided by one (in which the conjunction can be termed as 360° apart, which is the same as 0° in a circle). This is a very dynamic aspect, since it marks a strong focalized potential for expression along with a tendency for direct action and self-dramatization. The two planets in conjunction are blended together, fused, and intensified. Planets in conjunction must be interpreted as a blend in which the planets work together. This can be a good thing if the two planets get along (like say, Venus and the Moon), but it can be inharmonious if the two planets are incompatible (like say, Mars and Neptune).\\n\\nSextile (\\n\\nsextile astrology aspect, glyph symbol\\n\\nDiagram of sextile astrology aspect\\n\\nThe sextile aspect (60°) is the circle divided by six. It represents an easy flow of opportunities or ideas that, if acted upon, will help realize the individual\\'s goals. It can also indicate talents. This is a harmonious aspect in which the energies of the planets involved collaborate well and work comfortably together. However, while this is traditionally a positive aspect, it is not dynamic. This aspect is rather passive, and it does not necessarily bring an impetus to do anything. The sextile aspect can be characterized as a lack of friction. The main reason that it’s considered positive is that it will not disrupt anything. This is usually pleasant, but can sometimes go unnoticed.\\n\\nSquare ()\\n\\nThe square (90°) is the circle divided by four. This aspect implies restrictions and challenges. It is a dynamic aspect since the challenges pressure you to work on the issues represented by the planets involved. Planets in square aspect are at cross-purposes. They are in conflict that leads to irritation; achievement is delayed, though patient hard work can lead to success through integration of the two principles. Traditionally, this is a negative, inharmonious aspect. The planets and houses involved are areas in the individual\\'s life where adjustments must be made and where tremendous effort must be expended to realize gains.\\n\\nTrine ()\\n\\ndiagram of trine astrology aspect\\n\\nThe trine (120°) is the circle divided by three. This is considered the most fortunate of aspects. The trine aspect represents easy flowing energy between the planets involved, bringing luck, opportunities, and innate creative talents. But even too much of a good thing can be bad – the ease brought on by the trine can sometimes be taken for granted, and the talents left unexpressed. In the ancient days, this aspect was thought to bring about a laziness (due to all the good luck) that was considered evil. But more often than not, the trine aspect tends to manifest the most pleasant potential of the planets involved.\\n\\nOpposition ()\\n\\nThe opposition (180°) is the circle divided by two. Planets in opposition will appear directly across from each other in the birth chart. This aspect indicates a fundamental polarity or duality; a situation in which one must cooperate with others or break with them. It creates tension leading to frustration, though objectivity can lead to a delicate balancing of opposites. Resolving the tension is helped by compromising between the two energies, otherwise they bounce back and forth, competing for center stage in your life. Compromise can be achieved by accepting that the two are parts of a whole. In general, this is considered an inharmonious aspect.\\n\\nMinor Aspects\\n\\nSemi-sextile (\\n\\nsemi-sextile astrology aspect glyph symbol\\n\\nThe semi-sextile (30°) is the circle divided by 12. This aspect is very mild, barely noticeable, almost insignificant. It is considered by some astrologers as mildly beneficial, but since it connects signs of different elements and qualities, it may actually be mildly difficult, awkward, or uncomfortable. This aspect should be interpreted by taking into account the rest of the chart for more insight. This minor aspect will usually corroborate with other things specified in the chart.\\n\\nSemi-square ()\\n\\nThe semi-square (45°) is the circle divided by 8. This is similar to the square, but less intense. This aspect implies friction, generating minor internal conflict or frustration that can be annoying.\\n\\nSesqui-quadrate (\\n\\nsesqui-square astrology aspect glyph symbol\\n\\nThe sesquiquadrate (135°), also known as the sesquisquare, is 3/8 of a circle, or \"a square and a half.\" This aspect denotes the same friction as the semi-square, but this irritation tends to generate external difficulties (whereas the semi-square correlates more with inner conflict).\\n\\nQuincunx (or Inconjunct) (\\n\\nquincunx astrology aspect\\n\\nThe quincunx (150°) is 5/12 of a circle. This aspect demands continual adjustments. It is not necessarily negative, but it brings strain, some difficulty, or stress. This can sometimes affect the health. It can indicate circumstances that are forced upon the person, or self-neglect regarding that area of life.\\n\\nQuintile ()\\n\\nThe quintile (72°) is the circle divided by five. Quintiles imply artistic or creative talents, especially mental ones, as well as versatility and an authentic individuality. It is considered mildly beneficial. The biquintile (144°, ) is considered in the same way as the quintile.\\n\\nThe Cosmolabe Was Used To Measure Aspects\\n\\nPeople in history measured the aspects using a cosmolabe. The following cosmolabe was made by Jacques Besson in 1567. He was a French mathematician, inventor, and philosopher.\\n\\nCosmolabe invented by Jacques Besson, circa 1567\\n\\nIf you made it this far, congratulations. There is still much, much more to learn in the field of astrology. We will continue to add lessons at regular intervals.\\n\\nWith what you\\'ve learned so far, you can begin to interpret your natal chart. You may want to begin with a chart of a close friend or relative, instead of yourself, since we have the tendency to use rose-colored lenses when inspecting ourselves. While rose-colored lenses have their place, they are not helpful when we are trying to take an accurate inventory of our strengths, weaknesses, drives, and potential.\\n\\nCite This Page\\n\\nMLA style\\n\\nCorinne Lane. \"Aspects and Orbs in Astrology – Lesson 9\" Astrolibrary. Astrolibrary, LLC, 23 Aug. 2009. Web. 30 Apr. 2025. <https://astrolibrary.org/aspects-in-astrology/>\\n\\nAPA style\\n\\nCorinne Lane. (23 Aug. 2009). Aspects and Orbs in Astrology – Lesson 9. In Free Astrology Lessons (9). Retrieved from https://astrolibrary.org/aspects-in-astrology/\\n\\nTop ↑\\n\\nFree Astrology Lessons\\n\\nPOPULAR ON OUR SITE\\n\\nFree Astrology Reports\\n\\nAstrology Calculators\\n\\nBirth Chart Interpretations\\n\\nFree Astrology Lessons\\n\\nFree Ebooks\\n\\nCopyright 2009–2025 Astrolibrary, LLC. All rights reserved.\\n\\nKNOW THYSELF')]"
      ]
     },
     "execution_count": 44,
     "metadata": {},
     "output_type": "execute_result"
    }
   ],
   "source": [
    "docs"
   ]
  },
  {
   "cell_type": "markdown",
   "metadata": {},
   "source": [
    "### Knowledge Graph Based Synthetic Generation"
   ]
  },
  {
   "cell_type": "code",
   "execution_count": 45,
   "metadata": {},
   "outputs": [],
   "source": [
    "from ragas.llms import LangchainLLMWrapper\n",
    "from ragas.embeddings import LangchainEmbeddingsWrapper\n",
    "from langchain_openai import ChatOpenAI\n",
    "from langchain_openai import OpenAIEmbeddings\n",
    "generator_llm = LangchainLLMWrapper(ChatOpenAI(model=\"gpt-4.1-mini\"))\n",
    "generator_embeddings = LangchainEmbeddingsWrapper(OpenAIEmbeddings())"
   ]
  },
  {
   "cell_type": "code",
   "execution_count": 46,
   "metadata": {},
   "outputs": [
    {
     "data": {
      "text/plain": [
       "KnowledgeGraph(nodes: 0, relationships: 0)"
      ]
     },
     "execution_count": 46,
     "metadata": {},
     "output_type": "execute_result"
    }
   ],
   "source": [
    "from ragas.testset.graph import KnowledgeGraph\n",
    "\n",
    "kg = KnowledgeGraph()\n",
    "kg"
   ]
  },
  {
   "cell_type": "code",
   "execution_count": 47,
   "metadata": {},
   "outputs": [
    {
     "data": {
      "text/plain": [
       "KnowledgeGraph(nodes: 15, relationships: 0)"
      ]
     },
     "execution_count": 47,
     "metadata": {},
     "output_type": "execute_result"
    }
   ],
   "source": [
    "from ragas.testset.graph import Node, NodeType\n",
    "\n",
    "for doc in docs:\n",
    "    kg.nodes.append(\n",
    "        Node(\n",
    "            type=NodeType.DOCUMENT,\n",
    "            properties={\"page_content\": doc.page_content, \"document_metadata\": doc.metadata}\n",
    "        )\n",
    "    )\n",
    "kg"
   ]
  },
  {
   "cell_type": "code",
   "execution_count": 48,
   "metadata": {},
   "outputs": [
    {
     "data": {
      "application/vnd.jupyter.widget-view+json": {
       "model_id": "505ca130fdab44a299d3cf8c08324370",
       "version_major": 2,
       "version_minor": 0
      },
      "text/plain": [
       "Applying HeadlinesExtractor:   0%|          | 0/15 [00:00<?, ?it/s]"
      ]
     },
     "metadata": {},
     "output_type": "display_data"
    },
    {
     "data": {
      "application/vnd.jupyter.widget-view+json": {
       "model_id": "19754465ac2a4c44af602f95deee3ece",
       "version_major": 2,
       "version_minor": 0
      },
      "text/plain": [
       "Applying HeadlineSplitter:   0%|          | 0/15 [00:00<?, ?it/s]"
      ]
     },
     "metadata": {},
     "output_type": "display_data"
    },
    {
     "data": {
      "application/vnd.jupyter.widget-view+json": {
       "model_id": "2c0be22e0f6b4d8eaf80457d56083d2a",
       "version_major": 2,
       "version_minor": 0
      },
      "text/plain": [
       "Applying SummaryExtractor:   0%|          | 0/20 [00:00<?, ?it/s]"
      ]
     },
     "metadata": {},
     "output_type": "display_data"
    },
    {
     "name": "stderr",
     "output_type": "stream",
     "text": [
      "Property 'summary' already exists in node 'df070f'. Skipping!\n",
      "Property 'summary' already exists in node '2c2289'. Skipping!\n",
      "Property 'summary' already exists in node '044222'. Skipping!\n",
      "Property 'summary' already exists in node '75c060'. Skipping!\n",
      "Property 'summary' already exists in node '84b8a4'. Skipping!\n"
     ]
    },
    {
     "data": {
      "application/vnd.jupyter.widget-view+json": {
       "model_id": "ebff3759895f4e88992e8afd9ab243d6",
       "version_major": 2,
       "version_minor": 0
      },
      "text/plain": [
       "Applying CustomNodeFilter:   0%|          | 0/37 [00:00<?, ?it/s]"
      ]
     },
     "metadata": {},
     "output_type": "display_data"
    },
    {
     "data": {
      "application/vnd.jupyter.widget-view+json": {
       "model_id": "a1e4305f29d54dda94b5afdf0add3f17",
       "version_major": 2,
       "version_minor": 0
      },
      "text/plain": [
       "Applying [EmbeddingExtractor, ThemesExtractor, NERExtractor]:   0%|          | 0/76 [00:00<?, ?it/s]"
      ]
     },
     "metadata": {},
     "output_type": "display_data"
    },
    {
     "name": "stderr",
     "output_type": "stream",
     "text": [
      "Property 'summary_embedding' already exists in node 'df070f'. Skipping!\n",
      "Property 'summary_embedding' already exists in node '044222'. Skipping!\n",
      "Property 'summary_embedding' already exists in node '75c060'. Skipping!\n",
      "Property 'summary_embedding' already exists in node '84b8a4'. Skipping!\n",
      "Property 'summary_embedding' already exists in node '2c2289'. Skipping!\n"
     ]
    },
    {
     "data": {
      "application/vnd.jupyter.widget-view+json": {
       "model_id": "30796110cf934dc6a2f6f2a456fc3afd",
       "version_major": 2,
       "version_minor": 0
      },
      "text/plain": [
       "Applying [CosineSimilarityBuilder, OverlapScoreBuilder]:   0%|          | 0/2 [00:00<?, ?it/s]"
      ]
     },
     "metadata": {},
     "output_type": "display_data"
    },
    {
     "data": {
      "text/plain": [
       "KnowledgeGraph(nodes: 48, relationships: 397)"
      ]
     },
     "execution_count": 48,
     "metadata": {},
     "output_type": "execute_result"
    }
   ],
   "source": [
    "from ragas.testset.transforms import default_transforms, apply_transforms\n",
    "\n",
    "transformer_llm = generator_llm\n",
    "embedding_model = generator_embeddings\n",
    "\n",
    "default_transforms = default_transforms(documents=docs, llm=transformer_llm, embedding_model=embedding_model)\n",
    "apply_transforms(kg, default_transforms)\n",
    "kg"
   ]
  },
  {
   "cell_type": "code",
   "execution_count": 49,
   "metadata": {},
   "outputs": [
    {
     "data": {
      "text/plain": [
       "KnowledgeGraph(nodes: 48, relationships: 397)"
      ]
     },
     "execution_count": 49,
     "metadata": {},
     "output_type": "execute_result"
    }
   ],
   "source": [
    "kg.save(\"astrology_101.json\")\n",
    "astrology_101 = KnowledgeGraph.load(\"astrology_101.json\")\n",
    "astrology_101"
   ]
  },
  {
   "cell_type": "markdown",
   "metadata": {},
   "source": [
    "### Generate 3 different varities of test data"
   ]
  },
  {
   "cell_type": "code",
   "execution_count": 50,
   "metadata": {},
   "outputs": [],
   "source": [
    "from ragas.testset import TestsetGenerator\n",
    "\n",
    "generator = TestsetGenerator(llm=generator_llm, embedding_model=embedding_model, knowledge_graph=astrology_101)"
   ]
  },
  {
   "cell_type": "code",
   "execution_count": 51,
   "metadata": {},
   "outputs": [],
   "source": [
    "from ragas.testset.synthesizers import default_query_distribution, SingleHopSpecificQuerySynthesizer, MultiHopAbstractQuerySynthesizer, MultiHopSpecificQuerySynthesizer\n",
    "\n",
    "query_distribution = [\n",
    "        (SingleHopSpecificQuerySynthesizer(llm=generator_llm), 0.5),\n",
    "        (MultiHopAbstractQuerySynthesizer(llm=generator_llm), 0.25),\n",
    "        (MultiHopSpecificQuerySynthesizer(llm=generator_llm), 0.25),\n",
    "]"
   ]
  },
  {
   "cell_type": "code",
   "execution_count": 52,
   "metadata": {},
   "outputs": [
    {
     "data": {
      "application/vnd.jupyter.widget-view+json": {
       "model_id": "d0c5495159a643c6993e5571baa18fa0",
       "version_major": 2,
       "version_minor": 0
      },
      "text/plain": [
       "Generating personas:   0%|          | 0/3 [00:00<?, ?it/s]"
      ]
     },
     "metadata": {},
     "output_type": "display_data"
    },
    {
     "data": {
      "application/vnd.jupyter.widget-view+json": {
       "model_id": "4c468a011dd549ae8dbd0b03565ca617",
       "version_major": 2,
       "version_minor": 0
      },
      "text/plain": [
       "Generating Scenarios:   0%|          | 0/3 [00:00<?, ?it/s]"
      ]
     },
     "metadata": {},
     "output_type": "display_data"
    },
    {
     "data": {
      "application/vnd.jupyter.widget-view+json": {
       "model_id": "76871f73f8104ed7a8fc34eae87c50ec",
       "version_major": 2,
       "version_minor": 0
      },
      "text/plain": [
       "Generating Samples:   0%|          | 0/11 [00:00<?, ?it/s]"
      ]
     },
     "metadata": {},
     "output_type": "display_data"
    },
    {
     "data": {
      "text/html": [
       "<div>\n",
       "<style scoped>\n",
       "    .dataframe tbody tr th:only-of-type {\n",
       "        vertical-align: middle;\n",
       "    }\n",
       "\n",
       "    .dataframe tbody tr th {\n",
       "        vertical-align: top;\n",
       "    }\n",
       "\n",
       "    .dataframe thead th {\n",
       "        text-align: right;\n",
       "    }\n",
       "</style>\n",
       "<table border=\"1\" class=\"dataframe\">\n",
       "  <thead>\n",
       "    <tr style=\"text-align: right;\">\n",
       "      <th></th>\n",
       "      <th>user_input</th>\n",
       "      <th>reference_contexts</th>\n",
       "      <th>reference</th>\n",
       "      <th>synthesizer_name</th>\n",
       "    </tr>\n",
       "  </thead>\n",
       "  <tbody>\n",
       "    <tr>\n",
       "      <th>0</th>\n",
       "      <td>What is the significance of the 1st House cusp...</td>\n",
       "      <td>[What is a Rising Sign/Ascendant – Astrology L...</td>\n",
       "      <td>The 1st House cusp in a natal chart is where t...</td>\n",
       "      <td>single_hop_specifc_query_synthesizer</td>\n",
       "    </tr>\n",
       "    <tr>\n",
       "      <th>1</th>\n",
       "      <td>What key advice does Lesson 8: Zodiac Signs of...</td>\n",
       "      <td>[Astrolibrary logo AstroLibrary 🔎 Daily Person...</td>\n",
       "      <td>Lesson 8: Zodiac Signs emphasizes that the mos...</td>\n",
       "      <td>single_hop_specifc_query_synthesizer</td>\n",
       "    </tr>\n",
       "    <tr>\n",
       "      <th>2</th>\n",
       "      <td>what 2nd House mean in chart?</td>\n",
       "      <td>[Incorporating the Astrological Houses The oth...</td>\n",
       "      <td>The 2nd House is an area of life where the rul...</td>\n",
       "      <td>single_hop_specifc_query_synthesizer</td>\n",
       "    </tr>\n",
       "    <tr>\n",
       "      <th>3</th>\n",
       "      <td>How does the term \"Henley\" relate to the inter...</td>\n",
       "      <td>[A Word of Caution The celestial configuration...</td>\n",
       "      <td>The term \"Henley\" refers to the quote, \"I am t...</td>\n",
       "      <td>single_hop_specifc_query_synthesizer</td>\n",
       "    </tr>\n",
       "    <tr>\n",
       "      <th>4</th>\n",
       "      <td>How does Neptune influence inner planets when ...</td>\n",
       "      <td>[Remembering Aspects Don't forget the aspects....</td>\n",
       "      <td>When Neptune makes a conjunction aspect with a...</td>\n",
       "      <td>single_hop_specifc_query_synthesizer</td>\n",
       "    </tr>\n",
       "    <tr>\n",
       "      <th>5</th>\n",
       "      <td>How does the unique combination of elements an...</td>\n",
       "      <td>[&lt;1-hop&gt;\\n\\nWater Zodiac Element Water signs r...</td>\n",
       "      <td>The unique combination of elements and qualiti...</td>\n",
       "      <td>multi_hop_abstract_query_synthesizer</td>\n",
       "    </tr>\n",
       "    <tr>\n",
       "      <th>6</th>\n",
       "      <td>How do the major aspects such as conjunction, ...</td>\n",
       "      <td>[&lt;1-hop&gt;\\n\\nAstrolibrary logo AstroLibrary 🔎 D...</td>\n",
       "      <td>The major aspects in astrology—conjunction (0°...</td>\n",
       "      <td>multi_hop_abstract_query_synthesizer</td>\n",
       "    </tr>\n",
       "    <tr>\n",
       "      <th>7</th>\n",
       "      <td>how interaction of planetary placements and ex...</td>\n",
       "      <td>[&lt;1-hop&gt;\\n\\nAstrolibrary logo AstroLibrary 🔎 D...</td>\n",
       "      <td>The interaction of planetary placements in a b...</td>\n",
       "      <td>multi_hop_abstract_query_synthesizer</td>\n",
       "    </tr>\n",
       "    <tr>\n",
       "      <th>8</th>\n",
       "      <td>How does the sign of Capricorn influence the e...</td>\n",
       "      <td>[&lt;1-hop&gt;\\n\\nsign of Mars in your natal chart i...</td>\n",
       "      <td>The sign of Capricorn influences the expressio...</td>\n",
       "      <td>multi_hop_specific_query_synthesizer</td>\n",
       "    </tr>\n",
       "    <tr>\n",
       "      <th>9</th>\n",
       "      <td>How does havin Saturn in Capricorn in the 7th ...</td>\n",
       "      <td>[&lt;1-hop&gt;\\n\\nIncorporating the Astrological Hou...</td>\n",
       "      <td>Having Saturn in Capricorn in the 7th House ca...</td>\n",
       "      <td>multi_hop_specific_query_synthesizer</td>\n",
       "    </tr>\n",
       "    <tr>\n",
       "      <th>10</th>\n",
       "      <td>How does the zodiac sign Aries, which is align...</td>\n",
       "      <td>[&lt;1-hop&gt;\\n\\nZodiac Signs – Astrology Lesson 8 ...</td>\n",
       "      <td>The zodiac sign Aries is assigned to the zero ...</td>\n",
       "      <td>multi_hop_specific_query_synthesizer</td>\n",
       "    </tr>\n",
       "  </tbody>\n",
       "</table>\n",
       "</div>"
      ],
      "text/plain": [
       "                                           user_input  \\\n",
       "0   What is the significance of the 1st House cusp...   \n",
       "1   What key advice does Lesson 8: Zodiac Signs of...   \n",
       "2                       what 2nd House mean in chart?   \n",
       "3   How does the term \"Henley\" relate to the inter...   \n",
       "4   How does Neptune influence inner planets when ...   \n",
       "5   How does the unique combination of elements an...   \n",
       "6   How do the major aspects such as conjunction, ...   \n",
       "7   how interaction of planetary placements and ex...   \n",
       "8   How does the sign of Capricorn influence the e...   \n",
       "9   How does havin Saturn in Capricorn in the 7th ...   \n",
       "10  How does the zodiac sign Aries, which is align...   \n",
       "\n",
       "                                   reference_contexts  \\\n",
       "0   [What is a Rising Sign/Ascendant – Astrology L...   \n",
       "1   [Astrolibrary logo AstroLibrary 🔎 Daily Person...   \n",
       "2   [Incorporating the Astrological Houses The oth...   \n",
       "3   [A Word of Caution The celestial configuration...   \n",
       "4   [Remembering Aspects Don't forget the aspects....   \n",
       "5   [<1-hop>\\n\\nWater Zodiac Element Water signs r...   \n",
       "6   [<1-hop>\\n\\nAstrolibrary logo AstroLibrary 🔎 D...   \n",
       "7   [<1-hop>\\n\\nAstrolibrary logo AstroLibrary 🔎 D...   \n",
       "8   [<1-hop>\\n\\nsign of Mars in your natal chart i...   \n",
       "9   [<1-hop>\\n\\nIncorporating the Astrological Hou...   \n",
       "10  [<1-hop>\\n\\nZodiac Signs – Astrology Lesson 8 ...   \n",
       "\n",
       "                                            reference  \\\n",
       "0   The 1st House cusp in a natal chart is where t...   \n",
       "1   Lesson 8: Zodiac Signs emphasizes that the mos...   \n",
       "2   The 2nd House is an area of life where the rul...   \n",
       "3   The term \"Henley\" refers to the quote, \"I am t...   \n",
       "4   When Neptune makes a conjunction aspect with a...   \n",
       "5   The unique combination of elements and qualiti...   \n",
       "6   The major aspects in astrology—conjunction (0°...   \n",
       "7   The interaction of planetary placements in a b...   \n",
       "8   The sign of Capricorn influences the expressio...   \n",
       "9   Having Saturn in Capricorn in the 7th House ca...   \n",
       "10  The zodiac sign Aries is assigned to the zero ...   \n",
       "\n",
       "                        synthesizer_name  \n",
       "0   single_hop_specifc_query_synthesizer  \n",
       "1   single_hop_specifc_query_synthesizer  \n",
       "2   single_hop_specifc_query_synthesizer  \n",
       "3   single_hop_specifc_query_synthesizer  \n",
       "4   single_hop_specifc_query_synthesizer  \n",
       "5   multi_hop_abstract_query_synthesizer  \n",
       "6   multi_hop_abstract_query_synthesizer  \n",
       "7   multi_hop_abstract_query_synthesizer  \n",
       "8   multi_hop_specific_query_synthesizer  \n",
       "9   multi_hop_specific_query_synthesizer  \n",
       "10  multi_hop_specific_query_synthesizer  "
      ]
     },
     "execution_count": 52,
     "metadata": {},
     "output_type": "execute_result"
    }
   ],
   "source": [
    "dataset = generator.generate(testset_size=10, query_distribution=query_distribution)\n",
    "dataset.to_pandas()"
   ]
  },
  {
   "cell_type": "code",
   "execution_count": 53,
   "metadata": {},
   "outputs": [],
   "source": [
    "#response = graph.invoke({\"question\" : \"What does Mars in 5th mean?\"})"
   ]
  },
  {
   "cell_type": "code",
   "execution_count": 54,
   "metadata": {},
   "outputs": [
    {
     "data": {
      "text/plain": [
       "{'question': 'What does Mars in 5th mean?',\n",
       " 'context': [Document(metadata={'source': 'data/Planets in Astrology – Lesson 5 _ AstroLibrary.html', '_id': '0af75eef9c8c4a9b8684f989fbf470e1', '_collection_name': 'astrology101'}, page_content=\"Interpretations for Venus in each zodiac sign are available here: Venus in the Signs\\n\\nInterpretations for Venus in each House of the birth chart: Venus in Houses\\n\\nReturn to Top Return to Taurus Return to Libra\\n\\nastrology planet mars real image\\n\\nMars\\n\\n“I act”\\n\\nBest quality: Initiative Worst quality: Harshness\\n\\nMars is the exact opposite of Venus. Whereas Venus represents the female, Mars is all male. Whereas Venus is about harmony, Mars is conflict, aggression, and outright war. Mars is the planet of physical energy. It governs your sex drive, your forcefulness and your aggression. It is associated with your desires and aspirations for emotional, physical, mental and spiritual things that stimulate activity. You have to want something before you reach out and take it; Mars is the heated passion behind action. Mars shows your ability to turn ideas into action. The sign of Mars in your natal chart indicates your vitality, energy level, and style of action. In a female's chart, the Mars sign is one factor suggesting the type of man she attracts. In its highest form, Mars represent your unleashed energy and your human will – initiative. A controlled Mars can give a healthy dose of assertiveness and ambition. At its worst, Mars energy makes one prone to anger, harshness and destructive violence, impulsive behavior, danger, combativeness and every kind of cruelty. It’s up to you to use this force constructively.\\n\\nInterpretations for Mars in each zodiac sign are available here: Mars in the Signs.\\n\\nInterpretations for Mars in each House of the birth chart: Mars in Houses\\n\\nReturn to Top Return to Aries\\n\\njupiter astrology planet\\n\\nJupiter\\n\\n“I grow”\\n\\nBest quality: Benevolence (kindness) Worst quality: Conceit\"),\n",
       "  Document(metadata={'source': 'data/12 Astrological Houses – Astrology Lesson 4.html', '_id': 'ca44c4bc8103487e91c3386e964ae058', '_collection_name': 'astrology101'}, page_content='On a deeper level, the 4th house is the base of consciousness or the center of our concrete existence. See how the cusp of the 4th house is the I.C., the lowest point on the chart, representative of things below the surface of Earth. Due to that, the 4th house was believed to rule the conditions at the end of life, and graves. As the root or base of your real self, the 4th house rules where you go when you \"die\" but also where you came from. For those who believe in reincarnation, the 4th house would give clues to your karmic lesson for this lifetime. It shows what karmic baggage you brought with you into this life. Even if you don\\'t believe in reincarnation, you\\'re likely to be surprised by what you find in your 4th house for it may move your soul.\\n\\nAny planets in the 4th house affect your home life, your emotions, your subconscious, and possibly your relationship with your parents.\\n\\nTop\\n\\n5th Astrological House\\n\\nThe fifth House refers to children, creativity, and the pursuit of pleasure. This includes personal interests, love affairs, sports, hobbies, speculation, risk-taking, teaching, drama, creative self-expression, love given, gambling. The 5th house is all about you being yourself and enjoying it.\\n\\nRomance, dating, love affairs, and sexual relationships are ruled by this 5th house, yet marriage is assigned to the 7th. Why? Because, until very recently, marriage was not entered into for pleasure, for love, nor for personal fulfillment. Marriage was hardly even entered into by choice, but rather for the purpose of raising kids to preserve the values of a particular culture or religion. And these marriages were most often arranged according to class and financial status, a partnership befitting the 7th house.\\n\\nNowadays, it\\'s common to marry for love. To avoid confusion, remember: affairs of the heart are in the 5th house, but cooperative partnerships are in the domain of the 7th house.\\n\\nTop\\n\\n6th Astrological House'),\n",
       "  Document(metadata={'source': 'data/Planets in Astrology – Lesson 5 _ AstroLibrary.html', '_id': 'ac308a0f92ee42c585b843422e310e1d', '_collection_name': 'astrology101'}, page_content='Astrolibrary logo\\n\\nAstroLibrary 🔎\\n\\nDaily Personalized Horoscope ↗\\n\\nPlanets in Astrology – Lesson 5\\n\\nClick on one of these astrology planets to skip down to its description:\\n\\nastrology planet sun glyph symbol\\n\\nSun\\n\\nastrology planet moon glyph symbol\\n\\nMoon\\n\\nastrology planet mercury glyph symbol\\n\\nMercury\\n\\nastrology planet venus glyph symbol\\n\\nVenus\\n\\nplanet mars astrology glyph symbol\\n\\nMars\\n\\njupiter astrology planet glyph symbol\\n\\nJupiter\\n\\nsaturn astrology planet glyph symbol\\n\\nSaturn\\n\\nuranus astrology planet glyph symbol\\n\\nUranus\\n\\nneptune astrology planet glyph symbol\\n\\nNeptune\\n\\npluto astrology planet glyph symbol\\n\\nPluto\\n\\nAstrology is about observing the planets. This is not to say that the planets (or the signs) cause anything to happen. What we observe is synchrony – that things are taking place in sync. One movement is flowing throughout our space, heavens, and Earth. Instead of causing, the planets indicate things, describing what is already taking place. But for the sake of convenience, astrologers use phrases like, “your Venus makes you like this,” or “his Mars made him act like that.” Please note that this is only for convenience in communicating. Astrologers know that the planets don’t force us to do anything, any more than your 5:00pm clock forces you to stop working. But you do stop working when the clock strikes 5:00pm, don’t you? And so you pay careful attention to that clock, because that clock will show you when it’s time to go home from work. But the clock never forced you to leave work, neither did it ever seal your fate. In the end, you decide when to leave work. That is the beauty of synchronicity.'),\n",
       "  Document(metadata={'source': 'data/How to Read Your Own Birth Chart – Astrology Lesson 10.html', '_id': 'd438bbf7ea514baf8c1a8e656d24869a', '_collection_name': 'astrology101'}, page_content='The zodiac sign will show how the planet is manifested. Previously, we likened the signs to \"stained-glass windows\" through which the planet is expressed. See if this analogy helps: envision a sentence, with a \"verb\" and an \"adverb.\" The planet is the \"verb\" while the zodiac sign is the \"adverb.\" For example, the Moon (feel, nurture, respond) in the sign of Capricorn (reservedly, coldly) denotes someone who nurtures in a cold and reserved way, or has trouble expressing emotions. That\\'s not a happy placement for the Moon, but remember: there\\'s more to the story…the rest of the chart. (See what each planet means in Lesson 5: The Planets. See what each zodiac sign means in Lesson 8: Zodiac Signs)\\n\\nIncorporating the Astrological Houses\\n\\nThe other thing to remember is that the planet in the sign will focus on the House. This means that the activity denoted by the planet will take place in the arena of your life designated by the House in which that planet falls. (Remember, each House represents a sphere of life – i.e. work, home, friendships, etc.) The planet is the \"what,\" the sign is \"how\" that \"what\" is done, and the House is \"where\" it takes place. Here is a handy reminder to use when interpreting your natal chart:\\n\\nPlanets = What? Signs = How? Houses = Where?\\n\\nThe following table explains it further.\\n\\nPlanets = “What” = energies; what you like to do Signs = “How” = the way you do it Houses = “Where” = areas of your life\\n\\nAn example of why taking the House into consideration is so important:\\n\\nSay a person has Saturn in Capricorn in the 7th House, which could manifest as a reserved (Capricorn) attitude in love relationships (7th House). Then, say this same individual has Venus in Sagittarius in the 11th House. This person will be friendly and outgoing (Sagittarius) in social situations and groups (11th House), but unemotional and detached (although dependable) in love relationships (Saturn in Capricorn in the 7th). (Astrology is a powerful tool for understanding those seemingly contradicting tendencies that we all have. The birth chart tells it all. With time and patience, you will be able to read all such details from a birth chart)'),\n",
       "  Document(metadata={'source': 'data/Planets in Astrology – Lesson 5 _ AstroLibrary.html', '_id': '3c9131f8106a4048aa18c122463561cb', '_collection_name': 'astrology101'}, page_content='As has been mentioned, the Sun and the Moon are included when we say “the planets.” Astrologers do this for convenience. The ten planets of astrology are: Sun, Moon, Mercury, Venus, Mars, Jupiter, Saturn, Uranus, Neptune, and Pluto[1]. (From our geocentric position, Earth is not included in the list; however Earth\\'s interplay in the scheme of things is denoted by the Ascendant.) However, before the 18th century only the first seven planets were recognized (they were perceivable to the naked eye): Sun, Moon, Mercury, Venus, Mars, Jupiter, and Saturn. Since over 2,000 years ago, the seven classical planets were observed to keep time, orbiting steadily on their paths. Perhaps that is why the number seven was symbolic of deity in ancient cultures. The seven were named after Greek gods because their influence was considered to be as such. Seven was the number of days chosen for a week, with each day borrowing its name from one of the classical planets. (The days making up our calendar month were determined based on one complete cycle through the 12 zodiac signs by the moon, from which the word \"month\" comes from.)\\n\\nThe discoveries of Uranus, Neptune, and Pluto corresponded to revolutionary changes in our world, from the Industrial Revolution and discovery of electricity (Uranus), to the financial collapse and interest in world domination of the 1930’s (Pluto). Pluto’s demotion of status to a “dwarf planet” does not change the fact that it is a celestial body participating in the continuous flow of energy in our world. Thus, Pluto is included here as a planet. (Astrology also observes several other asteroids/planetoids, regardless of planetary status. The body is there, thus, it counts.)\\n\\nEach planet symbolizes a different component of life, a different type of energy. In psychological terms, we can call them “needs” or “drives.” Click on the astrology planets above to learn what each one brings to astrology.\\n\\nNotes\\n\\n1. See Why Pluto is still valid even though it’s not a planet anymore\\n\\nplanets solar system view from moon\\n\\nsun planet golden red orange fire\\n\\nThe Sun\\n\\n“I am”\\n\\nBest quality: Rulership Worst quality: Dictativeness')],\n",
       " 'response': '**Astrological Interpretation: Mars in the 5th House**\\n\\n---\\n\\n### What does Mars represent?\\n\\n- Mars symbolizes **action, initiative, physical energy, aggression, and desire**.\\n- It governs your **drive, ambition, sex drive, and ability to turn ideas into action**.\\n- Mars expresses how you assert yourself and pursue what you want.\\n- At its best, Mars delivers **healthy assertiveness and boldness**.\\n- At its worst, it can bring **impulsiveness, harshness, anger, and conflict**.\\n\\n---\\n\\n### What does the 5th House represent?\\n\\n- The 5th House rules **creativity, pleasure, romance, love affairs, children, hobbies, sports, risk-taking, and self-expression**.\\n- It focuses on **being yourself and enjoying life through fun and personal interests**.\\n- Romance and dating fall under the 5th House (distinct from marriage, which is ruled by the 7th House).\\n\\n---\\n\\n### Mars in the 5th House: Combined Meaning\\n\\n**Fundamental theme:**  \\nMars energizes the arena of pleasure, creativity, and romance. This placement ignites your passion for fun, self-expression, and love affairs, making you dynamic and assertive in these areas.\\n\\n---\\n\\n### Key Interpretive Points\\n\\n1. **Energetic Creativity and Passion**  \\n   Mars in the 5th brings a **fiery, bold, and enthusiastic approach to creative projects and hobbies**. You are likely to pursue your interests with vigor, enthusiasm, and a competitive edge. You may enjoy sports or physical activities that allow you to express your vitality.\\n\\n2. **Romance and Love Affairs**  \\n   In love and dating, Mars here suggests a **direct, passionate, and sometimes impulsive style**. You may attract intense and exciting romantic encounters and could be assertive in pursuing love interests. There may be a love for the thrill of the chase or risk-taking in romance.\\n\\n3. **Risk-Taking and Gambling**  \\n   Mars energizes your appetite for **speculation, risk-taking, and gambling**. You are likely to enjoy challenges and might be drawn to situations where you can assert your courage or test your limits.\\n\\n4. **Sexual Drive and Expression**  \\n   The 5th House relates to sexual relationships (outside of committed partnerships), so Mars here can indicate a **strong sex drive and a bold, active approach to sexuality**.\\n\\n5. **Potential Challenges**  \\n   - Impulsivity in romance or creative pursuits could lead to conflicts or reckless behavior.  \\n   - Mars’ aggression might sometimes cause **arguments or competitiveness** in love affairs or with children.  \\n   - There may be a tendency to **overdo** or push too hard in playful or romantic situations.\\n\\n---\\n\\n### How Mars in the 5th might manifest in life\\n\\n- You may be a **dynamic and passionate lover**, always ready to take initiative in romance.\\n- You might enjoy competitive sports, drama, or any activity where you can express yourself boldly.\\n- Children (if any) might be a source of energetic involvement or occasional conflict.\\n- Creative projects are approached with a pioneering spirit.\\n- You might enjoy the excitement of speculative ventures or gambling.\\n- Your love affairs could be marked by intensity and sometimes impulsiveness.\\n\\n---\\n\\n### Summary\\n\\n| Aspect                 | Interpretation                                                                                                 |\\n|------------------------|---------------------------------------------------------------------------------------------------------------|\\n| **Mars = What?**       | Action, assertiveness, energy, drive                                                                         |\\n| **5th House = Where?** | Creativity, romance, pleasure, self-expression, children, risk-taking                                         |\\n| **Mars in 5th = What/Where** | Assertive, passionate, and energetic approach to love affairs, creative projects, and personal pleasures |\\n\\n---\\n\\n### Final Note\\n\\nMars in the 5th House invites you to **actively seek joy, love, and creative expression** with enthusiasm and courage. Harnessing this energy constructively can lead to exciting and fulfilling experiences in romance, creativity, and play. Beware of impulsiveness and channel aggressive energy positively.\\n\\n---\\n\\nIf you want a more tailored interpretation, including the sign Mars is in or aspects it makes, please provide those details.\\n\\n---\\n\\n**I hope this helps illuminate the cosmic energy of Mars in the 5th House!**'}"
      ]
     },
     "execution_count": 54,
     "metadata": {},
     "output_type": "execute_result"
    }
   ],
   "source": [
    "response"
   ]
  },
  {
   "cell_type": "markdown",
   "metadata": {},
   "source": [
    "### Using RAG Chain to answer test questions and add generated answers into the dataframe"
   ]
  },
  {
   "cell_type": "code",
   "execution_count": 55,
   "metadata": {},
   "outputs": [],
   "source": [
    "for test_row in dataset:\n",
    "  response = graph.invoke({\"question\" : test_row.eval_sample.user_input})\n",
    "  test_row.eval_sample.response = response[\"response\"]\n",
    "  test_row.eval_sample.retrieved_contexts = [context.page_content for context in response[\"context\"]]"
   ]
  },
  {
   "cell_type": "code",
   "execution_count": 56,
   "metadata": {},
   "outputs": [
    {
     "data": {
      "text/html": [
       "<div>\n",
       "<style scoped>\n",
       "    .dataframe tbody tr th:only-of-type {\n",
       "        vertical-align: middle;\n",
       "    }\n",
       "\n",
       "    .dataframe tbody tr th {\n",
       "        vertical-align: top;\n",
       "    }\n",
       "\n",
       "    .dataframe thead th {\n",
       "        text-align: right;\n",
       "    }\n",
       "</style>\n",
       "<table border=\"1\" class=\"dataframe\">\n",
       "  <thead>\n",
       "    <tr style=\"text-align: right;\">\n",
       "      <th></th>\n",
       "      <th>user_input</th>\n",
       "      <th>retrieved_contexts</th>\n",
       "      <th>reference_contexts</th>\n",
       "      <th>response</th>\n",
       "      <th>reference</th>\n",
       "      <th>synthesizer_name</th>\n",
       "    </tr>\n",
       "  </thead>\n",
       "  <tbody>\n",
       "    <tr>\n",
       "      <th>0</th>\n",
       "      <td>What is the significance of the 1st House cusp...</td>\n",
       "      <td>[House Rulers (Signs on the Cusps)\\n\\nAnother ...</td>\n",
       "      <td>[What is a Rising Sign/Ascendant – Astrology L...</td>\n",
       "      <td>Certainly! Here is a detailed astrological int...</td>\n",
       "      <td>The 1st House cusp in a natal chart is where t...</td>\n",
       "      <td>single_hop_specifc_query_synthesizer</td>\n",
       "    </tr>\n",
       "    <tr>\n",
       "      <th>1</th>\n",
       "      <td>What key advice does Lesson 8: Zodiac Signs of...</td>\n",
       "      <td>[Astrolibrary logo\\n\\nAstroLibrary 🔎\\n\\nDaily ...</td>\n",
       "      <td>[Astrolibrary logo AstroLibrary 🔎 Daily Person...</td>\n",
       "      <td>Certainly! Based on Lesson 8: Zodiac Signs fro...</td>\n",
       "      <td>Lesson 8: Zodiac Signs emphasizes that the mos...</td>\n",
       "      <td>single_hop_specifc_query_synthesizer</td>\n",
       "    </tr>\n",
       "    <tr>\n",
       "      <th>2</th>\n",
       "      <td>what 2nd House mean in chart?</td>\n",
       "      <td>[Simply put, the 8th house is the polar opposi...</td>\n",
       "      <td>[Incorporating the Astrological Houses The oth...</td>\n",
       "      <td>Certainly! Here is a detailed astrological int...</td>\n",
       "      <td>The 2nd House is an area of life where the rul...</td>\n",
       "      <td>single_hop_specifc_query_synthesizer</td>\n",
       "    </tr>\n",
       "    <tr>\n",
       "      <th>3</th>\n",
       "      <td>How does the term \"Henley\" relate to the inter...</td>\n",
       "      <td>[Some astrologers mistakenly interpret birth c...</td>\n",
       "      <td>[A Word of Caution The celestial configuration...</td>\n",
       "      <td>The term **\"Henley\"** in the provided context ...</td>\n",
       "      <td>The term \"Henley\" refers to the quote, \"I am t...</td>\n",
       "      <td>single_hop_specifc_query_synthesizer</td>\n",
       "    </tr>\n",
       "    <tr>\n",
       "      <th>4</th>\n",
       "      <td>How does Neptune influence inner planets when ...</td>\n",
       "      <td>[Remembering Aspects\\n\\nDon't forget the aspec...</td>\n",
       "      <td>[Remembering Aspects Don't forget the aspects....</td>\n",
       "      <td>When **Neptune forms a conjunction aspect with...</td>\n",
       "      <td>When Neptune makes a conjunction aspect with a...</td>\n",
       "      <td>single_hop_specifc_query_synthesizer</td>\n",
       "    </tr>\n",
       "    <tr>\n",
       "      <th>5</th>\n",
       "      <td>How does the unique combination of elements an...</td>\n",
       "      <td>[Numerous astrological techniques can (and sho...</td>\n",
       "      <td>[&lt;1-hop&gt;\\n\\nWater Zodiac Element Water signs r...</td>\n",
       "      <td>Certainly! Let’s explore how the unique combin...</td>\n",
       "      <td>The unique combination of elements and qualiti...</td>\n",
       "      <td>multi_hop_abstract_query_synthesizer</td>\n",
       "    </tr>\n",
       "    <tr>\n",
       "      <th>6</th>\n",
       "      <td>How do the major aspects such as conjunction, ...</td>\n",
       "      <td>[Example of an Aspect\\n\\nastrology chart squar...</td>\n",
       "      <td>[&lt;1-hop&gt;\\n\\nAstrolibrary logo AstroLibrary 🔎 D...</td>\n",
       "      <td>Certainly! Here’s a detailed astrological inte...</td>\n",
       "      <td>The major aspects in astrology—conjunction (0°...</td>\n",
       "      <td>multi_hop_abstract_query_synthesizer</td>\n",
       "    </tr>\n",
       "    <tr>\n",
       "      <th>7</th>\n",
       "      <td>how interaction of planetary placements and ex...</td>\n",
       "      <td>[Remembering Aspects\\n\\nDon't forget the aspec...</td>\n",
       "      <td>[&lt;1-hop&gt;\\n\\nAstrolibrary logo AstroLibrary 🔎 D...</td>\n",
       "      <td>Certainly! Here’s a detailed explanation of ho...</td>\n",
       "      <td>The interaction of planetary placements in a b...</td>\n",
       "      <td>multi_hop_abstract_query_synthesizer</td>\n",
       "    </tr>\n",
       "    <tr>\n",
       "      <th>8</th>\n",
       "      <td>How does the sign of Capricorn influence the e...</td>\n",
       "      <td>[The zodiac sign will show how the planet is m...</td>\n",
       "      <td>[&lt;1-hop&gt;\\n\\nsign of Mars in your natal chart i...</td>\n",
       "      <td>Certainly! Here’s a detailed astrological inte...</td>\n",
       "      <td>The sign of Capricorn influences the expressio...</td>\n",
       "      <td>multi_hop_specific_query_synthesizer</td>\n",
       "    </tr>\n",
       "    <tr>\n",
       "      <th>9</th>\n",
       "      <td>How does havin Saturn in Capricorn in the 7th ...</td>\n",
       "      <td>[House Rulers (Signs on the Cusps)\\n\\nAnother ...</td>\n",
       "      <td>[&lt;1-hop&gt;\\n\\nIncorporating the Astrological Hou...</td>\n",
       "      <td>Certainly! Here is a detailed astrological int...</td>\n",
       "      <td>Having Saturn in Capricorn in the 7th House ca...</td>\n",
       "      <td>multi_hop_specific_query_synthesizer</td>\n",
       "    </tr>\n",
       "    <tr>\n",
       "      <th>10</th>\n",
       "      <td>How does the zodiac sign Aries, which is align...</td>\n",
       "      <td>[On a physical, material level, the 12th house...</td>\n",
       "      <td>[&lt;1-hop&gt;\\n\\nZodiac Signs – Astrology Lesson 8 ...</td>\n",
       "      <td>Certainly! Here is a detailed astrological int...</td>\n",
       "      <td>The zodiac sign Aries is assigned to the zero ...</td>\n",
       "      <td>multi_hop_specific_query_synthesizer</td>\n",
       "    </tr>\n",
       "  </tbody>\n",
       "</table>\n",
       "</div>"
      ],
      "text/plain": [
       "                                           user_input  \\\n",
       "0   What is the significance of the 1st House cusp...   \n",
       "1   What key advice does Lesson 8: Zodiac Signs of...   \n",
       "2                       what 2nd House mean in chart?   \n",
       "3   How does the term \"Henley\" relate to the inter...   \n",
       "4   How does Neptune influence inner planets when ...   \n",
       "5   How does the unique combination of elements an...   \n",
       "6   How do the major aspects such as conjunction, ...   \n",
       "7   how interaction of planetary placements and ex...   \n",
       "8   How does the sign of Capricorn influence the e...   \n",
       "9   How does havin Saturn in Capricorn in the 7th ...   \n",
       "10  How does the zodiac sign Aries, which is align...   \n",
       "\n",
       "                                   retrieved_contexts  \\\n",
       "0   [House Rulers (Signs on the Cusps)\\n\\nAnother ...   \n",
       "1   [Astrolibrary logo\\n\\nAstroLibrary 🔎\\n\\nDaily ...   \n",
       "2   [Simply put, the 8th house is the polar opposi...   \n",
       "3   [Some astrologers mistakenly interpret birth c...   \n",
       "4   [Remembering Aspects\\n\\nDon't forget the aspec...   \n",
       "5   [Numerous astrological techniques can (and sho...   \n",
       "6   [Example of an Aspect\\n\\nastrology chart squar...   \n",
       "7   [Remembering Aspects\\n\\nDon't forget the aspec...   \n",
       "8   [The zodiac sign will show how the planet is m...   \n",
       "9   [House Rulers (Signs on the Cusps)\\n\\nAnother ...   \n",
       "10  [On a physical, material level, the 12th house...   \n",
       "\n",
       "                                   reference_contexts  \\\n",
       "0   [What is a Rising Sign/Ascendant – Astrology L...   \n",
       "1   [Astrolibrary logo AstroLibrary 🔎 Daily Person...   \n",
       "2   [Incorporating the Astrological Houses The oth...   \n",
       "3   [A Word of Caution The celestial configuration...   \n",
       "4   [Remembering Aspects Don't forget the aspects....   \n",
       "5   [<1-hop>\\n\\nWater Zodiac Element Water signs r...   \n",
       "6   [<1-hop>\\n\\nAstrolibrary logo AstroLibrary 🔎 D...   \n",
       "7   [<1-hop>\\n\\nAstrolibrary logo AstroLibrary 🔎 D...   \n",
       "8   [<1-hop>\\n\\nsign of Mars in your natal chart i...   \n",
       "9   [<1-hop>\\n\\nIncorporating the Astrological Hou...   \n",
       "10  [<1-hop>\\n\\nZodiac Signs – Astrology Lesson 8 ...   \n",
       "\n",
       "                                             response  \\\n",
       "0   Certainly! Here is a detailed astrological int...   \n",
       "1   Certainly! Based on Lesson 8: Zodiac Signs fro...   \n",
       "2   Certainly! Here is a detailed astrological int...   \n",
       "3   The term **\"Henley\"** in the provided context ...   \n",
       "4   When **Neptune forms a conjunction aspect with...   \n",
       "5   Certainly! Let’s explore how the unique combin...   \n",
       "6   Certainly! Here’s a detailed astrological inte...   \n",
       "7   Certainly! Here’s a detailed explanation of ho...   \n",
       "8   Certainly! Here’s a detailed astrological inte...   \n",
       "9   Certainly! Here is a detailed astrological int...   \n",
       "10  Certainly! Here is a detailed astrological int...   \n",
       "\n",
       "                                            reference  \\\n",
       "0   The 1st House cusp in a natal chart is where t...   \n",
       "1   Lesson 8: Zodiac Signs emphasizes that the mos...   \n",
       "2   The 2nd House is an area of life where the rul...   \n",
       "3   The term \"Henley\" refers to the quote, \"I am t...   \n",
       "4   When Neptune makes a conjunction aspect with a...   \n",
       "5   The unique combination of elements and qualiti...   \n",
       "6   The major aspects in astrology—conjunction (0°...   \n",
       "7   The interaction of planetary placements in a b...   \n",
       "8   The sign of Capricorn influences the expressio...   \n",
       "9   Having Saturn in Capricorn in the 7th House ca...   \n",
       "10  The zodiac sign Aries is assigned to the zero ...   \n",
       "\n",
       "                        synthesizer_name  \n",
       "0   single_hop_specifc_query_synthesizer  \n",
       "1   single_hop_specifc_query_synthesizer  \n",
       "2   single_hop_specifc_query_synthesizer  \n",
       "3   single_hop_specifc_query_synthesizer  \n",
       "4   single_hop_specifc_query_synthesizer  \n",
       "5   multi_hop_abstract_query_synthesizer  \n",
       "6   multi_hop_abstract_query_synthesizer  \n",
       "7   multi_hop_abstract_query_synthesizer  \n",
       "8   multi_hop_specific_query_synthesizer  \n",
       "9   multi_hop_specific_query_synthesizer  \n",
       "10  multi_hop_specific_query_synthesizer  "
      ]
     },
     "execution_count": 56,
     "metadata": {},
     "output_type": "execute_result"
    }
   ],
   "source": [
    "# check the updated dataset\n",
    "dataset.to_pandas()"
   ]
  },
  {
   "cell_type": "markdown",
   "metadata": {},
   "source": [
    "### Evaluation using RAGAS"
   ]
  },
  {
   "cell_type": "code",
   "execution_count": 57,
   "metadata": {},
   "outputs": [],
   "source": [
    "from ragas import EvaluationDataset\n",
    "\n",
    "evaluation_dataset = EvaluationDataset.from_pandas(dataset.to_pandas())"
   ]
  },
  {
   "cell_type": "code",
   "execution_count": 58,
   "metadata": {},
   "outputs": [],
   "source": [
    "from ragas import evaluate\n",
    "from ragas.llms import LangchainLLMWrapper\n",
    "\n",
    "evaluator_llm = LangchainLLMWrapper(ChatOpenAI(model=\"gpt-4.1-mini\"))"
   ]
  },
  {
   "cell_type": "code",
   "execution_count": 59,
   "metadata": {},
   "outputs": [
    {
     "data": {
      "application/vnd.jupyter.widget-view+json": {
       "model_id": "2eb53c6a58bc44df895fe0c3a202170d",
       "version_major": 2,
       "version_minor": 0
      },
      "text/plain": [
       "Evaluating:   0%|          | 0/66 [00:00<?, ?it/s]"
      ]
     },
     "metadata": {},
     "output_type": "display_data"
    },
    {
     "name": "stderr",
     "output_type": "stream",
     "text": [
      "Exception raised in Job[5]: TimeoutError()\n",
      "Exception raised in Job[35]: TimeoutError()\n",
      "Exception raised in Job[41]: TimeoutError()\n",
      "Exception raised in Job[47]: TimeoutError()\n"
     ]
    }
   ],
   "source": [
    "from ragas.metrics import LLMContextRecall, Faithfulness, FactualCorrectness, ResponseRelevancy, ContextEntityRecall, NoiseSensitivity\n",
    "from ragas import evaluate, RunConfig\n",
    "\n",
    "custom_run_config = RunConfig(timeout=360)\n",
    "\n",
    "result = evaluate(\n",
    "    dataset=evaluation_dataset,\n",
    "    metrics=[LLMContextRecall(), Faithfulness(), FactualCorrectness(), ResponseRelevancy(), ContextEntityRecall(), NoiseSensitivity()],\n",
    "    llm=evaluator_llm,\n",
    "    run_config=custom_run_config\n",
    ")"
   ]
  },
  {
   "cell_type": "code",
   "execution_count": 60,
   "metadata": {},
   "outputs": [
    {
     "data": {
      "text/plain": [
       "{'context_recall': 0.9583, 'faithfulness': 0.7147, 'factual_correctness(mode=f1)': 0.6091, 'answer_relevancy': 0.9484, 'context_entity_recall': 0.5928, 'noise_sensitivity(mode=relevant)': 0.2707}"
      ]
     },
     "execution_count": 60,
     "metadata": {},
     "output_type": "execute_result"
    }
   ],
   "source": [
    "result"
   ]
  },
  {
   "cell_type": "markdown",
   "metadata": {},
   "source": [
    "## Use Finetuning Model"
   ]
  },
  {
   "cell_type": "code",
   "execution_count": 61,
   "metadata": {},
   "outputs": [
    {
     "name": "stderr",
     "output_type": "stream",
     "text": [
      "Some weights of BertModel were not initialized from the model checkpoint at DiamondCutter88/astrology-ft-c8cd64c7-86a1-4203-ac38-826b510e436f and are newly initialized: ['pooler.dense.bias', 'pooler.dense.weight']\n",
      "You should probably TRAIN this model on a down-stream task to be able to use it for predictions and inference.\n"
     ]
    }
   ],
   "source": [
    "from langchain_huggingface import HuggingFaceEmbeddings\n",
    "\n",
    "huggingface_embeddings = HuggingFaceEmbeddings(model_name=\"DiamondCutter88/astrology-ft-c8cd64c7-86a1-4203-ac38-826b510e436f\")"
   ]
  },
  {
   "cell_type": "code",
   "execution_count": 62,
   "metadata": {},
   "outputs": [],
   "source": [
    "from langchain_community.vectorstores import Qdrant\n",
    "\n",
    "qdrant_vectorstore_fine_tuned = Qdrant.from_documents(\n",
    "    split_chunks,\n",
    "    huggingface_embeddings,\n",
    "    location=\":memory:\",\n",
    "    collection_name=\"fine-tuned-astrology101\"\n",
    ")"
   ]
  },
  {
   "cell_type": "code",
   "execution_count": 63,
   "metadata": {},
   "outputs": [],
   "source": [
    "qdrant_retriever_fine_tuned  = qdrant_vectorstore_fine_tuned.as_retriever(search_kwargs={\"k\": 5})"
   ]
  },
  {
   "cell_type": "code",
   "execution_count": 64,
   "metadata": {},
   "outputs": [],
   "source": [
    "def retrieve_fine_tuned(state):\n",
    "  retrieved_docs = qdrant_retriever_fine_tuned.invoke(state[\"question\"])\n",
    "  return {\"context\" : retrieved_docs}"
   ]
  },
  {
   "cell_type": "markdown",
   "metadata": {},
   "source": [
    "Build Finetuned retriever graph"
   ]
  },
  {
   "cell_type": "code",
   "execution_count": 65,
   "metadata": {},
   "outputs": [],
   "source": [
    "graph_builder = StateGraph(State)\n",
    "# Define nodes\n",
    "graph_builder.add_node(\"retrieve_fine_tuned\", retrieve_fine_tuned)\n",
    "graph_builder.add_node(\"generate\", generate)\n",
    "# Define edges\n",
    "graph_builder.add_edge(START, \"retrieve_fine_tuned\")\n",
    "graph_builder.add_edge(\"retrieve_fine_tuned\", \"generate\")\n",
    "graph_builder.add_edge(\"generate\", END)\n",
    "# Compile\n",
    "graph_retrieve_fine_tuned = graph_builder.compile()"
   ]
  },
  {
   "cell_type": "code",
   "execution_count": 66,
   "metadata": {},
   "outputs": [
    {
     "data": {
      "text/plain": [
       "{'question': 'What does Mars in 5th mean?',\n",
       " 'context': [Document(metadata={'source': 'data/Planets in Astrology – Lesson 5 _ AstroLibrary.html', '_id': '59eb5ed06f17481e8156a6f8725e2b90', '_collection_name': 'fine-tuned-astrology101'}, page_content=\"Interpretations for Venus in each zodiac sign are available here: Venus in the Signs\\n\\nInterpretations for Venus in each House of the birth chart: Venus in Houses\\n\\nReturn to Top Return to Taurus Return to Libra\\n\\nastrology planet mars real image\\n\\nMars\\n\\n“I act”\\n\\nBest quality: Initiative Worst quality: Harshness\\n\\nMars is the exact opposite of Venus. Whereas Venus represents the female, Mars is all male. Whereas Venus is about harmony, Mars is conflict, aggression, and outright war. Mars is the planet of physical energy. It governs your sex drive, your forcefulness and your aggression. It is associated with your desires and aspirations for emotional, physical, mental and spiritual things that stimulate activity. You have to want something before you reach out and take it; Mars is the heated passion behind action. Mars shows your ability to turn ideas into action. The sign of Mars in your natal chart indicates your vitality, energy level, and style of action. In a female's chart, the Mars sign is one factor suggesting the type of man she attracts. In its highest form, Mars represent your unleashed energy and your human will – initiative. A controlled Mars can give a healthy dose of assertiveness and ambition. At its worst, Mars energy makes one prone to anger, harshness and destructive violence, impulsive behavior, danger, combativeness and every kind of cruelty. It’s up to you to use this force constructively.\\n\\nInterpretations for Mars in each zodiac sign are available here: Mars in the Signs.\\n\\nInterpretations for Mars in each House of the birth chart: Mars in Houses\\n\\nReturn to Top Return to Aries\\n\\njupiter astrology planet\\n\\nJupiter\\n\\n“I grow”\\n\\nBest quality: Benevolence (kindness) Worst quality: Conceit\"),\n",
       "  Document(metadata={'source': 'data/12 Astrological Houses – Astrology Lesson 4.html', '_id': '5bda9a8cfc6e4a27ab58c2e0bb2dea81', '_collection_name': 'fine-tuned-astrology101'}, page_content='On a deeper level, the 4th house is the base of consciousness or the center of our concrete existence. See how the cusp of the 4th house is the I.C., the lowest point on the chart, representative of things below the surface of Earth. Due to that, the 4th house was believed to rule the conditions at the end of life, and graves. As the root or base of your real self, the 4th house rules where you go when you \"die\" but also where you came from. For those who believe in reincarnation, the 4th house would give clues to your karmic lesson for this lifetime. It shows what karmic baggage you brought with you into this life. Even if you don\\'t believe in reincarnation, you\\'re likely to be surprised by what you find in your 4th house for it may move your soul.\\n\\nAny planets in the 4th house affect your home life, your emotions, your subconscious, and possibly your relationship with your parents.\\n\\nTop\\n\\n5th Astrological House\\n\\nThe fifth House refers to children, creativity, and the pursuit of pleasure. This includes personal interests, love affairs, sports, hobbies, speculation, risk-taking, teaching, drama, creative self-expression, love given, gambling. The 5th house is all about you being yourself and enjoying it.\\n\\nRomance, dating, love affairs, and sexual relationships are ruled by this 5th house, yet marriage is assigned to the 7th. Why? Because, until very recently, marriage was not entered into for pleasure, for love, nor for personal fulfillment. Marriage was hardly even entered into by choice, but rather for the purpose of raising kids to preserve the values of a particular culture or religion. And these marriages were most often arranged according to class and financial status, a partnership befitting the 7th house.\\n\\nNowadays, it\\'s common to marry for love. To avoid confusion, remember: affairs of the heart are in the 5th house, but cooperative partnerships are in the domain of the 7th house.\\n\\nTop\\n\\n6th Astrological House'),\n",
       "  Document(metadata={'source': 'data/Before Determining Compatibility – Individual Capacity to Relate.html', '_id': 'df21dfbfd7574586a5702c84a1d40802', '_collection_name': 'fine-tuned-astrology101'}, page_content=\"Some brief examples: A person with Moon in the 5th house may get a sense of well-being from the pursuit of pleasure and thrill-seeking adventures. Moon or Venus in the 4th house prefers to sit at home. Moon or Venus in the 7th house needs to be in a one-to-one relationship, but in the 11th house large community groups are preferred. Moon or Venus in the 12th is comfortable in solitude and may forego partnerships altogether. 10th or 6th house: needs to be productive instead of relaxing and thrill seeking; likely a workaholic. But in the 10th house, public worldly success is a must, while in the 6th enjoyment comes simply from a job well-done, working behind the scenes.\\n\\nExamine the Houses containing the Moon and Venus in both charts to see if the individuals can possibly enjoy life together.\\n\\nSee descriptions of all 12 Houses See interpretations for Moon in the Houses See interpretations for Venus in the Houses\\n\\nWhere are you Frustrated or Limited?\\n\\nLook at House of Saturn\\n\\nThe House containing Saturn is the most frustrating area of life for the individual. There exists ambivalence regarding this house: you want the stuff of this house, yet at the same time, you don't want it. There seems to be built-in limitations in this area of life. What is frustrating for the individual will eventually carry over into any relationship. Couples beware of your partner's house of Saturn! Limitations can be overcome, but not without struggle, as this house is sure to teach. Can you accept your partner’s Saturn? More about Saturn in the Houses.\\n\\nWhere are you Disappointed? Fall for Illusions?\\n\\nLook at House of Neptune\"),\n",
       "  Document(metadata={'source': 'data/12 Astrological Houses – Astrology Lesson 4.html', '_id': '727fb36e539e46038875b8de99f6fb09', '_collection_name': 'fine-tuned-astrology101'}, page_content='Nowadays, it\\'s common to marry for love. To avoid confusion, remember: affairs of the heart are in the 5th house, but cooperative partnerships are in the domain of the 7th house.\\n\\nTop\\n\\n6th Astrological House\\n\\nThe sixth House refers to daily work, service, diet, health and physical sickness, physical ability to work, employees. This includes volunteer labor, civil service work, caretaking, and mundane daily tasks. The 6th house really involves the quality of your work, the quality of the jobs you perform, as opposed to an actual career (career is represented by the 10th house). Daily mundane tasks include personal hygiene and our method of responding to everyday crises.\\n\\nTop\\n\\n7th Astrological House\\n\\nThe seventh House is sometimes referred to as the House of marriage, but it encompasses all one-to-one relationships: marriage, business partnerships, contracts, cooperative relationships, and also divorce, separation, quarrels, open enemies, and law suits.\\n\\nThe difference between the love affairs of the 5th House and love relationships of the 7th is that the 7th House refers to more permanently binding relationships, whereas the 5th House refers to affairs that may be temporary. When the 5th House affair progresses into a serious relationship, we can say that the relationship has \"moved into the 7th House.\"\\n\\n7th house relationships are about cooperation and sharing, and they generally serve some functional purpose in the larger social community (i.e. a marriage). This is different from a 5th house love affair, whose only qualification is \"butterflies in the stomach.\"\\n\\nThe 7th house includes the way you relate to those closest to you. Planets in this house will influence your manner of relating. They also give clues to issues that arise in your relationships.\\n\\nTop\\n\\n8th Astrological House\\n\\nSimply put, the 8th house is the polar opposite of the 2nd house. Whereas the 2nd rules your own individual possessions, the 8th house rules what a relationship owns (joint finances).'),\n",
       "  Document(metadata={'source': 'data/How to Read Your Own Birth Chart – Astrology Lesson 10.html', '_id': 'fb10887fc6a44d6db18e640a4e9dbc8d', '_collection_name': 'fine-tuned-astrology101'}, page_content='The zodiac sign will show how the planet is manifested. Previously, we likened the signs to \"stained-glass windows\" through which the planet is expressed. See if this analogy helps: envision a sentence, with a \"verb\" and an \"adverb.\" The planet is the \"verb\" while the zodiac sign is the \"adverb.\" For example, the Moon (feel, nurture, respond) in the sign of Capricorn (reservedly, coldly) denotes someone who nurtures in a cold and reserved way, or has trouble expressing emotions. That\\'s not a happy placement for the Moon, but remember: there\\'s more to the story…the rest of the chart. (See what each planet means in Lesson 5: The Planets. See what each zodiac sign means in Lesson 8: Zodiac Signs)\\n\\nIncorporating the Astrological Houses\\n\\nThe other thing to remember is that the planet in the sign will focus on the House. This means that the activity denoted by the planet will take place in the arena of your life designated by the House in which that planet falls. (Remember, each House represents a sphere of life – i.e. work, home, friendships, etc.) The planet is the \"what,\" the sign is \"how\" that \"what\" is done, and the House is \"where\" it takes place. Here is a handy reminder to use when interpreting your natal chart:\\n\\nPlanets = What? Signs = How? Houses = Where?\\n\\nThe following table explains it further.\\n\\nPlanets = “What” = energies; what you like to do Signs = “How” = the way you do it Houses = “Where” = areas of your life\\n\\nAn example of why taking the House into consideration is so important:\\n\\nSay a person has Saturn in Capricorn in the 7th House, which could manifest as a reserved (Capricorn) attitude in love relationships (7th House). Then, say this same individual has Venus in Sagittarius in the 11th House. This person will be friendly and outgoing (Sagittarius) in social situations and groups (11th House), but unemotional and detached (although dependable) in love relationships (Saturn in Capricorn in the 7th). (Astrology is a powerful tool for understanding those seemingly contradicting tendencies that we all have. The birth chart tells it all. With time and patience, you will be able to read all such details from a birth chart)')],\n",
       " 'response': 'Certainly! Here\\'s a detailed interpretation of **Mars in the 5th House** based on the astrological context provided:\\n\\n---\\n\\n### Mars in the 5th House: Meaning and Interpretation\\n\\n**Mars = \"I act\"**  \\nMars represents initiative, physical energy, drive, passion, and assertiveness. It symbolizes your ability to take decisive action, express desire, and pursue what excites you.\\n\\n**5th House = Creativity, Pleasure, Romance, and Self-Expression**  \\nThe 5th House governs children, creative endeavors, love affairs, romance, personal hobbies, risk-taking, sports, and the general enjoyment of life. It is where you \"be yourself and enjoy it.\" Love affairs here are passionate but often temporary or exploratory rather than long-term commitments.\\n\\n---\\n\\n### What Mars in the 5th House Indicates\\n\\n1. **Energetic and Passionate Pursuit of Pleasure**  \\nMars here infuses your romantic and creative life with high energy and enthusiasm. You tend to pursue love affairs and hobbies with a lot of passion and assertiveness. You don’t shy away from taking risks in love or creative projects — your approach is direct and sometimes competitive.\\n\\n2. **Dynamic and Competitive in Romance and Play**  \\nYou may have a strong sexual drive and express your desires boldly in romantic or playful situations. Mars adds a fiery, active quality to your dating life, making you more likely to seek excitement and adventure in love affairs rather than passive or slow-moving relationships.\\n\\n3. **Strong Drive for Creative Self-Expression**  \\nIn creative pursuits, Mars gives you the initiative and courage to start new projects, perform, or engage in sports or games with vigor. You like to be physically and mentally engaged in activities that allow you to shine and take center stage.\\n\\n4. **Potential for Impulsiveness and Conflict**  \\nWhile Mars energizes pleasure and creativity, it can also bring impulsiveness or aggression. You might be quick to jump into romantic liaisons or competitive activities, sometimes leading to conflicts or heated situations. Managing this energy constructively is key.\\n\\n5. **Love Affairs as a Field of Action**  \\nSince the 5th House rules love affairs (not marriage), Mars here suggests that your romantic relationships might be exciting but possibly short-lived or experimental. The \"heated passion behind action\" Mars brings means you likely feel butterflies intensely and act on them quickly.\\n\\n---\\n\\n### Synthesis: How Mars Expresses in the 5th House\\n\\n- **You thrive on excitement and action in romance, creativity, and leisure.**  \\n- **You may be assertive or even aggressive in love affairs, often taking the lead or initiating relationships.**  \\n- **Creative and physical outlets (sports, drama, hobbies) will be important ways you channel your Mars energy.**  \\n- **Watch out for impulsiveness or harshness in romantic or playful contexts; learning to control Mars\\' intensity will enhance enjoyment.**\\n\\n---\\n\\n### Additional Notes\\n\\n- The **sign Mars is in** would further color how this energy manifests (e.g., Mars in Aries in the 5th will be especially fiery and direct; Mars in Pisces in the 5th might express passion more subtly or artistically).  \\n- The **aspects Mars makes to other planets** can amplify or temper this energy, but since those details aren’t provided, this is a general interpretation.\\n\\n---\\n\\nIf you want insights about specific signs or aspects of Mars in the 5th House, or how current transits might activate this placement, feel free to ask!\\n\\n---\\n\\n**Summary:**  \\nMars in the 5th House energizes your love affairs, creative self-expression, and pursuit of pleasure. You act with passion and initiative in these areas, often seeking excitement and challenge. This placement encourages you to be bold in romance and creativity but cautions against impulsiveness and conflict.\\n\\n---\\n\\nI hope this helps you understand the dynamic influence of Mars placed in the 5th House of a natal chart!'}"
      ]
     },
     "execution_count": 66,
     "metadata": {},
     "output_type": "execute_result"
    }
   ],
   "source": [
    "response_retrieve_fine_tuned = graph_retrieve_fine_tuned.invoke({\"question\" : \"What does Mars in 5th mean?\"})\n",
    "response_retrieve_fine_tuned"
   ]
  },
  {
   "cell_type": "code",
   "execution_count": 67,
   "metadata": {},
   "outputs": [],
   "source": [
    "for test_row in dataset:\n",
    "  response = graph_retrieve_fine_tuned.invoke({\"question\" : test_row.eval_sample.user_input})\n",
    "  test_row.eval_sample.response = response[\"response\"]\n",
    "  test_row.eval_sample.retrieved_contexts = [context.page_content for context in response[\"context\"]]"
   ]
  },
  {
   "cell_type": "code",
   "execution_count": 68,
   "metadata": {},
   "outputs": [
    {
     "data": {
      "text/html": [
       "<div>\n",
       "<style scoped>\n",
       "    .dataframe tbody tr th:only-of-type {\n",
       "        vertical-align: middle;\n",
       "    }\n",
       "\n",
       "    .dataframe tbody tr th {\n",
       "        vertical-align: top;\n",
       "    }\n",
       "\n",
       "    .dataframe thead th {\n",
       "        text-align: right;\n",
       "    }\n",
       "</style>\n",
       "<table border=\"1\" class=\"dataframe\">\n",
       "  <thead>\n",
       "    <tr style=\"text-align: right;\">\n",
       "      <th></th>\n",
       "      <th>user_input</th>\n",
       "      <th>retrieved_contexts</th>\n",
       "      <th>reference_contexts</th>\n",
       "      <th>response</th>\n",
       "      <th>reference</th>\n",
       "      <th>synthesizer_name</th>\n",
       "    </tr>\n",
       "  </thead>\n",
       "  <tbody>\n",
       "    <tr>\n",
       "      <th>0</th>\n",
       "      <td>What is the significance of the 1st House cusp...</td>\n",
       "      <td>[Astrolibrary logo\\n\\nAstroLibrary 🔎\\n\\nDaily ...</td>\n",
       "      <td>[What is a Rising Sign/Ascendant – Astrology L...</td>\n",
       "      <td>Certainly! Here is a detailed astrological int...</td>\n",
       "      <td>The 1st House cusp in a natal chart is where t...</td>\n",
       "      <td>single_hop_specifc_query_synthesizer</td>\n",
       "    </tr>\n",
       "    <tr>\n",
       "      <th>1</th>\n",
       "      <td>What key advice does Lesson 8: Zodiac Signs of...</td>\n",
       "      <td>[Astrolibrary logo\\n\\nAstroLibrary 🔎\\n\\nDaily ...</td>\n",
       "      <td>[Astrolibrary logo AstroLibrary 🔎 Daily Person...</td>\n",
       "      <td>I don’t have enough information as my cosmic s...</td>\n",
       "      <td>Lesson 8: Zodiac Signs emphasizes that the mos...</td>\n",
       "      <td>single_hop_specifc_query_synthesizer</td>\n",
       "    </tr>\n",
       "    <tr>\n",
       "      <th>2</th>\n",
       "      <td>what 2nd House mean in chart?</td>\n",
       "      <td>[Simply put, the 8th house is the polar opposi...</td>\n",
       "      <td>[Incorporating the Astrological Houses The oth...</td>\n",
       "      <td>Certainly! Here’s a detailed astrological inte...</td>\n",
       "      <td>The 2nd House is an area of life where the rul...</td>\n",
       "      <td>single_hop_specifc_query_synthesizer</td>\n",
       "    </tr>\n",
       "    <tr>\n",
       "      <th>3</th>\n",
       "      <td>How does the term \"Henley\" relate to the inter...</td>\n",
       "      <td>[Some astrologers mistakenly interpret birth c...</td>\n",
       "      <td>[A Word of Caution The celestial configuration...</td>\n",
       "      <td>Certainly! Based on the astrological context p...</td>\n",
       "      <td>The term \"Henley\" refers to the quote, \"I am t...</td>\n",
       "      <td>single_hop_specifc_query_synthesizer</td>\n",
       "    </tr>\n",
       "    <tr>\n",
       "      <th>4</th>\n",
       "      <td>How does Neptune influence inner planets when ...</td>\n",
       "      <td>[Remembering Aspects\\n\\nDon't forget the aspec...</td>\n",
       "      <td>[Remembering Aspects Don't forget the aspects....</td>\n",
       "      <td>**How Does Neptune Influence Inner Planets Whe...</td>\n",
       "      <td>When Neptune makes a conjunction aspect with a...</td>\n",
       "      <td>single_hop_specifc_query_synthesizer</td>\n",
       "    </tr>\n",
       "    <tr>\n",
       "      <th>5</th>\n",
       "      <td>How does the unique combination of elements an...</td>\n",
       "      <td>[Astrolibrary logo\\n\\nAstroLibrary 🔎\\n\\nDaily ...</td>\n",
       "      <td>[&lt;1-hop&gt;\\n\\nWater Zodiac Element Water signs r...</td>\n",
       "      <td>Certainly! Here’s a detailed astrological inte...</td>\n",
       "      <td>The unique combination of elements and qualiti...</td>\n",
       "      <td>multi_hop_abstract_query_synthesizer</td>\n",
       "    </tr>\n",
       "    <tr>\n",
       "      <th>6</th>\n",
       "      <td>How do the major aspects such as conjunction, ...</td>\n",
       "      <td>[Remembering Aspects\\n\\nDon't forget the aspec...</td>\n",
       "      <td>[&lt;1-hop&gt;\\n\\nAstrolibrary logo AstroLibrary 🔎 D...</td>\n",
       "      <td>Certainly! Here is a detailed explanation of h...</td>\n",
       "      <td>The major aspects in astrology—conjunction (0°...</td>\n",
       "      <td>multi_hop_abstract_query_synthesizer</td>\n",
       "    </tr>\n",
       "    <tr>\n",
       "      <th>7</th>\n",
       "      <td>how interaction of planetary placements and ex...</td>\n",
       "      <td>[Remembering Aspects\\n\\nDon't forget the aspec...</td>\n",
       "      <td>[&lt;1-hop&gt;\\n\\nAstrolibrary logo AstroLibrary 🔎 D...</td>\n",
       "      <td>Certainly! Here’s a detailed explanation of ho...</td>\n",
       "      <td>The interaction of planetary placements in a b...</td>\n",
       "      <td>multi_hop_abstract_query_synthesizer</td>\n",
       "    </tr>\n",
       "    <tr>\n",
       "      <th>8</th>\n",
       "      <td>How does the sign of Capricorn influence the e...</td>\n",
       "      <td>[Interpretations for Venus in each zodiac sign...</td>\n",
       "      <td>[&lt;1-hop&gt;\\n\\nsign of Mars in your natal chart i...</td>\n",
       "      <td>Certainly! Here is a detailed astrological int...</td>\n",
       "      <td>The sign of Capricorn influences the expressio...</td>\n",
       "      <td>multi_hop_specific_query_synthesizer</td>\n",
       "    </tr>\n",
       "    <tr>\n",
       "      <th>9</th>\n",
       "      <td>How does havin Saturn in Capricorn in the 7th ...</td>\n",
       "      <td>[Nowadays, it's common to marry for love. To a...</td>\n",
       "      <td>[&lt;1-hop&gt;\\n\\nIncorporating the Astrological Hou...</td>\n",
       "      <td>Certainly! Let’s explore the astrological sign...</td>\n",
       "      <td>Having Saturn in Capricorn in the 7th House ca...</td>\n",
       "      <td>multi_hop_specific_query_synthesizer</td>\n",
       "    </tr>\n",
       "    <tr>\n",
       "      <th>10</th>\n",
       "      <td>How does the zodiac sign Aries, which is align...</td>\n",
       "      <td>[On a physical, material level, the 12th house...</td>\n",
       "      <td>[&lt;1-hop&gt;\\n\\nZodiac Signs – Astrology Lesson 8 ...</td>\n",
       "      <td>Certainly! Here's a detailed astrological inte...</td>\n",
       "      <td>The zodiac sign Aries is assigned to the zero ...</td>\n",
       "      <td>multi_hop_specific_query_synthesizer</td>\n",
       "    </tr>\n",
       "  </tbody>\n",
       "</table>\n",
       "</div>"
      ],
      "text/plain": [
       "                                           user_input  \\\n",
       "0   What is the significance of the 1st House cusp...   \n",
       "1   What key advice does Lesson 8: Zodiac Signs of...   \n",
       "2                       what 2nd House mean in chart?   \n",
       "3   How does the term \"Henley\" relate to the inter...   \n",
       "4   How does Neptune influence inner planets when ...   \n",
       "5   How does the unique combination of elements an...   \n",
       "6   How do the major aspects such as conjunction, ...   \n",
       "7   how interaction of planetary placements and ex...   \n",
       "8   How does the sign of Capricorn influence the e...   \n",
       "9   How does havin Saturn in Capricorn in the 7th ...   \n",
       "10  How does the zodiac sign Aries, which is align...   \n",
       "\n",
       "                                   retrieved_contexts  \\\n",
       "0   [Astrolibrary logo\\n\\nAstroLibrary 🔎\\n\\nDaily ...   \n",
       "1   [Astrolibrary logo\\n\\nAstroLibrary 🔎\\n\\nDaily ...   \n",
       "2   [Simply put, the 8th house is the polar opposi...   \n",
       "3   [Some astrologers mistakenly interpret birth c...   \n",
       "4   [Remembering Aspects\\n\\nDon't forget the aspec...   \n",
       "5   [Astrolibrary logo\\n\\nAstroLibrary 🔎\\n\\nDaily ...   \n",
       "6   [Remembering Aspects\\n\\nDon't forget the aspec...   \n",
       "7   [Remembering Aspects\\n\\nDon't forget the aspec...   \n",
       "8   [Interpretations for Venus in each zodiac sign...   \n",
       "9   [Nowadays, it's common to marry for love. To a...   \n",
       "10  [On a physical, material level, the 12th house...   \n",
       "\n",
       "                                   reference_contexts  \\\n",
       "0   [What is a Rising Sign/Ascendant – Astrology L...   \n",
       "1   [Astrolibrary logo AstroLibrary 🔎 Daily Person...   \n",
       "2   [Incorporating the Astrological Houses The oth...   \n",
       "3   [A Word of Caution The celestial configuration...   \n",
       "4   [Remembering Aspects Don't forget the aspects....   \n",
       "5   [<1-hop>\\n\\nWater Zodiac Element Water signs r...   \n",
       "6   [<1-hop>\\n\\nAstrolibrary logo AstroLibrary 🔎 D...   \n",
       "7   [<1-hop>\\n\\nAstrolibrary logo AstroLibrary 🔎 D...   \n",
       "8   [<1-hop>\\n\\nsign of Mars in your natal chart i...   \n",
       "9   [<1-hop>\\n\\nIncorporating the Astrological Hou...   \n",
       "10  [<1-hop>\\n\\nZodiac Signs – Astrology Lesson 8 ...   \n",
       "\n",
       "                                             response  \\\n",
       "0   Certainly! Here is a detailed astrological int...   \n",
       "1   I don’t have enough information as my cosmic s...   \n",
       "2   Certainly! Here’s a detailed astrological inte...   \n",
       "3   Certainly! Based on the astrological context p...   \n",
       "4   **How Does Neptune Influence Inner Planets Whe...   \n",
       "5   Certainly! Here’s a detailed astrological inte...   \n",
       "6   Certainly! Here is a detailed explanation of h...   \n",
       "7   Certainly! Here’s a detailed explanation of ho...   \n",
       "8   Certainly! Here is a detailed astrological int...   \n",
       "9   Certainly! Let’s explore the astrological sign...   \n",
       "10  Certainly! Here's a detailed astrological inte...   \n",
       "\n",
       "                                            reference  \\\n",
       "0   The 1st House cusp in a natal chart is where t...   \n",
       "1   Lesson 8: Zodiac Signs emphasizes that the mos...   \n",
       "2   The 2nd House is an area of life where the rul...   \n",
       "3   The term \"Henley\" refers to the quote, \"I am t...   \n",
       "4   When Neptune makes a conjunction aspect with a...   \n",
       "5   The unique combination of elements and qualiti...   \n",
       "6   The major aspects in astrology—conjunction (0°...   \n",
       "7   The interaction of planetary placements in a b...   \n",
       "8   The sign of Capricorn influences the expressio...   \n",
       "9   Having Saturn in Capricorn in the 7th House ca...   \n",
       "10  The zodiac sign Aries is assigned to the zero ...   \n",
       "\n",
       "                        synthesizer_name  \n",
       "0   single_hop_specifc_query_synthesizer  \n",
       "1   single_hop_specifc_query_synthesizer  \n",
       "2   single_hop_specifc_query_synthesizer  \n",
       "3   single_hop_specifc_query_synthesizer  \n",
       "4   single_hop_specifc_query_synthesizer  \n",
       "5   multi_hop_abstract_query_synthesizer  \n",
       "6   multi_hop_abstract_query_synthesizer  \n",
       "7   multi_hop_abstract_query_synthesizer  \n",
       "8   multi_hop_specific_query_synthesizer  \n",
       "9   multi_hop_specific_query_synthesizer  \n",
       "10  multi_hop_specific_query_synthesizer  "
      ]
     },
     "execution_count": 68,
     "metadata": {},
     "output_type": "execute_result"
    }
   ],
   "source": [
    "dataset.to_pandas()"
   ]
  },
  {
   "cell_type": "code",
   "execution_count": 69,
   "metadata": {},
   "outputs": [
    {
     "data": {
      "application/vnd.jupyter.widget-view+json": {
       "model_id": "a9b8e109b2df45679118f81825da5369",
       "version_major": 2,
       "version_minor": 0
      },
      "text/plain": [
       "Evaluating:   0%|          | 0/66 [00:00<?, ?it/s]"
      ]
     },
     "metadata": {},
     "output_type": "display_data"
    },
    {
     "name": "stderr",
     "output_type": "stream",
     "text": [
      "Exception raised in Job[5]: TimeoutError()\n",
      "Exception raised in Job[17]: TimeoutError()\n",
      "Exception raised in Job[29]: TimeoutError()\n",
      "Exception raised in Job[35]: TimeoutError()\n",
      "Exception raised in Job[41]: TimeoutError()\n",
      "Exception raised in Job[47]: TimeoutError()\n"
     ]
    }
   ],
   "source": [
    "from ragas.metrics import LLMContextRecall, Faithfulness, FactualCorrectness, ResponseRelevancy, ContextEntityRecall, NoiseSensitivity\n",
    "from ragas import evaluate, RunConfig\n",
    "\n",
    "finetuned_evaluation_dataset = EvaluationDataset.from_pandas(dataset.to_pandas())\n",
    "custom_run_config = RunConfig(timeout=360)\n",
    "\n",
    "finetuned_result = evaluate(\n",
    "    dataset=finetuned_evaluation_dataset,\n",
    "    metrics=[LLMContextRecall(), Faithfulness(), FactualCorrectness(), ResponseRelevancy(), ContextEntityRecall(), NoiseSensitivity()],\n",
    "    llm=evaluator_llm,\n",
    "    run_config=custom_run_config\n",
    ")"
   ]
  },
  {
   "cell_type": "code",
   "execution_count": 70,
   "metadata": {},
   "outputs": [
    {
     "data": {
      "text/plain": [
       "{'context_recall': 0.7705, 'faithfulness': 0.7452, 'factual_correctness(mode=f1)': 0.5564, 'answer_relevancy': 0.8669, 'context_entity_recall': 0.5315, 'noise_sensitivity(mode=relevant)': 0.2461}"
      ]
     },
     "execution_count": 70,
     "metadata": {},
     "output_type": "execute_result"
    }
   ],
   "source": [
    "finetuned_result "
   ]
  },
  {
   "cell_type": "code",
   "execution_count": 77,
   "metadata": {},
   "outputs": [
    {
     "name": "stdout",
     "output_type": "stream",
     "text": [
      "\n",
      "Model Comparison Metrics (Average Scores):\n"
     ]
    },
    {
     "data": {
      "text/html": [
       "<div>\n",
       "<style scoped>\n",
       "    .dataframe tbody tr th:only-of-type {\n",
       "        vertical-align: middle;\n",
       "    }\n",
       "\n",
       "    .dataframe tbody tr th {\n",
       "        vertical-align: top;\n",
       "    }\n",
       "\n",
       "    .dataframe thead th {\n",
       "        text-align: right;\n",
       "    }\n",
       "</style>\n",
       "<table border=\"1\" class=\"dataframe\">\n",
       "  <thead>\n",
       "    <tr style=\"text-align: right;\">\n",
       "      <th></th>\n",
       "      <th>Metric</th>\n",
       "      <th>Finetuned Model</th>\n",
       "      <th>Baseline Model</th>\n",
       "    </tr>\n",
       "  </thead>\n",
       "  <tbody>\n",
       "    <tr>\n",
       "      <th>0</th>\n",
       "      <td>context_recall</td>\n",
       "      <td>77.05%</td>\n",
       "      <td>95.83%</td>\n",
       "    </tr>\n",
       "    <tr>\n",
       "      <th>1</th>\n",
       "      <td>faithfulness</td>\n",
       "      <td>74.52%</td>\n",
       "      <td>71.47%</td>\n",
       "    </tr>\n",
       "    <tr>\n",
       "      <th>2</th>\n",
       "      <td>factual_correctness(mode=f1)</td>\n",
       "      <td>55.64%</td>\n",
       "      <td>60.91%</td>\n",
       "    </tr>\n",
       "    <tr>\n",
       "      <th>3</th>\n",
       "      <td>answer_relevancy</td>\n",
       "      <td>86.69%</td>\n",
       "      <td>94.84%</td>\n",
       "    </tr>\n",
       "    <tr>\n",
       "      <th>4</th>\n",
       "      <td>context_entity_recall</td>\n",
       "      <td>53.15%</td>\n",
       "      <td>59.28%</td>\n",
       "    </tr>\n",
       "    <tr>\n",
       "      <th>5</th>\n",
       "      <td>noise_sensitivity(mode=relevant)</td>\n",
       "      <td>24.61%</td>\n",
       "      <td>27.07%</td>\n",
       "    </tr>\n",
       "  </tbody>\n",
       "</table>\n",
       "</div>"
      ],
      "text/plain": [
       "                             Metric Finetuned Model Baseline Model\n",
       "0                    context_recall          77.05%         95.83%\n",
       "1                      faithfulness          74.52%         71.47%\n",
       "2      factual_correctness(mode=f1)          55.64%         60.91%\n",
       "3                  answer_relevancy          86.69%         94.84%\n",
       "4             context_entity_recall          53.15%         59.28%\n",
       "5  noise_sensitivity(mode=relevant)          24.61%         27.07%"
      ]
     },
     "metadata": {},
     "output_type": "display_data"
    }
   ],
   "source": [
    "import pandas as pd\n",
    "\n",
    "# Convert both results to pandas DataFrames\n",
    "finetuned_df = finetuned_result.to_pandas()\n",
    "baseline_df = result.to_pandas()\n",
    "\n",
    "# Calculate mean scores for each metric\n",
    "metrics = [\n",
    "    'context_recall', 'faithfulness', 'factual_correctness(mode=f1)',\n",
    "    'answer_relevancy', 'context_entity_recall', 'noise_sensitivity(mode=relevant)'\n",
    "]\n",
    "\n",
    "comparison_df = pd.DataFrame({\n",
    "    'Metric': metrics,\n",
    "    'Finetuned Model': [finetuned_df[metric].mean() for metric in metrics],\n",
    "    'Baseline Model': [baseline_df[metric].mean() for metric in metrics]\n",
    "})\n",
    "\n",
    "# Format the values as percentages\n",
    "comparison_df['Finetuned Model'] = comparison_df['Finetuned Model'].apply(lambda x: f'{x:.2%}')\n",
    "comparison_df['Baseline Model'] = comparison_df['Baseline Model'].apply(lambda x: f'{x:.2%}')\n",
    "\n",
    "# Display the DataFrame\n",
    "print(\"\\nModel Comparison Metrics (Average Scores):\")\n",
    "display(comparison_df)"
   ]
  },
  {
   "cell_type": "markdown",
   "metadata": {},
   "source": [
    "1. **Context Recall** (Baseline: 95.83% vs Finetuned: 77.05%)\n",
    "   - The baseline model is significantly better at retrieving relevant context\n",
    "   - This suggests the finetuning process may have made the model more selective or less comprehensive in its context retrieval\n",
    "   - Example: In the \"Henley\" question, the baseline model better captured the full context about free will vs fate\n",
    "\n",
    "2. **Faithfulness** (Finetuned: 74.52% vs Baseline: 71.47%)\n",
    "   - The finetuned model performs slightly better here\n",
    "   - This suggests it's better at staying true to the source content\n",
    "   - However, the improvement is marginal\n",
    "\n",
    "3. **Factual Correctness** (Baseline: 60.91% vs Finetuned: 55.64%)\n",
    "   - The baseline model is more accurate in its factual responses\n",
    "   - The finetuned model shows more errors in factual information\n",
    "   - Example: In the \"2nd House\" question, the baseline model provided more accurate astrological interpretations\n",
    "\n",
    "4. **Answer Relevancy** (Baseline: 94.84% vs Finetuned: 86.69%)\n",
    "   - The baseline model's answers are more relevant to the questions\n",
    "   - The finetuned model sometimes goes off-topic or provides less focused responses\n",
    "   - Example: In the \"Neptune\" question, the baseline model stayed more focused on the specific aspect being asked about\n",
    "\n",
    "5. **Context Entity Recall** (Baseline: 59.28% vs Finetuned: 53.15%)\n",
    "   - The baseline model is better at recalling specific entities from the context\n",
    "   - The finetuned model misses some key entities or concepts\n",
    "\n",
    "6. **Noise Sensitivity** (Baseline: 27.07% vs Finetuned: 24.61%)\n",
    "   - Both models show relatively low noise sensitivity\n",
    "   - The baseline model is slightly more sensitive to noise\n",
    "\n",
    "**Potential Reasons for Worse Performance:**\n",
    "\n",
    "1. **Overfitting**: The finetuned model may have overfit to specific patterns in the training data, making it less generalizable\n",
    "\n",
    "2. **Loss of General Knowledge**: The finetuning process might have caused the model to lose some of its general knowledge or ability to retrieve broad context\n",
    "\n",
    "3. **Narrow Focus**: The finetuning may have made the model too specialized, causing it to miss important context or entities\n",
    "\n",
    "4. **Training Data Quality**: The quality or size of the finetuning dataset might not have been optimal\n",
    "\n",
    "**Recommendations for Improvement:**\n",
    "\n",
    "1. **Review Finetuning Data**:\n",
    "   - Ensure the training data is diverse and high-quality\n",
    "   - Include more examples of different types of astrological questions\n",
    "\n",
    "2. **Adjust Finetuning Parameters**:\n",
    "   - Try different learning rates\n",
    "   - Experiment with different numbers of training epochs\n",
    "   - Consider using a smaller model as the base\n",
    "\n",
    "3. **Balance Specialization**:\n",
    "   - Ensure the finetuning process maintains a balance between specialization and general knowledge\n",
    "   - Consider using techniques like LoRA or QLoRA to preserve more of the base model's capabilities\n",
    "\n",
    "4. **Evaluation Metrics**:\n",
    "   - Add more specific evaluation metrics for astrological accuracy\n",
    "   - Consider using human evaluation for complex astrological interpretations\n"
   ]
  }
 ],
 "metadata": {
  "kernelspec": {
   "display_name": ".venv",
   "language": "python",
   "name": "python3"
  },
  "language_info": {
   "codemirror_mode": {
    "name": "ipython",
    "version": 3
   },
   "file_extension": ".py",
   "mimetype": "text/x-python",
   "name": "python",
   "nbconvert_exporter": "python",
   "pygments_lexer": "ipython3",
   "version": "3.13.3"
  }
 },
 "nbformat": 4,
 "nbformat_minor": 2
}
